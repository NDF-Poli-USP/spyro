{
 "cells": [
  {
   "cell_type": "markdown",
   "id": "9287b11b",
   "metadata": {},
   "source": [
    "# Gradient Calculation"
   ]
  },
  {
   "cell_type": "markdown",
   "id": "b6725113",
   "metadata": {},
   "source": [
    "## 1. Introduction"
   ]
  },
  {
   "cell_type": "markdown",
   "id": "99e3e088",
   "metadata": {},
   "source": [
    "The gradient function uses the Discrete Adjoint with secord-order in time fully-explicit timestepping scheme with implementation of a Perfectly Matched Layer (PML) using CG FEM with or without higher order mass lumping (KMV type elements)."
   ]
  },
  {
   "cell_type": "markdown",
   "id": "06a7932f",
   "metadata": {},
   "source": [
    "The gradient calculation algorithm follows the steps:\n",
    "1. a synthetic FWI problem is runned in order to generate a synthetic *shot record* for reference\n",
    "2. another FWI problem is executed, but with the initial guess\n",
    "3. the difference between the results is evaluated as follows\n",
    "$$\n",
    "misfit = p_{exact_{recv}} - p_{guess_{recv}}\n",
    "$$\n",
    "4. then, the misfit and other parameters, such as the mesh, the velocity model guess and the receivers location, are used as input to the `gradient` function"
   ]
  },
  {
   "cell_type": "markdown",
   "id": "26076575",
   "metadata": {},
   "source": [
    "The gradient calculation method is based on the **adjoint method**, because it reduces the computational cost in a problem with many variables. Besides that, the adjoint equations have as source the difference in the receivers between the real values and the guess."
   ]
  },
  {
   "cell_type": "markdown",
   "id": "a2a6c458",
   "metadata": {},
   "source": [
    "## 2. Example"
   ]
  },
  {
   "cell_type": "markdown",
   "id": "924f3daa",
   "metadata": {},
   "source": [
    "### 2.1. Real case"
   ]
  },
  {
   "cell_type": "markdown",
   "id": "918503a6",
   "metadata": {},
   "source": [
    "The first step is to evaluate the real case. It includes the libraries,"
   ]
  },
  {
   "cell_type": "code",
   "execution_count": 1,
   "id": "50da7254",
   "metadata": {},
   "outputs": [
    {
     "name": "stderr",
     "output_type": "stream",
     "text": [
      "firedrake:WARNING OMP_NUM_THREADS is not set or is set to a value greater than 1, we suggest setting OMP_NUM_THREADS=1 to improve performance\n"
     ]
    }
   ],
   "source": [
    "import firedrake as fire\n",
    "import spyro\n",
    "import numpy as np"
   ]
  },
  {
   "cell_type": "markdown",
   "id": "e997db78",
   "metadata": {},
   "source": [
    "model definition,"
   ]
  },
  {
   "cell_type": "code",
   "execution_count": 6,
   "id": "ffc0c04b",
   "metadata": {},
   "outputs": [],
   "source": [
    "model = {}\n",
    "\n",
    "model[\"opts\"] = {\n",
    "        \"method\": \"KMV\",  # either CG or KMV\n",
    "        \"quadrature\": \"KMV\", # Equi or KMV\n",
    "        \"degree\": 4,  # p order\n",
    "        \"dimension\": 2,  # dimension\n",
    "        \"regularization\": False,  # regularization is on?\n",
    "        \"gamma\": 1e-5, # regularization parameter\n",
    "    }\n",
    "\n",
    "model[\"parallelism\"] = {\n",
    "        \"type\": \"automatic\",  # options: automatic (same number of cores for evey processor) or spatial\n",
    "    }\n",
    "\n",
    "\n",
    "model[\"mesh\"] = {\n",
    "            \"Lz\": 1.0,  # depth in km - always positive\n",
    "            \"Lx\": 1.0,  # width in km - always positive\n",
    "            \"Ly\": 0.0,  # thickness in km - always positive\n",
    "            \"meshfile\":  None,\n",
    "            \"initmodel\": None,\n",
    "            \"truemodel\": None,\n",
    "        }\n",
    "\n",
    "\n",
    "# Specify a 250-m Absorbing Boundary Layer (ABL) on the three sides of the domain to damp outgoing waves.\n",
    "model[\"BCs\"] = {\n",
    "    \"status\": True,  # True or False, used to turn on any type of BC\n",
    "    \"method\": \"PML\", # either PML or Damping, used to turn on any type of BC\n",
    "    \"outer_bc\": \"non-reflective\", #  none or non-reflective (outer boundary condition)\n",
    "    \"damping_type\": \"polynomial\",  # polynomial, hyperbolic, shifted_hyperbolic\n",
    "    \"exponent\": 2,  # damping layer has a exponent variation\n",
    "    \"cmax\": 1.5,  # maximum acoustic wave velocity in PML - km/s\n",
    "    \"R\": 1e-6,  # theoretical reflection coefficient\n",
    "    \"lz\": 0.7,  # thickness of the PML in the z-direction (km) - always positive\n",
    "    \"lx\": 0.7,  # thickness of the PML in the x-direction (km) - always positive\n",
    "    \"ly\": 0.0,  # thickness of the PML in the y-direction (km) - always positive\n",
    "}\n",
    "\n",
    "\n",
    "model[\"acquisition\"] = {\n",
    "            \"source_type\": \"Ricker\",\n",
    "            \"source_pos\": [(0.5, 0.5)],\n",
    "            \"frequency\": 10.0,\n",
    "            \"delay\": 1.0,\n",
    "            \"receiver_locations\": spyro.create_transect(\n",
    "            (0.25, 0.2), (0.25, 0.8), 10\n",
    "            ),\n",
    "        }\n",
    "\n",
    "\n",
    "model[\"aut_dif\"] = {\n",
    "        \"status\": True, \n",
    "    }\n",
    "\n",
    "model[\"timeaxis\"] = {\n",
    "    \"t0\": 0.0,  #  Initial time for event\n",
    "    \"tf\": 1.0,  # Final time for event (for test 7)\n",
    "    \"dt\": 0.001,  # timestep size (divided by 2 in the test 4. dt for test 3 is 0.00050)\n",
    "    \"amplitude\": 1,  # the Ricker has an amplitude of 1.\n",
    "    \"nspool\":  2000,  # (20 for dt=0.00050) how frequently to output solution to pvds\n",
    "    \"fspool\": 1,  # how frequently to save solution to RAM\n",
    "}"
   ]
  },
  {
   "cell_type": "markdown",
   "id": "3270a190",
   "metadata": {},
   "source": [
    "mesh generation,"
   ]
  },
  {
   "cell_type": "code",
   "execution_count": 7,
   "id": "97e0837d",
   "metadata": {},
   "outputs": [],
   "source": [
    "mesh = fire.RectangleMesh(100, 100, 1.5, 1.5) # to test FWI, mesh aligned with interface"
   ]
  },
  {
   "cell_type": "markdown",
   "id": "8f60f65e",
   "metadata": {},
   "source": [
    "model extraction,"
   ]
  },
  {
   "cell_type": "code",
   "execution_count": 8,
   "id": "61e3f527",
   "metadata": {},
   "outputs": [],
   "source": [
    "def _make_vp_pml(V, mesh, v0=1.5, v1=4.0):\n",
    "    \"\"\"Create a half space\"\"\"\n",
    "    z, x = fire.SpatialCoordinate(mesh)\n",
    "    velocity = fire.conditional(z < 0.5, v0, v1)\n",
    "    vp       = fire.Function(V, name=\"vp\").interpolate(velocity)\n",
    "    fire.File(\"exact_vel.pvd\").write(vp)\n",
    "\n",
    "    return vp"
   ]
  },
  {
   "cell_type": "markdown",
   "id": "b43ff554",
   "metadata": {},
   "source": [
    "and extraction,"
   ]
  },
  {
   "cell_type": "code",
   "execution_count": 9,
   "id": "f4db1c68",
   "metadata": {},
   "outputs": [],
   "source": [
    "element  = spyro.domains.space.FE_method(\n",
    "            mesh, model[\"opts\"][\"method\"], \n",
    "            model[\"opts\"][\"degree\"]\n",
    "            )\n",
    "V        = fire.FunctionSpace(mesh, element)\n",
    "vp_exact = _make_vp_pml(V, mesh)\n",
    "vp_guess = _make_vp_pml(V, mesh, v0=1.5, v1=1.5)"
   ]
  },
  {
   "cell_type": "markdown",
   "id": "b0426e81",
   "metadata": {},
   "source": [
    "and model evaluation"
   ]
  },
  {
   "cell_type": "code",
   "execution_count": 10,
   "id": "c8bdcbb2",
   "metadata": {},
   "outputs": [
    {
     "name": "stdout",
     "output_type": "stream",
     "text": [
      "1\n"
     ]
    },
    {
     "ename": "Error",
     "evalue": "error code 65\n[0] PetscViewerFileSetName() at /home/bruno/libs/firedrake/src/petsc/src/sys/classes/viewer/impls/ascii/filev.c:649\n[0] PetscViewerFileSetName_ASCII() at /home/bruno/libs/firedrake/src/petsc/src/sys/classes/viewer/impls/ascii/filev.c:753\n[0] Unable to open file\n[0] Cannot open PetscViewer file: not_used.msh",
     "output_type": "error",
     "traceback": [
      "\u001b[0;31m---------------------------------------------------------------------------\u001b[0m",
      "\u001b[0;31mError\u001b[0m                                     Traceback (most recent call last)",
      "\u001b[1;32m/home/bruno/Desktop/IC/spyro/notebooks/tutorials/gradient_v1.ipynb Cell 19'\u001b[0m in \u001b[0;36m<module>\u001b[0;34m\u001b[0m\n\u001b[1;32m      <a href='vscode-notebook-cell:/home/bruno/Desktop/IC/spyro/notebooks/tutorials/gradient_v1.ipynb#ch0000012?line=0'>1</a>\u001b[0m comm \u001b[39m=\u001b[39m spyro\u001b[39m.\u001b[39mutils\u001b[39m.\u001b[39mmpi_init(model)\n\u001b[0;32m----> <a href='vscode-notebook-cell:/home/bruno/Desktop/IC/spyro/notebooks/tutorials/gradient_v1.ipynb#ch0000012?line=1'>2</a>\u001b[0m mesh, V \u001b[39m=\u001b[39m spyro\u001b[39m.\u001b[39;49mio\u001b[39m.\u001b[39;49mread_mesh(model, comm)\n\u001b[1;32m      <a href='vscode-notebook-cell:/home/bruno/Desktop/IC/spyro/notebooks/tutorials/gradient_v1.ipynb#ch0000012?line=2'>3</a>\u001b[0m vp \u001b[39m=\u001b[39m spyro\u001b[39m.\u001b[39mio\u001b[39m.\u001b[39minterpolate(model, mesh, V, guess\u001b[39m=\u001b[39m\u001b[39mFalse\u001b[39;00m)\n\u001b[1;32m      <a href='vscode-notebook-cell:/home/bruno/Desktop/IC/spyro/notebooks/tutorials/gradient_v1.ipynb#ch0000012?line=3'>4</a>\u001b[0m \u001b[39mif\u001b[39;00m comm\u001b[39m.\u001b[39mensemble_comm\u001b[39m.\u001b[39mrank \u001b[39m==\u001b[39m \u001b[39m0\u001b[39m:\n",
      "File \u001b[0;32m~/libs/firedrake/lib/python3.9/site-packages/spyro/io/io.py:379\u001b[0m, in \u001b[0;36mread_mesh\u001b[0;34m(model, ens_comm)\u001b[0m\n\u001b[1;32m    <a href='file:///home/bruno/libs/firedrake/lib/python3.9/site-packages/spyro/io/io.py?line=375'>376</a>\u001b[0m mshname \u001b[39m=\u001b[39m model[\u001b[39m\"\u001b[39m\u001b[39mmesh\u001b[39m\u001b[39m\"\u001b[39m][\u001b[39m\"\u001b[39m\u001b[39mmeshfile\u001b[39m\u001b[39m\"\u001b[39m]\n\u001b[1;32m    <a href='file:///home/bruno/libs/firedrake/lib/python3.9/site-packages/spyro/io/io.py?line=377'>378</a>\u001b[0m \u001b[39mif\u001b[39;00m method \u001b[39m==\u001b[39m \u001b[39m\"\u001b[39m\u001b[39mCG\u001b[39m\u001b[39m\"\u001b[39m \u001b[39mor\u001b[39;00m method \u001b[39m==\u001b[39m \u001b[39m\"\u001b[39m\u001b[39mKMV\u001b[39m\u001b[39m\"\u001b[39m:\n\u001b[0;32m--> <a href='file:///home/bruno/libs/firedrake/lib/python3.9/site-packages/spyro/io/io.py?line=378'>379</a>\u001b[0m     mesh \u001b[39m=\u001b[39m fire\u001b[39m.\u001b[39;49mMesh(\n\u001b[1;32m    <a href='file:///home/bruno/libs/firedrake/lib/python3.9/site-packages/spyro/io/io.py?line=379'>380</a>\u001b[0m         mshname,\n\u001b[1;32m    <a href='file:///home/bruno/libs/firedrake/lib/python3.9/site-packages/spyro/io/io.py?line=380'>381</a>\u001b[0m         comm\u001b[39m=\u001b[39;49mens_comm\u001b[39m.\u001b[39;49mcomm,\n\u001b[1;32m    <a href='file:///home/bruno/libs/firedrake/lib/python3.9/site-packages/spyro/io/io.py?line=381'>382</a>\u001b[0m         distribution_parameters\u001b[39m=\u001b[39;49m{\n\u001b[1;32m    <a href='file:///home/bruno/libs/firedrake/lib/python3.9/site-packages/spyro/io/io.py?line=382'>383</a>\u001b[0m             \u001b[39m\"\u001b[39;49m\u001b[39moverlap_type\u001b[39;49m\u001b[39m\"\u001b[39;49m: (fire\u001b[39m.\u001b[39;49mDistributedMeshOverlapType\u001b[39m.\u001b[39;49mNONE, \u001b[39m0\u001b[39;49m)\n\u001b[1;32m    <a href='file:///home/bruno/libs/firedrake/lib/python3.9/site-packages/spyro/io/io.py?line=383'>384</a>\u001b[0m         },\n\u001b[1;32m    <a href='file:///home/bruno/libs/firedrake/lib/python3.9/site-packages/spyro/io/io.py?line=384'>385</a>\u001b[0m     )\n\u001b[1;32m    <a href='file:///home/bruno/libs/firedrake/lib/python3.9/site-packages/spyro/io/io.py?line=385'>386</a>\u001b[0m \u001b[39melse\u001b[39;00m:\n\u001b[1;32m    <a href='file:///home/bruno/libs/firedrake/lib/python3.9/site-packages/spyro/io/io.py?line=386'>387</a>\u001b[0m     mesh \u001b[39m=\u001b[39m fire\u001b[39m.\u001b[39mMesh(mshname, comm\u001b[39m=\u001b[39mens_comm\u001b[39m.\u001b[39mcomm)\n",
      "File \u001b[0;32mPETSc/Log.pyx:115\u001b[0m, in \u001b[0;36mpetsc4py.PETSc.Log.EventDecorator.decorator.wrapped_func\u001b[0;34m()\u001b[0m\n",
      "File \u001b[0;32mPETSc/Log.pyx:116\u001b[0m, in \u001b[0;36mpetsc4py.PETSc.Log.EventDecorator.decorator.wrapped_func\u001b[0;34m()\u001b[0m\n",
      "File \u001b[0;32m~/libs/firedrake/src/firedrake/firedrake/mesh.py:1844\u001b[0m, in \u001b[0;36mMesh\u001b[0;34m(meshfile, **kwargs)\u001b[0m\n\u001b[1;32m   <a href='file:///home/bruno/libs/firedrake/src/firedrake/firedrake/mesh.py?line=1841'>1842</a>\u001b[0m     opts \u001b[39m=\u001b[39m OptionsManager(opts, \u001b[39m\"\u001b[39m\u001b[39m\"\u001b[39m)\n\u001b[1;32m   <a href='file:///home/bruno/libs/firedrake/src/firedrake/firedrake/mesh.py?line=1842'>1843</a>\u001b[0m     \u001b[39mwith\u001b[39;00m opts\u001b[39m.\u001b[39minserted_options():\n\u001b[0;32m-> <a href='file:///home/bruno/libs/firedrake/src/firedrake/firedrake/mesh.py?line=1843'>1844</a>\u001b[0m         plex \u001b[39m=\u001b[39m _from_gmsh(meshfile, comm)\n\u001b[1;32m   <a href='file:///home/bruno/libs/firedrake/src/firedrake/firedrake/mesh.py?line=1844'>1845</a>\u001b[0m \u001b[39melif\u001b[39;00m ext\u001b[39m.\u001b[39mlower() \u001b[39m==\u001b[39m \u001b[39m'\u001b[39m\u001b[39m.node\u001b[39m\u001b[39m'\u001b[39m:\n\u001b[1;32m   <a href='file:///home/bruno/libs/firedrake/src/firedrake/firedrake/mesh.py?line=1845'>1846</a>\u001b[0m     plex \u001b[39m=\u001b[39m _from_triangle(meshfile, geometric_dim, comm)\n",
      "File \u001b[0;32mPETSc/Log.pyx:115\u001b[0m, in \u001b[0;36mpetsc4py.PETSc.Log.EventDecorator.decorator.wrapped_func\u001b[0;34m()\u001b[0m\n",
      "File \u001b[0;32mPETSc/Log.pyx:116\u001b[0m, in \u001b[0;36mpetsc4py.PETSc.Log.EventDecorator.decorator.wrapped_func\u001b[0;34m()\u001b[0m\n",
      "File \u001b[0;32m~/libs/firedrake/src/firedrake/firedrake/mesh.py:218\u001b[0m, in \u001b[0;36m_from_gmsh\u001b[0;34m(filename, comm)\u001b[0m\n\u001b[1;32m    <a href='file:///home/bruno/libs/firedrake/src/firedrake/firedrake/mesh.py?line=215'>216</a>\u001b[0m gmsh_viewer\u001b[39m.\u001b[39msetType(\u001b[39m\"\u001b[39m\u001b[39mascii\u001b[39m\u001b[39m\"\u001b[39m)\n\u001b[1;32m    <a href='file:///home/bruno/libs/firedrake/src/firedrake/firedrake/mesh.py?line=216'>217</a>\u001b[0m gmsh_viewer\u001b[39m.\u001b[39msetFileMode(\u001b[39m\"\u001b[39m\u001b[39mr\u001b[39m\u001b[39m\"\u001b[39m)\n\u001b[0;32m--> <a href='file:///home/bruno/libs/firedrake/src/firedrake/firedrake/mesh.py?line=217'>218</a>\u001b[0m gmsh_viewer\u001b[39m.\u001b[39;49msetFileName(filename)\n\u001b[1;32m    <a href='file:///home/bruno/libs/firedrake/src/firedrake/firedrake/mesh.py?line=218'>219</a>\u001b[0m gmsh_plex \u001b[39m=\u001b[39m PETSc\u001b[39m.\u001b[39mDMPlex()\u001b[39m.\u001b[39mcreateGmsh(gmsh_viewer, comm\u001b[39m=\u001b[39mcomm)\n\u001b[1;32m    <a href='file:///home/bruno/libs/firedrake/src/firedrake/firedrake/mesh.py?line=220'>221</a>\u001b[0m \u001b[39mreturn\u001b[39;00m gmsh_plex\n",
      "File \u001b[0;32mPETSc/Viewer.pyx:332\u001b[0m, in \u001b[0;36mpetsc4py.PETSc.Viewer.setFileName\u001b[0;34m()\u001b[0m\n",
      "\u001b[0;31mError\u001b[0m: error code 65\n[0] PetscViewerFileSetName() at /home/bruno/libs/firedrake/src/petsc/src/sys/classes/viewer/impls/ascii/filev.c:649\n[0] PetscViewerFileSetName_ASCII() at /home/bruno/libs/firedrake/src/petsc/src/sys/classes/viewer/impls/ascii/filev.c:753\n[0] Unable to open file\n[0] Cannot open PetscViewer file: not_used.msh"
     ]
    }
   ],
   "source": [
    "comm = spyro.utils.mpi_init(model)\n",
    "mesh, V = spyro.io.read_mesh(model, comm)\n",
    "vp = spyro.io.interpolate(model, mesh, V, guess=False)\n",
    "if comm.ensemble_comm.rank == 0:\n",
    "    fire.File(\"true_velocity.pvd\", comm=comm.comm).write(vp)\n",
    "sources = spyro.Sources(model, mesh, V, comm)\n",
    "receivers = spyro.Receivers(model, mesh, V, comm)\n",
    "wavelet = spyro.full_ricker_wavelet(\n",
    "    model[\"timeaxis\"][\"dt\"],\n",
    "    model[\"timeaxis\"][\"tf\"],\n",
    "    model[\"acquisition\"][\"frequency\"],\n",
    ")\n",
    "p, p_r = spyro.solvers.forward(model, mesh, comm, vp, sources, wavelet, receivers)\n",
    "spyro.io.save_shots(model, comm, p_r)"
   ]
  },
  {
   "cell_type": "markdown",
   "id": "cb2be7a8",
   "metadata": {},
   "source": [
    "### 2.2. Guess model"
   ]
  },
  {
   "cell_type": "markdown",
   "id": "82775a73",
   "metadata": {},
   "source": [
    "Similarly, the guess model is submitted to the same process, except for the `save_shots` function."
   ]
  },
  {
   "cell_type": "code",
   "execution_count": 6,
   "id": "08f36024",
   "metadata": {},
   "outputs": [],
   "source": [
    "model = {}\n",
    "\n",
    "model[\"opts\"] = {\n",
    "    \"method\": \"KMV\",  # either CG or KMV\n",
    "    \"quadrature\": \"KMV\",  # Equi or KMV\n",
    "    \"degree\": 4,  # p order\n",
    "    \"dimension\": 2,  # dimension\n",
    "}\n",
    "model[\"parallelism\"] = {\n",
    "    \"type\": \"automatic\",\n",
    "}\n",
    "model[\"mesh\"] = {\n",
    "    \"Lz\": ,  # depth in km - always positive\n",
    "    \"Lx\": ,  # width in km - always positive\n",
    "    \"Ly\": 0.0,  # thickness in km - always positive\n",
    "    \"meshfile\": None,\n",
    "    \"initmodel\": None\",\n",
    "    \"truemodel\": None,\n",
    "}\n",
    "model[\"BCs\"] = {\n",
    "    \"status\": True,  # True or false\n",
    "    \"outer_bc\": \"non-reflective\",  #  None or non-reflective (outer boundary condition)\n",
    "    \"damping_type\": \"polynomial\",  # polynomial, hyperbolic, shifted_hyperbolic\n",
    "    \"exponent\": 2,  # damping layer has a exponent variation\n",
    "    \"cmax\": 4.5,  # maximum acoustic wave velocity in PML - km/s\n",
    "    \"R\": 1e-6,  # theoretical reflection coefficient\n",
    "    \"lz\": ,  # thickness of the PML in the z-direction (km) - always positive\n",
    "    \"lx\": ,  # thickness of the PML in the x-direction (km) - always positive\n",
    "    \"ly\": 0.0,  # thickness of the PML in the y-direction (km) - always positive\n",
    "}\n",
    "model[\"acquisition\"] = {\n",
    "    \"source_type\": \"Ricker\",\n",
    "    \"source_pos\": ,\n",
    "    \"frequency\": 5.0,\n",
    "    \"delay\": 1.0,\n",
    "    \"receiver_locations\": ,\n",
    "}\n",
    "model[\"timeaxis\"] = {\n",
    "    \"t0\": 0.0,  #  Initial time for event\n",
    "    \"tf\": 5.00,  # Final time for event\n",
    "    \"dt\": 0.001,\n",
    "    \"amplitude\": 1,  # the Ricker has an amplitude of 1.\n",
    "    \"nspool\": 100,  # how frequently to output solution to pvds\n",
    "    \"fspool\": 99999,  # how frequently to save solution to RAM\n",
    "}"
   ]
  },
  {
   "cell_type": "code",
   "execution_count": 7,
   "id": "92c52e9d",
   "metadata": {},
   "outputs": [
    {
     "name": "stdout",
     "output_type": "stream",
     "text": [
      "1\n"
     ]
    },
    {
     "ename": "ValueError",
     "evalue": "Available cores cannot be divided between sources equally.",
     "output_type": "error",
     "traceback": [
      "\u001b[0;31m---------------------------------------------------------------------------\u001b[0m",
      "\u001b[0;31mValueError\u001b[0m                                Traceback (most recent call last)",
      "\u001b[1;32m/home/bruno/Desktop/IC/spyro/notebooks/tutorials/gradient_v0.ipynb Cell 17'\u001b[0m in \u001b[0;36m<module>\u001b[0;34m\u001b[0m\n\u001b[0;32m----> <a href='vscode-notebook-cell:/home/bruno/Desktop/IC/spyro/notebooks/tutorials/gradient_v0.ipynb#ch0000037?line=0'>1</a>\u001b[0m comm \u001b[39m=\u001b[39m spyro\u001b[39m.\u001b[39;49mutils\u001b[39m.\u001b[39;49mmpi_init(model)\n\u001b[1;32m      <a href='vscode-notebook-cell:/home/bruno/Desktop/IC/spyro/notebooks/tutorials/gradient_v0.ipynb#ch0000037?line=1'>2</a>\u001b[0m mesh, V \u001b[39m=\u001b[39m spyro\u001b[39m.\u001b[39mio\u001b[39m.\u001b[39mread_mesh(model, comm)\n\u001b[1;32m      <a href='vscode-notebook-cell:/home/bruno/Desktop/IC/spyro/notebooks/tutorials/gradient_v0.ipynb#ch0000037?line=2'>3</a>\u001b[0m vp \u001b[39m=\u001b[39m spyro\u001b[39m.\u001b[39mio\u001b[39m.\u001b[39minterpolate(model, mesh, V, guess\u001b[39m=\u001b[39m\u001b[39mTrue\u001b[39;00m)\n",
      "File \u001b[0;32m~/libs/firedrake/lib/python3.9/site-packages/spyro/utils/utils.py:85\u001b[0m, in \u001b[0;36mmpi_init\u001b[0;34m(model)\u001b[0m\n\u001b[1;32m     <a href='file:///home/bruno/libs/firedrake/lib/python3.9/site-packages/spyro/utils/utils.py?line=82'>83</a>\u001b[0m     num_cores_per_shot \u001b[39m=\u001b[39m available_cores \u001b[39m/\u001b[39m model[\u001b[39m\"\u001b[39m\u001b[39macquisition\u001b[39m\u001b[39m\"\u001b[39m][\u001b[39m\"\u001b[39m\u001b[39mnum_sources\u001b[39m\u001b[39m\"\u001b[39m]\n\u001b[1;32m     <a href='file:///home/bruno/libs/firedrake/lib/python3.9/site-packages/spyro/utils/utils.py?line=83'>84</a>\u001b[0m     \u001b[39mif\u001b[39;00m available_cores \u001b[39m%\u001b[39m model[\u001b[39m\"\u001b[39m\u001b[39macquisition\u001b[39m\u001b[39m\"\u001b[39m][\u001b[39m\"\u001b[39m\u001b[39mnum_sources\u001b[39m\u001b[39m\"\u001b[39m] \u001b[39m!=\u001b[39m \u001b[39m0\u001b[39m:\n\u001b[0;32m---> <a href='file:///home/bruno/libs/firedrake/lib/python3.9/site-packages/spyro/utils/utils.py?line=84'>85</a>\u001b[0m         \u001b[39mraise\u001b[39;00m \u001b[39mValueError\u001b[39;00m(\n\u001b[1;32m     <a href='file:///home/bruno/libs/firedrake/lib/python3.9/site-packages/spyro/utils/utils.py?line=85'>86</a>\u001b[0m             \u001b[39m\"\u001b[39m\u001b[39mAvailable cores cannot be divided between sources equally.\u001b[39m\u001b[39m\"\u001b[39m\n\u001b[1;32m     <a href='file:///home/bruno/libs/firedrake/lib/python3.9/site-packages/spyro/utils/utils.py?line=86'>87</a>\u001b[0m         )\n\u001b[1;32m     <a href='file:///home/bruno/libs/firedrake/lib/python3.9/site-packages/spyro/utils/utils.py?line=87'>88</a>\u001b[0m \u001b[39melif\u001b[39;00m model[\u001b[39m\"\u001b[39m\u001b[39mparallelism\u001b[39m\u001b[39m\"\u001b[39m][\u001b[39m\"\u001b[39m\u001b[39mtype\u001b[39m\u001b[39m\"\u001b[39m] \u001b[39m==\u001b[39m \u001b[39m\"\u001b[39m\u001b[39mspatial\u001b[39m\u001b[39m\"\u001b[39m:\n\u001b[1;32m     <a href='file:///home/bruno/libs/firedrake/lib/python3.9/site-packages/spyro/utils/utils.py?line=88'>89</a>\u001b[0m     num_cores_per_shot \u001b[39m=\u001b[39m available_cores\n",
      "\u001b[0;31mValueError\u001b[0m: Available cores cannot be divided between sources equally."
     ]
    }
   ],
   "source": [
    "comm = spyro.utils.mpi_init(model)\n",
    "element  = spyro.domains.space.FE_method(\n",
    "            mesh, model[\"opts\"][\"method\"], \n",
    "            model[\"opts\"][\"degree\"]\n",
    "            )\n",
    "V        = FunctionSpace(mesh, element)\n",
    "vp = spyro.io.interpolate(model, mesh, V, guess=True)\n",
    "if comm.ensemble_comm.rank == 0:\n",
    "    File(\"true_velocity.pvd\", comm=comm.comm).write(vp)\n",
    "sources = spyro.Sources(model, mesh, V, comm)\n",
    "receivers = spyro.Receivers(model, mesh, V, comm)\n",
    "wavelet = spyro.full_ricker_wavelet(\n",
    "    dt=model[\"timeaxis\"][\"dt\"],\n",
    "    final_time=model[\"timeaxis\"][\"tf\"],\n",
    "    frequency=model[\"acquisition\"][\"frequency\"],\n",
    ")\n",
    "p, p_r = spyro.solvers.forward(model, mesh, comm, vp, sources, wavelet, receivers)"
   ]
  },
  {
   "cell_type": "markdown",
   "id": "f99214e7",
   "metadata": {},
   "source": [
    "If there is water inside the domain, it should be localized:"
   ]
  },
  {
   "cell_type": "code",
   "execution_count": 10,
   "id": "2f760f2b",
   "metadata": {},
   "outputs": [
    {
     "ename": "NameError",
     "evalue": "name 'vp' is not defined",
     "output_type": "error",
     "traceback": [
      "\u001b[0;31m---------------------------------------------------------------------------\u001b[0m",
      "\u001b[0;31mNameError\u001b[0m                                 Traceback (most recent call last)",
      "\u001b[1;32m/home/bruno/Desktop/IC/spyro/notebooks/tutorials/gradient_v0.ipynb Cell 19'\u001b[0m in \u001b[0;36m<module>\u001b[0;34m\u001b[0m\n\u001b[0;32m----> <a href='vscode-notebook-cell:/home/bruno/Desktop/IC/spyro/notebooks/tutorials/gradient_v0.ipynb#ch0000040?line=0'>1</a>\u001b[0m water \u001b[39m=\u001b[39m np\u001b[39m.\u001b[39mwhere(vp\u001b[39m.\u001b[39mdat\u001b[39m.\u001b[39mdata[:] \u001b[39m<\u001b[39m \u001b[39m1.51\u001b[39m)\n",
      "\u001b[0;31mNameError\u001b[0m: name 'vp' is not defined"
     ]
    }
   ],
   "source": [
    "water = np.where(vp.dat.data[:] < 0.5)"
   ]
  },
  {
   "cell_type": "markdown",
   "id": "310ad7d7",
   "metadata": {},
   "source": [
    "### 2.3. Gradient calculation"
   ]
  },
  {
   "cell_type": "markdown",
   "id": "4bf381e8",
   "metadata": {},
   "source": [
    "The gradient is calculated according the adjoint method. The receivers are acting as sources and the misfit is the recorded value of the sources:"
   ]
  },
  {
   "cell_type": "code",
   "execution_count": 12,
   "id": "2cfcf355",
   "metadata": {},
   "outputs": [
    {
     "ename": "NameError",
     "evalue": "name 'V' is not defined",
     "output_type": "error",
     "traceback": [
      "\u001b[0;31m---------------------------------------------------------------------------\u001b[0m",
      "\u001b[0;31mNameError\u001b[0m                                 Traceback (most recent call last)",
      "\u001b[1;32m/home/bruno/Desktop/IC/spyro/notebooks/tutorials/gradient_v0.ipynb Cell 22'\u001b[0m in \u001b[0;36m<module>\u001b[0;34m\u001b[0m\n\u001b[0;32m----> <a href='vscode-notebook-cell:/home/bruno/Desktop/IC/spyro/notebooks/tutorials/gradient_v0.ipynb#ch0000045?line=0'>1</a>\u001b[0m dJ \u001b[39m=\u001b[39m Function(V, name\u001b[39m=\u001b[39m\u001b[39m\"\u001b[39m\u001b[39mgradient\u001b[39m\u001b[39m\"\u001b[39m)\n\u001b[1;32m      <a href='vscode-notebook-cell:/home/bruno/Desktop/IC/spyro/notebooks/tutorials/gradient_v0.ipynb#ch0000045?line=1'>2</a>\u001b[0m dJ_local \u001b[39m=\u001b[39m spyro\u001b[39m.\u001b[39msolvers\u001b[39m.\u001b[39mgradient(\n\u001b[1;32m      <a href='vscode-notebook-cell:/home/bruno/Desktop/IC/spyro/notebooks/tutorials/gradient_v0.ipynb#ch0000045?line=2'>3</a>\u001b[0m     model,\n\u001b[1;32m      <a href='vscode-notebook-cell:/home/bruno/Desktop/IC/spyro/notebooks/tutorials/gradient_v0.ipynb#ch0000045?line=3'>4</a>\u001b[0m     mesh,\n\u001b[0;32m   (...)\u001b[0m\n\u001b[1;32m      <a href='vscode-notebook-cell:/home/bruno/Desktop/IC/spyro/notebooks/tutorials/gradient_v0.ipynb#ch0000045?line=8'>9</a>\u001b[0m     \u001b[39mself\u001b[39m\u001b[39m.\u001b[39mmisfit,\n\u001b[1;32m     <a href='vscode-notebook-cell:/home/bruno/Desktop/IC/spyro/notebooks/tutorials/gradient_v0.ipynb#ch0000045?line=9'>10</a>\u001b[0m )\n\u001b[1;32m     <a href='vscode-notebook-cell:/home/bruno/Desktop/IC/spyro/notebooks/tutorials/gradient_v0.ipynb#ch0000045?line=10'>11</a>\u001b[0m \u001b[39mif\u001b[39;00m comm\u001b[39m.\u001b[39mensemble_comm\u001b[39m.\u001b[39msize \u001b[39m>\u001b[39m \u001b[39m1\u001b[39m:\n",
      "\u001b[0;31mNameError\u001b[0m: name 'V' is not defined"
     ]
    }
   ],
   "source": [
    "dJ = Function(V, name=\"gradient\")\n",
    "dJ_local = spyro.solvers.gradient(\n",
    "    model,\n",
    "    mesh,\n",
    "    comm,\n",
    "    vp,\n",
    "    receivers,\n",
    "    self.p_guess,\n",
    "    self.misfit,\n",
    ")\n",
    "if comm.ensemble_comm.size > 1:\n",
    "    comm.allreduce(dJ_local, dJ)\n",
    "else:\n",
    "    dJ = dJ_local\n",
    "dJ /= comm.ensemble_comm.size\n",
    "if comm.comm.size > 1:\n",
    "    dJ /= comm.comm.size\n",
    "# regularize the gradient if asked.\n",
    "if model[\"opts\"][\"regularization\"]:\n",
    "    dJ = regularize_gradient(vp, dJ)\n",
    "# mask the water layer\n",
    "dJ.dat.data[water] = 0.0"
   ]
  }
 ],
 "metadata": {
  "interpreter": {
   "hash": "c636c80da4301bac4452b76631ed9bfa598d64810b11ba9aafb778bda6792944"
  },
  "kernelspec": {
   "display_name": "firedrake",
   "language": "python",
   "name": "python3"
  },
  "language_info": {
   "codemirror_mode": {
    "name": "ipython",
    "version": 3
   },
   "file_extension": ".py",
   "mimetype": "text/x-python",
   "name": "python",
   "nbconvert_exporter": "python",
   "pygments_lexer": "ipython3",
   "version": "3.8.10"
  }
 },
 "nbformat": 4,
 "nbformat_minor": 5
}
