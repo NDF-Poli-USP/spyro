{
 "cells": [
  {
   "cell_type": "markdown",
   "source": [
    "Importing the lybraries"
   ],
   "metadata": {}
  },
  {
   "cell_type": "code",
   "execution_count": null,
   "source": [
    "from firedrake import *\n",
    "import numpy as np\n",
    "import finat\n",
    "from scipy import optimize\n",
    "import sys\n",
    "from mpi4py import MPI\n",
    "OMP_NUM_THREADS=1\n",
    "\n",
    "import spyro"
   ],
   "outputs": [],
   "metadata": {
    "scrolled": true
   }
  },
  {
   "cell_type": "markdown",
   "source": [
    "Defining the model setup"
   ],
   "metadata": {}
  },
  {
   "cell_type": "code",
   "execution_count": null,
   "source": [
    "import os\n",
    "from spyro import create_transect\n",
    "\n",
    "# Choose method and parameters\n",
    "# Choose method and parameters\n",
    "opts = {\n",
    "    \"method\": \"KMV\",\n",
    "    \"quadrature\": \"KMV\",\n",
    "    \"degree\": 1,  # p order\n",
    "    \"dimension\": 2,  # dimension\n",
    "}\n",
    "\n",
    "parallelism = {\n",
    "    \"type\": \"spatial\",  # options: automatic (same number of cores for evey processor), custom, off.\n",
    "    \"custom_cores_per_shot\": [],  # only if the user wants a different number of cores for every shot.\n",
    "    \"num_cores_per_shot\": 1\n",
    "}\n",
    "\n",
    "mesh = {\n",
    "    \"Lz\": 2.,  # depth in km - always positive\n",
    "    \"Lx\": 2.,  # width in km - always positive\n",
    "    \"Ly\": 0.0,  # thickness in km - always positive\n",
    "    \"meshfile\": \"meshes/circle.msh\",\n",
    "}\n",
    "\n",
    "BCs = {\n",
    "    \"status\": False,  # True,  # True or false\n",
    "    \"outer_bc\": \"non-reflective\",  # \"non-reflective\",  #  neumann, non-reflective (outer boundary condition)\n",
    "    \"damping_type\": \"polynomial\",  # polynomial. hyperbolic, shifted_hyperbolic\n",
    "    \"method\": \"damping\", # damping, pml\n",
    "    \"exponent\": 2,\n",
    "    \"cmax\": 4.7,  # maximum acoustic wave velocity in PML - km/s\n",
    "    \"R\": 0.001,  # theoretical reflection coefficient\n",
    "    \"lz\": 0.5,  # thickness of the pml in the z-direction (km) - always positive\n",
    "    \"lx\":0.5,  # thickness of the pml in the x-direction (km) - always positive\n",
    "    \"ly\": 0.0,  # thickness of the pml in the y-direction (km) - always positive\n",
    "}\n",
    "acquisition = {\n",
    "    \"source_type\": \"Ricker\",\n",
    "    \"frequency\": 7.0,\n",
    "    \"delay\": 1.0,\n",
    "    # \"num_sources\": 1,\n",
    "    \"num_sources\": 4,\n",
    "    \"source_pos\": create_transect((0.6, -0.1), (1.4, -0.1), 4),\n",
    "    \"amplitude\": 1.0,\n",
    "    \"num_receivers\": 10,\n",
    "    \"receiver_locations\": create_transect((0.6, -0.2), (1.4, -0.2), 10),\n",
    "}\n",
    "\n",
    "timeaxis = {\n",
    "    \"t0\": 0.0,  #  Initial time for event\n",
    "    \"tf\": 1.0,  # Final time for event\n",
    "    \"dt\": 0.001,  # timestep size\n",
    "    \"nspool\": 1001,  # how frequently to output solution to pvds\n",
    "    \"fspool\": 1,  # how frequently to save solution to RAM\n",
    "}  # how freq. to output to files and screen\n",
    "\n",
    "inversion = {\n",
    "    \"freq_bands\": [None]\n",
    "}  # cutoff frequencies (Hz) for Ricker source and to low-pass the observed shot record\n",
    "\n",
    "\n",
    "# Create your model with all the options\n",
    "model = {\n",
    "    \"self\": None,\n",
    "    \"inversion\": inversion,\n",
    "    \"opts\": opts,\n",
    "    \"BCs\": BCs,\n",
    "    \"parallelism\": parallelism,\n",
    "    \"mesh\": mesh,\n",
    "    \"acquisition\": acquisition,\n",
    "    \"timeaxis\": timeaxis,\n",
    "}"
   ],
   "outputs": [],
   "metadata": {}
  },
  {
   "cell_type": "markdown",
   "source": [
    "True velocity model"
   ],
   "metadata": {}
  },
  {
   "cell_type": "code",
   "execution_count": null,
   "source": [
    "def _make_vp(V, mesh, vp_guess=False):\n",
    "    \"\"\"creating velocity models\"\"\"\n",
    "    x,z = SpatialCoordinate(mesh)\n",
    "    if vp_guess:\n",
    "        vp   = Function(V).interpolate(1.5 + 0.0 * x)\n",
    "        File(\"guess_vel.pvd\").write(vp)\n",
    "    else:\n",
    "        vp  = Function(V).interpolate(\n",
    "            2.5\n",
    "            + 1 * tanh(20 * (0.125 - sqrt(( x - 1) ** 2 + (z + 0.5) ** 2)))\n",
    "            # 5.0 + 0.5 * tanh(10.0 * (0.5 - sqrt((z - 1.5) ** 2 + (x + 1.5) ** 2)))\n",
    "        )\n",
    "      \n",
    "        File(\"exact_vel.pvd\").write(vp)\n",
    "      \n",
    "    \n",
    "    return vp\n",
    "\n",
    "comm = spyro.utils.mpi_init(model)\n",
    "mesh, V = spyro.io.read_mesh(model, comm)\n",
    "\n",
    "vp   = _make_vp(V,mesh)"
   ],
   "outputs": [],
   "metadata": {}
  },
  {
   "cell_type": "markdown",
   "source": [
    "Point cloud definition used to compute the objective functional."
   ],
   "metadata": {}
  },
  {
   "cell_type": "code",
   "execution_count": null,
   "source": [
    "num_rec = model[\"acquisition\"][\"num_receivers\"]\n",
    "δs = np.linspace(0.6, 1.4, num_rec)\n",
    "X, Y = np.meshgrid(δs, -0.2)\n",
    "xs = np.vstack((X.flatten(), Y.flatten())).T\n",
    "point_cloud = VertexOnlyMesh(mesh, xs)\n",
    "P = FunctionSpace(point_cloud, \"DG\", 0)\n",
    "\n",
    "source_pos =  model[\"acquisition\"][\"source_pos\"]\n",
    "rec_pos    =  model[\"acquisition\"][\"receiver_locations\"]"
   ],
   "outputs": [],
   "metadata": {}
  },
  {
   "cell_type": "markdown",
   "source": [
    "Here, the wave propagation solver has the goal to get the displacement at the receivers for the true velocity model. In this case, It is not necessary to annotate the code. Therefore, the automatic differentiation is not employed and the set up used is as showed below."
   ],
   "metadata": {}
  },
  {
   "cell_type": "code",
   "execution_count": null,
   "source": [
    "aut_dif=False"
   ],
   "outputs": [],
   "metadata": {}
  },
  {
   "cell_type": "markdown",
   "source": [
    "Running the foward wave equation with the true velocity model."
   ],
   "metadata": {}
  },
  {
   "cell_type": "code",
   "execution_count": null,
   "source": [
    "solver  = spyro.solver_AD(Aut_Dif=aut_dif)\n",
    "\n",
    "i=0\n",
    "rec = []\n",
    "\n",
    "for sn in source_pos:\n",
    "    rec.append(solver.wave_propagation(model,mesh,comm,vp,P,sn))\n",
    "    i+=1"
   ],
   "outputs": [],
   "metadata": {}
  },
  {
   "cell_type": "markdown",
   "source": [
    "Let us start the FWI process."
   ],
   "metadata": {}
  },
  {
   "cell_type": "code",
   "execution_count": null,
   "source": [
    "obj_ad  = []\n",
    "obj_da  = []"
   ],
   "outputs": [],
   "metadata": {}
  },
  {
   "cell_type": "code",
   "execution_count": null,
   "source": [
    "comm = spyro.utils.mpi_init(model)\n",
    "mesh, V = spyro.io.read_mesh(model, comm)\n",
    "\n",
    "vp   = _make_vp(V,mesh)\n",
    "\n",
    "num_rec = model[\"acquisition\"][\"num_receivers\"]\n",
    "δs = np.linspace(0.6, 1.4, num_rec)\n",
    "X, Y = np.meshgrid(δs, -0.2)\n",
    "xs = np.vstack((X.flatten(), Y.flatten())).T\n",
    "point_cloud = VertexOnlyMesh(mesh, xs)\n",
    "P = FunctionSpace(point_cloud, \"DG\", 0)\n",
    "\n",
    "def makeMask():\n",
    "    # Update the local vp_guess function\n",
    "    x,z = SpatialCoordinate(mesh)\n",
    "    boxx1 = Function(V).interpolate(conditional(x > 0.5, 1.0, 0.0))\n",
    "    boxx2 = Function(V).interpolate(conditional(x < 1.5, 1.0, 0.0))\n",
    "    boxz1 = Function(V).interpolate(conditional(z < -0.1, 1.0, 0.0))\n",
    "    boxz2 = Function(V).interpolate(conditional(z > -0.8, 1.0, 0.0))\n",
    "    mask = Function(V).interpolate(boxx1*boxx2*boxz1*boxz2)\n",
    "    File(\"mask.pvd\").write(mask)\n",
    "    return mask\n",
    "\n",
    "mask = makeMask() \n",
    "\n"
   ],
   "outputs": [],
   "metadata": {}
  },
  {
   "cell_type": "code",
   "execution_count": null,
   "source": [
    "solver  = spyro.solver_AD(fwi=True,Aut_Dif=aut_dif)\n",
    "def runFWI(sn,xi):\n",
    "    \n",
    "    if solver.Aut_Dif:\n",
    "        import firedrake_adjoint\n",
    "    np.save('guess_mm_da',xi)  \n",
    "    # Spatial communicator rank and size.\n",
    "    rank = comm.comm.rank\n",
    "    size = comm.comm.size\n",
    "    \n",
    "    vp   = Function(V) \n",
    "    n    = len(vp.dat.data[:])\n",
    "    N    = [comm.comm.bcast(n, r) for r in range(size)]\n",
    "    indices = np.insert(np.cumsum(N), 0, 0)\n",
    "    vp.dat.data[:] = xi[indices[rank] : indices[rank+1]]\n",
    "    #setup to compute the functional objective and to use AD\n",
    "    print(max(vp.dat.data), min(vp.dat.data))\n",
    "    File(\"guess_velocity_mm_da.pvd\", comm=comm.comm).write(vp)\n",
    "    J=0\n",
    "    if solver.Aut_Dif:\n",
    "        control = firedrake_adjoint.Control(vp) \n",
    "        p_rec,J = solver.wave_propagation(model,mesh,comm,vp,P,source_pos[sn],p_true_rec=rec[sn],obj_func=J)\n",
    "    else:\n",
    "        p, misfit, J= solver.wave_propagation(model,mesh,comm,vp,P,source_pos[sn],p_true_rec=rec[sn],obj_func=J)\n",
    "    \n",
    "    # spyro.plots.plot_shots(model,comm,misfit,show=True) \n",
    "  \n",
    "    if solver.Aut_Dif:   \n",
    "        dJdm = firedrake_adjoint.compute_gradient(J, control)\n",
    "        firedrake_adjoint.get_working_tape().clear_tape()      \n",
    "    else:\n",
    "        dJdm   = solver.wave_propagation(model,mesh,comm,vp,P,rec_pos,type=\"adjoint\",misfit=misfit,guess=p)\n",
    "    \n",
    "    dJdm *= mask     \n",
    "    \n",
    "    return J, dJdm.dat.data[:]\n",
    "\n"
   ],
   "outputs": [],
   "metadata": {}
  },
  {
   "cell_type": "markdown",
   "source": [
    "The funtion below runs in parallel the forward and adjoint solvers for every sources.\n",
    "<!-- \n",
    "if solver.Autom_Dif:\n",
    "        vp_ad.vp.dat.data[:] = xi[indices[rank] : indices[rank+1]]\n",
    "    else:\n",
    "        vp_da.vp.dat.data[:] = xi[indices[rank] : indices[rank+1]] -->"
   ],
   "metadata": {}
  },
  {
   "cell_type": "code",
   "execution_count": null,
   "source": [
    "import multiprocessing as mp\n",
    "def getGradObg(xi):\n",
    "    nshots = len(source_pos)\n",
    "    process_pool = mp.Pool(int(nshots/2))\n",
    "    data   = [(0, xi),(1, xi)]\n",
    "    data1  = [(2, xi),(3, xi)]\n",
    "    output = process_pool.starmap(runFWI, data)\n",
    "    process_pool.close()\n",
    "    process_pool.join() \n",
    "    \n",
    "    process_pool1 = mp.Pool(int(nshots/2))\n",
    "    output1 = process_pool1.starmap(runFWI, data1)\n",
    "    process_pool1.close()\n",
    "    process_pool1.join() \n",
    "    obj = 0\n",
    "    grad = 0\n",
    "    \n",
    "    for j in range(0,int(nshots/2)):\n",
    "\n",
    "        obj  += output[j][0]\n",
    "        grad += output[j][1]\n",
    "        obj  += output1[j][0]\n",
    "        grad += output1[j][1]\n",
    "        \n",
    "    if solver.Aut_Dif:\n",
    "        obj_ad.append(obj)\n",
    "    else:\n",
    "        obj_da.append(obj)\n",
    "    \n",
    "    return obj, grad\n"
   ],
   "outputs": [],
   "metadata": {}
  },
  {
   "cell_type": "markdown",
   "source": [
    "In this case, FWI uses the discrete adjoint wave equation to compute de gradient."
   ],
   "metadata": {}
  },
  {
   "cell_type": "code",
   "execution_count": null,
   "source": [
    "init_vel = _make_vp(V,mesh,vp_guess=True)\n",
    "\n",
    "vmax   = 3.5\n",
    "vmin   = 1.5\n",
    "m0 = init_vel.vector().gather()\n",
    "bounds  = [(vmin,vmax) for _ in range(len(m0))] \n",
    "result_da  = optimize.minimize(getGradObg, m0,method='L-BFGS-B', jac=True, tol = 1e-15, bounds=bounds, options={\"disp\": True,\"eps\": 1e-15, \"gtol\": 1e-15,\"maxiter\": 10})\n",
    "\n",
    "rank = comm.comm.rank\n",
    "size = comm.comm.size\n",
    "\n",
    "vp_da   = Function(V) \n",
    "n    = len(vp.dat.data[:])\n",
    "N    = [comm.comm.bcast(n, r) for r in range(size)]\n",
    "indices = np.insert(np.cumsum(N), 0, 0)\n",
    "vp_da.dat.data[:] = result_da.x[indices[rank] : indices[rank+1]]\n",
    "File(\"guess_velocity_da.pvd\", comm=comm.comm).write(vp_da)\n"
   ],
   "outputs": [],
   "metadata": {}
  },
  {
   "cell_type": "code",
   "execution_count": null,
   "source": [
    "solver.Aut_Dif=True\n",
    "init_vel = _make_vp(V,mesh,vp_guess=True)\n",
    "\n",
    "vmax   = 3.5\n",
    "vmin   = 1.5\n",
    "m0 = init_vel.vector().gather()\n",
    "bounds  = [(vmin,vmax) for _ in range(len(m0))] \n",
    "result_ad  = optimize.minimize(getGradObg, m0,method='L-BFGS-B', jac=True, tol = 1e-15, bounds=bounds, options={\"disp\": True,\"eps\": 1e-15, \"gtol\": 1e-15,\"maxiter\": 10})\n",
    "\n",
    "rank = comm.comm.rank\n",
    "size = comm.comm.size\n",
    "\n",
    "vp_ad   = Function(V) \n",
    "n    = len(vp_ad.dat.data[:])\n",
    "N    = [comm.comm.bcast(n, r) for r in range(size)]\n",
    "indices = np.insert(np.cumsum(N), 0, 0)\n",
    "vp_ad.dat.data[:] = result_ad.x[indices[rank] : indices[rank+1]]\n",
    "File(\"guess_velocity_ad.pvd\", comm=comm.comm).write(vp_ad)\n"
   ],
   "outputs": [],
   "metadata": {}
  },
  {
   "cell_type": "markdown",
   "source": [
    "Running FWI with AD"
   ],
   "metadata": {}
  },
  {
   "cell_type": "code",
   "execution_count": null,
   "source": [
    "import matplotlib.pyplot as plt\n",
    "import numpy as np\n",
    "plt.rc('text', usetex=True)\n",
    "\n",
    "iteration_da=np.linspace(0,len(da_p3),num=len(da_p3))\n",
    "iteration_ad=np.linspace(0,len(ad_p3),num=len(ad_p3))\n",
    "plt.plot(iteration_da,da_p3,'k',label=r'Discrete Adj.')\n",
    "plt.plot(iteration_ad,ad_p3,'m',label=r'Aut. Differentiation')\n",
    "plt.ylabel(r'\\Huge{$J(v_p)$}', fontsize=24)\n",
    "plt.xlabel(r'\\Huge{$Iteration$}', fontsize=24)\n",
    "plt.legend(loc='upper right')\n"
   ],
   "outputs": [],
   "metadata": {}
  },
  {
   "cell_type": "code",
   "execution_count": null,
   "source": [
    "t_ad = 1163\n",
    "t_da = 140"
   ],
   "outputs": [],
   "metadata": {}
  },
  {
   "cell_type": "markdown",
   "source": [],
   "metadata": {}
  }
 ],
 "metadata": {
  "interpreter": {
   "hash": "8e9dfe748fb877ec2d48c92e3461f4671907b12407bff70f9985d304ad420002"
  },
  "kernelspec": {
   "name": "python3",
   "display_name": "Python 3.8.5 64-bit ('firedrake': venv)"
  },
  "language_info": {
   "codemirror_mode": {
    "name": "ipython",
    "version": 3
   },
   "file_extension": ".py",
   "mimetype": "text/x-python",
   "name": "python",
   "nbconvert_exporter": "python",
   "pygments_lexer": "ipython3",
   "version": "3.8.5"
  }
 },
 "nbformat": 4,
 "nbformat_minor": 4
}