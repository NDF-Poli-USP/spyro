{
 "cells": [
  {
   "cell_type": "markdown",
   "source": [
    "Importing the lybraries"
   ],
   "metadata": {}
  },
  {
   "cell_type": "code",
   "execution_count": null,
   "source": [
    "from firedrake import *\n",
    "import numpy as np\n",
    "import finat\n",
    "from scipy import optimize\n",
    "import sys\n",
    "from mpi4py import MPI\n",
    "OMP_NUM_THREADS=1\n",
    "\n",
    "import spyro"
   ],
   "outputs": [],
   "metadata": {
    "scrolled": true
   }
  },
  {
   "cell_type": "markdown",
   "source": [
    "Defining the model setup"
   ],
   "metadata": {}
  },
  {
   "cell_type": "code",
   "execution_count": null,
   "source": [
    "import os\n",
    "from spyro import create_transect\n",
    "\n",
    "# Choose method and parameters\n",
    "# Choose method and parameters\n",
    "opts = {\n",
    "    \"method\": \"KMV\",\n",
    "    \"quadrature\": \"KMV\",\n",
    "    \"degree\": 1,  # p order\n",
    "    \"dimension\": 2,  # dimension\n",
    "}\n",
    "\n",
    "parallelism = {\n",
    "    \"type\": \"automatic\",  # options: automatic (same number of cores for evey processor), custom, off.\n",
    "    \"custom_cores_per_shot\": [],  # only if the user wants a different number of cores for every shot.\n",
    "    \"num_cores_per_shot\": 1\n",
    "}\n",
    "\n",
    "mesh = {\n",
    "    \"Lz\": 2.,  # depth in km - always positive\n",
    "    \"Lx\": 2.,  # width in km - always positive\n",
    "    \"Ly\": 0.0,  # thickness in km - always positive\n",
    "    \"meshfile\": \"meshes/circle.msh\",\n",
    "}\n",
    "\n",
    "BCs = {\n",
    "    \"status\": False,  # True,  # True or false\n",
    "    \"outer_bc\": \"non-reflective\",  # \"non-reflective\",  #  neumann, non-reflective (outer boundary condition)\n",
    "    \"damping_type\": \"polynomial\",  # polynomial. hyperbolic, shifted_hyperbolic\n",
    "    \"method\": \"damping\", # damping, pml\n",
    "    \"exponent\": 2,\n",
    "    \"cmax\": 4.7,  # maximum acoustic wave velocity in PML - km/s\n",
    "    \"R\": 0.001,  # theoretical reflection coefficient\n",
    "    \"lz\": 0.5,  # thickness of the pml in the z-direction (km) - always positive\n",
    "    \"lx\":0.5,  # thickness of the pml in the x-direction (km) - always positive\n",
    "    \"ly\": 0.0,  # thickness of the pml in the y-direction (km) - always positive\n",
    "}\n",
    "acquisition = {\n",
    "    \"source_type\": \"Ricker\",\n",
    "    \"frequency\": 7.0,\n",
    "    \"delay\": 1.0,\n",
    "    # \"num_sources\": 1,\n",
    "    \"num_sources\": 4,\n",
    "    \"source_pos\": create_transect((0.6, -0.1), (1.4, -0.1), 4),\n",
    "    \"amplitude\": 1.0,\n",
    "    \"num_receivers\": 10,\n",
    "    \"receiver_locations\": create_transect((0.6, -0.2), (1.4, -0.2), 10),\n",
    "}\n",
    "\n",
    "timeaxis = {\n",
    "    \"t0\": 0.0,  #  Initial time for event\n",
    "    \"tf\": 1.0,  # Final time for event\n",
    "    \"dt\": 0.001,  # timestep size\n",
    "    \"nspool\": 1001,  # how frequently to output solution to pvds\n",
    "    \"fspool\": 1,  # how frequently to save solution to RAM\n",
    "}  # how freq. to output to files and screen\n",
    "\n",
    "inversion = {\n",
    "    \"freq_bands\": [None]\n",
    "}  # cutoff frequencies (Hz) for Ricker source and to low-pass the observed shot record\n",
    "\n",
    "\n",
    "# Create your model with all the options\n",
    "model = {\n",
    "    \"self\": None,\n",
    "    \"inversion\": inversion,\n",
    "    \"opts\": opts,\n",
    "    \"BCs\": BCs,\n",
    "    \"parallelism\": parallelism,\n",
    "    \"mesh\": mesh,\n",
    "    \"acquisition\": acquisition,\n",
    "    \"timeaxis\": timeaxis,\n",
    "}"
   ],
   "outputs": [],
   "metadata": {}
  },
  {
   "cell_type": "markdown",
   "source": [
    "True velocity model"
   ],
   "metadata": {}
  },
  {
   "cell_type": "code",
   "execution_count": null,
   "source": [
    "def _make_vp(V, mesh, vp_guess=False):\n",
    "    \"\"\"creating velocity models\"\"\"\n",
    "    x,z = SpatialCoordinate(mesh)\n",
    "    if vp_guess:\n",
    "        vp   = Function(V).interpolate(1.5 + 0.0 * x)\n",
    "        File(\"guess_vel.pvd\").write(vp)\n",
    "    else:\n",
    "        vp  = Function(V).interpolate(\n",
    "            2.5\n",
    "            + 1 * tanh(20 * (0.125 - sqrt(( x - 1) ** 2 + (z + 0.5) ** 2)))\n",
    "            # 5.0 + 0.5 * tanh(10.0 * (0.5 - sqrt((z - 1.5) ** 2 + (x + 1.5) ** 2)))\n",
    "        )\n",
    "      \n",
    "        File(\"exact_vel.pvd\").write(vp)\n",
    "      \n",
    "    \n",
    "    return vp\n",
    "\n",
    "comm = spyro.utils.mpi_init(model)\n",
    "mesh, V = spyro.io.read_mesh(model, comm)\n",
    "\n",
    "vp   = _make_vp(V,mesh)"
   ],
   "outputs": [],
   "metadata": {}
  },
  {
   "cell_type": "markdown",
   "source": [
    "Point cloud definition used to compute the objective functional."
   ],
   "metadata": {}
  },
  {
   "cell_type": "code",
   "execution_count": null,
   "source": [
    "num_rec = model[\"acquisition\"][\"num_receivers\"]\n",
    "δs = np.linspace(0.6, 1.4, num_rec)\n",
    "X, Y = np.meshgrid(δs, -0.2)\n",
    "xs = np.vstack((X.flatten(), Y.flatten())).T\n",
    "point_cloud = VertexOnlyMesh(mesh, xs)\n",
    "P = FunctionSpace(point_cloud, \"DG\", 0)\n",
    "\n",
    "source_pos =  model[\"acquisition\"][\"source_pos\"]\n",
    "rec_pos    =  model[\"acquisition\"][\"receiver_locations\"]"
   ],
   "outputs": [],
   "metadata": {}
  },
  {
   "cell_type": "markdown",
   "source": [
    "Here, the wave propagation solver has the goal to get the displacement at the receivers for the true velocity model. In this case, It is not necessary to annotate the code. Therefore, the automatic differentiation is not employed and the set up used is as showed below."
   ],
   "metadata": {}
  },
  {
   "cell_type": "code",
   "execution_count": null,
   "source": [
    "aut_dif=False"
   ],
   "outputs": [],
   "metadata": {}
  },
  {
   "cell_type": "markdown",
   "source": [
    "Running the foward wave equation with the true velocity model."
   ],
   "metadata": {}
  },
  {
   "cell_type": "code",
   "execution_count": null,
   "source": [
    "solver  = spyro.solver_AD(Aut_Dif=aut_dif)\n",
    "\n",
    "i=0\n",
    "rec = []\n",
    "\n",
    "for sn in source_pos:\n",
    "    rec.append(solver.wave_propagation(model,mesh,comm,vp,P,sn))\n",
    "    i+=1"
   ],
   "outputs": [],
   "metadata": {}
  },
  {
   "cell_type": "markdown",
   "source": [
    "Let us start the FWI process."
   ],
   "metadata": {}
  },
  {
   "cell_type": "code",
   "execution_count": null,
   "source": [
    "obj_ad  = []\n",
    "obj_da  = []"
   ],
   "outputs": [],
   "metadata": {}
  },
  {
   "cell_type": "code",
   "execution_count": null,
   "source": [
    "comm = spyro.utils.mpi_init(model)\n",
    "mesh, V = spyro.io.read_mesh(model, comm)\n",
    "\n",
    "vp   = _make_vp(V,mesh)\n",
    "\n",
    "num_rec = model[\"acquisition\"][\"num_receivers\"]\n",
    "δs = np.linspace(0.6, 1.4, num_rec)\n",
    "X, Y = np.meshgrid(δs, -0.2)\n",
    "xs = np.vstack((X.flatten(), Y.flatten())).T\n",
    "point_cloud = VertexOnlyMesh(mesh, xs)\n",
    "P = FunctionSpace(point_cloud, \"DG\", 0)\n",
    "\n",
    "def makeMask():\n",
    "    # Update the local vp_guess function\n",
    "    x,z = SpatialCoordinate(mesh)\n",
    "    boxx1 = Function(V).interpolate(conditional(x > 0.5, 1.0, 0.0))\n",
    "    boxx2 = Function(V).interpolate(conditional(x < 1.5, 1.0, 0.0))\n",
    "    boxz1 = Function(V).interpolate(conditional(z < -0.1, 1.0, 0.0))\n",
    "    boxz2 = Function(V).interpolate(conditional(z > -0.8, 1.0, 0.0))\n",
    "    mask = Function(V).interpolate(boxx1*boxx2*boxz1*boxz2)\n",
    "    File(\"mask.pvd\").write(mask)\n",
    "    return mask\n",
    "\n",
    "mask = makeMask() \n",
    "\n"
   ],
   "outputs": [],
   "metadata": {}
  },
  {
   "cell_type": "code",
   "execution_count": null,
   "source": [
    "solver  = spyro.solver_AD(fwi=True,Aut_Dif=aut_dif)\n",
    "def runFWI(sn,xi):\n",
    "    \n",
    "    if solver.Aut_Dif:\n",
    "        import firedrake_adjoint\n",
    "    np.save('guess_mm_da',xi)  \n",
    "    # Spatial communicator rank and size.\n",
    "    rank = comm.comm.rank\n",
    "    size = comm.comm.size\n",
    "    \n",
    "    vp   = Function(V) \n",
    "    n    = len(vp.dat.data[:])\n",
    "    N    = [comm.comm.bcast(n, r) for r in range(size)]\n",
    "    indices = np.insert(np.cumsum(N), 0, 0)\n",
    "    vp.dat.data[:] = xi[indices[rank] : indices[rank+1]]\n",
    "    #setup to compute the functional objective and to use AD\n",
    "    print(max(vp.dat.data), min(vp.dat.data))\n",
    "    File(\"guess_velocity_mm_da.pvd\", comm=comm.comm).write(vp)\n",
    "    J=0\n",
    "    if solver.Aut_Dif:\n",
    "        control = firedrake_adjoint.Control(vp) \n",
    "        p_rec,J = solver.wave_propagation(model,mesh,comm,vp,P,source_pos[sn],p_true_rec=rec[sn],obj_func=J)\n",
    "    else:\n",
    "        p, misfit, J= solver.wave_propagation(model,mesh,comm,vp,P,source_pos[sn],p_true_rec=rec[sn],obj_func=J)\n",
    "    \n",
    "    # spyro.plots.plot_shots(model,comm,misfit,show=True) \n",
    "  \n",
    "    if solver.Aut_Dif:   \n",
    "        dJdm = firedrake_adjoint.compute_gradient(J, control)\n",
    "        firedrake_adjoint.get_working_tape().clear_tape()      \n",
    "    else:\n",
    "        dJdm   = solver.wave_propagation(model,mesh,comm,vp,P,rec_pos,type=\"adjoint\",misfit=misfit,guess=p)\n",
    "    \n",
    "    dJdm *= mask     \n",
    "    \n",
    "    return J, dJdm.dat.data[:]\n",
    "\n"
   ],
   "outputs": [],
   "metadata": {}
  },
  {
   "cell_type": "markdown",
   "source": [
    "The funtion below runs in parallel the forward and adjoint solvers for every sources.\n",
    "<!-- \n",
    "if solver.Autom_Dif:\n",
    "        vp_ad.vp.dat.data[:] = xi[indices[rank] : indices[rank+1]]\n",
    "    else:\n",
    "        vp_da.vp.dat.data[:] = xi[indices[rank] : indices[rank+1]] -->"
   ],
   "metadata": {}
  },
  {
   "cell_type": "code",
   "execution_count": null,
   "source": [
    "import multiprocessing as mp\n",
    "def getGradObg(xi):\n",
    "    nshots = len(source_pos)\n",
    "    process_pool = mp.Pool(int(nshots/2))\n",
    "    data   = [(0, xi),(1, xi)]\n",
    "    data1  = [(2, xi),(3, xi)]\n",
    "    output = process_pool.starmap(runFWI, data)\n",
    "    process_pool.close()\n",
    "    process_pool.join() \n",
    "    \n",
    "    process_pool1 = mp.Pool(int(nshots/2))\n",
    "    output1 = process_pool1.starmap(runFWI, data1)\n",
    "    process_pool1.close()\n",
    "    process_pool1.join() \n",
    "    obj = 0\n",
    "    grad = 0\n",
    "    \n",
    "    for j in range(0,int(nshots/2)):\n",
    "\n",
    "        obj  += output[j][0]\n",
    "        grad += output[j][1]\n",
    "        obj  += output1[j][0]\n",
    "        grad += output1[j][1]\n",
    "        \n",
    "    if solver.Aut_Dif:\n",
    "        obj_ad.append(obj)\n",
    "    else:\n",
    "        obj_da.append(obj)\n",
    "    \n",
    "    return obj, grad\n"
   ],
   "outputs": [],
   "metadata": {}
  },
  {
   "cell_type": "markdown",
   "source": [
    "In this case, FWI uses the discrete adjoint wave equation to compute de gradient."
   ],
   "metadata": {}
  },
  {
   "cell_type": "code",
   "execution_count": null,
   "source": [
    "init_vel = _make_vp(V,mesh,vp_guess=True)\n",
    "\n",
    "vmax   = 3.5\n",
    "vmin   = 1.5\n",
    "m0 = init_vel.vector().gather()\n",
    "bounds  = [(vmin,vmax) for _ in range(len(m0))] \n",
    "result_da  = optimize.minimize(getGradObg, m0,method='L-BFGS-B', jac=True, tol = 1e-15, bounds=bounds, options={\"disp\": True,\"eps\": 1e-15, \"gtol\": 1e-15,\"maxiter\": 10})\n",
    "\n",
    "rank = comm.comm.rank\n",
    "size = comm.comm.size\n",
    "\n",
    "vp_da   = Function(V) \n",
    "n    = len(vp.dat.data[:])\n",
    "N    = [comm.comm.bcast(n, r) for r in range(size)]\n",
    "indices = np.insert(np.cumsum(N), 0, 0)\n",
    "vp_da.dat.data[:] = result_da.x[indices[rank] : indices[rank+1]]\n",
    "File(\"guess_velocity_da.pvd\", comm=comm.comm).write(vp_da)\n"
   ],
   "outputs": [],
   "metadata": {}
  },
  {
   "cell_type": "code",
   "execution_count": null,
   "source": [
    "solver.Aut_Dif=True\n",
    "init_vel = _make_vp(V,mesh,vp_guess=True)\n",
    "\n",
    "vmax   = 3.5\n",
    "vmin   = 1.5\n",
    "m0 = init_vel.vector().gather()\n",
    "bounds  = [(vmin,vmax) for _ in range(len(m0))] \n",
    "result_ad  = optimize.minimize(getGradObg, m0,method='L-BFGS-B', jac=True, tol = 1e-15, bounds=bounds, options={\"disp\": True,\"eps\": 1e-15, \"gtol\": 1e-15,\"maxiter\": 10})\n",
    "\n",
    "rank = comm.comm.rank\n",
    "size = comm.comm.size\n",
    "\n",
    "vp_ad   = Function(V) \n",
    "n    = len(vp_ad.dat.data[:])\n",
    "N    = [comm.comm.bcast(n, r) for r in range(size)]\n",
    "indices = np.insert(np.cumsum(N), 0, 0)\n",
    "vp_ad.dat.data[:] = result_ad.x[indices[rank] : indices[rank+1]]\n",
    "File(\"guess_velocity_ad.pvd\", comm=comm.comm).write(vp_ad)\n"
   ],
   "outputs": [],
   "metadata": {}
  },
  {
   "cell_type": "markdown",
   "source": [
    "Running FWI with AD"
   ],
   "metadata": {}
  },
  {
   "cell_type": "code",
   "execution_count": 8,
   "source": [
    "import matplotlib.pyplot as plt\n",
    "import numpy as np\n",
    "\n",
    "iteration_da=np.linspace(0,len(obj_da),num=len(obj_da))\n",
    "iteration_ad=np.linspace(0,len(obj_ad),num=len(obj_ad))\n",
    "plt.plot(iteration_da,obj_da,'k',label=r'Discrete Adj.')\n",
    "plt.plot(iteration_ad,obj_ad,'m',label=r'Aut. Differentiation')\n",
    "plt.ylabel(r'\\Huge{$J(v_p)$}', fontsize=24)\n",
    "plt.xlabel(r'\\Huge{$Iteration$}', fontsize=24)\n",
    "plt.legend(loc='upper right')\n"
   ],
   "outputs": [
    {
     "output_type": "execute_result",
     "data": {
      "text/plain": [
       "<matplotlib.legend.Legend at 0x7f86f76af310>"
      ]
     },
     "metadata": {},
     "execution_count": 8
    },
    {
     "output_type": "display_data",
     "data": {
      "text/plain": [
       "<Figure size 432x288 with 1 Axes>"
      ],
      "image/svg+xml": "<?xml version=\"1.0\" encoding=\"utf-8\" standalone=\"no\"?>\n<!DOCTYPE svg PUBLIC \"-//W3C//DTD SVG 1.1//EN\"\n  \"http://www.w3.org/Graphics/SVG/1.1/DTD/svg11.dtd\">\n<svg height=\"272.950839pt\" version=\"1.1\" viewBox=\"0 0 401.447711 272.950839\" width=\"401.447711pt\" xmlns=\"http://www.w3.org/2000/svg\" xmlns:xlink=\"http://www.w3.org/1999/xlink\">\n <metadata>\n  <rdf:RDF xmlns:cc=\"http://creativecommons.org/ns#\" xmlns:dc=\"http://purl.org/dc/elements/1.1/\" xmlns:rdf=\"http://www.w3.org/1999/02/22-rdf-syntax-ns#\">\n   <cc:Work>\n    <dc:type rdf:resource=\"http://purl.org/dc/dcmitype/StillImage\"/>\n    <dc:date>2021-09-27T15:02:26.993215</dc:date>\n    <dc:format>image/svg+xml</dc:format>\n    <dc:creator>\n     <cc:Agent>\n      <dc:title>Matplotlib v3.4.2, https://matplotlib.org/</dc:title>\n     </cc:Agent>\n    </dc:creator>\n   </cc:Work>\n  </rdf:RDF>\n </metadata>\n <defs>\n  <style type=\"text/css\">*{stroke-linecap:butt;stroke-linejoin:round;}</style>\n </defs>\n <g id=\"figure_1\">\n  <g id=\"patch_1\">\n   <path d=\"M 0 272.950839 \nL 401.447711 272.950839 \nL 401.447711 0 \nL 0 0 \nz\n\" style=\"fill:none;\"/>\n  </g>\n  <g id=\"axes_1\">\n   <g id=\"patch_2\">\n    <path d=\"M 59.447711 224.64 \nL 394.247711 224.64 \nL 394.247711 7.2 \nL 59.447711 7.2 \nz\n\" style=\"fill:#ffffff;\"/>\n   </g>\n   <g id=\"matplotlib.axis_1\">\n    <g id=\"xtick_1\">\n     <g id=\"line2d_1\">\n      <defs>\n       <path d=\"M 0 0 \nL 0 3.5 \n\" id=\"mf226d7a849\" style=\"stroke:#000000;stroke-width:0.8;\"/>\n      </defs>\n      <g>\n       <use style=\"stroke:#000000;stroke-width:0.8;\" x=\"74.665892\" xlink:href=\"#mf226d7a849\" y=\"224.64\"/>\n      </g>\n     </g>\n     <g id=\"text_1\">\n      <!-- $\\mathdefault{0}$ -->\n      <g transform=\"translate(72.175225 238.558498)scale(0.1 -0.1)\">\n       <defs>\n        <path d=\"M 2688 2025 \nC 2688 2416 2682 3080 2413 3591 \nC 2176 4039 1798 4198 1466 4198 \nC 1158 4198 768 4058 525 3597 \nC 269 3118 243 2524 243 2025 \nC 243 1661 250 1106 448 619 \nC 723 -39 1216 -128 1466 -128 \nC 1760 -128 2208 -7 2470 600 \nC 2662 1042 2688 1559 2688 2025 \nz\nM 1466 -26 \nC 1056 -26 813 325 723 812 \nC 653 1188 653 1738 653 2096 \nC 653 2588 653 2997 736 3387 \nC 858 3929 1216 4096 1466 4096 \nC 1728 4096 2067 3923 2189 3400 \nC 2272 3036 2278 2607 2278 2096 \nC 2278 1680 2278 1169 2202 792 \nC 2067 95 1690 -26 1466 -26 \nz\n\" id=\"CMR17-30\" transform=\"scale(0.015625)\"/>\n       </defs>\n       <use transform=\"scale(0.996264)\" xlink:href=\"#CMR17-30\"/>\n      </g>\n     </g>\n    </g>\n    <g id=\"xtick_2\">\n     <g id=\"line2d_2\">\n      <g>\n       <use style=\"stroke:#000000;stroke-width:0.8;\" x=\"131.029529\" xlink:href=\"#mf226d7a849\" y=\"224.64\"/>\n      </g>\n     </g>\n     <g id=\"text_2\">\n      <!-- $\\mathdefault{5}$ -->\n      <g transform=\"translate(128.538861 238.558498)scale(0.1 -0.1)\">\n       <defs>\n        <path d=\"M 730 3692 \nC 794 3666 1056 3584 1325 3584 \nC 1920 3584 2246 3911 2432 4100 \nC 2432 4157 2432 4192 2394 4192 \nC 2387 4192 2374 4192 2323 4163 \nC 2099 4058 1837 3973 1517 3973 \nC 1325 3973 1037 3999 723 4139 \nC 653 4171 640 4171 634 4171 \nC 602 4171 595 4164 595 4037 \nL 595 2203 \nC 595 2089 595 2057 659 2057 \nC 691 2057 704 2070 736 2114 \nC 941 2401 1222 2522 1542 2522 \nC 1766 2522 2246 2382 2246 1289 \nC 2246 1085 2246 715 2054 421 \nC 1894 159 1645 25 1370 25 \nC 947 25 518 320 403 814 \nC 429 807 480 795 506 795 \nC 589 795 749 840 749 1038 \nC 749 1210 627 1280 506 1280 \nC 358 1280 262 1190 262 1011 \nC 262 454 704 -128 1382 -128 \nC 2042 -128 2669 440 2669 1264 \nC 2669 2030 2170 2624 1549 2624 \nC 1222 2624 947 2503 730 2274 \nL 730 3692 \nz\n\" id=\"CMR17-35\" transform=\"scale(0.015625)\"/>\n       </defs>\n       <use transform=\"scale(0.996264)\" xlink:href=\"#CMR17-35\"/>\n      </g>\n     </g>\n    </g>\n    <g id=\"xtick_3\">\n     <g id=\"line2d_3\">\n      <g>\n       <use style=\"stroke:#000000;stroke-width:0.8;\" x=\"187.393165\" xlink:href=\"#mf226d7a849\" y=\"224.64\"/>\n      </g>\n     </g>\n     <g id=\"text_3\">\n      <!-- $\\mathdefault{10}$ -->\n      <g transform=\"translate(182.41183 238.558498)scale(0.1 -0.1)\">\n       <defs>\n        <path d=\"M 1702 4058 \nC 1702 4192 1696 4192 1606 4192 \nC 1357 3916 979 3827 621 3827 \nC 602 3827 570 3827 563 3808 \nC 557 3795 557 3782 557 3648 \nC 755 3648 1088 3686 1344 3839 \nL 1344 461 \nC 1344 236 1331 160 781 160 \nL 589 160 \nL 589 0 \nC 896 0 1216 0 1523 0 \nC 1830 0 2150 0 2458 0 \nL 2458 160 \nL 2266 160 \nC 1715 160 1702 230 1702 458 \nL 1702 4058 \nz\n\" id=\"CMR17-31\" transform=\"scale(0.015625)\"/>\n       </defs>\n       <use transform=\"scale(0.996264)\" xlink:href=\"#CMR17-31\"/>\n       <use transform=\"translate(45.690477 0)scale(0.996264)\" xlink:href=\"#CMR17-30\"/>\n      </g>\n     </g>\n    </g>\n    <g id=\"xtick_4\">\n     <g id=\"line2d_4\">\n      <g>\n       <use style=\"stroke:#000000;stroke-width:0.8;\" x=\"243.756802\" xlink:href=\"#mf226d7a849\" y=\"224.64\"/>\n      </g>\n     </g>\n     <g id=\"text_4\">\n      <!-- $\\mathdefault{15}$ -->\n      <g transform=\"translate(238.775466 238.558498)scale(0.1 -0.1)\">\n       <use transform=\"scale(0.996264)\" xlink:href=\"#CMR17-31\"/>\n       <use transform=\"translate(45.690477 0)scale(0.996264)\" xlink:href=\"#CMR17-35\"/>\n      </g>\n     </g>\n    </g>\n    <g id=\"xtick_5\">\n     <g id=\"line2d_5\">\n      <g>\n       <use style=\"stroke:#000000;stroke-width:0.8;\" x=\"300.120438\" xlink:href=\"#mf226d7a849\" y=\"224.64\"/>\n      </g>\n     </g>\n     <g id=\"text_5\">\n      <!-- $\\mathdefault{20}$ -->\n      <g transform=\"translate(295.139103 238.558498)scale(0.1 -0.1)\">\n       <defs>\n        <path d=\"M 2669 989 \nL 2554 989 \nC 2490 536 2438 459 2413 420 \nC 2381 369 1920 369 1830 369 \nL 602 369 \nC 832 619 1280 1072 1824 1597 \nC 2214 1967 2669 2402 2669 3035 \nC 2669 3790 2067 4224 1395 4224 \nC 691 4224 262 3604 262 3030 \nC 262 2780 448 2748 525 2748 \nC 589 2748 781 2787 781 3010 \nC 781 3207 614 3264 525 3264 \nC 486 3264 448 3258 422 3245 \nC 544 3790 915 4058 1306 4058 \nC 1862 4058 2227 3617 2227 3035 \nC 2227 2479 1901 2000 1536 1584 \nL 262 146 \nL 262 0 \nL 2515 0 \nL 2669 989 \nz\n\" id=\"CMR17-32\" transform=\"scale(0.015625)\"/>\n       </defs>\n       <use transform=\"scale(0.996264)\" xlink:href=\"#CMR17-32\"/>\n       <use transform=\"translate(45.690477 0)scale(0.996264)\" xlink:href=\"#CMR17-30\"/>\n      </g>\n     </g>\n    </g>\n    <g id=\"xtick_6\">\n     <g id=\"line2d_6\">\n      <g>\n       <use style=\"stroke:#000000;stroke-width:0.8;\" x=\"356.484074\" xlink:href=\"#mf226d7a849\" y=\"224.64\"/>\n      </g>\n     </g>\n     <g id=\"text_6\">\n      <!-- $\\mathdefault{25}$ -->\n      <g transform=\"translate(351.502739 238.558498)scale(0.1 -0.1)\">\n       <use transform=\"scale(0.996264)\" xlink:href=\"#CMR17-32\"/>\n       <use transform=\"translate(45.690477 0)scale(0.996264)\" xlink:href=\"#CMR17-35\"/>\n      </g>\n     </g>\n    </g>\n    <g id=\"text_7\">\n     <!-- \\Huge{$Iteration$} -->\n     <g transform=\"translate(176.738972 261.100082)scale(0.24 -0.24)\">\n      <defs>\n       <path d=\"M 2355 3880 \nC 2413 4103 2426 4167 2893 4167 \nC 3034 4167 3085 4167 3085 4288 \nC 3085 4352 3014 4352 2995 4352 \nC 2880 4352 2739 4352 2624 4352 \nL 1837 4352 \nC 1709 4352 1562 4352 1434 4352 \nC 1382 4352 1312 4352 1312 4231 \nC 1312 4167 1363 4167 1491 4167 \nC 1888 4167 1888 4116 1888 4046 \nC 1888 4002 1875 3963 1862 3906 \nL 998 472 \nC 941 249 928 185 461 185 \nC 320 185 262 185 262 64 \nC 262 0 326 0 358 0 \nC 474 0 614 0 730 0 \nL 1517 0 \nC 1645 0 1786 0 1914 0 \nC 1965 0 2042 0 2042 115 \nC 2042 185 2003 185 1862 185 \nC 1466 185 1466 236 1466 312 \nC 1466 325 1466 357 1491 459 \nL 2355 3880 \nz\n\" id=\"CMMI12-49\" transform=\"scale(0.015625)\"/>\n       <path d=\"M 1286 2566 \nL 1875 2566 \nC 1997 2566 2061 2566 2061 2681 \nC 2061 2752 2022 2752 1894 2752 \nL 1331 2752 \nL 1568 3692 \nC 1594 3781 1594 3794 1594 3840 \nC 1594 3943 1510 4000 1427 4000 \nC 1376 4000 1229 3981 1178 3775 \nL 928 2752 \nL 326 2752 \nC 198 2752 141 2752 141 2630 \nC 141 2566 186 2566 307 2566 \nL 877 2566 \nL 454 881 \nC 403 658 384 594 384 511 \nC 384 211 595 -64 954 -64 \nC 1600 -64 1946 868 1946 912 \nC 1946 951 1920 970 1882 970 \nC 1869 970 1843 970 1830 944 \nC 1824 938 1818 931 1773 829 \nC 1638 511 1344 64 973 64 \nC 781 64 768 224 768 364 \nC 768 370 768 492 787 568 \nL 1286 2566 \nz\n\" id=\"CMMI12-74\" transform=\"scale(0.015625)\"/>\n       <path d=\"M 1146 1479 \nC 1318 1479 1754 1479 2061 1595 \nC 2547 1783 2592 2158 2592 2274 \nC 2592 2558 2349 2816 1926 2816 \nC 1254 2816 288 2210 288 1073 \nC 288 402 672 -64 1254 -64 \nC 2125 -64 2675 609 2675 692 \nC 2675 730 2637 762 2611 762 \nC 2592 762 2586 756 2528 699 \nC 2118 159 1510 64 1267 64 \nC 902 64 710 350 710 822 \nC 710 911 710 1071 806 1479 \nL 1146 1479 \nz\nM 838 1600 \nC 1114 2592 1722 2689 1926 2689 \nC 2208 2689 2400 2522 2400 2277 \nC 2400 1600 1376 1600 1107 1600 \nL 838 1600 \nz\n\" id=\"CMMI12-65\" transform=\"scale(0.015625)\"/>\n       <path d=\"M 2490 2612 \nC 2291 2574 2189 2433 2189 2293 \nC 2189 2139 2310 2088 2400 2088 \nC 2579 2088 2726 2242 2726 2433 \nC 2726 2638 2528 2816 2208 2816 \nC 1952 2816 1658 2701 1389 2312 \nC 1344 2650 1088 2816 832 2816 \nC 582 2816 454 2625 378 2484 \nC 269 2254 173 1871 173 1839 \nC 173 1814 198 1782 243 1782 \nC 294 1782 301 1788 339 1935 \nC 435 2318 557 2689 813 2689 \nC 966 2689 1011 2580 1011 2395 \nC 1011 2254 947 2005 902 1807 \nL 723 1118 \nC 698 996 627 709 595 594 \nC 550 428 480 128 480 96 \nC 480 6 550 -64 646 -64 \nC 717 -64 838 -19 877 109 \nC 896 160 1133 1124 1171 1271 \nC 1203 1411 1242 1546 1274 1686 \nC 1299 1775 1325 1878 1344 1961 \nC 1363 2018 1536 2331 1696 2472 \nC 1773 2542 1939 2689 2202 2689 \nC 2304 2689 2406 2670 2490 2612 \nz\n\" id=\"CMMI12-72\" transform=\"scale(0.015625)\"/>\n       <path d=\"M 1926 760 \nC 1894 651 1894 639 1805 517 \nC 1664 338 1382 64 1082 64 \nC 819 64 672 300 672 677 \nC 672 1028 870 1743 992 2012 \nC 1210 2459 1510 2689 1760 2689 \nC 2182 2689 2266 2165 2266 2114 \nC 2266 2108 2246 2024 2240 2012 \nL 1926 760 \nz\nM 2336 2395 \nC 2266 2561 2093 2816 1760 2816 \nC 1037 2816 256 1884 256 939 \nC 256 307 627 -64 1062 -64 \nC 1414 -64 1715 211 1894 422 \nC 1958 45 2259 -64 2451 -64 \nC 2643 -64 2797 51 2912 281 \nC 3014 498 3104 888 3104 913 \nC 3104 945 3078 971 3040 971 \nC 2982 971 2976 939 2950 843 \nC 2854 466 2733 64 2470 64 \nC 2285 64 2272 230 2272 358 \nC 2272 505 2291 575 2349 824 \nC 2394 984 2426 1124 2477 1309 \nC 2714 2267 2771 2497 2771 2535 \nC 2771 2625 2701 2695 2605 2695 \nC 2400 2695 2349 2472 2336 2395 \nz\n\" id=\"CMMI12-61\" transform=\"scale(0.015625)\"/>\n       <path d=\"M 1811 913 \nC 1811 945 1786 971 1747 971 \nC 1690 971 1683 952 1651 843 \nC 1485 262 1222 64 1011 64 \nC 934 64 845 83 845 275 \nC 845 447 922 639 992 830 \nL 1440 2018 \nC 1459 2069 1504 2184 1504 2305 \nC 1504 2574 1312 2816 998 2816 \nC 410 2816 173 1890 173 1839 \nC 173 1814 198 1782 243 1782 \nC 301 1782 307 1807 333 1896 \nC 486 2428 730 2682 979 2682 \nC 1037 2682 1146 2682 1146 2478 \nC 1146 2312 1062 2101 1011 1961 \nL 563 773 \nC 525 671 486 568 486 453 \nC 486 166 685 -64 992 -64 \nC 1581 -64 1811 869 1811 913 \nz\nM 1760 4013 \nC 1760 4109 1683 4224 1542 4224 \nC 1395 4224 1229 4083 1229 3917 \nC 1229 3758 1363 3707 1440 3707 \nC 1613 3707 1760 3873 1760 4013 \nz\n\" id=\"CMMI12-69\" transform=\"scale(0.015625)\"/>\n       <path d=\"M 2918 1756 \nC 2918 2363 2522 2816 1939 2816 \nC 1094 2816 262 1897 262 996 \nC 262 390 659 -64 1242 -64 \nC 2093 -64 2918 856 2918 1756 \nz\nM 1248 64 \nC 928 64 691 319 691 766 \nC 691 1060 845 1712 1024 2031 \nC 1312 2523 1670 2689 1933 2689 \nC 2246 2689 2490 2433 2490 1986 \nC 2490 1731 2355 1047 2112 658 \nC 1850 230 1498 64 1248 64 \nz\n\" id=\"CMMI12-6f\" transform=\"scale(0.015625)\"/>\n       <path d=\"M 1318 1871 \nC 1331 1910 1491 2229 1728 2433 \nC 1894 2586 2112 2689 2362 2689 \nC 2618 2689 2707 2497 2707 2242 \nC 2707 1878 2445 1150 2317 805 \nC 2259 651 2227 568 2227 453 \nC 2227 166 2426 -64 2733 -64 \nC 3328 -64 3552 875 3552 913 \nC 3552 945 3526 971 3488 971 \nC 3430 971 3424 952 3392 843 \nC 3245 319 3002 64 2752 64 \nC 2688 64 2586 64 2586 269 \nC 2586 429 2656 621 2694 710 \nC 2822 1063 3091 1780 3091 2145 \nC 3091 2528 2867 2816 2381 2816 \nC 1811 2816 1510 2415 1395 2255 \nC 1376 2618 1114 2816 832 2816 \nC 627 2816 486 2695 378 2478 \nC 262 2248 173 1865 173 1839 \nC 173 1814 198 1782 243 1782 \nC 294 1782 301 1788 339 1935 \nC 442 2325 557 2689 813 2689 \nC 960 2689 1011 2586 1011 2395 \nC 1011 2254 947 2005 902 1807 \nL 723 1118 \nC 698 996 627 709 595 594 \nC 550 428 480 128 480 96 \nC 480 6 550 -64 646 -64 \nC 723 -64 813 -26 864 70 \nC 877 102 934 326 966 453 \nL 1107 1028 \nL 1318 1871 \nz\n\" id=\"CMMI12-6e\" transform=\"scale(0.015625)\"/>\n      </defs>\n      <use transform=\"scale(0.247871)\" xlink:href=\"#CMMI12-49\"/>\n      <use transform=\"translate(12.653097 0)scale(0.247871)\" xlink:href=\"#CMMI12-74\"/>\n      <use transform=\"translate(21.417396 0)scale(0.247871)\" xlink:href=\"#CMMI12-65\"/>\n      <use transform=\"translate(32.666137 0)scale(0.247871)\" xlink:href=\"#CMMI12-72\"/>\n      <use transform=\"translate(44.277775 0)scale(0.247871)\" xlink:href=\"#CMMI12-61\"/>\n      <use transform=\"translate(57.018283 0)scale(0.247871)\" xlink:href=\"#CMMI12-74\"/>\n      <use transform=\"translate(65.782582 0)scale(0.247871)\" xlink:href=\"#CMMI12-69\"/>\n      <use transform=\"translate(74.062293 0)scale(0.247871)\" xlink:href=\"#CMMI12-6f\"/>\n      <use transform=\"translate(85.729844 0)scale(0.247871)\" xlink:href=\"#CMMI12-6e\"/>\n     </g>\n    </g>\n   </g>\n   <g id=\"matplotlib.axis_2\">\n    <g id=\"ytick_1\">\n     <g id=\"line2d_7\">\n      <defs>\n       <path d=\"M 0 0 \nL -3.5 0 \n\" id=\"m0841e0a2b6\" style=\"stroke:#000000;stroke-width:0.8;\"/>\n      </defs>\n      <g>\n       <use style=\"stroke:#000000;stroke-width:0.8;\" x=\"59.447711\" xlink:href=\"#m0841e0a2b6\" y=\"196.248537\"/>\n      </g>\n     </g>\n     <g id=\"text_8\">\n      <!-- $\\mathdefault{500}$ -->\n      <g transform=\"translate(37.503705 199.707787)scale(0.1 -0.1)\">\n       <use transform=\"scale(0.996264)\" xlink:href=\"#CMR17-35\"/>\n       <use transform=\"translate(45.690477 0)scale(0.996264)\" xlink:href=\"#CMR17-30\"/>\n       <use transform=\"translate(91.380954 0)scale(0.996264)\" xlink:href=\"#CMR17-30\"/>\n      </g>\n     </g>\n    </g>\n    <g id=\"ytick_2\">\n     <g id=\"line2d_8\">\n      <g>\n       <use style=\"stroke:#000000;stroke-width:0.8;\" x=\"59.447711\" xlink:href=\"#m0841e0a2b6\" y=\"160.621476\"/>\n      </g>\n     </g>\n     <g id=\"text_9\">\n      <!-- $\\mathdefault{550}$ -->\n      <g transform=\"translate(37.503705 164.080725)scale(0.1 -0.1)\">\n       <use transform=\"scale(0.996264)\" xlink:href=\"#CMR17-35\"/>\n       <use transform=\"translate(45.690477 0)scale(0.996264)\" xlink:href=\"#CMR17-35\"/>\n       <use transform=\"translate(91.380954 0)scale(0.996264)\" xlink:href=\"#CMR17-30\"/>\n      </g>\n     </g>\n    </g>\n    <g id=\"ytick_3\">\n     <g id=\"line2d_9\">\n      <g>\n       <use style=\"stroke:#000000;stroke-width:0.8;\" x=\"59.447711\" xlink:href=\"#m0841e0a2b6\" y=\"124.994414\"/>\n      </g>\n     </g>\n     <g id=\"text_10\">\n      <!-- $\\mathdefault{600}$ -->\n      <g transform=\"translate(37.503705 128.453663)scale(0.1 -0.1)\">\n       <defs>\n        <path d=\"M 678 2176 \nC 678 3690 1395 4032 1811 4032 \nC 1946 4032 2272 4009 2400 3776 \nC 2298 3776 2106 3776 2106 3553 \nC 2106 3381 2246 3323 2336 3323 \nC 2394 3323 2566 3348 2566 3560 \nC 2566 3954 2246 4179 1805 4179 \nC 1043 4179 243 3390 243 1984 \nC 243 253 966 -128 1478 -128 \nC 2099 -128 2688 427 2688 1283 \nC 2688 2081 2170 2662 1517 2662 \nC 1126 2662 838 2407 678 1960 \nL 678 2176 \nz\nM 1478 25 \nC 691 25 691 1200 691 1436 \nC 691 1896 909 2560 1504 2560 \nC 1613 2560 1926 2560 2138 2120 \nC 2253 1870 2253 1609 2253 1289 \nC 2253 944 2253 690 2118 434 \nC 1978 171 1773 25 1478 25 \nz\n\" id=\"CMR17-36\" transform=\"scale(0.015625)\"/>\n       </defs>\n       <use transform=\"scale(0.996264)\" xlink:href=\"#CMR17-36\"/>\n       <use transform=\"translate(45.690477 0)scale(0.996264)\" xlink:href=\"#CMR17-30\"/>\n       <use transform=\"translate(91.380954 0)scale(0.996264)\" xlink:href=\"#CMR17-30\"/>\n      </g>\n     </g>\n    </g>\n    <g id=\"ytick_4\">\n     <g id=\"line2d_10\">\n      <g>\n       <use style=\"stroke:#000000;stroke-width:0.8;\" x=\"59.447711\" xlink:href=\"#m0841e0a2b6\" y=\"89.367352\"/>\n      </g>\n     </g>\n     <g id=\"text_11\">\n      <!-- $\\mathdefault{650}$ -->\n      <g transform=\"translate(37.503705 92.826601)scale(0.1 -0.1)\">\n       <use transform=\"scale(0.996264)\" xlink:href=\"#CMR17-36\"/>\n       <use transform=\"translate(45.690477 0)scale(0.996264)\" xlink:href=\"#CMR17-35\"/>\n       <use transform=\"translate(91.380954 0)scale(0.996264)\" xlink:href=\"#CMR17-30\"/>\n      </g>\n     </g>\n    </g>\n    <g id=\"ytick_5\">\n     <g id=\"line2d_11\">\n      <g>\n       <use style=\"stroke:#000000;stroke-width:0.8;\" x=\"59.447711\" xlink:href=\"#m0841e0a2b6\" y=\"53.74029\"/>\n      </g>\n     </g>\n     <g id=\"text_12\">\n      <!-- $\\mathdefault{700}$ -->\n      <g transform=\"translate(37.503705 57.199539)scale(0.1 -0.1)\">\n       <defs>\n        <path d=\"M 2886 3941 \nL 2886 4081 \nL 1382 4081 \nC 634 4081 621 4165 595 4288 \nL 480 4288 \nL 294 3094 \nL 410 3094 \nC 429 3215 474 3540 550 3661 \nC 589 3712 1062 3712 1171 3712 \nL 2579 3712 \nL 1869 2661 \nC 1395 1954 1069 999 1069 165 \nC 1069 89 1069 -128 1299 -128 \nC 1530 -128 1530 89 1530 171 \nL 1530 465 \nC 1530 1508 1709 2196 2003 2636 \nL 2886 3941 \nz\n\" id=\"CMR17-37\" transform=\"scale(0.015625)\"/>\n       </defs>\n       <use transform=\"scale(0.996264)\" xlink:href=\"#CMR17-37\"/>\n       <use transform=\"translate(45.690477 0)scale(0.996264)\" xlink:href=\"#CMR17-30\"/>\n       <use transform=\"translate(91.380954 0)scale(0.996264)\" xlink:href=\"#CMR17-30\"/>\n      </g>\n     </g>\n    </g>\n    <g id=\"ytick_6\">\n     <g id=\"line2d_12\">\n      <g>\n       <use style=\"stroke:#000000;stroke-width:0.8;\" x=\"59.447711\" xlink:href=\"#m0841e0a2b6\" y=\"18.113228\"/>\n      </g>\n     </g>\n     <g id=\"text_13\">\n      <!-- $\\mathdefault{750}$ -->\n      <g transform=\"translate(37.503705 21.572477)scale(0.1 -0.1)\">\n       <use transform=\"scale(0.996264)\" xlink:href=\"#CMR17-37\"/>\n       <use transform=\"translate(45.690477 0)scale(0.996264)\" xlink:href=\"#CMR17-35\"/>\n       <use transform=\"translate(91.380954 0)scale(0.996264)\" xlink:href=\"#CMR17-30\"/>\n      </g>\n     </g>\n    </g>\n    <g id=\"text_14\">\n     <!-- \\Huge{$J(v_p)$} -->\n     <g transform=\"translate(25.767974 143.745723)rotate(-90)scale(0.24 -0.24)\">\n      <defs>\n       <path d=\"M 3418 3912 \nC 3469 4103 3482 4167 3795 4167 \nC 3898 4167 3962 4167 3962 4282 \nC 3962 4352 3904 4352 3878 4352 \nC 3770 4352 3648 4352 3533 4352 \nL 3181 4352 \nC 2912 4352 2630 4352 2362 4352 \nC 2304 4352 2227 4352 2227 4237 \nC 2227 4173 2278 4173 2278 4167 \nL 2438 4167 \nC 2950 4167 2950 4116 2950 4020 \nC 2950 4013 2950 3969 2925 3868 \nL 2189 960 \nC 2022 312 1594 0 1286 0 \nC 1069 0 762 100 685 431 \nC 710 424 742 418 768 418 \nC 979 418 1146 603 1146 788 \nC 1146 890 1082 1024 890 1024 \nC 774 1024 506 961 506 549 \nC 506 151 838 -128 1299 -128 \nC 1882 -128 2509 311 2662 915 \nL 3418 3912 \nz\n\" id=\"CMMI12-4a\" transform=\"scale(0.015625)\"/>\n       <path d=\"M 1958 -1561 \nC 1958 -1555 1958 -1542 1939 -1523 \nC 1645 -1224 858 -407 858 1581 \nC 858 3569 1632 4379 1946 4697 \nC 1946 4704 1958 4717 1958 4736 \nC 1958 4755 1939 4768 1914 4768 \nC 1843 4768 1299 4296 986 3594 \nC 666 2887 576 2199 576 1588 \nC 576 1128 621 351 1005 -471 \nC 1312 -1135 1837 -1600 1914 -1600 \nC 1946 -1600 1958 -1587 1958 -1561 \nz\n\" id=\"CMR17-28\" transform=\"scale(0.015625)\"/>\n       <path d=\"M 2925 2389 \nC 2925 2791 2720 2816 2669 2816 \nC 2515 2816 2374 2663 2374 2535 \nC 2374 2459 2419 2414 2445 2389 \nC 2509 2331 2675 2159 2675 1827 \nC 2675 1558 2291 64 1523 64 \nC 1133 64 1056 390 1056 626 \nC 1056 945 1203 1392 1376 1852 \nC 1478 2114 1504 2178 1504 2305 \nC 1504 2574 1312 2816 998 2816 \nC 410 2816 173 1890 173 1839 \nC 173 1814 198 1782 243 1782 \nC 301 1782 307 1807 333 1897 \nC 486 2446 736 2689 979 2689 \nC 1037 2689 1146 2689 1146 2478 \nC 1146 2312 1075 2127 979 1884 \nC 672 1067 672 869 672 715 \nC 672 575 691 313 890 134 \nC 1120 -64 1440 -64 1498 -64 \nC 2560 -64 2925 2024 2925 2389 \nz\n\" id=\"CMMI12-76\" transform=\"scale(0.015625)\"/>\n       <path d=\"M 275 -789 \nC 230 -980 205 -1031 -58 -1031 \nC -134 -1031 -198 -1031 -198 -1152 \nC -198 -1165 -192 -1216 -122 -1216 \nC -38 -1216 51 -1216 134 -1216 \nL 410 -1216 \nC 544 -1216 870 -1216 1005 -1216 \nC 1043 -1216 1120 -1216 1120 -1101 \nC 1120 -1031 1075 -1031 966 -1031 \nC 672 -1031 653 -987 653 -937 \nC 653 -861 941 219 979 364 \nC 1050 185 1222 -64 1555 -64 \nC 2278 -64 3059 875 3059 1814 \nC 3059 2401 2726 2816 2246 2816 \nC 1837 2816 1491 2420 1421 2331 \nC 1370 2650 1120 2816 864 2816 \nC 678 2816 531 2727 410 2484 \nC 294 2254 205 1865 205 1839 \nC 205 1814 230 1782 275 1782 \nC 326 1782 333 1788 371 1935 \nC 467 2312 589 2689 845 2689 \nC 992 2689 1043 2587 1043 2397 \nC 1043 2245 1024 2181 998 2067 \nL 275 -789 \nz\nM 1382 1993 \nC 1427 2171 1606 2357 1709 2446 \nC 1779 2510 1990 2689 2234 2689 \nC 2515 2689 2643 2408 2643 2076 \nC 2643 1769 2464 1047 2304 715 \nC 2144 370 1850 64 1555 64 \nC 1120 64 1050 613 1050 639 \nC 1050 658 1062 709 1069 741 \nL 1382 1993 \nz\n\" id=\"CMMI12-70\" transform=\"scale(0.015625)\"/>\n       <path d=\"M 1683 1581 \nC 1683 2040 1638 2817 1254 3639 \nC 947 4303 422 4768 346 4768 \nC 326 4768 301 4761 301 4729 \nC 301 4717 307 4710 314 4697 \nC 621 4378 1402 3568 1402 1584 \nC 1402 -407 627 -1217 314 -1537 \nC 307 -1549 301 -1556 301 -1568 \nC 301 -1600 326 -1600 346 -1600 \nC 416 -1600 960 -1128 1274 -426 \nC 1594 281 1683 969 1683 1581 \nz\n\" id=\"CMR17-29\" transform=\"scale(0.015625)\"/>\n      </defs>\n      <use transform=\"scale(0.247871)\" xlink:href=\"#CMMI12-4a\"/>\n      <use transform=\"translate(15.709887 0)scale(0.247871)\" xlink:href=\"#CMR17-28\"/>\n      <use transform=\"translate(24.48773 0)scale(0.247871)\" xlink:href=\"#CMMI12-76\"/>\n      <use transform=\"translate(36.221272 -3.718037)scale(0.206625)\" xlink:href=\"#CMMI12-70\"/>\n      <use transform=\"translate(46.873601 0)scale(0.247871)\" xlink:href=\"#CMR17-29\"/>\n     </g>\n    </g>\n   </g>\n   <g id=\"line2d_13\">\n    <path clip-path=\"url(#p8be7a51fd3)\" d=\"M 74.665892 17.083636 \nL 86.372186 73.052725 \nL 98.07848 90.312043 \nL 109.784774 114.132209 \nL 121.491067 133.91243 \nL 133.197361 145.984257 \nL 144.903655 150.731909 \nL 156.609948 157.486863 \nL 168.316242 161.83702 \nL 180.022536 167.068289 \nL 191.728829 171.001961 \nL 203.435123 175.033876 \nL 215.141417 178.922191 \nL 226.847711 182.045742 \nL 238.554004 184.526972 \nL 250.260298 187.239866 \nL 261.966592 189.069497 \nL 273.672885 190.468795 \nL 285.379179 192.478249 \nL 297.085473 194.226843 \nL 308.791767 196.686527 \nL 320.49806 198.138899 \nL 332.204354 199.000711 \nL 343.910648 199.790849 \nL 355.616941 200.505539 \nL 367.323235 201.704283 \nL 379.029529 203.744406 \n\" style=\"fill:none;stroke:#000000;stroke-linecap:square;stroke-width:1.5;\"/>\n   </g>\n   <g id=\"line2d_14\">\n    <path clip-path=\"url(#p8be7a51fd3)\" d=\"M 74.665892 17.083636 \nL 86.389529 68.129296 \nL 98.113165 90.884519 \nL 109.836802 113.55994 \nL 121.560438 134.856186 \nL 133.284074 151.783289 \nL 145.007711 155.645802 \nL 156.731347 164.030353 \nL 168.454983 169.536445 \nL 180.17862 174.792009 \nL 191.902256 179.525621 \nL 203.625892 184.980536 \nL 215.349529 189.456184 \nL 227.073165 194.989929 \nL 238.796802 198.708904 \nL 250.520438 203.811939 \nL 262.244074 205.264311 \nL 273.967711 206.126123 \nL 285.691347 206.916262 \nL 297.414983 207.630951 \nL 309.13862 208.829695 \nL 320.862256 210.869818 \nL 332.585892 212.389724 \nL 344.309529 213.251535 \nL 356.033165 214.041674 \nL 367.756802 214.756364 \n\" style=\"fill:none;stroke:#bf00bf;stroke-linecap:square;stroke-width:1.5;\"/>\n   </g>\n   <g id=\"patch_3\">\n    <path d=\"M 59.447711 224.64 \nL 59.447711 7.2 \n\" style=\"fill:none;stroke:#000000;stroke-linecap:square;stroke-linejoin:miter;stroke-width:0.8;\"/>\n   </g>\n   <g id=\"patch_4\">\n    <path d=\"M 394.247711 224.64 \nL 394.247711 7.2 \n\" style=\"fill:none;stroke:#000000;stroke-linecap:square;stroke-linejoin:miter;stroke-width:0.8;\"/>\n   </g>\n   <g id=\"patch_5\">\n    <path d=\"M 59.447711 224.64 \nL 394.247711 224.64 \n\" style=\"fill:none;stroke:#000000;stroke-linecap:square;stroke-linejoin:miter;stroke-width:0.8;\"/>\n   </g>\n   <g id=\"patch_6\">\n    <path d=\"M 59.447711 7.2 \nL 394.247711 7.2 \n\" style=\"fill:none;stroke:#000000;stroke-linecap:square;stroke-linejoin:miter;stroke-width:0.8;\"/>\n   </g>\n   <g id=\"legend_1\">\n    <g id=\"patch_7\">\n     <path d=\"M 273.000428 43.074357 \nL 387.247711 43.074357 \nQ 389.247711 43.074357 389.247711 41.074357 \nL 389.247711 14.2 \nQ 389.247711 12.2 387.247711 12.2 \nL 273.000428 12.2 \nQ 271.000428 12.2 271.000428 14.2 \nL 271.000428 41.074357 \nQ 271.000428 43.074357 273.000428 43.074357 \nz\n\" style=\"fill:#ffffff;opacity:0.8;stroke:#cccccc;stroke-linejoin:miter;\"/>\n    </g>\n    <g id=\"line2d_15\">\n     <path d=\"M 275.000428 19.7 \nL 295.000428 19.7 \n\" style=\"fill:none;stroke:#000000;stroke-linecap:square;stroke-width:1.5;\"/>\n    </g>\n    <g id=\"line2d_16\"/>\n    <g id=\"text_15\">\n     <!-- Discrete Adj. -->\n     <g transform=\"translate(303.000428 23.2)scale(0.1 -0.1)\">\n      <defs>\n       <path d=\"M 570 4416 \nL 570 0 \nL 2144 0 \nC 3194 0 4000 980 4000 2170 \nC 4000 3398 3194 4416 2144 4416 \nL 570 4416 \nz\nM 1094 357 \nL 1094 4059 \nL 2003 4059 \nC 2861 4059 3475 3277 3475 2170 \nC 3475 1107 2867 357 2003 357 \nL 1094 357 \nz\n\" id=\"CMSS17-44\" transform=\"scale(0.015625)\"/>\n       <path d=\"M 979 4183 \nL 442 4183 \nL 442 3648 \nL 979 3648 \nL 979 4183 \nz\nM 947 2739 \nL 474 2739 \nL 474 0 \nL 947 0 \nL 947 2739 \nz\n\" id=\"CMSS17-69\" transform=\"scale(0.015625)\"/>\n       <path d=\"M 2061 2627 \nC 1683 2807 1389 2807 1197 2807 \nC 742 2807 198 2648 198 2003 \nC 198 1359 902 1218 1094 1179 \nC 1389 1122 1715 1058 1715 740 \nC 1715 337 1254 337 1171 337 \nC 915 337 563 407 243 638 \nL 166 210 \nC 531 0 883 -64 1178 -64 \nC 1965 -64 2163 416 2163 781 \nC 2163 1094 1984 1305 1862 1401 \nC 1651 1568 1574 1587 1050 1696 \nC 960 1709 646 1779 646 2066 \nC 646 2432 1050 2432 1139 2432 \nC 1555 2432 1811 2303 1984 2208 \nL 2061 2627 \nz\n\" id=\"CMSS17-73\" transform=\"scale(0.015625)\"/>\n       <path d=\"M 2464 2541 \nC 2464 2585 2170 2714 2093 2739 \nC 1882 2816 1613 2816 1542 2816 \nC 710 2816 211 2093 211 1363 \nC 211 595 768 -64 1517 -64 \nC 1946 -64 2253 76 2502 242 \nL 2464 664 \nC 2189 453 1869 337 1523 337 \nC 1024 337 698 774 698 1369 \nC 698 1831 909 2414 1549 2414 \nC 1901 2414 2099 2343 2394 2145 \nL 2464 2541 \nz\n\" id=\"CMSS17-63\" transform=\"scale(0.015625)\"/>\n       <path d=\"M 954 1363 \nC 954 1965 1395 2368 1958 2368 \nL 1958 2789 \nC 1549 2789 1165 2585 934 2253 \nL 934 2758 \nL 480 2758 \nL 480 0 \nL 954 0 \nL 954 1363 \nz\n\" id=\"CMSS17-72\" transform=\"scale(0.015625)\"/>\n       <path d=\"M 2502 1377 \nC 2502 1590 2490 2003 2285 2345 \nC 2061 2713 1696 2816 1421 2816 \nC 755 2816 192 2188 192 1375 \nC 192 582 774 -64 1510 -64 \nC 1798 -64 2150 19 2470 248 \nC 2470 274 2458 414 2451 420 \nC 2451 433 2432 630 2432 656 \nC 2125 407 1773 325 1517 325 \nC 1107 325 666 667 646 1377 \nL 2502 1377 \nz\nM 698 1728 \nC 781 2084 1062 2421 1421 2421 \nC 1517 2421 1965 2421 2080 1728 \nL 698 1728 \nz\n\" id=\"CMSS17-65\" transform=\"scale(0.015625)\"/>\n       <path d=\"M 1069 2368 \nL 1901 2368 \nL 1901 2737 \nL 1069 2737 \nL 1069 3520 \nL 614 3520 \nL 614 2737 \nL 109 2737 \nL 109 2368 \nL 602 2368 \nL 602 749 \nC 602 384 685 -64 1107 -64 \nC 1427 -64 1722 25 2003 172 \nL 1901 548 \nC 1747 414 1562 337 1363 337 \nC 1082 337 1069 696 1069 856 \nL 1069 2368 \nz\n\" id=\"CMSS17-74\" transform=\"scale(0.015625)\"/>\n       <path d=\"M 2272 4416 \nL 1722 4416 \nL 166 0 \nL 653 0 \nL 1101 1280 \nL 2816 1280 \nL 3270 0 \nL 3827 0 \nL 2272 4416 \nz\nM 2694 1637 \nL 1222 1637 \nC 1530 2528 1914 3638 1958 3925 \nL 1965 3925 \nC 2010 3663 2138 3281 2246 2956 \nL 2694 1637 \nz\n\" id=\"CMSS17-41\" transform=\"scale(0.015625)\"/>\n       <path d=\"M 2611 4416 \nL 2138 4416 \nL 2138 2438 \nC 1939 2603 1613 2756 1254 2756 \nC 672 2756 211 2131 211 1347 \nC 211 562 666 -64 1235 -64 \nC 1677 -64 1971 172 2125 306 \nL 2125 -13 \nL 2611 -13 \nL 2611 4416 \nz\nM 2125 836 \nC 2125 747 2125 653 1926 482 \nC 1798 375 1645 325 1498 325 \nC 1152 325 698 576 698 1340 \nC 698 2134 1210 2368 1562 2368 \nC 1798 2368 1990 2254 2125 2065 \nL 2125 836 \nz\n\" id=\"CMSS17-64\" transform=\"scale(0.015625)\"/>\n       <path d=\"M 1114 4224 \nL 576 4224 \nL 576 3689 \nL 1114 3689 \nL 1114 4224 \nz\nM -371 -1064 \nC -166 -1191 83 -1280 352 -1280 \nC 755 -1280 1114 -935 1114 -366 \nL 1114 2767 \nL 640 2767 \nL 640 -425 \nC 640 -815 346 -873 179 -873 \nC 38 -873 -128 -828 -275 -675 \nL -371 -1064 \nz\n\" id=\"CMSS17-6a\" transform=\"scale(0.015625)\"/>\n       <path d=\"M 1088 510 \nL 576 510 \nL 576 0 \nL 1088 0 \nL 1088 510 \nz\n\" id=\"CMSS17-2e\" transform=\"scale(0.015625)\"/>\n      </defs>\n      <use transform=\"scale(0.996264)\" xlink:href=\"#CMSS17-44\"/>\n      <use transform=\"translate(67.542842 0)scale(0.996264)\" xlink:href=\"#CMSS17-69\"/>\n      <use transform=\"translate(89.723565 0)scale(0.996264)\" xlink:href=\"#CMSS17-73\"/>\n      <use transform=\"translate(125.637107 0)scale(0.996264)\" xlink:href=\"#CMSS17-63\"/>\n      <use transform=\"translate(167.275929 0)scale(0.996264)\" xlink:href=\"#CMSS17-72\"/>\n      <use transform=\"translate(199.185701 0)scale(0.996264)\" xlink:href=\"#CMSS17-65\"/>\n      <use transform=\"translate(240.824523 0)scale(0.996264)\" xlink:href=\"#CMSS17-74\"/>\n      <use transform=\"translate(274.65609 0)scale(0.996264)\" xlink:href=\"#CMSS17-65\"/>\n      <use transform=\"translate(347.524025 0)scale(0.996264)\" xlink:href=\"#CMSS17-41\"/>\n      <use transform=\"translate(409.74188 0)scale(0.996264)\" xlink:href=\"#CMSS17-64\"/>\n      <use transform=\"translate(457.946823 0)scale(0.996264)\" xlink:href=\"#CMSS17-6a\"/>\n      <use transform=\"translate(482.729909 0)scale(0.996264)\" xlink:href=\"#CMSS17-2e\"/>\n     </g>\n    </g>\n    <g id=\"line2d_17\">\n     <path d=\"M 275.000428 33.637178 \nL 295.000428 33.637178 \n\" style=\"fill:none;stroke:#bf00bf;stroke-linecap:square;stroke-width:1.5;\"/>\n    </g>\n    <g id=\"line2d_18\"/>\n    <g id=\"text_16\">\n     <!-- Aut. Differentiation -->\n     <g transform=\"translate(303.000428 37.137178)scale(0.1 -0.1)\">\n      <defs>\n       <path d=\"M 2618 2739 \nL 2131 2739 \nL 2131 972 \nC 2131 498 1786 306 1421 306 \nC 998 306 960 447 960 709 \nL 960 2739 \nL 474 2739 \nL 474 678 \nC 474 179 646 -64 1088 -64 \nC 1306 -64 1798 -13 2144 306 \nL 2144 0 \nL 2618 0 \nL 2618 2739 \nz\n\" id=\"CMSS17-75\" transform=\"scale(0.015625)\"/>\n       <path d=\"M 1075 2368 \nL 1734 2368 \nL 1734 2737 \nL 1062 2737 \nL 1062 3559 \nC 1062 4001 1395 4092 1613 4092 \nC 1837 4092 2022 4034 2093 4009 \nL 2093 4429 \nC 2022 4442 1830 4480 1619 4480 \nC 1030 4480 602 3999 602 3359 \nL 602 2737 \nL 160 2737 \nL 160 2368 \nL 602 2368 \nL 602 0 \nL 1075 0 \nL 1075 2368 \nz\nM 2739 2368 \nL 3398 2368 \nL 3398 2737 \nL 2726 2737 \nL 2726 3559 \nC 2726 4001 3059 4092 3277 4092 \nC 3501 4092 3686 4034 3757 4009 \nL 3757 4429 \nC 3686 4442 3494 4480 3283 4480 \nC 2694 4480 2266 4001 2266 3363 \nL 2266 0 \nL 2739 0 \nL 2739 2368 \nz\n\" id=\"CMSS17-b\" transform=\"scale(0.015625)\"/>\n       <path d=\"M 2618 1877 \nC 2618 2283 2522 2816 1798 2816 \nC 1389 2816 1120 2606 941 2389 \nL 941 2758 \nL 474 2758 \nL 474 0 \nL 960 0 \nL 960 1559 \nC 960 1964 1114 2428 1549 2428 \nC 2112 2428 2131 2048 2131 1829 \nL 2131 0 \nL 2618 0 \nL 2618 1877 \nz\n\" id=\"CMSS17-6e\" transform=\"scale(0.015625)\"/>\n       <path d=\"M 2406 1791 \nC 2406 2392 1978 2808 1402 2808 \nC 1120 2808 813 2757 461 2553 \nL 499 2135 \nC 659 2248 934 2432 1395 2432 \nC 1722 2432 1920 2180 1920 1782 \nL 1920 1536 \nC 896 1536 256 1238 256 726 \nC 256 461 416 -64 947 -64 \nC 1043 -64 1562 -64 1933 217 \nL 1933 -19 \nL 2406 -19 \nL 2406 1791 \nz\nM 1920 816 \nC 1920 701 1920 548 1728 434 \nC 1562 325 1350 325 1261 325 \nC 941 325 723 511 723 744 \nC 723 1211 1722 1211 1920 1211 \nL 1920 816 \nz\n\" id=\"CMSS17-61\" transform=\"scale(0.015625)\"/>\n       <path d=\"M 2829 1356 \nC 2829 2176 2221 2816 1504 2816 \nC 768 2816 173 2157 173 1356 \nC 173 544 787 -64 1498 -64 \nC 2227 -64 2829 563 2829 1356 \nz\nM 1504 337 \nC 1050 337 659 709 659 1408 \nC 659 2151 1114 2427 1498 2427 \nC 1914 2427 2342 2126 2342 1408 \nC 2342 683 1926 337 1504 337 \nz\n\" id=\"CMSS17-6f\" transform=\"scale(0.015625)\"/>\n      </defs>\n      <use transform=\"scale(0.996264)\" xlink:href=\"#CMSS17-41\"/>\n      <use transform=\"translate(62.217855 0)scale(0.996264)\" xlink:href=\"#CMSS17-75\"/>\n      <use transform=\"translate(110.422798 0)scale(0.996264)\" xlink:href=\"#CMSS17-74\"/>\n      <use transform=\"translate(144.254365 0)scale(0.996264)\" xlink:href=\"#CMSS17-2e\"/>\n      <use transform=\"translate(211.917376 0)scale(0.996264)\" xlink:href=\"#CMSS17-44\"/>\n      <use transform=\"translate(279.460218 0)scale(0.996264)\" xlink:href=\"#CMSS17-69\"/>\n      <use transform=\"translate(301.640941 0)scale(0.996264)\" xlink:href=\"#CMSS17-b\"/>\n      <use transform=\"translate(356.291911 0)scale(0.996264)\" xlink:href=\"#CMSS17-65\"/>\n      <use transform=\"translate(397.930733 0)scale(0.996264)\" xlink:href=\"#CMSS17-72\"/>\n      <use transform=\"translate(429.840506 0)scale(0.996264)\" xlink:href=\"#CMSS17-65\"/>\n      <use transform=\"translate(471.479328 0)scale(0.996264)\" xlink:href=\"#CMSS17-6e\"/>\n      <use transform=\"translate(519.684271 0)scale(0.996264)\" xlink:href=\"#CMSS17-74\"/>\n      <use transform=\"translate(553.515838 0)scale(0.996264)\" xlink:href=\"#CMSS17-69\"/>\n      <use transform=\"translate(575.696561 0)scale(0.996264)\" xlink:href=\"#CMSS17-61\"/>\n      <use transform=\"translate(620.618481 0)scale(0.996264)\" xlink:href=\"#CMSS17-74\"/>\n      <use transform=\"translate(654.450048 0)scale(0.996264)\" xlink:href=\"#CMSS17-69\"/>\n      <use transform=\"translate(676.630771 0)scale(0.996264)\" xlink:href=\"#CMSS17-6f\"/>\n      <use transform=\"translate(723.474395 0)scale(0.996264)\" xlink:href=\"#CMSS17-6e\"/>\n     </g>\n    </g>\n   </g>\n  </g>\n </g>\n <defs>\n  <clipPath id=\"p8be7a51fd3\">\n   <rect height=\"217.44\" width=\"334.8\" x=\"59.447711\" y=\"7.2\"/>\n  </clipPath>\n </defs>\n</svg>\n",
      "image/png": "[encoded data removed]"
     },
     "metadata": {
      "needs_background": "light"
     }
    }
   ],
   "metadata": {}
  },
  {
   "cell_type": "code",
   "execution_count": null,
   "source": [
    "t_ad = 1163\n",
    "t_da = 140"
   ],
   "outputs": [],
   "metadata": {}
  },
  {
   "cell_type": "markdown",
   "source": [],
   "metadata": {}
  }
 ],
 "metadata": {
  "interpreter": {
   "hash": "8e9dfe748fb877ec2d48c92e3461f4671907b12407bff70f9985d304ad420002"
  },
  "kernelspec": {
   "name": "python3",
   "display_name": "Python 3.8.5 64-bit ('firedrake': venv)"
  },
  "language_info": {
   "codemirror_mode": {
    "name": "ipython",
    "version": 3
   },
   "file_extension": ".py",
   "mimetype": "text/x-python",
   "name": "python",
   "nbconvert_exporter": "python",
   "pygments_lexer": "ipython3",
   "version": "3.8.5"
  }
 },
 "nbformat": 4,
 "nbformat_minor": 4
}