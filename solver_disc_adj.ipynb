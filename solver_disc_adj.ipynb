{
 "cells": [
  {
   "cell_type": "code",
   "execution_count": 1,
   "metadata": {},
   "outputs": [],
   "source": [
    "from firedrake import (\n",
    "    RectangleMesh,\n",
    "    FunctionSpace,\n",
    "    Function,\n",
    "    SpatialCoordinate,\n",
    "    conditional,\n",
    "    File,\n",
    ")"
   ]
  },
  {
   "cell_type": "code",
   "execution_count": 2,
   "metadata": {},
   "outputs": [],
   "source": [
    "from firedrake import *\n",
<<<<<<< HEAD
=======
    "# from firedrake_adjoint import *\n",
>>>>>>> 3f58b38
    "import spyro\n",
    "import numpy as np\n",
    "import math\n",
    "import numpy                  as np\n",
    "import matplotlib.pyplot      as plot\n",
    "import matplotlib.ticker      as mticker  \n",
    "from matplotlib               import cm, ticker\n",
    "from mpl_toolkits.axes_grid1  import make_axes_locatable"
   ]
  },
  {
   "cell_type": "code",
   "execution_count": 3,
   "metadata": {},
   "outputs": [],
   "source": [
<<<<<<< HEAD
    "from __future__ import print_function\n",
    "from firedrake import *\n",
    "import numpy as np\n",
    "import os, sys\n",
    "import spyro\n",
    "import numpy as np\n",
    "import math\n",
    "import matplotlib.pyplot as plot\n",
    "import matplotlib.ticker      as mticker  \n",
    "from matplotlib               import cm\n",
    "from mpl_toolkits.axes_grid1  import make_axes_locatable\n",
    "import memory_profiler\n",
    "\n",
=======
>>>>>>> 3f58b38
    "model = {}\n",
    "\n",
    "# Choose method and parameters\n",
    "model[\"opts\"] = {\n",
    "    \"method\": \"KMV\",  # either CG or KMV\n",
    "    \"quadratrue\": \"KMV\", # Equi or KMV\n",
    "    \"degree\": 1,  # p order\n",
    "    \"dimension\": 2,  # dimension\n",
    "}\n",
    "\n",
    "# Number of cores for the shot. For simplicity, we keep things serial.\n",
    "# spyro however supports both spatial parallelism and \"shot\" parallelism.\n",
    "model[\"parallelism\"] = {\n",
<<<<<<< HEAD
    "    \"type\": \"spatial\",  # options: automatic (same number of cores for evey processor), custom, off.\n",
    "    \"custom_cores_per_shot\": [],  # only if the user wants a different number of cores for every shot.\n",
    "    \"num_cores_per_shot\": 1\n",
=======
    "    \"type\": \"off\",  # options: automatic (same number of cores for evey processor), custom, off.\n",
    "    \"custom_cores_per_shot\": [],  # only if the user wants a different number of cores for every shot.\n",
>>>>>>> 3f58b38
    "    # input is a list of integers with the length of the number of shots.\n",
    "}\n",
    "\n",
    "# Define the domain size without the PML. Here we'll assume a 0.75 x 1.50 km\n",
    "# domain and reserve the remaining 250 m for the Perfectly Matched Layer (PML) to absorb\n",
    "# outgoing waves on three sides (eg., -z, +-x sides) of the domain.\n",
    "model[\"mesh\"] = {\n",
    "    \"Lz\": 0.75,  # depth in km - always positive\n",
    "    \"Lx\": 1.5,  # width in km - always positive\n",
    "    \"Ly\": 0.0,  # thickness in km - always positive\n",
    "    \"meshfile\": \"not_used.msh\",\n",
    "    \"initmodel\": \"not_used.hdf5\",\n",
    "    \"truemodel\": \"not_used.hdf5\",\n",
    "}\n",
    "\n",
<<<<<<< HEAD
    "model[\"BCs\"] = {\n",
    "    \"status\":False,  # True or false\n",
    "    \"outer_bc\": \"non-reflective\",  #  neumann, non-reflective (outer boundary condition)\n",
    "    \"damping_type\": \"polynomial\",  # polynomial. hyperbolic, shifted_hyperbolic\n",
    "    \"exponent\": 1,\n",
    "    \"cmax\": 4.7,  # maximum acoustic wave velocity in PML - km/s\n",
    "    \"R\": 0.001,  # theoretical reflection coefficient\n",
    "    \"lz\": 0.5,  # thickness of the pml in the z-direction (km) - always positive\n",
    "    \"lx\": 0.5,  # thickness of the pml in the x-direction (km) - always positive\n",
    "    \"ly\": 0.0,  # thickness of the pml in the y-direction (km) - always positive\n",
    "}\n",
    "\n",
    "model[\"acquisition\"] = {\n",
    "    \"source_type\": \"Ricker\",\n",
    "    \"num_sources\": 4,\n",
    "    \"source_pos\": spyro.create_transect((0.1, 0.2), (0.1, 0.8), 4),\n",
=======
    "# Specify a 250-m PML on the three sides of the domain to damp outgoing waves.\n",
    "model[\"PML\"] = {\n",
    "    \"status\": False,  # True or false\n",
    "    \"outer_bc\": \"non-reflective\",  #  None or non-reflective (outer boundary condition)\n",
    "    \"damping_type\": \"polynomial\",  # polynomial, hyperbolic, shifted_hyperbolic\n",
    "    \"exponent\": 2,  # damping layer has a exponent variation\n",
    "    \"cmax\": 4.7,  # maximum acoustic wave velocity in PML - km/s\n",
    "    \"R\": 1e-6,  # theoretical reflection coefficient\n",
    "    \"lz\": 0.25,  # thickness of the PML in the z-direction (km) - always positive\n",
    "    \"lx\": 0.25,  # thickness of the PML in the x-direction (km) - always positive\n",
    "    \"ly\": 0.0,  # thickness of the PML in the y-direction (km) - always positive\n",
    "}\n",
    "\n",
    "# Create a source injection operator. Here we use a single source with a\n",
    "# Ricker wavelet that has a peak frequency of 8 Hz injected at the center of the mesh.\n",
    "# We also specify to record the solution at 101 microphones near the top of the domain.\n",
    "# This transect of receivers is created with the helper function `create_transect`.\n",
    "model[\"acquisition\"] = {\n",
    "    \"source_type\": \"Ricker\",\n",
    "    \"num_sources\": 1,\n",
    "    \"source_pos\": [(0.1, 0.5)],\n",
>>>>>>> 3f58b38
    "    \"frequency\": 3.0,\n",
    "    \"delay\": 1.0,\n",
    "    \"num_receivers\": 100,\n",
    "    \"receiver_locations\": spyro.create_transect(\n",
    "        (0.10, 0.1), (0.10, 0.9), 100\n",
    "    ),\n",
    "}\n",
    "\n",
    "# Simulate for 2.0 seconds.\n",
    "model[\"timeaxis\"] = {\n",
    "    \"t0\": 0.0,  #  Initial time for event\n",
    "    \"tf\": 1.00,  # Final time for event\n",
    "    \"dt\": 0.001,  # timestep size\n",
    "    \"amplitude\": 1,  # the Ricker has an amplitude of 1.\n",
    "    \"nspool\": 100,  # how frequently to output solution to pvds\n",
<<<<<<< HEAD
    "    \"fspool\": 100,  # how frequently to save solution to RAM\n",
    "}\n",
    "\n",
    "\n",
    "num_rec = model[\"acquisition\"][\"num_receivers\"]\n",
    "δs = np.linspace(0.1, 0.9, num_rec)\n",
    "X, Y = np.meshgrid(0.1, δs)\n",
    "xs = np.vstack((X.flatten(), Y.flatten())).T\n",
    "mesh = RectangleMesh(100, 100, 1.0, 1.0)"
=======
    "    \"fspool\": 1,  # how frequently to save solution to RAM\n",
    "}\n",
    "\n",
    "\n"
>>>>>>> 3f58b38
   ]
  },
  {
   "cell_type": "code",
   "execution_count": 4,
   "metadata": {},
   "outputs": [],
   "source": [
<<<<<<< HEAD
=======
    "mesh = RectangleMesh(100, 100, 1.0, 1.0)\n",
    "# V    = FunctionSpace(mesh, family='CG', degree=2)\n",
>>>>>>> 3f58b38
    "# Create the computational environment\n",
    "comm = spyro.utils.mpi_init(model)\n",
    "\n",
    "element = spyro.domains.space.FE_method(\n",
    "    mesh, model[\"opts\"][\"method\"], model[\"opts\"][\"degree\"]\n",
    ")\n",
<<<<<<< HEAD
    "V = FunctionSpace(mesh, element)\n",
    "\n",
    "x, y = SpatialCoordinate(mesh)\n",
    "velocity = conditional(x > 0.35, 1.5, 3)\n",
    "vp   = Function(V, name=\"vp\").interpolate(velocity)\n"
=======
    "V = FunctionSpace(mesh, element)\n"
>>>>>>> 3f58b38
   ]
  },
  {
   "cell_type": "code",
   "execution_count": 5,
   "metadata": {},
   "outputs": [],
   "source": [
<<<<<<< HEAD
    "sources = spyro.Sources(model, mesh, V, comm).create()\n",
    "tf   = model[\"timeaxis\"][\"tf\"] \n",
    "dt   = model[\"timeaxis\"][\"dt\"]\n",
    "freq = model[\"acquisition\"][\"frequency\"]\n",
    "\n",
    "receivers = spyro.Receivers(model, mesh, V, comm).create()\n",
    "wavelet = spyro.full_ricker_wavelet(dt=dt, tf=tf, freq=freq)\n",
    "\n"
=======
    "x, y = SpatialCoordinate(mesh)\n",
    "velocity = conditional(x > 0.35, 1.5, 3.0)\n",
    "\n",
    "vp = Function(V, name=\"vp\").interpolate(velocity)\n"
>>>>>>> 3f58b38
   ]
  },
  {
   "cell_type": "code",
   "execution_count": 6,
   "metadata": {},
<<<<<<< HEAD
=======
   "outputs": [],
   "source": [
    "sources   = spyro.Sources(model, mesh, V, comm).create()\n",
    "receivers = spyro.Receivers(model, mesh, V, comm).create()\n"
   ]
  },
  {
   "cell_type": "code",
   "execution_count": 7,
   "metadata": {},
>>>>>>> 3f58b38
   "outputs": [
    {
     "name": "stdout",
     "output_type": "stream",
     "text": [
<<<<<<< HEAD
=======
      "Simulation time is:        0.0 seconds\n",
>>>>>>> 3f58b38
      "Simulation time is:      0.099 seconds\n",
      "Simulation time is:      0.199 seconds\n",
      "Simulation time is:      0.299 seconds\n",
      "Simulation time is:      0.399 seconds\n",
      "Simulation time is:      0.499 seconds\n",
      "Simulation time is:      0.599 seconds\n",
      "Simulation time is:      0.699 seconds\n",
      "Simulation time is:      0.799 seconds\n",
<<<<<<< HEAD
      "Simulation time is:      0.899 seconds\n"
=======
      "Simulation time is:      0.899 seconds\n",
      "---------------------------------------------------------------\n"
>>>>>>> 3f58b38
     ]
    }
   ],
   "source": [
<<<<<<< HEAD
    "solver         = spyro.solvers.forward\n",
    "\n",
    "J = 0\n",
    "usol_rec = []\n",
    "dJdm = Function(V)\n",
    "# for sn in range(0,model[\"acquisition\"][\"num_sources\"]):\n",
    "usol, aux1  = solver(model, mesh, comm, vp, sources, wavelet, receivers, source_num=0)\n",
    "#     J += aux0\n",
    "usol_rec.append(aux1)\n"
=======
    "solver      = spyro.solvers.Leapfrog\n",
    "usol, usol_rec = solver(model, mesh, comm, vp,sources, receivers, source_num=0)"
   ]
  },
  {
   "cell_type": "code",
   "execution_count": 8,
   "metadata": {},
   "outputs": [
    {
     "name": "stdout",
     "output_type": "stream",
     "text": [
      "Computing the functional...\n"
     ]
    }
   ],
   "source": [
    "misfit = usol_rec\n",
    "\n",
    "J_total = spyro.utils.compute_functional(model, comm, misfit)\n"
>>>>>>> 3f58b38
   ]
  },
  {
   "cell_type": "code",
<<<<<<< HEAD
   "execution_count": 7,
=======
   "execution_count": 12,
>>>>>>> 3f58b38
   "metadata": {},
   "outputs": [
    {
     "data": {
<<<<<<< HEAD
      "image/png": "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\n",
=======
      "image/png": "iVBORw0KGgoAAAANSUhEUgAAAeIAAAEtCAYAAADUV2PCAAAAOXRFWHRTb2Z0d2FyZQBNYXRwbG90bGliIHZlcnNpb24zLjQuMSwgaHR0cHM6Ly9tYXRwbG90bGliLm9yZy/Z1A+gAAAACXBIWXMAAAsTAAALEwEAmpwYAAA0rklEQVR4nO3debhcVZ3u8e8LAiEEQQiCCcrUCAgKmDDa1wZERWhaQOkGRBoRuCqo0KDNIIOCgCKDcLlKGARkuMgsQoOABFGGDBAGhcgUxASBMEkIYfzdP9YusrNT4zlVZ1edej/Ps586tfbae62qU6d+Z6299lqKCMzMzKwci5RdATMzs37mQGxmZlYiB2IzM7MSORCbmZmVyIHYzMysRA7EZmZmJXIgNjMzK1HpgVjSIpIOlPSwpHmSnpJ0kqSlOnG8pG0l3SHpVUkvSLpM0mrtfVVmZtYMSUdLijrbmx0qdw9J90p6TdIzks6WtEIhzwhJ+0i6RtKMLO/jki6RtE7b6lL2hB6Sfgp8C7gK+B9gHeCbwO3A1hHxTruOl7QTcDlwH3AWsAxwAPA2MD4iZrXztZmZWX2SPgZ8rMqujwHfAa6KiJ3aXOaBwMnAbcDFwMrAfwFPAhtHxKtZvrWBh4A/AL8FZgGrA18HlgK2iYhbB12hiChtA9YF3gGuKKR/Ewhgt3YdDywGzMze6FG59A1IgXhCme+FN2/evHmbvwFnZt/j27X5vKOBV4FJwKK59O2z8g7LpS0PbFDlHB8BXgemtKNOZXdN7woIOLWQfhYwF9i9jcf/CzAGODsi5lQSI2IaMBH4D0mLtVJ5MzNrv+zS4i7A34AbCvvGS7pK0mxJr0uaLulwSe9p8vQ7ACOB0yPi7UpiRFwLPE4ubkTE81mMWEBE/Bl4EFivtVdWXdmBeCNSi3ZSPjEi5gHTsv3tOr7y851VznMX8F7gw81V28zMOmhn0nfyeflgKWk74I+k7+qTSJcl7wR+AFzS5LkbxYK1JY2qdwJJiwAfAJ5pssy6yg7EY4DZEfF6lX0zgdGSFm/T8WNy6dXyAoxtos5mZtZZXyV1E59bSZA0AjgHuBtYPyKOj4gzI2JP4GDgi5K2aOLcjWKBcnlq+RopEJ/fRHkNNduU75SRpH72aubl8rzRhuNHZs+r5c/nXYikfYF9s6fjapRnZjZczI6IFQC22WabmD179oBPNHXq1D8x/zsW0nicCbXyS1oL+Gfgloh4Irfr08CKwKHAspLyh11PGnz1GdKlxnoGHAuy+m2elXUfcFyDsppSdiCeC7y/xr4RuTztOL7yuESrZWUfmgkAkrxupJkNd09Wfpg9ezZTpkwZ8IkkzYuI8S0c8tXs8exCeuV2oXOpbcWszFFAsXv5hYh4gwVjwWuFPHVjgaRxwHWk0dPbZZdBB63sQDwL+IikJap0L48l/VdWqzXc6vGzcukPVckL1bsqzMxsCGQDrvYAnifdkrrA7uzxO6QxQNVUvucPBo4q7NuS1FrOx4JHC3nGkrrEF7qVVdLHgZuAl4EtI6Jt8aLsQDyZ1JWwMem+X+DdawEbAL9v4/GTs8fNgJsL59kU+Afwlxbrb2Zm7bM9qVX70yqNq0eyx1cjovgdXnQB6d7fvPuyx8mkS42bsXAg3hSYnr+zBt4NwjcDr5CC8JO0U8n3iX2U+vcB755LWwNYexDHL0b6L6d4H/H6pPuIz26yzuHNmzdvw3x79/7YcePGxWDQwr22wG+y8j9aZd9SpFHKTwLLVdm/JLB0E2WsQOp6vpvq9xF/r5B/Q1IL/a/A6q3GuaZedydO2lIF4PTsxV8J7E0akv4mqQthkVy+GUAM9Pgs786kwH0v8A3gkOwX+3dgbJP1LfsPxJs3b946vQ15ICaNVH4LuLtOns+Srus+B/wI2IfUVX0O8CKwRZNlHZS9zltJrePvA3NIly3zDbVVgNmkuHEU6R7j4rbUoOPgYE8w6ArAotmbMp00im0maUTaqEK+GVA1EDd1fC7/v5LuFZub/eIuB9Zoob5l/4F48+bNW6e3MgLxYVnZ+zTItx5wIem7/g1SY+oO4AiqtJTrnGdPUnf1POBZ0iCw9xfybNHEe7XqYGJgRJQ/13Sv8ahpM+sDUyMb6Tx+/PgY5Kjpd89l1ZU9oYeZmVlfcyA2MzMrkQOxmZlZiRyIzczMSuRAbGZmViIHYjMzsxI5EJuZmZXIgdjMzKxEDsRmZmYlciA2MzMrkQOxmZlZiRyIzczMSuRAbGZmViIHYjMzsxI5EJuZmZXIgdjMzKxEDsRmZmYlciA2MzMrkQOxmZlZiRyIzczMSuRAbGZmViIHYjMzsxI5EJuZmZXIgdjMzKxEDsRmZmYlciA2MzMrkQOxmZlZiRyIzczMSuRAbGZmViIHYjMzsxI5EJuZmZXIgdjMzKxEDsRmZmYlciA2MzMrkQOxmZlZiRyIzcysVJKixjang2XuIeleSa9JekbS2ZJWKOQZIWkfSddImpHlfVzSJZLWaVdd3tOuE5mZmQ3C7cCEQtqbnShI0oHAycBtwLeBlYH/AjaTtHFEvJplXTWr0x+Ac4BZwOrA14GdJG0TEbcOtj4OxGZm1g0ej4gLO12IpNHAscBk4FMR8XaWPhn4NSkwH5dlfw7YMCKmFc5xEXAvcCIwfrB1cte0mZl1BUmLSxrVIM94SVdJmi3pdUnTJR0uqdmG5Q7ASOD0ShAGiIhrgceB3XNpzxeDcJb+Z+BBYL0my6zLgdjMzLrBF4G5wCuSnpV0uqRl8hkkbQf8EfgwcBLwLeBO4AfAJU2Ws1H2eGeVfXcBazfxz8AiwAeAZ5ossy53TZuZWSeNljQl93xCRBSvBU8CLgMeBd4LbAvsD/yLpM0jYo6kEaTrtHcDW0XEW9mxZ0q6DzhZ0hYRMbFBfcZkjzOr7JsJKMvzlzrn+BopEB/ToKymOBCbmVknzY6IutdRI2KTQtIFku4Hfki6ZvtD4NPAisChwLKS8vmvJw2++gwwsUF9RmaPr1fZN6+QZyGSNs/Kuo/515IHxV3TZmbWjU4E3gC2y55Xbhc6lzSIKr89nO1bEUDSKEkrFbbFszxzs8clqpQ5opBnAZLGAdeRRk9vFxHzquVrlVvEZmbWdSLiTUmzgNFZUqUJ/B1gWo3DZmWPBwNHFfZtSWotV/KMJXWF540FIpfnXZI+DtwEvAxsGRHVurYHxIHYzMy6TnZNeGXSACqAR7LHVyPi5gaHX0C69zfvvuxxMrAvsBkLB+JNgekRscBEIlkQvhl4hRSEn2z2dTSj1K5pSYtIOlDSw5LmSXpK0kmSlmri2A9L+oGkuyQ9J+kVSdOyYewLHS/p6DqztxzcmVdoZmb1SFq+xq5jSI3Fa7PnNwLPAodIWq7KeZaUtDRARDweETcXthezrNcArwH7S1o0d/z2pMk6Liqcd0NSS3gOKQg/MdDXWkvZLeJTSMPPryINRV8ne76hpK0j4p06x+4F7Ee6Afsi0gwsW5Ju1P53SZtGxGtVjjsQmF1ImzqoV2FmZgP1PUmbArcCfwVGkUZNb0kaIX06QES8KmkP4GpguqRzSS3aZYG1gZ2AHWkwWCsinpN0BPAT4GZJl5C6pA8iXWs+tZJX0iqkIPw+4DRg82ywVt5VuZm4BiYiStmAdYF3gCsK6d8k9dHv1uD48cAyVdKPzY7fv5B+dJa+6iDrHd68efM2zLcple+8cePGxWDkz1XjO/XzpNbuTNKo5VdJ14APA0ZUyb8ecGGW/w3Svbx3AEcAy7XwXb4nqbt6HqmlfS7w/kKeLZp4rwYVUyKi1BbxrqSL76cW0s8CTiDNbnJxrYMjYkqNXZcCh1NnxhNJ7wXmxvz70MzMrAQRcQ2pu7jZ/A+Sm/1qEOWeB5zXIM9E5g8S65gyrxFvRGoRT8onRhoOPo35s5+0auXssdaMJ/eTRr3Nk3SHpM8NsBwzM7NBKzMQjyHd6F3tpuqZpNlYFq+yr6bswvsRwFss3Jp+ibSKxjdJXSGHAqsA10nas8F595U0pTA7jJmZ2aCV2TU9kuozm8CCs5u80cI5TyUNST8sIqbnd0TEqcXM2cX+B4FTJF0ehSHruWMnkC3PJSlaqI+ZmVldZbaI51J9ZhNoMLtJNZKOIc1NOiEijm/mmIh4Hvg5adRdcSScmZlZx5UZiGeRup+rBeOxpG7rplrDko4Gvgf8gjQZdytmZI+j62UyMzPrhDID8eSs/I3zidlsKhsATV2PzYLwUcD5wN7ZcPlWrJk9tmU5KzMzs1aUGYgvJd2DdUAhfR/SteF3ZzeRtIaktYsnkHQkKQj/EtgrakwAIuk9xXUts/QPAl8Hnifdh2ZmZjakShusFREPSDqDNM3YlaRlrCoza93GgqOebyGNcH73fi5J+wHfJ83EcjOwW2FZrGci4qbs51HAE5KuBh4CXgTWAvbO9u0a1WfhMjMz66iyp7g8gHSNdl/SUlezSdOZHVmrdZtTuc/4Q6Ru6aLbSFOTQZpX9ApgE2AHUvCdTQrgP46ISVWONzMz6zi1fkm1v/n2JTPrA1MjYjzA+PHjY8qUgU+hIOndc1l1pa6+ZGZm1u8ciM3MzErkQGxmZlYiB2IzM7MSORCbmZmVyIHYzMysRA7EZmZmJXIgNjMzK5EDsZmZWYnKnuLSzGooznpXmEvdzIYJB2KzLlJvytnKPgdks+HFgdisC7Qy53s+r4OyWe9zIDYr0WAXXXEr2az3ORCbDaFOrXbmVrJZ73IgNuuwoV5q1IO8zHqLA7FZB3TTOt9uLZt1NwdiszbopsBbj1vLZt2npUAsaSSwFvB+IIDngOkRMbcDdTPrWr0SeBtxYDYrX8NALOl9wJ7AzsC4Kse8JWkq8Cvg/Ih4sd2VNCvbcAm8jbgb22zo1QzEkpYBjgC+AYwApgMXAY8BzwMClgP+CdgUOBk4TtIZwLER8XJnq27WOf0SeOtxa9lsaNRrET8GvA4cD1wYEU/UO5Gk1YEvA/sCXwFGt6uSZp3mwNtYtffIwdls8OoF4h8AZ0bE682cKCIeB74v6QTga+2onFmnOPC2h1vNZoNXMxBHxGkDOWEWuH864BqZdYAD79BwYDZrnW9fsmHJgbc7ODCbNdb0esSSNpa0TyHt85IekDRT0nHtr55ZYxGx0Gbdyb8nK5K0lqSLJD0k6WVJcyU9LOlkSR/oYLl7SLpX0muSnpF0tqQVCnlGSNpH0jWSZmR5H5d0iaR12lWXpgMxcBTwb7kKfgi4BFgJeBn4b0lfaVfFzGrxl/nw4X+iDFgZ+ABwFXAocABwE2ng71RJ7293gZIOBM4nxa5vA2cCuwATJS2Vy7oqMIF0h9A5wP6kuPdZYJqkLdtRn1a6ptcHTs8934V0C9MGETFT0v+Q3rhftKNiZhX+cu4v7s7uLxFxC3BLMV3S70nzU+wJ/Lhd5UkaDRwLTAY+FRFvZ+mTgV+TAnOlh/c5YMOImFY4x0XAvcCJwPjB1qmVFvHywDO5558Ffh8RM7PnvwbWHGyFzNxCsjx/HvrWk9nj+/KJksZLukrSbEmvS5ou6XBJzTYsdwBGAqdXgjBARFwLPA7snkt7vhiEs/Q/Aw8C67XygmppJRC/BKwIIGkJ0iQev8/XDViyHZWy/uGuSWuVPzPDU3Y9drSklSV9htRdDHB9Ls92wB+BDwMnAd8C7iTdbntJk0VtlD3eWWXfXcDakkY1qOsipO70Z+rla1YrXdPTgL0l3QzsSJpt68bc/tXaVSkbvvylaZ3g7uxhYW8WvPw5A9g9Im6HFKhJ12nvBraKiLeyfGdKug84WdIWETGxQTljsseZVfbNJF1yHQP8pc45vkYKxMc0KKsprQTiY4DfApNIFb0pIqbk9v8r6Q0ye5cDr5XBgbmrjJaUjxUTImJClXxXAw8Do4ANSYOD8zM0fprUK3sosGzhd3o9aZrlzwATG9RnZPZYbbKqeYU8C5G0eVbWfcy/ljwoTQfiiLhD0sdJ14ZfBv5frmLLk4L0Ve2olPUmB13rVp6es1SzI6LhgKaI+Bvwt+zp1ZKuACZLGhkRxwOV24XOrXOayuXTUaSAnvdCRLwBVFYLXAJ4rZBnRPZYdUVBSeOA64BZwHYRMa9avla1NKFHRPyFKs31iHgeOLAdFbLe4cBrvcyt5u4WEfdLupe08NDxpJ5YgO+QLpVWMyt7PJh0y23elqTWciXPWODRQp6xpPFOswrpZA3Rm0gN0S1zA5UHzTNrWdMceG04c2DuSkuS7uEFeCR7fDUibm5w3AXAHwpp92WPk0m32m7GwoF4U2B6RMzJJ2ZB+GbgFVIQfpI2qjlqWtLtkj7Z6gklbSWp+AZYj/HIVOt3/vwPDUkr1UjfknR70F1Z0o3As8Ahkparkn9JSUtDWoQoIm4ubC9mWa8hdUnvL2nR3PHbA6uTlvvNn3dDUkt4DikI112JcCDqtYhnkWYZuZc0A8n/RMQj1TJK+giwLWkZxPWAS9tdUessf9GY1efrzB3zs2wqy9+R7h0eAYwjTRr1CnAQQES8KmkP0qCu6ZLOJbVolwXWBnYi3dEzsV5hEfGcpCOAnwA3S7qE1CV9EGmw2KmVvJJWIQXh9wGnAZtng7XyroqIVwf20rNy6n0BS/oEcCSwdZb0EvAE8AKpv345YA1gaVK/+o3AMRFx10InGyYkDYuI5cBr1n7DKDBPrQywGj9+fEyZMqVR/pokvXuuGvv/HdiDNHvjCqRY8iQpAJ4YEX8t5F8POIR0zXcF4EXgMeB/gDMi4oUm67UnaWzTWsA/gN8Ah0TEs7k8WwC3NjjVahExo5kya9almS9kSWsAOwOfBD7C/DfrOdLsIhOBKwZbmV7Qi4HYQdesHD0cmIcsEFuTg7Ui4jHghGyzLufAa9Yd3J1tzfCo6WHAgdesd3h0thU5EPcgB16z4cOB2RyIe4ADr1n/cGDuPw7EXcZB18zyHJiHPwfikjnwmlkrPABs+GllPeKOkLSIpAMlPSxpnqSnJJ0kaakmj48a25wa+deSdLWkFyW9ms0gtlV7X1Vtnq3HzNrN3yu9rRtaxKeQFne+irTQ8zrZ8w0lbR0R7zRxjtuB4rJabxYzZfdD3wG8BfyYNHn3PsCNkj7XxPylLfMfhZkNNXdn95aWAnE2L+eXSGs+rgh8NyLulfQ+YHvgllZWpJC0LvBN4MqI+EIu/QnSdGK7ABc3carHI+LCJvIdT5oObVxETMvKugD4E3CGpLVjkJHTgdfMuo0Dc3drumta0kjgNuA84PPAVqT5NyFND3YC8PUWy9+VNFXmqYX0s0jrQe7eQv0Wz9agrLV/KdJC0xMrQRggW2XjbODDwEbNlpc73l1C1naSFtrM2sXfW92llWvERwPjSZNqr878tSGJiLeBK4HPtlj+RsA7wKR8YrbY8jSaD4xfJAXuVyQ9K+l0ScsU8nyMtBD0nVWOr8yN3bC8cePG+QNsHVUr6DogW6c4MJerlUC8MzAhIq4hBc+iR4FVWyx/DDA7Il6vsm8mMFrS4g3OMYn0T8IXgf8kreCxP3B7oYU8JnfeamVBWoFjIZL2lTRF0pTnnnuuQXXMBqbZQOuAbDa8tHKNeAzzF1auZi5pFaZWjASqBWGAebk8b9Q6QURsUki6QNL9wA+Bb2ePlfNQo7x5hTzFMiaQDQYbP368/120thtIYJXk1ovZMNBKi/h5arQYM+uS1jBuxVxSd3E1I3J5WnUiKXhvVyiLGuUNpiyzAWnH9V+3js16XyuB+BbgK9mgrQVIWg3YC7ihxfJnkbqfqwXHsaRu65qt4Voi4s3KuQtlVc5brSyo3m1t1ladCJ4e1GXWu1oJxN8njZKeTBodHcA2ko4H7iF1+R7fYvmTszpsnE+UNALYABjQIpjZ8SsDz+SSH8jquFmVQzbNHge+6KZZA0MVKB2QzXpL04E4Ih4FPkWaDOMHpFHTBwP/DTwFfCoinmqx/EtJAf2AQvo+pOu1F1USJK0hae18JknL1zjvMaTr39fm6j8ne76FpPVz5xgF7A08QmH0tlk7lBUYHZDNekNLE3pExFRgfUnrkWbAEvBIRNw7kMIj4gFJZwD7S7oSuJ75M2vdxoKTedwCrELutinge5I2BW4F/gqMArYFtgTuBk4vFHko6Z+J30o6hXT/8z6kruntBjuZh1letwTBSj388TbrTgOa4jIiHgQebFMdDgBmAPuSBlfNJgXQI5uY3nIi8BHSbUvLA2+TWraHAydn9yPn6/2opE+QJh85BFic1K2+TSemt7T+0y3BtxoHZLPuNKBAnA3YWp4FW6cARMRfWzlXNhnISdlWL9+qVdKuAa5psbyHSDODmbVNNwfgonxdHZTNytd0IM7mmf5vYD9gpTpZFx1spcx6RS8F4GrcSjYrXyst4pNJCzTcA1wGvNiRGpn1gF4PwEUOyGblaSUQf4m0StIXO1UZs2433AJwkQOy2dBrJRAvBvy2UxUx62bDPQAXOSCbDZ1WAvEdpBHKZn2j3wJwkQOyWee1MrPWd4HdJHnEsQ17ngxjQX4/zDqn6RZxNvnGPsAVkmYBT5Du2y1ki0+1s4JmQ8nBpj63kM3ar5Xbl7YDfkVqRb8X+FCnKmU21ByAW+OAbNY+rVwjPp40p/SOEfFAh+pjNmQcfAfPAdls8Fq5RrwmcJqDsPU6X+9sP7+nZgPXSov4SWBEpypi1mkOFJ3nFrJZ61ppEZ8G7J0tG2jWM9xaG3qV99zvu1ljrbSI5wAvAQ9J+gXVR00TERe0p2pmg+Mg0B3cSjarr5VAfF7u5+/VyBOAA7GVygG4Ozkgm1XXSiDesmO1MBskB9/e4WUYzRbUyoQet3WyImatcvDtfW4lG4CkRYBvA/8bWBV4jjRvxZER8WpJddoE+CGwCam39w7gkIiYViXvGOAE4HPAKOBPwI8i4rJmymplsJZZV/AgoOHHg7v63imkpXb/TFpu9zLgW8C1WZAeUpI2BW4DVgOOBI4i3cJ7u6SPFvIuB/wB2An4GekfijnAryR9pZnyaraIJe2R/fjLiIjc87o8WMs6wV/Q/cNd1/1F0rqk4HtlRHwhl/4E6W6dXYCL21TWDGBiROzZIOtpwBvAJyNiZnbsr4CHgJOAz+TyHkIK2P8WEddmec8B7gR+IumyiJhTr7B6XdPnkZrj/y+rUOV5vW9ED9aytnDgNXBQ7hO7kuLKqYX0s0jdvbuTC8SS/oMUuNcHFgUeAE6MiMvbURlJ/wRsBJxbCcIAETFT0mXAVyStFBF/z3btBjxWCcJZ3rclnU6Kh9uSutlrqheIt8xO+Eb+uVmnOPhaPcXPhwPzsLER8A4wKZ8YEfMkTcv2AyDpWOBw4AbgiOy4HYHLJO0fEWe0qT6QWrRFdwF7AeOA6yR9ABgLXFQjb+V8AwvExcFZHqxl7ebAa4Ph1vLQmDp16mD/VkdLmpJ7PiEiJuSejwFmR8TrVY6dCWwuaXFgPVIQPj4iDsvlOU3S1cDxki6IiFcGU9msPpWyq9UHUvBtNW9Nray+dC5wZkTcXWP/xsDXImKvZs9p/cfB1zrBreWuNjsixtfZPxKoFoQB5uXyfIl0+fN8SaML+X4NfB7YDPgtgKRlgMUK+RYBlqhy/NyImJsrixp1mlfI00remloZjbYnsEad/asB/9nC+awP5EfDOgjbUPHnrqfMBZaosW9ELs86pGvJD5Nub8pv52T5Vswde02VfB8kDf4qpn+3UB9q1GlEIU8reWtqZUKPRpYC3mzj+awH+UvPupFbzF1tFvARSUtU6Z4eS2pRv6H0SwzSvboLTa+c+VPu54OA9xX2XwjcB5xYSH+8UJ9K2UWVtJkDyFtT3UAs6UOkm6sr1pb0ySpZlwO+DjzaqEAbXhx4rRc5MHeVyaTbgTYGbq8kShoBbAD8Pkt6BNgG+GtEPNTopBExtZgmaR7wdETc3KA+kLq5zy7s25T0z8DUrIynJc3M0osqaVOq7FtAo67prwATgVuzwg/Pfi5uVwIbAj9qVKD1Nnf52XDkz3WpLiXFlwMK6fuQrq9WRiT/Mns8TtKixZNIWrGYNhAR8SgpeO6czZhVOf8YYGfgd7lblwAuAdaQtH0u76KkW6xeAq5vVGajrumrgRmkfvlzgQksPKQ7SLOITI6IpxoVaL3FX0rWjzwie+hExAOSzgD2l3QlKXCtQ5pZ6zaye4gjYrKko4GjgWnZPb2zgA+QbifaFli8TdX6NqmReXt2PzCkwLoIqcs77wRSgL5Y0smkruhdSbct7d3MKO66gTgi7iP1pyNpFeCKiHiw+ddivcjB12w+d2MPiQNIjb59ge2A2cDppLmm36lkiojvZ7dCfSs7ZingWeDBLK0tIuIOSVsAx2ZbZa7pnbO4mM/7vKRPkALyfqS5pv8M7BIRlzZTnvyhas348eNjypSGXf49xYHXbGCG6/enpKmVW44kDfZFTm1w+1Lfa+eoaeshDr5mg+fWsrWDA3EfcfA16yxfW7aBcCAexhx4zcrjoGzNciAeZhx8zbqPu7CtHgfiYcDB16y3uLVseQ7EPcrB12x4qPwtOyD3LwfiHuLgazZ8uZXcvxyIe4ADsFl/cVDuLw7EXcrB18zAQbkfOBB3EQdfM6vH15OHJwfiLuAAbGatcCt5eHEgLomDr5m1g1vJvc+BeIg5AJtZJ7iV3LsciIeIA7CZDRW3knuLA3EHOfiaWZncSu4Ni5RZuKRFJB0o6WFJ8yQ9JekkSUs1cezRkqLO9mYL+Q9u8+tyEDazruLvpe5Vdov4FOBbwFXAScA62fMNJW0dEe/UOfZK4NEq6R8DvgNcW+O4A4HZhbSprVS6Fn/Izazbudu6+5QWiCWtC3wTuDIivpBLfwI4DdgFuLjW8RFxP3B/lfOemf14To1Dr46IGQOs9kIcfM2sF7nbunuU2TW9KyDg1EL6WcBcYPdWT5h1ae8C/A24oU6+90oa1D8h7uYxs+HC32flKjMQbwS8A0zKJ0bEPGBatr9VOwPvBc6LiLdr5LkfeBmYJ+kOSZ9rpYCpU6f6A2tmw5IDcjnKDMRjgNkR8XqVfTOB0ZIWb/GcXwUCOLfKvpeACaTu8M8DhwKrANdJ2rPeSSXtK2mKpCkt1sfMzKwulXVtQNJjwGIR8aEq+y4Avgy8LyJeavJ8awEPA7dExNZNHrM88CAwAvhgRMxp4hhfTDGz4W5qRIyHtnznvXsuq67MFvFcYIka+0bk8jTrq9nj2c0eEBHPAz8HlgU2b6EsMzOztigzEM8idT9XC8ZjSd3WbzRzomzg1R7A86RboVoxI3sc3eJxZmZmg1ZmIJ6clb9xPlHSCGADoJXrsdsDKwIX1rjmXM+a2eMzLR5nZmY2aGUG4ktJA6sOKKTvA4wELqokSFpD0tp1zlXplq5677Ck90hapkr6B4Gvk1rSdzRdczMzszYpbUKPiHhA0hnA/pKuBK5n/sxat7HgZB63kEY4LzSuXtIYYBtgUkQ8UKO4UcATkq4GHgJeBNYC9s727RoRr7XjdZmZmbWi7CkuDyBdo90X2I409eTpwJENprfM2xNYlPqDtF4DrgA2AXYgBd/ZwM3AjyNiUu1DzczMOqe025d6lW9fMrM+4NuXhlCpqy+ZmZn1OwdiMzOzEjkQm5mZlciB2MzMrEQOxGZmZiVyIDYzMyuRA7GZmXUlSQdJmijpaUmvZ4+3Stqxw+WOkXSBpOckvZYtg7tzlXwfl/QTSfdIejHbJkv6hqTFmi3PgdjMzLrVxqRJn04hTUd8EmkK5CslHdGJAiUtB/wB2An4GfBtYA7wK0lfKWT/LmlSqXuAw4AjSFMmnwH8RtJCs0FWLdMTerTGE3qYWR/o2gk9stX2pgKrA8tGxNvtOnd2/h8D3wH+LSKuzdIWBe4E1gBWqaxdL+kTpNc3r3COC4EvAdtHxG8alekWsZmZ9YyIeAuYCSwFLND9K2kJSYdJ+pOkeZJeknStpA1bKGI34LFKEM7KfJs0/fJywLa59D8Wg3Dm0uxxvWYKdCA2M7OuJmk5SStIWkfSkaSFfm7NB8HsmuwNwFGk1uuBwAnAR4A/SmrYKpf0AWAscFeV3ZW0jZqo8srZY1PL65a96IOZmQ1voyXl15efEBETWjzHX4Dls5/fIi3i841Cnv2BLYBtIuLGSqKk/ws8CPwk21/PmOxxZpV9lbSx9U4gaRSpa/tl4JoG5QEOxGZm1lmz23CNeCdgBCkI7gwsCSwNPJfLszvwMDBV0ujC8TcB/ylpyQZL3o7MHl+vsm9eIc9CsmvJFwKrAbtFxAt1ynqXA7GZmZUmC14rFJJfi4iXK08i4ve5fb+QdAmpu/kjEfFilr4OKUDng3PRaOApSSsV0t/Igubc7PkSVY4dkT3OrbIPSYsA5wKfBw6PiEvq1GMBDsRmZlamDwJPFNLOJ90WVMv5wC6klvI5WZqAB4D/qnNcJUg/XUi/jdRtPSt7Xq37uZK2ULd1FoTPBvYAvh8Rx9Wpw0IciM3MrEx/Bz5dSJtVLWPOktnjcrm0R0gt699FxDsNji+W9yJARDwtaSawaZVjKmn56935IPwV4NiIOLpB2QuLCG8tbEB48+bN2zDfprTxO2/KAL9rlwJGVUlfFLg5O/f/yqUfnKUdXON8KzZZ7onZebYvlDmJFLCXzqWL1CIP4IcDjStuEZuZWTdaE7hN0uXAdOAFUvfwrsBawPkRcXsu/09JLd0TJW0F/A74B/Ah4FOkwVZbNlHuCaQBYRdLOpnUFb0r6balvSPilVzeE4G9gPuAhyTtXjjXYxFxZ6MCHYjNmpT9B9w3mpydz6xT/gb8EvhfwI6kUdIvA/cCxwAX5zNHxJuStiPd1vRl4PvZrlmk1uz5zRQaEc9nM2adAOwHjAL+DOwSEZcWsldGg6+f1bXofNI9zXV5issWeYrL4cGf+85w8B42unaKy+HILWIbVhxgy9Xs+++AbTafA7H1FAfa4aHe79FB2vqNA7F1JQfc/uUgbf3GgdhK5YBrraj1eXGAtl7mQGxDxkHXOqXaZ8vB2XqFA7F1hIOulc3B2XqFA7ENmoOu9YriZ9WB2bqBA7G1zIHXhgsHZusGDsTWFAdf6wcOzFYGB2KryoHXzIHZhoYDsb3LwdesvvzfiIOytYsDcZ9z8DUbGAdlaxcH4j7k4GvWXg7KNhgOxH3CwddsaDgoW6sciIc5B2Cz8lT+/hyQrR4H4mHKAdisezggWz0OxMOMA7BZ93JAtmociIcJB2Cz3uGAbHkOxD3OAdisdzkgG8AiZVfABiYiHITNhgn/Lfc3B+Ie5D9as+HH/1z3LwfiHuM/VLPhzX/j/ceBuIf4D9SsP/hvvb84EPcI/2GamQ1PpQdiSYdKukzS45JC0owBnmcPSfdKek3SM5LOlrRCjbybSLpZ0iuS/iHpBkkbDOZ1mJm1k//57h+lB2LgOGAr4DHgxYGcQNKBwPnAy8C3gTOBXYCJkpYq5N0UuA1YDTgSOApYE7hd0kcH+BrMzMwGpBvuI14jIh4HkPQgMKqVgyWNBo4FJgOfioi3s/TJwK9Jgfm43CGnAW8An4yImVneXwEPAScBnxnUqzEzM2tB6S3iShAehB2AkcDplSCcnfda4HFg90qapH8CNgIuqwThLO9M4DJga0krDbI+ZmZmTSs9ELfBRtnjnVX23QWsLWlUk3kFjGtv9czMWufZtvrHcAjEY7LHmVX2zSQF1zFN5gUY276qtY//KM36h//e+0s3XCMerJHZ4+tV9s0r5Gkl77sk7Qvsmzv2wdarOXjD4I9zNDC77Er0IL9vA+P3beDWyv18I+m9HCj/DhoYDoF4bva4BPBaYd+IQp583qJi3ndFxARgAoCkKRExfsC17WN+7wbG79vA+H0bOElTKj9HxDZl1qUfDIeu6VnZY7Uu5bFA5PI0ygvVu63NzMw6YjgE4snZ42ZV9m0KTI+IOU3mDWBqe6tnZmZWW08FYkkfkrS2pMVyydeQuqT3l7RoLu/2wOrARZW0iHgUmALsLGlMLu8YYGfgdxHx9wbVmDD4V9K3/N4NjN+3gfH7NnB+74aQyp5GTdKXgVWyp98EFidNrAHwZET8Mpd3IvAvwGoRMSOXfhDwE2AicAmpm/kg4Clgo1yLGEmbA7cCfwNOz5W7IvCJiLivrS/QzMysjm4IxBNJwbWa2yJiiyp5FwjE2b49gQNJo/3+AfwGOCQinq1S5mak2bg2IXVH3wEcGhH3DOrFmJmZtaj0QGxmZtbPeuoacVkkLSLpQEkPS5on6SlJJxUXlOhHkj4s6QeS7pL0XLai1TRJh1dZcOPobIWtatvBZb2GMtV5P+ZUybuWpKslvSjpVUm3S9qqjHqXqcHnKCS92WTeYf2Za3Vlu1ZWpZM0RtIF2d/8a5KmSNq5E6+jHwyH+4iHwinAt4CrSNev18mebyhp64h4p8zKlWwvYD/SAhsXAW8CW5K6/v9d0qYRUby/+0AWvsm/n0er387Cg2PezD+RtAbpEspbwI9JK43tA9wo6XMRcfNQVLRLXAk8WiX9Y8B3gGur7OvHz9xxwAvAPcCy9TJmq9JNJN2+eWSWvD9pVbrNI+KBXN7lgD8A7wdOJo232Q34laS9IuIX7X0ZfSAivNXZgHWBd4ArCunfJF1f3q3sOpb8/owHlqmSfmz2/uyfSzs6S1u17Hp3y5a9H+c1ke9XwNvABrm0UcCTwHSyy0z9vJGWPw1gu1xa337mgNVzPz8IzKiTdxJpbM3YXNrYLO23hbw/zt7T7XNpi2bneB4YVfZr77XNXdON7Uqar/rUQvpZpFm4di8e0E8iYkpEvFxl16XZ43rVjpP0XknukclIWjy3OElx31LAvwETI2JaJT3S3QBnAx9m/oImfSl7j3Yhtc5uqJGnrz5z0eTKdgNYlW434LFIK9xV8r5NugtlOWDbNlS/rzgQN7YRqUU8KZ8YEfOAafT5F2AdK2ePz1TZdz+pa3WepDskfW7oqtWVvkj6p+4VSc9KOl3SMrn9HyNNy1pr1TDw53Bn4L2k3oW3q+z3Z662plelk/QBUkv5rhp58+ezJvXNf4eDMAaYHRHVFoqYCWwuafGIeGOI69W1solVjiBdz7w4t+sl0rXQO4AXSbeaHQBcl11bOm9IK9odJpFaHY+SAsm2pGtz/5Jdm5tDD68aNoS+SuouPbeQ/hL+zDXSyufLn8UOcCBubCTVV2uCBVdsciCe71TSNKKHRcT0SmJEnFrMKOlc0vWrUyRdHrnJV/pBRGxSSLpA0v3AD4FvZ48DWjWsX0haC/hn4JaIeCK/z5+5pnR8BTurz13Tjc2l+mpNUGfFpn4l6RhSi25CRBzfKH9EPA/8nDSqc/PO1q5nnEj6x2677PmAVg3rI1/NHs9uJrM/cwtp5fPlz2IHOBA3NgsYLanaB28sqdvarWHSPZvA94BfAF9r4dAZ2eNg1jwdNiLiTbLPXZbkVcNqyAZf7UEarXtVC4fOyB79mWvt8+XPYgc4EDc2mfQ+bZxPlDQC2IC0iETfy4LwUcD5wN6R3dPQpDWzx2oDu/pO9tlamfnvxwOkrsBaq4ZB/34OtyfNE39hjXEctfgzN1/Tq9JFxNOkQLtpjbzQv5/FAXMgbuxS0gfxgEL6PqRrIRcVD+g3ko4kBeFfAntFlQlOJL2nMBK4kv5B4OukFs0dna5rN5G0fI1dx5DGb1wL796mdC2whaT1c8ePAvYGHqEwqr+PVLqlzynu8GeuOdH6qnSXAGsorXBXybsoaW6Fl4Drh6Lew4nnmm6CpNNJ1z2vIn3IKjNr/RHYqlrg6ReS9gP+D/BX0kjp4nvxTETcJGlZ4AngauAh5o9g3Zs0McWuEXHZEFW7K0g6hdSKuJX0/o0ijZreErgb2DKyWcmyez0nkWbcOoU00cI+wEdJE1jcOOQvoGRZoPgrMLXKoDf6/TOn1la2a3pVuuwfyKnA8qSZtWaS5lvYgtQbttA/RdZA2TOK9MJGmjXmINIMRq+TPngn4xlkAM4j9RjU2iZm+ZYgDaZ5gPSF+CbwNHA5sHHZr6Ok9+7zwI3Z52ke8Crp3vTDgBFV8q9DWn/7JdKAmD8AW5f9Okp8/w7LPmP71Njf15850pSVdf8uC/k3A24B5gCvZJ/Nj9c491hSD9js7LN7D/AfZb/mXt3cIjYzMyuRrxGbmZmVyIHYzMysRA7EZmZmJXIgNjMzK5EDsZmZWYkciM3MzErkQGxmZlYiB2KzGiSFpPPKrkevkjRR0oyy62HW7RyIzczMSvSesitg1sWWBN4uuxJmNry5RWxdRdKikkaWXQ+AiJgXaW3gIadkVBll9ypJS5ddB7OBcCC20kjaM7sOu7WkIyQ9RppA/t+z/ZL0dUlTJc2VNEfSrZK2rHG+L2TXJV/K8k+XdJqkxXN5mj5n/hpx9g/CLEn31Cj7f2f5d8ilLSHpMEl/kjQvq9e1kjYsHLtFduyekvaT9OfsfTi4wfsXks6TtJmk2yS9Kul5SWcXg3it67WSVs3Oc3SN+nwjex/nSXpA0r9meT4q6QZJ/8jKPE3SYjXqubqkayS9nOW/StLqVfI19bvJ11nSf2T5X2P+qkFmPcVd09YNfgIsBpxFWt5vepb+S9LyapcDvyCtpvMl4CZJO0XErysnkPRD0mo8fyYtE/g0sAbwBeBI4I1Wz5kXEW9LuhD4jqR1I+JPhSx7kFaiuS6rz2LADcDmWZn/B1iGtHThHyV9MiKKC6gfQFpa7izg78BTdd+1ZAPgN9lruZi0FN1XSctR7tvE8fXsB7yPtILRPNLSn1dJ2jmr4yWkJQY/Q1oy71ng2MI5liKtAnQ3cCiwJvANYFNJG8aC69y2+rvZIavTz4Cfkz47Zr2n7OWfvPXvBuxJWpJtOjCysG/HbN++hfT3kBYxf4L562lvnOX9HYXlAwHl8jV9ziw9gPNyz9fN0n5cOH6NLP20XNqBWdpnC3nfS1pDd2IubYss7wvA+1t4/4IUcDcppF9HWvJvVC5tIjCjyjlWzc5zdJX6zASWyaV/LFfmToXzTAWeLqRNzPKfWuN3+/MB/r4rdX4TWKfsz7E3b4Pd3DVt3eBnETG3kLY7aU3UqyWNrmzAssC1pC/jNbO8X8oeD42IefmTRGYA51xIpFbwVOBLkvJ/O3tkj+cX6v8wMLVQ1uLATcA/S1qyUMQFEfFsrfJruDMi7i6k/Y4UwFZt8VxF50XEy5UnEXE/qdU5KyKuLOT9A7BSjevaJ+SfRMRVpH++dsglD+R3c11EPNTqizLrNu6atm7wlypp6wBLA8/UOW7F7Ng1SS2k+xqU08o5azkfOA3YGvitJJGCyJ8iYmqhrCWB5+qcazQLdj/XK7eWx6ukPZ89Lj+A8zU694tU7zJ/MVfmnFz6S7Fg93PFQ8AOkpaKiFcZ2O9mIO+XWddxILZuUGwNQ+pSfg7Yrc5xD+Z+jmyrp9VzVnMJcBKpFfxb4J+B1YH/rlLWA8B/1TlXMUhXex8aqXd7lXI/13pv6n0H1Dp3s2W2YiC/m4G8X2Zdx4HYutUjwIeBuyJiToO8fwE+B6wPTGrTOauKiNmSrgd2zLph9yBdM72wSlkrAL+LiHcGUlabvQCMq5K+0OjlNltW0kpVWsXrAM9mrWFow+/GrFf5GrF1qwtIn8/jq+2UtGLu6cXZ43H5W5VyeSuttFbOWc/5wEhSl/TOwE0RMatK/VeiRou4hbLa5S/A0pI2ztVhEdKgsk47JP9E0o7AWqQR1xXt+t2Y9Ry3iK0rRcTlkn4B7C/p46RbdGYDKwObAf9E1pqLiEmSfkTqHr5H0qWk239WA75IGlX9UivnbOA60nXYH5FGQZ9fJc9PgU8DJ0raijSA6h/Ah4BPkW4Hqno/dIdMAA4i3X70U9LtXF+k898Bs4GdJI0hjaKu3L70DHB0JVMbfzdmPceB2LpWROwl6VbS/bCHkkYc/x24J3uez3uIpPuA/YHvklpXTwHXk7uW2Mo569TrDUmXZGX9gwVbdpU8b0rajhR0vgx8P9s1i9R9Xi14d0xEPJFNNnIccAzpH4lfAueSRnd3yqvAVqR7u08gXQu+ATgoIp4u1HHQvxuzXqT5d3aYmZnZUPM1YjMzsxI5EJuZmZXIgdjMzKxEDsRmZmYlciA2MzMrkQOxmZlZiRyIzczMSuRAbGZmViIHYjMzsxI5EJuZmZXo/wNTFgLb3aC6dQAAAABJRU5ErkJggg==\n",
>>>>>>> 3f58b38
      "text/plain": [
       "<Figure size 432x288 with 2 Axes>"
      ]
     },
     "metadata": {
      "needs_background": "light"
     },
     "output_type": "display_data"
    }
   ],
   "source": [
<<<<<<< HEAD
    "# spyro.plots.plot_shotrecords(\n",
    "#             model, usol_rec, appear=True, name=str(0 + 1), save=False,legend=True\n",
    "#         )\n",
    "\n",
    "from matplotlib               import ticker\n",
    "def graph2drec(rec):  \n",
    "  \n",
    "    \n",
    "    tf  = model[\"timeaxis\"][\"tf\"] \n",
    "    extent = [0,1, tf, 0]\n",
    "    fig    = plot.imshow(rec[:][:], cmap=\"seismic\", extent=extent)\n",
    "    plot.gca().xaxis.set_major_formatter(mticker.FormatStrFormatter('%.2f '))\n",
    "    plot.gca().yaxis.set_major_formatter(mticker.FormatStrFormatter('%.2f s'))\n",
    "    ax = plot.gca()\n",
    "    ax.xaxis.set_major_locator(plot.MaxNLocator(4))\n",
    "    ax.yaxis.set_major_locator(plot.MaxNLocator(4))\n",
    "    \n",
    "    divider = make_axes_locatable(ax)\n",
    "    \n",
    "    cax = divider.append_axes(\"right\", size=\"5%\", pad=0.05)\n",
    "    \n",
    "    tick_locator = ticker.MaxNLocator(nbins=5)\n",
    "    \n",
    "    cbar = plot.colorbar(fig, cax=cax, format='%.1e')\n",
    "    \n",
    "    cbar.locator = tick_locator\n",
    "    \n",
    "    cbar.update_ticks()\n",
    "    \n",
    "    plot.draw()\n",
    "     \n",
    "    plot.show()\n",
    "    plot.close()\n",
    "\n",
    "    return\n",
    "#==============================================================================\n",
    "\n",
    "graph2drec(usol_rec[0])\n"
=======
    "spyro.plots.plot_shotrecords(\n",
    "            model, usol_rec, appear=True, name=str(0 + 1), save=False, legend=True\n",
    "        )"
>>>>>>> 3f58b38
   ]
  },
  {
   "cell_type": "code",
<<<<<<< HEAD
   "execution_count": 8,
   "metadata": {},
   "outputs": [],
   "source": [
    "# misfit = usol_rec\n",
    "\n",
    "# J_total = spyro.utils.compute_functional(model,misfit)\n"
   ]
  },
  {
   "cell_type": "code",
   "execution_count": 9,
   "metadata": {},
   "outputs": [],
   "source": [
    "# dJ = spyro.solvers.gradient(\n",
    "#                         model,mesh,comm,vp, receivers,usol,misfit)\n"
=======
   "execution_count": 10,
   "metadata": {},
   "outputs": [
    {
     "name": "stdout",
     "output_type": "stream",
     "text": [
      "Simulation time is:        0.9 seconds\n",
      "Simulation time is:        0.8 seconds\n",
      "Simulation time is:        0.7 seconds\n",
      "Simulation time is:        0.6 seconds\n",
      "Simulation time is:        0.5 seconds\n",
      "Simulation time is:        0.4 seconds\n",
      "Simulation time is:        0.3 seconds\n",
      "Simulation time is:        0.2 seconds\n",
      "Simulation time is:        0.1 seconds\n",
      "Simulation time is:        0.0 seconds\n",
      "---------------------------------------------------------------\n"
     ]
    }
   ],
   "source": [
    "solver     = spyro.solvers.Leapfrog_adjoint\n",
    "dJdC_local = solver(model, mesh, comm, vp, receivers, usol, misfit)"
>>>>>>> 3f58b38
   ]
  },
  {
   "cell_type": "code",
<<<<<<< HEAD
   "execution_count": 10,
   "metadata": {},
   "outputs": [],
   "source": [
    "# from mpi4py import MPI\n",
    "# # sum over all ensemble members\n",
    "# dJ.dat.data[:] = comm.ensemble_comm.allreduce(\n",
    "#     dJ.dat.data[:], op=MPI.SUM\n",
    "# )\n",
    "\n",
    "\n",
    "# fig, axes = plot.subplots()\n",
    "# axes.set_aspect('equal')\n",
    "# colors = firedrake.tripcolor(dJ, axes=axes, shading='gouraud', cmap=\"jet\")\n",
    "\n",
    "# fig.colorbar(colors);\n",
    "# plot.savefig('grad.png',dpi=100,format='png')"
=======
   "execution_count": 11,
   "metadata": {},
   "outputs": [
    {
     "data": {
      "image/png": "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\n",
      "text/plain": [
       "<Figure size 432x288 with 2 Axes>"
      ]
     },
     "metadata": {
      "needs_background": "light"
     },
     "output_type": "display_data"
    }
   ],
   "source": [
    "from mpi4py import MPI\n",
    "# sum over all ensemble members\n",
    "dJdC_local.dat.data[:] = comm.ensemble_comm.allreduce(\n",
    "    dJdC_local.dat.data[:], op=MPI.SUM\n",
    ")\n",
    "\n",
    "\n",
    "fig, axes = plot.subplots()\n",
    "axes.set_aspect('equal')\n",
    "colors = firedrake.tripcolor(dJdC_local, axes=axes, shading='gouraud', cmap=\"jet\")\n",
    "\n",
    "fig.colorbar(colors);\n",
    "plot.savefig('grad.png',dpi=100,format='png')"
>>>>>>> 3f58b38
   ]
  },
  {
   "cell_type": "code",
   "execution_count": null,
   "metadata": {},
   "outputs": [],
   "source": []
  }
 ],
 "metadata": {
  "kernelspec": {
   "display_name": "new_firedrak1",
   "language": "python",
   "name": "new_firedrak1"
  },
  "language_info": {
   "codemirror_mode": {
    "name": "ipython",
    "version": 3
   },
   "file_extension": ".py",
   "mimetype": "text/x-python",
   "name": "python",
   "nbconvert_exporter": "python",
   "pygments_lexer": "ipython3",
   "version": "3.8.5"
  }
 },
 "nbformat": 4,
 "nbformat_minor": 4
}
