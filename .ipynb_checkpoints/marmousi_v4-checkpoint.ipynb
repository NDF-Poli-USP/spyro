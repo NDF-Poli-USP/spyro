{
 "cells": [
  {
   "cell_type": "markdown",
   "id": "f7887aac",
   "metadata": {},
   "source": [
    "# Building a mesh file - Marmousi"
   ]
  },
  {
   "cell_type": "markdown",
   "id": "d8cd8bae",
   "metadata": {},
   "source": [
    "This tutorial aims to introduce users to mesh generation using `SeismicMesh`. It generates a simple 2D mesh."
   ]
  },
  {
   "cell_type": "markdown",
   "id": "7848c499",
   "metadata": {},
   "source": [
    "## 1. SeismicMesh installation"
   ]
  },
  {
   "cell_type": "markdown",
   "id": "c7692605",
   "metadata": {},
   "source": [
    "Before actually building the model, the `SeismicMesh` package should be installed. It can be done by cloning the <a href=\"https://github.com/krober10nd/SeismicMesh\">SeismicMesh</a> repository. Once it is cloned, install it by activating `firedrake` environment and running"
   ]
  },
  {
   "cell_type": "markdown",
   "id": "a1d84711",
   "metadata": {},
   "source": [
    "**<font color='blue'>pip install .</font>**"
   ]
  },
  {
   "cell_type": "markdown",
   "id": "7f7f66f1",
   "metadata": {},
   "source": [
    "inside the SeismicMesh folder on your terminal."
   ]
  },
  {
   "cell_type": "markdown",
   "id": "ed5c919f",
   "metadata": {},
   "source": [
    "## 2. Importing libraries"
   ]
  },
  {
   "cell_type": "code",
   "execution_count": 1,
   "id": "eb74ba73",
   "metadata": {},
   "outputs": [
    {
     "name": "stderr",
     "output_type": "stream",
     "text": [
      "firedrake:WARNING OMP_NUM_THREADS is not set or is set to a value greater than 1, we suggest setting OMP_NUM_THREADS=1 to improve performance\n"
     ]
    }
   ],
   "source": [
    "from scipy.ndimage import gaussian_filter\n",
    "import numpy as np\n",
    "import segyio\n",
    "import matplotlib.pyplot as plt\n",
    "import spyro\n",
    "\n",
    "from mpi4py import MPI\n",
    "comm = MPI.COMM_WORLD"
   ]
  },
  {
   "cell_type": "markdown",
   "id": "9a2a0003",
   "metadata": {},
   "source": [
    "When building a mesh file, two libraries are essencial:"
   ]
  },
  {
   "cell_type": "code",
   "execution_count": 2,
   "id": "e71e1833",
   "metadata": {},
   "outputs": [],
   "source": [
    "import meshio\n",
    "from SeismicMesh import (\n",
    "    get_sizing_function_from_segy,\n",
    "    generate_mesh,\n",
    "    Rectangle,\n",
    "    write_velocity_model,\n",
    "    plot_sizing_function,\n",
    ")"
   ]
  },
  {
   "cell_type": "markdown",
   "id": "b4436398",
   "metadata": {},
   "source": [
    "For more details, refer to the <a href=\"https://seismicmesh.readthedocs.io/en/par3d/tutorial.html#mesh-size-function\">SeismicMesh Documentation</a>."
   ]
  },
  {
   "cell_type": "markdown",
   "id": "dbf8c4d7",
   "metadata": {},
   "source": [
    "## 3. Velocity model"
   ]
  },
  {
   "cell_type": "markdown",
   "id": "907a67e5",
   "metadata": {},
   "source": [
    "### 3.a Exact velocity model file"
   ]
  },
  {
   "cell_type": "markdown",
   "id": "d07f1005",
   "metadata": {},
   "source": [
    "Then, the velocity model file must be imported. Access the <a href=\"https://wiki.seg.org/wiki/AGL_Elastic_Marmousi\">AGL Elastic Marmousi</a> web page and download the `elastic-marmousi-model.tar.gz` compressed file. Extract the files, and access the `models` folder. Extract the velocity model the it is going to be used (`MODEL_P-WAVE_VELOCITY_1.25m.segy`), which was renamed after `vp_marmousi-ii.segy`:"
   ]
  },
  {
   "cell_type": "code",
   "execution_count": 3,
   "id": "c24279a0",
   "metadata": {},
   "outputs": [],
   "source": [
    "fname = \"velocity_models/vp_marmousi-ii.segy\""
   ]
  },
  {
   "cell_type": "markdown",
   "id": "a238f404",
   "metadata": {},
   "source": [
    "### 3.b Guess velocity model file"
   ]
  },
  {
   "cell_type": "markdown",
   "id": "baa241e5",
   "metadata": {},
   "source": [
    "For the guess velocity model file, it is necessary to write a file using `segyio` as follows."
   ]
  },
  {
   "cell_type": "code",
   "execution_count": 4,
   "id": "b57b6d5d",
   "metadata": {},
   "outputs": [],
   "source": [
    "with segyio.open(fname, ignore_geometry=True) as f:\n",
    "    nz, nx = len(f.samples), len(f.trace)\n",
    "    vp = np.zeros(shape=(nz, nx))\n",
    "    for index, trace in enumerate(f.trace):\n",
    "        vp[:, index] = trace"
   ]
  },
  {
   "cell_type": "markdown",
   "id": "2dcc4c36",
   "metadata": {},
   "source": [
    "The original velocity model can be smoothed with a Gaussian filter:"
   ]
  },
  {
   "cell_type": "code",
   "execution_count": 5,
   "id": "6b5f5f48",
   "metadata": {},
   "outputs": [],
   "source": [
    "sigma = 100\n",
    "vp_smooth = gaussian_filter(vp, sigma)"
   ]
  },
  {
   "cell_type": "markdown",
   "id": "e898c1a4",
   "metadata": {},
   "source": [
    "To visualize it, the following commands are useful:"
   ]
  },
  {
   "cell_type": "code",
   "execution_count": 6,
   "id": "189ae530",
   "metadata": {
    "scrolled": true
   },
   "outputs": [
    {
     "data": {
      "image/png": "[encoded data removed]",
      "text/plain": [
       "<Figure size 432x288 with 2 Axes>"
      ]
     },
     "metadata": {
      "needs_background": "light"
     },
     "output_type": "display_data"
    }
   ],
   "source": [
    "fig, ax = plt.subplots()\n",
    "plt.pcolormesh(vp_smooth, shading=\"auto\")\n",
    "plt.title(\"Guess model\")\n",
    "plt.colorbar(label=\"P-wave velocity (km/s)\")\n",
    "plt.xlabel(\"x-direction (m)\")\n",
    "plt.ylabel(\"z-direction (m)\")\n",
    "ax.axis(\"equal\")\n",
    "plt.show()"
   ]
  },
  {
   "cell_type": "markdown",
   "id": "79c0d870",
   "metadata": {},
   "source": [
    "The guess velocity model can be generated as follows:"
   ]
  },
  {
   "cell_type": "code",
   "execution_count": 7,
   "id": "076abbb6",
   "metadata": {},
   "outputs": [
    {
     "name": "stdout",
     "output_type": "stream",
     "text": [
      "Writing velocity model: velocity_models/marmousi_guess.hdf5\n"
     ]
    },
    {
     "name": "stderr",
     "output_type": "stream",
     "text": [
      "/home/alexandre/firedrake/lib/python3.6/site-packages/segyio/utils.py:18: RuntimeWarning: Implicit conversion to contiguous array\n",
      "  warnings.warn(msg, RuntimeWarning)\n",
      "/home/alexandre/firedrake/lib/python3.6/site-packages/segyio/utils.py:23: RuntimeWarning: Implicit conversion from float64 to float32 (narrowing)\n",
      "  warnings.warn(msg.format(x.dtype, dtype), RuntimeWarning)\n"
     ]
    }
   ],
   "source": [
    "import h5py\n",
    "\n",
    "ofname = \"velocity_models/marmousi_guess.hdf5\"\n",
    "print(f\"Writing velocity model: {ofname}\", flush=True)\n",
    "with h5py.File(ofname, \"w\") as f:\n",
    "    f.create_dataset(\"velocity_model\", data=vp_smooth, dtype=\"f\")\n",
    "    f.attrs[\"shape\"] = vp_smooth.shape\n",
    "    f.attrs[\"units\"] = \"km/s\"\n",
    "\n",
    "spyro.io.create_segy(vp_smooth, \"velocity_models/guess.segy\")"
   ]
  },
  {
   "cell_type": "markdown",
   "id": "669a8db8",
   "metadata": {},
   "source": [
    "## 4. Parameters definition"
   ]
  },
  {
   "cell_type": "markdown",
   "id": "1517d310",
   "metadata": {},
   "source": [
    "The next step is defining the arguments for the function `get_sizing_function_from_segy`. First, the boundary coordinates must be defined according to the order"
   ]
  },
  {
   "cell_type": "code",
   "execution_count": 8,
   "id": "a5e272f5",
   "metadata": {},
   "outputs": [],
   "source": [
    "bbox = (-3500.0, 0.0, 0.0, 17000.0)  # min z, min x, max z, max x"
   ]
  },
  {
   "cell_type": "markdown",
   "id": "b332ba89",
   "metadata": {},
   "source": [
    "and the rectangular domain is created with the function `Rectangle`"
   ]
  },
  {
   "cell_type": "code",
   "execution_count": 9,
   "id": "6fbdee09",
   "metadata": {},
   "outputs": [],
   "source": [
    "rectangle = Rectangle(bbox)"
   ]
  },
  {
   "cell_type": "markdown",
   "id": "6df87c9a",
   "metadata": {},
   "source": [
    "Then, some parameters regarding the wave propagation and the methods used must be informed:\n",
    "- `fmax`: maximum frequency\n",
    "- `alpha`: number of cells per wavelength, choosen from https://arxiv.org/abs/2108.10946.\n",
    "- `grade`: rate of change of the element size\n",
    "- `pad`: the width of the Perfectly Matched Layer (PML) extended domain\n",
    "- `cmax`: maximum speed of the sound"
   ]
  },
  {
   "cell_type": "markdown",
   "id": "f9907feb",
   "metadata": {},
   "source": [
    "The parameter `hmin` is associated with the mesh resolution, defined by the expression\n",
    "$$ h_{min} = \\frac{c_{min}}{\\alpha f_{max}}$$"
   ]
  },
  {
   "cell_type": "code",
   "execution_count": 10,
   "id": "ef240c2b",
   "metadata": {},
   "outputs": [],
   "source": [
    "cmin = 1.429\n",
    "alpha = 2.67\n",
    "fmax = 5\n",
    "hmin = cmin/(alpha*fmax)*1000\n",
    "grade = 0.15\n",
    "pad = cmin/fmax*1000"
   ]
  },
  {
   "cell_type": "markdown",
   "id": "be039f4a",
   "metadata": {},
   "source": [
    "Now, all the input parameters are defined and the `get_sizing_function_from_segy` can be raised."
   ]
  },
  {
   "cell_type": "code",
   "execution_count": 11,
   "id": "534dbee4",
   "metadata": {},
   "outputs": [
    {
     "name": "stdout",
     "output_type": "stream",
     "text": [
      "Converting from km-s to m-s...\n",
      "Mesh sizes will be built to resolve an estimate of wavelength of a 5 hz wavelet with 2.67 vertices...\n"
     ]
    },
    {
     "name": "stderr",
     "output_type": "stream",
     "text": [
      "/home/alexandre/firedrake/lib/python3.6/site-packages/SeismicMesh/sizing/mesh_size_function.py:613: UserWarning: Velocity appear to be in km/s. Maybe pass `units` km-s key pair?\n",
      "  \"Velocity appear to be in km/s. Maybe pass `units` km-s key pair?\"\n"
     ]
    },
    {
     "name": "stdout",
     "output_type": "stream",
     "text": [
      "Enforcing minimum edge length of 107.04119850187267\n",
      "Enforcing maximum edge length of 10000.0\n",
      "Enforcing mesh size gradation of 0.15 decimal percent...\n",
      "(2801, 13601)\n",
      "Including a 285.8 meter domain extension...\n",
      "Using the pad_style: edge\n"
     ]
    },
    {
     "data": {
      "image/png": "[encoded data removed]",
      "text/plain": [
       "<Figure size 432x288 with 2 Axes>"
      ]
     },
     "metadata": {
      "needs_background": "light"
     },
     "output_type": "display_data"
    },
    {
     "data": {
      "text/plain": [
       "<AxesSubplot:title={'center':'Isotropic mesh sizes'}, xlabel='x-direction (m)', ylabel='z-direction (m)'>"
      ]
     },
     "execution_count": 11,
     "metadata": {},
     "output_type": "execute_result"
    }
   ],
   "source": [
    "ef = get_sizing_function_from_segy(\n",
    "    fname,\n",
    "    bbox,\n",
    "    hmin=hmin,\n",
    "    wl=alpha,\n",
    "    freq=fmax,\n",
    "    grade=grade,\n",
    "    domain_pad=pad,\n",
    "    pad_style=\"edge\",\n",
    "    units = 'km-s',\n",
    ")\n",
    "\n",
    "plot_sizing_function(ef)"
   ]
  },
  {
   "cell_type": "markdown",
   "id": "026da62d",
   "metadata": {},
   "source": [
    "## 5. Writing the exact velocity model"
   ]
  },
  {
   "cell_type": "code",
   "execution_count": 12,
   "id": "f87fd519",
   "metadata": {},
   "outputs": [
    {
     "name": "stdout",
     "output_type": "stream",
     "text": [
      "Adding a domain pad to the velocity model...\n",
      "(2801, 13601)\n",
      "Including a 285.8 meter domain extension...\n",
      "Using the pad_style: edge\n",
      "Writing velocity model: velocity_models/marmousi_exact.hdf5\n"
     ]
    }
   ],
   "source": [
    "write_velocity_model(\n",
    "    fname,\n",
    "    ofname=\"velocity_models/marmousi_exact\",\n",
    "    bbox=bbox,\n",
    "    domain_pad=pad,\n",
    "    pad_style=\"edge\",\n",
    "    units=\"km-s\")"
   ]
  },
  {
   "cell_type": "markdown",
   "id": "2225c86c",
   "metadata": {},
   "source": [
    "To generate the mesh, run"
   ]
  },
  {
   "cell_type": "code",
   "execution_count": 13,
   "id": "43cf6e15",
   "metadata": {
    "scrolled": true
   },
   "outputs": [
    {
     "name": "stdout",
     "output_type": "stream",
     "text": [
      "Constraining 2 fixed points..\n",
      "Commencing mesh generation with 2893 vertices on rank 0.\n",
      "Termination reached...maximum number of iterations reached.\n",
      "Deleting 1 poor quality boundary entities...\n"
     ]
    }
   ],
   "source": [
    "points, cells = generate_mesh(domain=rectangle, edge_length=ef)"
   ]
  },
  {
   "cell_type": "markdown",
   "id": "527488d9",
   "metadata": {},
   "source": [
    "**Note:** `spyro` expects the coordinates to be in kilometers"
   ]
  },
  {
   "cell_type": "markdown",
   "id": "149bbbdb",
   "metadata": {},
   "source": [
    "The mesh can be visualized either with ParaView. It can be done by writing the mesh in a `vtk` format.\n",
    "\n",
    "**Note:** SeismicMesh output assumes the domain is (z,x) so for visualization in ParaView, the axes must be swapped so it appears as in the (x,z) plane."
   ]
  },
  {
   "cell_type": "code",
   "execution_count": 14,
   "id": "f197609a",
   "metadata": {},
   "outputs": [
    {
     "name": "stderr",
     "output_type": "stream",
     "text": [
      "WARNING:root:msh2 requires 3D points, but 2D points given. Appending 0 third component.\n",
      "WARNING:root:Binary Gmsh needs 32-bit integers (got int64). Converting.\n",
      "WARNING:root:Appending zeros to replace the missing physical tag data.\n",
      "WARNING:root:Appending zeros to replace the missing geometrical tag data.\n",
      "WARNING:root:VTK requires 3D points, but 2D points given. Appending 0 third component.\n"
     ]
    }
   ],
   "source": [
    "if comm.rank == 0:\n",
    "    meshio.write_points_cells(\n",
    "        \"marmousi.msh\",\n",
    "        points[:, [1, 0]] / 1000,\n",
    "        [(\"triangle\", cells)],\n",
    "        file_format=\"gmsh22\",\n",
    "    )\n",
    "    meshio.write_points_cells(\n",
    "        \"marmousi.vtk\",\n",
    "        points[:, [1, 0]] / 1000,\n",
    "        [(\"triangle\", cells)],\n",
    "        file_format=\"vtk\",\n",
    "    )"
   ]
  }
 ],
 "metadata": {
  "interpreter": {
   "hash": "c67c41e25c87599674fd3d02fb4fbc54e495917911ba9be48e79ac75206e842b"
  },
  "kernelspec": {
   "display_name": "Python 3",
   "language": "python",
   "name": "python3"
  },
  "language_info": {
   "codemirror_mode": {
    "name": "ipython",
    "version": 3
   },
   "file_extension": ".py",
   "mimetype": "text/x-python",
   "name": "python",
   "nbconvert_exporter": "python",
   "pygments_lexer": "ipython3",
   "version": "3.9.5"
  }
 },
 "nbformat": 4,
 "nbformat_minor": 5
}
