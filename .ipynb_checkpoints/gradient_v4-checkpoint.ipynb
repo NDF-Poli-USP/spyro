{
 "cells": [
  {
   "cell_type": "markdown",
   "id": "d46d0c5e",
   "metadata": {},
   "source": [
    "# Gradient calculation"
   ]
  },
  {
   "cell_type": "markdown",
   "id": "f6dd730e",
   "metadata": {},
   "source": [
    "## 1. Importing libraries"
   ]
  },
  {
   "cell_type": "code",
   "execution_count": 1,
   "id": "daea0460",
   "metadata": {},
   "outputs": [
    {
     "name": "stderr",
     "output_type": "stream",
     "text": [
      "/home/bruno/libs/firedrake/src/firedrake/firedrake/randomfunctiongen.py:358: UserWarning: Found unknown attribute: Falling back to numpy.random.PCG64DXSM, but Firedrake might need to wrap this attribute.\n",
      "  warnings.warn(\"Found unknown attribute: Falling back to numpy.random.%s, but Firedrake might need to wrap this attribute.\" % module_attr)\n",
      "firedrake:WARNING OMP_NUM_THREADS is not set or is set to a value greater than 1, we suggest setting OMP_NUM_THREADS=1 to improve performance\n"
     ]
    }
   ],
   "source": [
    "import spyro"
   ]
  },
  {
   "cell_type": "markdown",
   "id": "2aa65014",
   "metadata": {},
   "source": [
    "## 2. Generating input files"
   ]
  },
  {
   "cell_type": "markdown",
   "id": "f1de8363",
   "metadata": {},
   "source": [
    "Refer to the `marmousi.ipynb` to generate the required velocity model and mesh files."
   ]
  },
  {
   "cell_type": "markdown",
   "id": "97f90636",
   "metadata": {},
   "source": [
    "## 3. Building a model"
   ]
  },
  {
   "cell_type": "code",
   "execution_count": 2,
   "id": "9986e5c9",
   "metadata": {},
   "outputs": [],
   "source": [
    "model = {}"
   ]
  },
  {
   "cell_type": "markdown",
   "id": "706a9b79",
   "metadata": {},
   "source": [
    "The model options must define the parameters regarding the FEM, such as the **method**, **quadrature**, **order**, **dimension** and inputs associated with the regularization."
   ]
  },
  {
   "cell_type": "code",
   "execution_count": 3,
   "id": "1373d6d5",
   "metadata": {},
   "outputs": [],
   "source": [
    "model[\"opts\"] = {\n",
    "    \"method\": \"KMV\",  # either CG or KMV\n",
    "    \"quadratrue\": \"KMV\",  # Equi or KMV\n",
    "    \"degree\": 5,  # p order\n",
    "    \"dimension\": 2,  # dimension\n",
    "    \"regularization\": False,  # regularization is on?\n",
    "    \"gamma\": 1.0,  # regularization parameter\n",
    "}"
   ]
  },
  {
   "cell_type": "markdown",
   "id": "75d622ae",
   "metadata": {},
   "source": [
    "The parallelism type can be either **automatic** or **ensemble**, recommended if there is more than one source."
   ]
  },
  {
   "cell_type": "code",
   "execution_count": 4,
   "id": "8d23a6a4",
   "metadata": {},
   "outputs": [],
   "source": [
    "model[\"parallelism\"] = {\n",
    "    \"type\": \"automatic\",\n",
    "}"
   ]
  },
  {
   "cell_type": "markdown",
   "id": "57df9f54",
   "metadata": {},
   "source": [
    "In the mesh definition, one must define the dimensions, as well as the input meshfile, which can be `.segy` (recommended) or `.msh` files."
   ]
  },
  {
   "cell_type": "code",
   "execution_count": 5,
   "id": "3fd3ff10",
   "metadata": {},
   "outputs": [],
   "source": [
    "model[\"mesh\"] = {\n",
    "    \"Lz\": 3.5,  # depth in km - always positive\n",
    "    \"Lx\": 17.0,  # width in km - always positive\n",
    "    \"Ly\": 0.0,  # thickness in km - always positive\n",
    "    \"meshfile\": \"source_files/marmousi.msh\",\n",
    "    \"initmodel\": \"source_files/marmousi_guess.hdf5\",\n",
    "    \"truemodel\": \"source_files/marmousi_exact.hdf5\",\n",
    "}"
   ]
  },
  {
   "cell_type": "markdown",
   "id": "915cc187",
   "metadata": {},
   "source": [
    "To remove the influence of the waves that reflect beyond the desired domain, the Perfect Matched Layers parameters must also be defined."
   ]
  },
  {
   "cell_type": "code",
   "execution_count": 6,
   "id": "bfc9ccb2",
   "metadata": {},
   "outputs": [],
   "source": [
    "model[\"BCs\"] = {\n",
    "    \"status\": True,  # True or false\n",
    "    \"outer_bc\": \"non-reflective\",  #  None or non-reflective (outer boundary condition)\n",
    "    \"damping_type\": \"polynomial\",  # polynomial, hyperbolic, shifted_hyperbolic\n",
    "    \"exponent\": 2,  # damping layer has a exponent variation\n",
    "    \"cmax\": 4.5,  # maximum acoustic wave velocity in PML - km/s\n",
    "    \"R\": 1e-6,  # theoretical reflection coefficient\n",
    "    \"lz\": 0.9,  # thickness of the PML in the z-direction (km) - always positive\n",
    "    \"lx\": 0.9,  # thickness of the PML in the x-direction (km) - always positive\n",
    "    \"ly\": 0.0,  # thickness of the PML in the y-direction (km) - always positive\n",
    "}"
   ]
  },
  {
   "cell_type": "code",
   "execution_count": 7,
   "id": "51a1fc05",
   "metadata": {},
   "outputs": [],
   "source": [
    "model[\"acquisition\"] = {\n",
    "    \"source_type\": \"Ricker\",\n",
    "    \"num_sources\": 1,\n",
    "    \"source_pos\": spyro.create_transect((-0.01, 9.0), (-0.01, 9.0), 1),\n",
    "    \"frequency\": 5.0,\n",
    "    \"delay\": 1.0,\n",
    "    \"num_receivers\": 500,\n",
    "    \"receiver_locations\": spyro.create_transect((-0.10, 0.1), (-0.10, 17.0), 500),\n",
    "}"
   ]
  },
  {
   "cell_type": "markdown",
   "id": "fcd91c86",
   "metadata": {},
   "source": [
    "To define the time domain, one must be careful with the input parameters. The **dt** argument has a maximum possible value. Also, the **fspool** stablishes how frequently the solution is saved to RAM."
   ]
  },
  {
   "cell_type": "code",
   "execution_count": 8,
   "id": "3d06fee2",
   "metadata": {},
   "outputs": [],
   "source": [
    "model[\"timeaxis\"] = {\n",
    "    \"t0\": 0.0,  #  Initial time for event\n",
    "    \"tf\": 4.00,  # Final time for event\n",
    "    \"dt\": 0.001,\n",
    "    \"amplitude\": 1,  # the Ricker has an amplitude of 1.\n",
    "    \"nspool\": 1000,  # how frequently to output solution to pvds\n",
    "    \"fspool\": 10,  # how frequently to save solution to RAM\n",
    "}"
   ]
  },
  {
   "cell_type": "code",
   "execution_count": 9,
   "id": "98235ae9",
   "metadata": {
    "scrolled": true
   },
   "outputs": [],
   "source": [
    "comm = spyro.utils.mpi_init(model)"
   ]
  },
  {
   "cell_type": "code",
   "execution_count": 11,
   "id": "e2429d21",
   "metadata": {},
   "outputs": [
    {
     "ename": "Error",
     "evalue": "error code 65\n[0] PetscViewerFileSetName() line 649 in /home/bruno/libs/firedrake/src/petsc/src/sys/classes/viewer/impls/ascii/filev.c\n[0] PetscViewerFileSetName_ASCII() line 753 in /home/bruno/libs/firedrake/src/petsc/src/sys/classes/viewer/impls/ascii/filev.c\n[0] Unable to open file\n[0] Cannot open PetscViewer file: source_files/marmousi.msh",
     "output_type": "error",
     "traceback": [
      "\u001b[0;31m---------------------------------------------------------------------------\u001b[0m",
      "\u001b[0;31mError\u001b[0m                                     Traceback (most recent call last)",
      "\u001b[0;32m<ipython-input-11-40c67e5e0527>\u001b[0m in \u001b[0;36m<module>\u001b[0;34m\u001b[0m\n\u001b[0;32m----> 1\u001b[0;31m \u001b[0mmesh\u001b[0m\u001b[0;34m,\u001b[0m \u001b[0mV\u001b[0m \u001b[0;34m=\u001b[0m \u001b[0mspyro\u001b[0m\u001b[0;34m.\u001b[0m\u001b[0mio\u001b[0m\u001b[0;34m.\u001b[0m\u001b[0mread_mesh\u001b[0m\u001b[0;34m(\u001b[0m\u001b[0mmodel\u001b[0m\u001b[0;34m,\u001b[0m \u001b[0mcomm\u001b[0m\u001b[0;34m)\u001b[0m\u001b[0;34m\u001b[0m\u001b[0;34m\u001b[0m\u001b[0m\n\u001b[0m",
      "\u001b[0;32m~/Desktop/IC/spyro/spyro/io/io.py\u001b[0m in \u001b[0;36mread_mesh\u001b[0;34m(model, ens_comm)\u001b[0m\n\u001b[1;32m    328\u001b[0m \u001b[0;34m\u001b[0m\u001b[0m\n\u001b[1;32m    329\u001b[0m     \u001b[0;32mif\u001b[0m \u001b[0mmethod\u001b[0m \u001b[0;34m==\u001b[0m \u001b[0;34m\"CG\"\u001b[0m \u001b[0;32mor\u001b[0m \u001b[0mmethod\u001b[0m \u001b[0;34m==\u001b[0m \u001b[0;34m\"KMV\"\u001b[0m\u001b[0;34m:\u001b[0m\u001b[0;34m\u001b[0m\u001b[0;34m\u001b[0m\u001b[0m\n\u001b[0;32m--> 330\u001b[0;31m         mesh = fire.Mesh(\n\u001b[0m\u001b[1;32m    331\u001b[0m             \u001b[0mmshname\u001b[0m\u001b[0;34m,\u001b[0m\u001b[0;34m\u001b[0m\u001b[0;34m\u001b[0m\u001b[0m\n\u001b[1;32m    332\u001b[0m             \u001b[0mcomm\u001b[0m\u001b[0;34m=\u001b[0m\u001b[0mens_comm\u001b[0m\u001b[0;34m.\u001b[0m\u001b[0mcomm\u001b[0m\u001b[0;34m,\u001b[0m\u001b[0;34m\u001b[0m\u001b[0;34m\u001b[0m\u001b[0m\n",
      "\u001b[0;32mPETSc/Log.pyx\u001b[0m in \u001b[0;36mpetsc4py.PETSc.Log.EventDecorator.decorator.wrapped_func\u001b[0;34m()\u001b[0m\n",
      "\u001b[0;32mPETSc/Log.pyx\u001b[0m in \u001b[0;36mpetsc4py.PETSc.Log.EventDecorator.decorator.wrapped_func\u001b[0;34m()\u001b[0m\n",
      "\u001b[0;32m~/libs/firedrake/src/firedrake/firedrake/mesh.py\u001b[0m in \u001b[0;36mMesh\u001b[0;34m(meshfile, **kwargs)\u001b[0m\n\u001b[1;32m   1763\u001b[0m             \u001b[0mopts\u001b[0m \u001b[0;34m=\u001b[0m \u001b[0mOptionsManager\u001b[0m\u001b[0;34m(\u001b[0m\u001b[0mopts\u001b[0m\u001b[0;34m,\u001b[0m \u001b[0;34m\"\"\u001b[0m\u001b[0;34m)\u001b[0m\u001b[0;34m\u001b[0m\u001b[0;34m\u001b[0m\u001b[0m\n\u001b[1;32m   1764\u001b[0m             \u001b[0;32mwith\u001b[0m \u001b[0mopts\u001b[0m\u001b[0;34m.\u001b[0m\u001b[0minserted_options\u001b[0m\u001b[0;34m(\u001b[0m\u001b[0;34m)\u001b[0m\u001b[0;34m:\u001b[0m\u001b[0;34m\u001b[0m\u001b[0;34m\u001b[0m\u001b[0m\n\u001b[0;32m-> 1765\u001b[0;31m                 \u001b[0mplex\u001b[0m \u001b[0;34m=\u001b[0m \u001b[0m_from_gmsh\u001b[0m\u001b[0;34m(\u001b[0m\u001b[0mmeshfile\u001b[0m\u001b[0;34m,\u001b[0m \u001b[0mcomm\u001b[0m\u001b[0;34m)\u001b[0m\u001b[0;34m\u001b[0m\u001b[0;34m\u001b[0m\u001b[0m\n\u001b[0m\u001b[1;32m   1766\u001b[0m         \u001b[0;32melif\u001b[0m \u001b[0mext\u001b[0m\u001b[0;34m.\u001b[0m\u001b[0mlower\u001b[0m\u001b[0;34m(\u001b[0m\u001b[0;34m)\u001b[0m \u001b[0;34m==\u001b[0m \u001b[0;34m'.node'\u001b[0m\u001b[0;34m:\u001b[0m\u001b[0;34m\u001b[0m\u001b[0;34m\u001b[0m\u001b[0m\n\u001b[1;32m   1767\u001b[0m             \u001b[0mplex\u001b[0m \u001b[0;34m=\u001b[0m \u001b[0m_from_triangle\u001b[0m\u001b[0;34m(\u001b[0m\u001b[0mmeshfile\u001b[0m\u001b[0;34m,\u001b[0m \u001b[0mgeometric_dim\u001b[0m\u001b[0;34m,\u001b[0m \u001b[0mcomm\u001b[0m\u001b[0;34m)\u001b[0m\u001b[0;34m\u001b[0m\u001b[0;34m\u001b[0m\u001b[0m\n",
      "\u001b[0;32mPETSc/Log.pyx\u001b[0m in \u001b[0;36mpetsc4py.PETSc.Log.EventDecorator.decorator.wrapped_func\u001b[0;34m()\u001b[0m\n",
      "\u001b[0;32mPETSc/Log.pyx\u001b[0m in \u001b[0;36mpetsc4py.PETSc.Log.EventDecorator.decorator.wrapped_func\u001b[0;34m()\u001b[0m\n",
      "\u001b[0;32m~/libs/firedrake/src/firedrake/firedrake/mesh.py\u001b[0m in \u001b[0;36m_from_gmsh\u001b[0;34m(filename, comm)\u001b[0m\n\u001b[1;32m    219\u001b[0m     \u001b[0mgmsh_viewer\u001b[0m\u001b[0;34m.\u001b[0m\u001b[0msetType\u001b[0m\u001b[0;34m(\u001b[0m\u001b[0;34m\"ascii\"\u001b[0m\u001b[0;34m)\u001b[0m\u001b[0;34m\u001b[0m\u001b[0;34m\u001b[0m\u001b[0m\n\u001b[1;32m    220\u001b[0m     \u001b[0mgmsh_viewer\u001b[0m\u001b[0;34m.\u001b[0m\u001b[0msetFileMode\u001b[0m\u001b[0;34m(\u001b[0m\u001b[0;34m\"r\"\u001b[0m\u001b[0;34m)\u001b[0m\u001b[0;34m\u001b[0m\u001b[0;34m\u001b[0m\u001b[0m\n\u001b[0;32m--> 221\u001b[0;31m     \u001b[0mgmsh_viewer\u001b[0m\u001b[0;34m.\u001b[0m\u001b[0msetFileName\u001b[0m\u001b[0;34m(\u001b[0m\u001b[0mfilename\u001b[0m\u001b[0;34m)\u001b[0m\u001b[0;34m\u001b[0m\u001b[0;34m\u001b[0m\u001b[0m\n\u001b[0m\u001b[1;32m    222\u001b[0m     \u001b[0mgmsh_plex\u001b[0m \u001b[0;34m=\u001b[0m \u001b[0mPETSc\u001b[0m\u001b[0;34m.\u001b[0m\u001b[0mDMPlex\u001b[0m\u001b[0;34m(\u001b[0m\u001b[0;34m)\u001b[0m\u001b[0;34m.\u001b[0m\u001b[0mcreateGmsh\u001b[0m\u001b[0;34m(\u001b[0m\u001b[0mgmsh_viewer\u001b[0m\u001b[0;34m,\u001b[0m \u001b[0mcomm\u001b[0m\u001b[0;34m=\u001b[0m\u001b[0mcomm\u001b[0m\u001b[0;34m)\u001b[0m\u001b[0;34m\u001b[0m\u001b[0;34m\u001b[0m\u001b[0m\n\u001b[1;32m    223\u001b[0m \u001b[0;34m\u001b[0m\u001b[0m\n",
      "\u001b[0;32mPETSc/Viewer.pyx\u001b[0m in \u001b[0;36mpetsc4py.PETSc.Viewer.setFileName\u001b[0;34m()\u001b[0m\n",
      "\u001b[0;31mError\u001b[0m: error code 65\n[0] PetscViewerFileSetName() line 649 in /home/bruno/libs/firedrake/src/petsc/src/sys/classes/viewer/impls/ascii/filev.c\n[0] PetscViewerFileSetName_ASCII() line 753 in /home/bruno/libs/firedrake/src/petsc/src/sys/classes/viewer/impls/ascii/filev.c\n[0] Unable to open file\n[0] Cannot open PetscViewer file: source_files/marmousi.msh"
     ]
    }
   ],
   "source": [
    "mesh, V = spyro.io.read_mesh(model, comm)"
   ]
  },
  {
   "cell_type": "code",
   "execution_count": null,
   "id": "78e75a8b",
   "metadata": {},
   "outputs": [],
   "source": [
    "vp = spyro.io.interpolate(model, mesh, V, guess=True)"
   ]
  },
  {
   "cell_type": "code",
   "execution_count": null,
   "id": "1ad3999d",
   "metadata": {},
   "outputs": [],
   "source": [
    "sources = spyro.Sources(model, mesh, V, comm)"
   ]
  },
  {
   "cell_type": "code",
   "execution_count": null,
   "id": "1c2324d1",
   "metadata": {},
   "outputs": [],
   "source": [
    "receivers = spyro.Receivers(model, mesh, V, comm)"
   ]
  },
  {
   "cell_type": "code",
   "execution_count": null,
   "id": "ef4dc212",
   "metadata": {},
   "outputs": [],
   "source": [
    "wavelet = spyro.full_ricker_wavelet(\n",
    "    dt=model[\"timeaxis\"][\"dt\"],\n",
    "    tf=model[\"timeaxis\"][\"tf\"],\n",
    "    freq=model[\"acquisition\"][\"frequency\"],\n",
    ")"
   ]
  },
  {
   "cell_type": "code",
   "execution_count": null,
   "id": "e50574b6",
   "metadata": {},
   "outputs": [],
   "source": [
    "p_guess, p_guess_recv = spyro.solvers.forward(\n",
    "            model,\n",
    "            mesh,\n",
    "            comm,\n",
    "            vp,\n",
    "            sources,\n",
    "            wavelet,\n",
    "            receivers,\n",
    "        )"
   ]
  },
  {
   "cell_type": "code",
   "execution_count": null,
   "id": "416d489b",
   "metadata": {},
   "outputs": [],
   "source": [
    "misfit = spyro.utils.evaluate_misfit(\n",
    "        model, p_guess_recv, p_exact_recv"
   ]
  },
  {
   "cell_type": "code",
   "execution_count": null,
   "id": "3eacdd22",
   "metadata": {},
   "outputs": [],
   "source": [
    "dJ = spyro.solvers.gradient(\n",
    "            model,\n",
    "            mesh,\n",
    "            comm,\n",
    "            vp,\n",
    "            receivers,\n",
    "            p_guess,\n",
    "            misfit,\n",
    "        )"
   ]
  },
  {
   "cell_type": "code",
   "execution_count": null,
   "id": "2323fb26",
   "metadata": {},
   "outputs": [],
   "source": [
    "File('gradient.pvd').write(dJ)"
   ]
  }
 ],
 "metadata": {
  "kernelspec": {
   "display_name": "firedrake",
   "language": "python",
   "name": "firedrake"
  },
  "language_info": {
   "codemirror_mode": {
    "name": "ipython",
    "version": 3
   },
   "file_extension": ".py",
   "mimetype": "text/x-python",
   "name": "python",
   "nbconvert_exporter": "python",
   "pygments_lexer": "ipython3",
   "version": "3.9.5"
  }
 },
 "nbformat": 4,
 "nbformat_minor": 5
}
