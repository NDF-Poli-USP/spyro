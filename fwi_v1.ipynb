{
 "cells": [
  {
   "cell_type": "markdown",
   "id": "35eb3f9b",
   "metadata": {},
   "source": [
    "# Full Waveform Inversion (FWI)"
   ]
  },
  {
   "cell_type": "markdown",
   "id": "fd7db673",
   "metadata": {},
   "source": [
    "## 1. Introduction"
   ]
  },
  {
   "cell_type": "markdown",
   "id": "55885922",
   "metadata": {},
   "source": [
    "The Full Waveform Inversion (FWI) techinique is designed to simulate a geophysical survey and estimate the model parameters (e.g., seismic velocity) to explain the observed waveforms in a way that minimizes a measure of error (e.g., misfit), process known as inversion.\n",
    "\n",
    "FWI utilizes both amplitudes and phase information from recorded data and can thus image higher resolution targets to half the spatial wavelength of the source frequency (Fichtner, 2011).\n",
    "\n",
    "The following shows a basic overview of an experimental configuration used in FWI in a marine environment.\n",
    "\n",
    "<img src=\"fwi_setup.png\" alt=\"Drawing\" style=\"width: 600px;\"/>\n",
    "\n",
    "Source: [1]."
   ]
  },
  {
   "cell_type": "markdown",
   "id": "688aeac2",
   "metadata": {},
   "source": [
    "`spyro` uses continuous Galerkin finite elements are applied to perform full waveform inversion (FWI) for seismic velocity model building. It is used a time-domain FWI approach with meshes composed of variably sized triangular elements to discretize the domain. To resolve both the forward and adjoint-state equations, and to calculate a mesh-independent gradient associated with the FWI process, a fully-explicit, variable higher-order (up to degree k = 5 in 2D and k = 3 in 3D) mass lumping method is used."
   ]
  },
  {
   "cell_type": "markdown",
   "id": "a3ebbab0",
   "metadata": {},
   "source": [
    "The adaptation of the triangular elements to the expected peak source frequency and properties of the wavefield (e.g., local P-wavespeed) and by leveraging higher-order basis functions, the number of degrees-of-freedom necessary to discretize the domain can be reduced. "
   ]
  },
  {
   "cell_type": "markdown",
   "id": "42c67e9d",
   "metadata": {},
   "source": [
    "## 2. FWI 2D example"
   ]
  },
  {
   "cell_type": "markdown",
   "id": "15750b24",
   "metadata": {},
   "source": [
    "### 2.1. Importing libraries"
   ]
  },
  {
   "cell_type": "markdown",
   "id": "5a97cf9b",
   "metadata": {},
   "source": [
    "For implementing FWI, the ROL library must be installed. First, activate the `Firedrake` environment. Then, install the `patchelf` library:\n",
    "\n",
    "`sudo apt install patchelf`\n",
    "\n",
    "Then install the Rapid Optimization Library along with roltrilinos:\n",
    "\n",
    "`pip3 install --no-cache-dir roltrilinos`\n",
    "\n",
    "`pip3 install --no-cache-dir ROL`"
   ]
  },
  {
   "cell_type": "code",
   "execution_count": 3,
   "id": "76922821",
   "metadata": {},
   "outputs": [],
   "source": [
    "from firedrake import *\n",
    "import numpy as np\n",
    "import finat\n",
    "from ROL.firedrake_vector import FiredrakeVector as FeVector\n",
    "import ROL\n",
    "from mpi4py import MPI\n",
    "\n",
    "import spyro\n",
    "\n",
    "import psutil\n",
    "import os"
   ]
  },
  {
   "cell_type": "markdown",
   "id": "40bb9ae6",
   "metadata": {},
   "source": [
    "### 2.2. Memory usage analysis"
   ]
  },
  {
   "cell_type": "markdown",
   "id": "4d4575c0",
   "metadata": {},
   "source": [
    "Since FWI requires a high computational cost, the memory usage should be monitored. An output directory is also created."
   ]
  },
  {
   "cell_type": "code",
   "execution_count": 4,
   "id": "61a7a0ba",
   "metadata": {},
   "outputs": [],
   "source": [
    "def get_memory_usage():\n",
    "    \"\"\"Return the memory usage in Mo.\"\"\"\n",
    "    process = psutil.Process(os.getpid())\n",
    "    mem = process.memory_info()[0] / float(2 ** 20)\n",
    "    return mem\n",
    "\n",
    "\n",
    "outdir = \"fwi/\"\n",
    "if COMM_WORLD.rank == 0:\n",
    "    mem = open(outdir + \"mem.txt\", \"w\")\n",
    "    func = open(outdir + \"func.txt\", \"w\")"
   ]
  },
  {
   "cell_type": "markdown",
   "id": "eb362323",
   "metadata": {},
   "source": [
    "### 2.3. Model definition"
   ]
  },
  {
   "cell_type": "markdown",
   "id": "adebffc8",
   "metadata": {},
   "source": [
    "`spyro` requires a model dictionary containing all relevant parameters and information. A simple model for testing can be created as follows."
   ]
  },
  {
   "cell_type": "code",
   "execution_count": 5,
   "id": "366d30d3",
   "metadata": {},
   "outputs": [],
   "source": [
    "model = {}"
   ]
  },
  {
   "cell_type": "markdown",
   "id": "db89b917",
   "metadata": {},
   "source": [
    "#### 2.3.1. Model options"
   ]
  },
  {
   "cell_type": "markdown",
   "id": "f129f786",
   "metadata": {},
   "source": [
    "Information regarding the method, its order and the domain dimension."
   ]
  },
  {
   "cell_type": "code",
   "execution_count": 24,
   "id": "9cff1a01",
   "metadata": {},
   "outputs": [],
   "source": [
    "model[\"opts\"] = {\n",
    "        \"method\": \"KMV\",  # either CG or KMV\n",
    "        \"quadrature\": \"KMV\", # Equi or KMV\n",
    "        \"degree\": 4,  # p order\n",
    "        \"dimension\": 2,  # dimension\n",
    "        \"regularization\": False,  # regularization is on?\n",
    "        \"gamma\": 1e-5, # regularization parameter\n",
    "    }"
   ]
  },
  {
   "cell_type": "markdown",
   "id": "3eaa61bd",
   "metadata": {},
   "source": [
    "#### 2.3.2. Model parallelism"
   ]
  },
  {
   "cell_type": "markdown",
   "id": "efbccc3d",
   "metadata": {},
   "source": [
    "It is recommended that the parallelism is settled to *spatial*."
   ]
  },
  {
   "cell_type": "code",
   "execution_count": 7,
   "id": "95de3cf3",
   "metadata": {},
   "outputs": [],
   "source": [
    "model[\"parallelism\"] = {\n",
    "        \"type\": \"automatic\",  # options: automatic (same number of cores for evey processor) or spatial\n",
    "    }"
   ]
  },
  {
   "cell_type": "markdown",
   "id": "aaa84309",
   "metadata": {},
   "source": [
    "#### 2.3.3. Model mesh"
   ]
  },
  {
   "cell_type": "markdown",
   "id": "e59e25c1",
   "metadata": {},
   "source": [
    "The domain dimensions must be defined, as well as the mesh and velocity files imported."
   ]
  },
  {
   "cell_type": "code",
   "execution_count": 8,
   "id": "f0e85051",
   "metadata": {},
   "outputs": [],
   "source": [
    "model[\"mesh\"] = {\n",
    "            \"Lz\": 1.0,  # depth in km - always positive\n",
    "            \"Lx\": 1.0,  # width in km - always positive\n",
    "            \"Ly\": 0.0,  # thickness in km - always positive\n",
    "            \"meshfile\": \"not_used.msh\",\n",
    "            \"initmodel\": \"not_used.hdf5\",\n",
    "            \"truemodel\": \"not_used.hdf5\",\n",
    "        }"
   ]
  },
  {
   "cell_type": "markdown",
   "id": "95e8c39a",
   "metadata": {},
   "source": [
    "#### 2.3.4. Model boundary conditions"
   ]
  },
  {
   "cell_type": "markdown",
   "id": "a3f22dd2",
   "metadata": {},
   "source": [
    "`spyro` can use a perfectly matched layer (PML), an artificial absorbing layer for wave equations, commonly used to truncate computational regions in numerical methods to simulate problems with open boundaries. "
   ]
  },
  {
   "cell_type": "code",
   "execution_count": 9,
   "id": "22cca0f7",
   "metadata": {},
   "outputs": [],
   "source": [
    "# Specify a 250-m Absorbing Boundary Layer (ABL) on the three sides of the domain to damp outgoing waves.\n",
    "model[\"BCs\"] = {\n",
    "    \"status\": True,  # True or False, used to turn on any type of BC\n",
    "    \"method\": \"PML\", # either PML or Damping, used to turn on any type of BC\n",
    "    \"outer_bc\": \"non-reflective\", #  none or non-reflective (outer boundary condition)\n",
    "    \"damping_type\": \"polynomial\",  # polynomial, hyperbolic, shifted_hyperbolic\n",
    "    \"exponent\": 2,  # damping layer has a exponent variation\n",
    "    \"cmax\": 1.5,  # maximum acoustic wave velocity in PML - km/s\n",
    "    \"R\": 1e-6,  # theoretical reflection coefficient\n",
    "    \"lz\": 0.7,  # thickness of the PML in the z-direction (km) - always positive\n",
    "    \"lx\": 0.7,  # thickness of the PML in the x-direction (km) - always positive\n",
    "    \"ly\": 0.0,  # thickness of the PML in the y-direction (km) - always positive\n",
    "}"
   ]
  },
  {
   "cell_type": "markdown",
   "id": "5fff41be",
   "metadata": {},
   "source": [
    "#### 2.3.5. Model acquisition"
   ]
  },
  {
   "cell_type": "markdown",
   "id": "fe915cb3",
   "metadata": {},
   "source": [
    "The user must inform some parameters regarding the experimental setup of data acquisition."
   ]
  },
  {
   "cell_type": "code",
   "execution_count": 11,
   "id": "eb26cf16",
   "metadata": {},
   "outputs": [],
   "source": [
    "model[\"acquisition\"] = {\n",
    "            \"source_type\": \"Ricker\",\n",
    "            \"source_pos\": [(-0.5, 0.5)],\n",
    "            \"frequency\": 10.0,\n",
    "            \"delay\": 1.0,\n",
    "            \"receiver_locations\": spyro.create_transect(\n",
    "            (-0.25, 0.2), (-0.25, 0.8), 10\n",
    "            ),\n",
    "        }"
   ]
  },
  {
   "cell_type": "markdown",
   "id": "b78a3c5d",
   "metadata": {},
   "source": [
    "#### 2.3.6. Model time domain"
   ]
  },
  {
   "cell_type": "markdown",
   "id": "0413b2db",
   "metadata": {},
   "source": [
    "The last part of the model is to create the time axis."
   ]
  },
  {
   "cell_type": "code",
   "execution_count": 12,
   "id": "4d7958c0",
   "metadata": {},
   "outputs": [],
   "source": [
    "model[\"aut_dif\"] = {\n",
    "        \"status\": True, \n",
    "    }\n",
    "\n",
    "model[\"timeaxis\"] = {\n",
    "    \"t0\": 0.0,  #  Initial time for event\n",
    "    \"tf\": 1.0,  # Final time for event (for test 7)\n",
    "    \"dt\": 0.001,  # timestep size (divided by 2 in the test 4. dt for test 3 is 0.00050)\n",
    "    \"amplitude\": 1,  # the Ricker has an amplitude of 1.\n",
    "    \"nspool\":  2000,  # (20 for dt=0.00050) how frequently to output solution to pvds\n",
    "    \"fspool\": 1,  # how frequently to save solution to RAM\n",
    "}"
   ]
  },
  {
   "cell_type": "markdown",
   "id": "a8a76899",
   "metadata": {},
   "source": [
    "#### 2.3.7. Mesh generation"
   ]
  },
  {
   "cell_type": "markdown",
   "id": "3e434dfe",
   "metadata": {},
   "source": [
    "Due to the fact that a simple mesh is generated, the process can be done with a `firedrake` function:"
   ]
  },
  {
   "cell_type": "code",
   "execution_count": 16,
   "id": "51c68c60",
   "metadata": {},
   "outputs": [],
   "source": [
    "mesh = RectangleMesh(100, 100, 1.5, 1.5) # to test FWI, mesh aligned with interface\n",
    "mesh.coordinates.dat.data[:,0] *= -1"
   ]
  },
  {
   "cell_type": "markdown",
   "id": "03faeb69",
   "metadata": {},
   "source": [
    "#### 2.3.8. Models extraction"
   ]
  },
  {
   "cell_type": "markdown",
   "id": "79be1ced",
   "metadata": {},
   "source": [
    "The exact and guess models can be extracted from the function:"
   ]
  },
  {
   "cell_type": "code",
   "execution_count": 19,
   "id": "22517c80",
   "metadata": {},
   "outputs": [],
   "source": [
    "def _make_vp(V, mesh, v0=1.5, v1=4.0, name='exact'):\n",
    "    \"\"\"Create a half space\"\"\"\n",
    "    z, x = SpatialCoordinate(mesh)\n",
    "    velocity = conditional(z < -0.5, v0, v1)\n",
    "    vp       = Function(V, name=\"vp\").interpolate(velocity)\n",
    "    File(name+\"_vel.pvd\").write(vp)\n",
    "\n",
    "    return vp"
   ]
  },
  {
   "cell_type": "markdown",
   "id": "8f5ac147",
   "metadata": {},
   "source": [
    "Then, it is defined and extracted:"
   ]
  },
  {
   "cell_type": "code",
   "execution_count": 22,
   "id": "57c74b8f",
   "metadata": {},
   "outputs": [],
   "source": [
    "element  = spyro.domains.space.FE_method(\n",
    "            mesh, model[\"opts\"][\"method\"], \n",
    "            model[\"opts\"][\"degree\"]\n",
    "            )\n",
    "V        = FunctionSpace(mesh, element)\n",
    "vp_exact = _make_vp(V, mesh,name='exact')\n",
    "vp_guess = _make_vp(V, mesh, v0=1.5, v1=1.5,name='guess')"
   ]
  },
  {
   "cell_type": "markdown",
   "id": "8fece0d2",
   "metadata": {},
   "source": [
    "#### 2.3.9. Model reading"
   ]
  },
  {
   "cell_type": "markdown",
   "id": "0fa9b2ea",
   "metadata": {},
   "source": [
    "Gerar shot record com modelo real"
   ]
  },
  {
   "cell_type": "markdown",
   "id": "47e45a4b",
   "metadata": {},
   "source": [
    "The next step is to read the model file and apply some functions to it. Also, the water domain is identified."
   ]
  },
  {
   "cell_type": "code",
   "execution_count": 25,
   "id": "585b1761",
   "metadata": {},
   "outputs": [
    {
     "name": "stdout",
     "output_type": "stream",
     "text": [
      "The mesh has 220801 degrees of freedom\n"
     ]
    }
   ],
   "source": [
    "if COMM_WORLD.rank == 0:\n",
    "    print(f\"The mesh has {V.dim()} degrees of freedom\")\n",
    "comm = spyro.utils.mpi_init(model)\n",
    "sources = spyro.Sources(model, mesh, V, comm)\n",
    "receivers = spyro.Receivers(model, mesh, V, comm)\n",
    "wavelet = spyro.full_ricker_wavelet(\n",
    "    model[\"timeaxis\"][\"dt\"],\n",
    "    model[\"timeaxis\"][\"tf\"],\n",
    "    model[\"acquisition\"][\"frequency\"],\n",
    ")\n",
    "if comm.ensemble_comm.rank == 0:\n",
    "    control_file = File(outdir + \"control.pvd\", comm=comm.comm)\n",
    "    grad_file = File(outdir + \"grad.pvd\", comm=comm.comm)\n",
    "quad_rule = finat.quadrature.make_quadrature(\n",
    "    V.finat_element.cell, V.ufl_element().degree(), \"KMV\"\n",
    ")\n",
    "dxlump = dx(rule=quad_rule)\n",
    "\n",
    "water = np.where(vp_exact.dat.data[:] < 0.5)"
   ]
  },
  {
   "cell_type": "markdown",
   "id": "25fd18dc",
   "metadata": {},
   "source": [
    "### 2.4. Classes and functions"
   ]
  },
  {
   "cell_type": "markdown",
   "id": "50dd2401",
   "metadata": {},
   "source": [
    "Some functions and classes are useful for dealing with the FWI. They are presented in the following sections."
   ]
  },
  {
   "cell_type": "markdown",
   "id": "ba37f2d7",
   "metadata": {},
   "source": [
    "#### 2.4.1. Inner product"
   ]
  },
  {
   "cell_type": "code",
   "execution_count": 26,
   "id": "34999172",
   "metadata": {},
   "outputs": [],
   "source": [
    "class L2Inner(object):\n",
    "    def __init__(self):\n",
    "        self.A = assemble(\n",
    "            TrialFunction(V) * TestFunction(V) * dxlump, mat_type=\"matfree\"\n",
    "        )\n",
    "        self.Ap = as_backend_type(self.A).mat()\n",
    "\n",
    "    def eval(self, _u, _v):\n",
    "        upet = as_backend_type(_u).vec()\n",
    "        vpet = as_backend_type(_v).vec()\n",
    "        A_u = self.Ap.createVecLeft()\n",
    "        self.Ap.mult(upet, A_u)\n",
    "        return vpet.dot(A_u)"
   ]
  },
  {
   "cell_type": "markdown",
   "id": "a8bcf938",
   "metadata": {},
   "source": [
    "#### 2.4.3. Object"
   ]
  },
  {
   "cell_type": "code",
   "execution_count": 27,
   "id": "b9b18545",
   "metadata": {},
   "outputs": [],
   "source": [
    "class Objective(ROL.Objective):\n",
    "    def __init__(self, inner_product):\n",
    "        ROL.Objective.__init__(self)\n",
    "        self.inner_product = inner_product\n",
    "        self.p_guess = None\n",
    "        self.misfit = 0.0\n",
    "        self.p_exact_recv = spyro.io.load_shots(model, comm)\n",
    "\n",
    "    def value(self, x, tol):\n",
    "        \"\"\"Compute the functional\"\"\"\n",
    "        J_total = np.zeros((1))\n",
    "        self.p_guess, p_guess_recv = spyro.solvers.forward(\n",
    "            model,\n",
    "            mesh,\n",
    "            comm,\n",
    "            vp,\n",
    "            sources,\n",
    "            wavelet,\n",
    "            receivers,\n",
    "        )\n",
    "        self.misfit = spyro.utils.evaluate_misfit(\n",
    "            model, p_guess_recv, self.p_exact_recv\n",
    "        )\n",
    "        J_total[0] += spyro.utils.compute_functional(model, self.misfit, velocity=vp)\n",
    "        J_total = COMM_WORLD.allreduce(J_total, op=MPI.SUM)\n",
    "        J_total[0] /= comm.ensemble_comm.size\n",
    "        if comm.comm.size > 1:\n",
    "            J_total[0] /= comm.comm.size\n",
    "\n",
    "        if COMM_WORLD.rank == 0:\n",
    "            mem.write(str(get_memory_usage()))\n",
    "            func.write(str(J_total[0]))\n",
    "            mem.write(\"\\n\")\n",
    "            func.write(\"\\n\")\n",
    "\n",
    "        return J_total[0]\n",
    "\n",
    "    def gradient(self, g, x, tol):\n",
    "        \"\"\"Compute the gradient of the functional\"\"\"\n",
    "        dJ = Function(V, name=\"gradient\")\n",
    "        dJ_local = spyro.solvers.gradient(\n",
    "            model,\n",
    "            mesh,\n",
    "            comm,\n",
    "            vp,\n",
    "            receivers,\n",
    "            self.p_guess,\n",
    "            self.misfit,\n",
    "        )\n",
    "        if comm.ensemble_comm.size > 1:\n",
    "            comm.allreduce(dJ_local, dJ)\n",
    "        else:\n",
    "            dJ = dJ_local\n",
    "        dJ /= comm.ensemble_comm.size\n",
    "        if comm.comm.size > 1:\n",
    "            dJ /= comm.comm.size\n",
    "        # regularize the gradient if asked.\n",
    "        if model[\"opts\"][\"regularization\"]:\n",
    "            dJ = regularize_gradient(vp, dJ)\n",
    "        # mask the water layer\n",
    "        dJ.dat.data[water] = 0.0\n",
    "        # Visualize\n",
    "        if comm.ensemble_comm.rank == 0:\n",
    "            grad_file.write(dJ)\n",
    "        g.scale(0)\n",
    "        g.vec += dJ\n",
    "\n",
    "    def update(self, x, flag, iteration):\n",
    "        vp.assign(Function(V, x.vec, name=\"velocity\"))\n",
    "        # If iteration reduces functional, save it.\n",
    "        if iteration >= 0:\n",
    "            if comm.ensemble_comm.rank == 0:\n",
    "                control_file.write(vp)"
   ]
  },
  {
   "cell_type": "markdown",
   "id": "662a0f48",
   "metadata": {},
   "source": [
    "### 2.5. Parameter definition and code running"
   ]
  },
  {
   "cell_type": "code",
   "execution_count": 28,
   "id": "e161cc3d",
   "metadata": {},
   "outputs": [
    {
     "ename": "FileNotFoundError",
     "evalue": "[Errno 2] No such file or directory: 'shots/shot_record_1.dat'",
     "output_type": "error",
     "traceback": [
      "\u001b[0;31m---------------------------------------------------------------------------\u001b[0m",
      "\u001b[0;31mFileNotFoundError\u001b[0m                         Traceback (most recent call last)",
      "\u001b[1;32m/home/olender/Development/bruno/spyro/fwi_v1.ipynb Cell 53'\u001b[0m in \u001b[0;36m<module>\u001b[0;34m\u001b[0m\n\u001b[1;32m     <a href='vscode-notebook-cell://ssh-remote%2B192.168.98.224/home/olender/Development/bruno/spyro/fwi_v1.ipynb#ch0000051vscode-remote?line=17'>18</a>\u001b[0m params \u001b[39m=\u001b[39m ROL\u001b[39m.\u001b[39mParameterList(paramsDict, \u001b[39m\"\u001b[39m\u001b[39mParameters\u001b[39m\u001b[39m\"\u001b[39m)\n\u001b[1;32m     <a href='vscode-notebook-cell://ssh-remote%2B192.168.98.224/home/olender/Development/bruno/spyro/fwi_v1.ipynb#ch0000051vscode-remote?line=19'>20</a>\u001b[0m inner_product \u001b[39m=\u001b[39m L2Inner()\n\u001b[0;32m---> <a href='vscode-notebook-cell://ssh-remote%2B192.168.98.224/home/olender/Development/bruno/spyro/fwi_v1.ipynb#ch0000051vscode-remote?line=21'>22</a>\u001b[0m obj \u001b[39m=\u001b[39m Objective(inner_product)\n\u001b[1;32m     <a href='vscode-notebook-cell://ssh-remote%2B192.168.98.224/home/olender/Development/bruno/spyro/fwi_v1.ipynb#ch0000051vscode-remote?line=23'>24</a>\u001b[0m u \u001b[39m=\u001b[39m Function(V, name\u001b[39m=\u001b[39m\u001b[39m\"\u001b[39m\u001b[39mvelocity\u001b[39m\u001b[39m\"\u001b[39m)\u001b[39m.\u001b[39massign(vp)\n\u001b[1;32m     <a href='vscode-notebook-cell://ssh-remote%2B192.168.98.224/home/olender/Development/bruno/spyro/fwi_v1.ipynb#ch0000051vscode-remote?line=24'>25</a>\u001b[0m opt \u001b[39m=\u001b[39m FeVector(u\u001b[39m.\u001b[39mvector(), inner_product)\n",
      "\u001b[1;32m/home/olender/Development/bruno/spyro/fwi_v1.ipynb Cell 51'\u001b[0m in \u001b[0;36mObjective.__init__\u001b[0;34m(self, inner_product)\u001b[0m\n\u001b[1;32m      <a href='vscode-notebook-cell://ssh-remote%2B192.168.98.224/home/olender/Development/bruno/spyro/fwi_v1.ipynb#ch0000049vscode-remote?line=4'>5</a>\u001b[0m \u001b[39mself\u001b[39m\u001b[39m.\u001b[39mp_guess \u001b[39m=\u001b[39m \u001b[39mNone\u001b[39;00m\n\u001b[1;32m      <a href='vscode-notebook-cell://ssh-remote%2B192.168.98.224/home/olender/Development/bruno/spyro/fwi_v1.ipynb#ch0000049vscode-remote?line=5'>6</a>\u001b[0m \u001b[39mself\u001b[39m\u001b[39m.\u001b[39mmisfit \u001b[39m=\u001b[39m \u001b[39m0.0\u001b[39m\n\u001b[0;32m----> <a href='vscode-notebook-cell://ssh-remote%2B192.168.98.224/home/olender/Development/bruno/spyro/fwi_v1.ipynb#ch0000049vscode-remote?line=6'>7</a>\u001b[0m \u001b[39mself\u001b[39m\u001b[39m.\u001b[39mp_exact_recv \u001b[39m=\u001b[39m spyro\u001b[39m.\u001b[39;49mio\u001b[39m.\u001b[39;49mload_shots(model, comm)\n",
      "File \u001b[0;32m~/Development/bruno/spyro/spyro/io/io.py:42\u001b[0m, in \u001b[0;36mensemble_load.<locals>.wrapper\u001b[0;34m(*args, **kwargs)\u001b[0m\n\u001b[1;32m     <a href='file:///home/olender/Development/bruno/spyro/spyro/io/io.py?line=39'>40</a>\u001b[0m \u001b[39mif\u001b[39;00m is_owner(_comm, snum):\n\u001b[1;32m     <a href='file:///home/olender/Development/bruno/spyro/spyro/io/io.py?line=40'>41</a>\u001b[0m     \u001b[39mif\u001b[39;00m custom_file_name \u001b[39mis\u001b[39;00m \u001b[39mNone\u001b[39;00m:\n\u001b[0;32m---> <a href='file:///home/olender/Development/bruno/spyro/spyro/io/io.py?line=41'>42</a>\u001b[0m         values \u001b[39m=\u001b[39m func(\u001b[39m*\u001b[39;49margs, \u001b[39m*\u001b[39;49m\u001b[39m*\u001b[39;49m\u001b[39mdict\u001b[39;49m(kwargs, file_name \u001b[39m=\u001b[39;49m \u001b[39m\"\u001b[39;49m\u001b[39mshots/shot_record_\u001b[39;49m\u001b[39m\"\u001b[39;49m\u001b[39m+\u001b[39;49m\u001b[39mstr\u001b[39;49m(snum\u001b[39m+\u001b[39;49m\u001b[39m1\u001b[39;49m)\u001b[39m+\u001b[39;49m\u001b[39m\"\u001b[39;49m\u001b[39m.dat\u001b[39;49m\u001b[39m\"\u001b[39;49m))\n\u001b[1;32m     <a href='file:///home/olender/Development/bruno/spyro/spyro/io/io.py?line=42'>43</a>\u001b[0m     \u001b[39melse\u001b[39;00m:\n\u001b[1;32m     <a href='file:///home/olender/Development/bruno/spyro/spyro/io/io.py?line=43'>44</a>\u001b[0m         values \u001b[39m=\u001b[39m func(\u001b[39m*\u001b[39margs, \u001b[39m*\u001b[39m\u001b[39m*\u001b[39m\u001b[39mdict\u001b[39m(kwargs, file_name \u001b[39m=\u001b[39m custom_file_name))\n",
      "File \u001b[0;32m~/Development/bruno/spyro/spyro/io/io.py:227\u001b[0m, in \u001b[0;36mload_shots\u001b[0;34m(model, comm, file_name)\u001b[0m\n\u001b[1;32m    <a href='file:///home/olender/Development/bruno/spyro/spyro/io/io.py?line=210'>211</a>\u001b[0m \u001b[39m@ensemble_load\u001b[39m\n\u001b[1;32m    <a href='file:///home/olender/Development/bruno/spyro/spyro/io/io.py?line=211'>212</a>\u001b[0m \u001b[39mdef\u001b[39;00m \u001b[39mload_shots\u001b[39m(model, comm, file_name\u001b[39m=\u001b[39m\u001b[39mNone\u001b[39;00m):\n\u001b[1;32m    <a href='file:///home/olender/Development/bruno/spyro/spyro/io/io.py?line=212'>213</a>\u001b[0m     \u001b[39m\"\"\"Load a `pickle` to a `numpy.ndarray`.\u001b[39;00m\n\u001b[1;32m    <a href='file:///home/olender/Development/bruno/spyro/spyro/io/io.py?line=213'>214</a>\u001b[0m \n\u001b[1;32m    <a href='file:///home/olender/Development/bruno/spyro/spyro/io/io.py?line=214'>215</a>\u001b[0m \u001b[39m    Parameters\u001b[39;00m\n\u001b[0;32m   (...)\u001b[0m\n\u001b[1;32m    <a href='file:///home/olender/Development/bruno/spyro/spyro/io/io.py?line=223'>224</a>\u001b[0m \n\u001b[1;32m    <a href='file:///home/olender/Development/bruno/spyro/spyro/io/io.py?line=224'>225</a>\u001b[0m \u001b[39m    \"\"\"\u001b[39;00m\n\u001b[0;32m--> <a href='file:///home/olender/Development/bruno/spyro/spyro/io/io.py?line=226'>227</a>\u001b[0m     \u001b[39mwith\u001b[39;00m \u001b[39mopen\u001b[39;49m(file_name, \u001b[39m\"\u001b[39;49m\u001b[39mrb\u001b[39;49m\u001b[39m\"\u001b[39;49m) \u001b[39mas\u001b[39;00m f:\n\u001b[1;32m    <a href='file:///home/olender/Development/bruno/spyro/spyro/io/io.py?line=227'>228</a>\u001b[0m         array \u001b[39m=\u001b[39m np\u001b[39m.\u001b[39masarray(pickle\u001b[39m.\u001b[39mload(f), dtype\u001b[39m=\u001b[39m\u001b[39mfloat\u001b[39m)\n\u001b[1;32m    <a href='file:///home/olender/Development/bruno/spyro/spyro/io/io.py?line=228'>229</a>\u001b[0m     \u001b[39mreturn\u001b[39;00m array\n",
      "\u001b[0;31mFileNotFoundError\u001b[0m: [Errno 2] No such file or directory: 'shots/shot_record_1.dat'"
     ]
    }
   ],
   "source": [
    "paramsDict = {\n",
    "    \"General\": {\"Secant\": {\"Type\": \"Limited-Memory BFGS\", \"Maximum Storage\": 10}},\n",
    "    \"Step\": {\n",
    "        \"Type\": \"Augmented Lagrangian\",\n",
    "        \"Augmented Lagrangian\": {\n",
    "            \"Subproblem Step Type\": \"Line Search\",\n",
    "            \"Subproblem Iteration Limit\": 5.0,\n",
    "        },\n",
    "        \"Line Search\": {\"Descent Method\": {\"Type\": \"Quasi-Newton Step\"}},\n",
    "    },\n",
    "    \"Status Test\": {\n",
    "        \"Gradient Tolerance\": 1e-16,\n",
    "        \"Iteration Limit\": 100,\n",
    "        \"Step Tolerance\": 1.0e-16,\n",
    "    },\n",
    "}\n",
    "\n",
    "params = ROL.ParameterList(paramsDict, \"Parameters\")\n",
    "\n",
    "inner_product = L2Inner()\n",
    "\n",
    "obj = Objective(inner_product)\n",
    "\n",
    "u = Function(V, name=\"velocity\").assign(vp)\n",
    "opt = FeVector(u.vector(), inner_product)\n",
    "\n",
    "# Add control bounds to the problem (uses more RAM)\n",
    "xlo = Function(V)\n",
    "xlo.interpolate(Constant(1.0))\n",
    "x_lo = FeVector(xlo.vector(), inner_product)\n",
    "\n",
    "xup = Function(V)\n",
    "xup.interpolate(Constant(5.0))\n",
    "x_up = FeVector(xup.vector(), inner_product)\n",
    "\n",
    "bnd = ROL.Bounds(x_lo, x_up, 1.0)\n",
    "\n",
    "algo = ROL.Algorithm(\"Line Search\", params)\n",
    "\n",
    "algo.run(opt, obj, bnd)\n",
    "\n",
    "if comm.ensemble_comm.rank == 0:\n",
    "    File(\"res.pvd\", comm=comm.comm).write(vp)\n",
    "\n",
    "\n",
    "if COMM_WORLD.rank == 0:\n",
    "    func.close()\n",
    "    mem.close()"
   ]
  },
  {
   "cell_type": "markdown",
   "id": "2a462c9a",
   "metadata": {},
   "source": [
    "## 3. References"
   ]
  },
  {
   "cell_type": "markdown",
   "id": "c4e8e62c",
   "metadata": {},
   "source": [
    "[1] ROBERTS, K. J. et al. spyro: a firedrake-based wave propagation and full waveform\n",
    "inversion finite element solver. Geoscientific Model Development Discussions, v. 2021, p.\n",
    "1–47, 2021. Available in: <https://gmd.copernicus.org/preprints/gmd-2021-363/> "
   ]
  }
 ],
 "metadata": {
  "interpreter": {
   "hash": "7b6518fd11591b9ea167b4c71eab9ddd6a067b6968890c099496a41ffe848854"
  },
  "kernelspec": {
   "display_name": "Python 3.9.5 64-bit",
   "language": "python",
   "name": "python3"
  },
  "language_info": {
   "codemirror_mode": {
    "name": "ipython",
    "version": 3
   },
   "file_extension": ".py",
   "mimetype": "text/x-python",
   "name": "python",
   "nbconvert_exporter": "python",
   "pygments_lexer": "ipython3",
   "version": "3.8.10"
  }
 },
 "nbformat": 4,
 "nbformat_minor": 5
}
