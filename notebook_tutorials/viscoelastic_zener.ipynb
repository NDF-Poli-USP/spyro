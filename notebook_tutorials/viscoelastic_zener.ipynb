{
 "cells": [
  {
   "cell_type": "markdown",
   "id": "d4036c6b-a232-4cf6-90d3-8019d6e63328",
   "metadata": {},
   "source": [
    "# Viscoelastic wave propagator with Zener formulation #"
   ]
  },
  {
   "cell_type": "markdown",
   "id": "5c8258ff-ce26-4ebf-8e62-7b2b5b4fecaf",
   "metadata": {},
   "source": [
    "This tutorial was prepared by Paula Neves de Araujo (paulan@ime.usp.br).\n",
    "\n",
    "This tutorial is an introduction to the isotropic viscoelastic wave propagator of Spyro using the Zener (or SLS) formulation. The tutorial is an adaption of the elastic forward notebook and is similar to the tutorial for the viscoelastic Kelvin-Voigt model.\n",
    "\n",
    "First, the notebook environment is configured and the required modules are imported. If you are running this notebook in Google colab, please copy the following code into a code block before running the notebook:"
   ]
  },
  {
   "cell_type": "markdown",
   "id": "a2c3b978-937e-4ef4-b136-1d2a71c51dcb",
   "metadata": {},
   "source": [
    "```python\n",
    "# For use in colab only:\n",
    "try:\n",
    "    import firedrake\n",
    "except ImportError:\n",
    "    !wget \"https://fem-on-colab.github.io/releases/firedrake-install-real.sh\" -O \"/tmp/firedrake-install.sh\" && bash \"/tmp/firedrake-install.sh\"\n",
    "    import firedrake\n",
    "\n",
    "!pip install git+https://github.com/NDF-Poli-USP/spyro.git"
   ]
  },
  {
   "cell_type": "code",
   "execution_count": 1,
   "id": "5a934a06-a541-4d20-81b8-302894caf809",
   "metadata": {},
   "outputs": [
    {
     "name": "stderr",
     "output_type": "stream",
     "text": [
      "firedrake:WARNING OMP_NUM_THREADS is not set or is set to a value greater than 1, we suggest setting OMP_NUM_THREADS=1 to improve performance\n"
     ]
    }
   ],
   "source": [
    "%matplotlib inline\n",
    "import spyro\n",
    "import numpy as np\n",
    "\n",
    "from firedrake import *"
   ]
  },
  {
   "cell_type": "raw",
   "id": "274a2384-d9a4-43d3-aa5d-30025695fd29",
   "metadata": {},
   "source": [
    "The following dictionary is constructed to provide the problem parameters:"
   ]
  },
  {
   "cell_type": "code",
   "execution_count": 3,
   "id": "2bb92e43-c9fe-4b0a-a543-3c4ca1ab9fce",
   "metadata": {},
   "outputs": [],
   "source": [
    "dictionary = {\n",
    "    \"options\": {\n",
    "        \"cell_type\": \"Q\",\n",
    "        \"variant\": \"lumped\",\n",
    "        \"degree\": 4,\n",
    "        \"dimension\": 2,\n",
    "    },\n",
    "    \"parallelism\": {\n",
    "        \"type\": \"automatic\",\n",
    "    },\n",
    "    \"mesh\": {\n",
    "        \"Lz\": 1.0,\n",
    "        \"Lx\": 1.0,\n",
    "        \"mesh_file\": None,\n",
    "        \"mesh_type\": \"firedrake_mesh\",\n",
    "    },\n",
    "    \"acquisition\": {\n",
    "        \"source_type\": \"ricker\",\n",
    "        \"source_locations\": [(-0.5, 0.5)],\n",
    "        \"frequency\": 5.0,\n",
    "        \"delay\": 0.2,\n",
    "        \"delay_type\": \"time\",\n",
    "        \"receiver_locations\": spyro.create_transect((-1.9, 1.2), (-1.9, 1.8), 300),\n",
    "    },\n",
    "    \"time_axis\": {\n",
    "        \"initial_time\": 0.0,\n",
    "        \"final_time\": 0.5,\n",
    "        \"dt\": 0.00005,\n",
    "        \"output_frequency\": 100,\n",
    "        \"gradient_sampling_frequency\": 1,\n",
    "    },\n",
    "    \"visualization\": {\n",
    "        \"forward_output\": True,\n",
    "        \"forward_output_filename\": \"results/forward_output.pvd\",\n",
    "        \"fwi_velocity_model_output\": False,\n",
    "        \"velocity_model_filename\": None,\n",
    "        \"gradient_output\": False,\n",
    "        \"gradient_filename\": \"results/Gradient.pvd\",\n",
    "        \"adjoint_output\": False,\n",
    "        \"adjoint_filename\": None,\n",
    "        \"debug_output\": False,\n",
    "    },\n",
    "    \"viscoelasticity\": {\n",
    "        \"viscoelastic\": True,\n",
    "        \"visco_type\": 'zener',\n",
    "        \"tau_sigma\": 0.2,\n",
    "        \"tau_epsilon\": 0.04,\n",
    "    },\n",
    "}\n",
    "\n",
    "dictionary[\"synthetic_data\"] = {\n",
    "    \"type\": \"object\",\n",
    "    \"density\": 0.1,\n",
    "    \"p_wave_velocity\": 1.5,\n",
    "    \"s_wave_velocity\": 1.0,\n",
    "    \"real_velocity_file\": None,\n",
    "}\n",
    "\n",
    "dictionary[\"acquisition\"][\"amplitude\"] = np.array([0, 1])\n"
   ]
  },
  {
   "cell_type": "markdown",
   "id": "d55fb12d-af7d-450a-913b-f5c7de8f8caa",
   "metadata": {},
   "source": [
    "Note that \"viscoelastic\" is set to **True**. If this parameter is set to **False**, the elastic wave propagation is performed. We also have the \"visco_type\" parameter which is used to define the model to be adopted. Three options are implemented for now: 'kelvin_voigt', 'zener' and 'gsls'. In this notebook, we address the Zener formulation, and we define two different viscoelasticity parameters: \"tau_sigma\" and \"tau_epsilon\". \n",
    "\n",
    "The **Zener model**, also known as the **Standard Linear Solid (SLS)** model, is a viscoelastic model that captures both elastic and time-dependent (relaxation) behaviors of materials. It consists of a spring in parallel with a **Kelvin–Voigt element** (a spring and dashpot in parallel).\n",
    "\n",
    "This configuration allows the model to represent both instantaneous elastic response and gradual stress relaxation over time.\n",
    "\n",
    "In the time domain, the constitutive equation can be written as:\n",
    "\n",
    "$$\n",
    "\\sigma + \\tau_\\sigma \\, \\dot{\\sigma} = \\lambda \\, \\text{tr}(\\varepsilon) \\, I + 2\\mu \\, \\varepsilon + \\tau_\\varepsilon \\left( \\lambda \\, \\text{tr}(\\dot{\\varepsilon}) \\, I + 2\\mu \\, \\dot{\\varepsilon} \\right)\n",
    "$$\n",
    "\n",
    "where:\n",
    "\n",
    "- $\\sigma$ is the stress tensor  \n",
    "- $\\varepsilon$ is the strain tensor  \n",
    "- $\\dot{\\sigma}$ and $\\dot{\\varepsilon}$ are time derivatives  \n",
    "- $\\lambda$, $\\mu$ are Lamé parameters  \n",
    "- $\\tau_\\sigma$ is the stress relaxation time  \n",
    "- $\\tau_\\varepsilon$ is the strain retardation time  \n",
    "- $I$ is the identity tensor  \n",
    "- $\\text{tr}(\\cdot)$ denotes the trace operator\n",
    "\n",
    "This model is widely used for simulating **attenuation** and **dispersion** in viscoelastic wave propagation, especially when relaxation effects are important.\n"
   ]
  },
  {
   "cell_type": "markdown",
   "id": "66d7325b-6878-4c6c-b1d0-8b6fd57b4287",
   "metadata": {},
   "source": [
    "In the following, we build the \"wave\" object, which is an instance of \"wave\" type, and also stablish a periodic mesh for the example:"
   ]
  },
  {
   "cell_type": "code",
   "execution_count": 4,
   "id": "1dff56a1-c12f-488c-b115-044e4422cbbc",
   "metadata": {},
   "outputs": [
    {
     "name": "stdout",
     "output_type": "stream",
     "text": [
      "Parallelism type: automatic\n"
     ]
    },
    {
     "name": "stderr",
     "output_type": "stream",
     "text": [
      "/home/paulanevesdearaujo/venv-firedrake/lib/python3.12/site-packages/spyro/io/model_parameters.py:579: UserWarning: No velocity model set initially. If using user defined conditional or expression, please input it in the Wave object.\n",
      "  warnings.warn(\n",
      "/home/paulanevesdearaujo/venv-firedrake/lib/python3.12/site-packages/spyro/solvers/wave.py:84: UserWarning: No mesh file, Firedrake mesh will be automatically generated.\n",
      "  warnings.warn(\n"
     ]
    }
   ],
   "source": [
    "wave = spyro.IsotropicWave(dictionary)\n",
    "\n",
    "wave.set_mesh(mesh_parameters={\"dx\": 0.025, \"periodic\": True})"
   ]
  },
  {
   "cell_type": "markdown",
   "id": "e8eeccc9-2c2a-4ae0-b677-d00d576de0b2",
   "metadata": {},
   "source": [
    "Finally, the wave propagation can be performed:"
   ]
  },
  {
   "cell_type": "code",
   "execution_count": 5,
   "id": "53e7d29f-a43b-4322-9182-dd74cb6e9030",
   "metadata": {},
   "outputs": [
    {
     "name": "stdout",
     "output_type": "stream",
     "text": [
      "Viscoelastic Zener\n",
      "Saving Displacement in: results/forward_outputsn0.pvd\n"
     ]
    },
    {
     "name": "stderr",
     "output_type": "stream",
     "text": [
      "/home/paulanevesdearaujo/venv-firedrake/lib/python3.12/site-packages/ufl/utils/sorting.py:88: UserWarning: Applying str() to a metadata value of type TensorProductQuadratureRule, don't know if this is safe.\n",
      "  warnings.warn(\n",
      "/home/paulanevesdearaujo/venv-firedrake/lib/python3.12/site-packages/ufl/utils/sorting.py:88: UserWarning: Applying str() to a metadata value of type TensorProductQuadratureRule, don't know if this is safe.\n",
      "  warnings.warn(\n",
      "/home/paulanevesdearaujo/venv-firedrake/lib/python3.12/site-packages/ufl/utils/sorting.py:88: UserWarning: Applying str() to a metadata value of type TensorProductQuadratureRule, don't know if this is safe.\n",
      "  warnings.warn(\n"
     ]
    },
    {
     "name": "stdout",
     "output_type": "stream",
     "text": [
      "Simulation time is:        0.0 seconds\n",
      "Simulation time is:      0.005 seconds\n",
      "Simulation time is:       0.01 seconds\n",
      "Simulation time is:      0.015 seconds\n",
      "Simulation time is:       0.02 seconds\n",
      "Simulation time is:      0.025 seconds\n",
      "Simulation time is:       0.03 seconds\n",
      "Simulation time is:      0.035 seconds\n",
      "Simulation time is:       0.04 seconds\n",
      "Simulation time is:      0.045 seconds\n",
      "Simulation time is:       0.05 seconds\n",
      "Simulation time is:      0.055 seconds\n",
      "Simulation time is:       0.06 seconds\n",
      "Simulation time is:      0.065 seconds\n",
      "Simulation time is:       0.07 seconds\n",
      "Simulation time is:      0.075 seconds\n",
      "Simulation time is:       0.08 seconds\n",
      "Simulation time is:      0.085 seconds\n",
      "Simulation time is:       0.09 seconds\n",
      "Simulation time is:      0.095 seconds\n",
      "Simulation time is:        0.1 seconds\n",
      "Simulation time is:      0.105 seconds\n",
      "Simulation time is:       0.11 seconds\n",
      "Simulation time is:      0.115 seconds\n",
      "Simulation time is:       0.12 seconds\n",
      "Simulation time is:      0.125 seconds\n",
      "Simulation time is:       0.13 seconds\n",
      "Simulation time is:      0.135 seconds\n",
      "Simulation time is:       0.14 seconds\n",
      "Simulation time is:      0.145 seconds\n",
      "Simulation time is:       0.15 seconds\n",
      "Simulation time is:      0.155 seconds\n",
      "Simulation time is:       0.16 seconds\n",
      "Simulation time is:      0.165 seconds\n",
      "Simulation time is:       0.17 seconds\n",
      "Simulation time is:      0.175 seconds\n",
      "Simulation time is:       0.18 seconds\n",
      "Simulation time is:      0.185 seconds\n",
      "Simulation time is:       0.19 seconds\n",
      "Simulation time is:      0.195 seconds\n",
      "Simulation time is:        0.2 seconds\n",
      "Simulation time is:      0.205 seconds\n",
      "Simulation time is:       0.21 seconds\n",
      "Simulation time is:      0.215 seconds\n",
      "Simulation time is:       0.22 seconds\n",
      "Simulation time is:      0.225 seconds\n",
      "Simulation time is:       0.23 seconds\n",
      "Simulation time is:      0.235 seconds\n",
      "Simulation time is:       0.24 seconds\n",
      "Simulation time is:      0.245 seconds\n",
      "Simulation time is:       0.25 seconds\n",
      "Simulation time is:      0.255 seconds\n",
      "Simulation time is:       0.26 seconds\n",
      "Simulation time is:      0.265 seconds\n",
      "Simulation time is:       0.27 seconds\n",
      "Simulation time is:      0.275 seconds\n",
      "Simulation time is:       0.28 seconds\n",
      "Simulation time is:      0.285 seconds\n",
      "Simulation time is:       0.29 seconds\n",
      "Simulation time is:      0.295 seconds\n",
      "Simulation time is:        0.3 seconds\n",
      "Simulation time is:      0.305 seconds\n",
      "Simulation time is:       0.31 seconds\n",
      "Simulation time is:      0.315 seconds\n",
      "Simulation time is:       0.32 seconds\n",
      "Simulation time is:      0.325 seconds\n",
      "Simulation time is:       0.33 seconds\n",
      "Simulation time is:      0.335 seconds\n",
      "Simulation time is:       0.34 seconds\n",
      "Simulation time is:      0.345 seconds\n",
      "Simulation time is:       0.35 seconds\n",
      "Simulation time is:      0.355 seconds\n",
      "Simulation time is:       0.36 seconds\n",
      "Simulation time is:      0.365 seconds\n",
      "Simulation time is:       0.37 seconds\n",
      "Simulation time is:      0.375 seconds\n",
      "Simulation time is:       0.38 seconds\n",
      "Simulation time is:      0.385 seconds\n",
      "Simulation time is:       0.39 seconds\n",
      "Simulation time is:      0.395 seconds\n",
      "Simulation time is:        0.4 seconds\n",
      "Simulation time is:      0.405 seconds\n",
      "Simulation time is:       0.41 seconds\n",
      "Simulation time is:      0.415 seconds\n",
      "Simulation time is:       0.42 seconds\n",
      "Simulation time is:      0.425 seconds\n",
      "Simulation time is:       0.43 seconds\n",
      "Simulation time is:      0.435 seconds\n",
      "Simulation time is:       0.44 seconds\n",
      "Simulation time is:      0.445 seconds\n",
      "Simulation time is:       0.45 seconds\n",
      "Simulation time is:      0.455 seconds\n",
      "Simulation time is:       0.46 seconds\n",
      "Simulation time is:      0.465 seconds\n",
      "Simulation time is:       0.47 seconds\n",
      "Simulation time is:      0.475 seconds\n",
      "Simulation time is:       0.48 seconds\n",
      "Simulation time is:      0.485 seconds\n",
      "Simulation time is:       0.49 seconds\n",
      "Simulation time is:      0.495 seconds\n",
      "Simulation time is:        0.5 seconds\n"
     ]
    }
   ],
   "source": [
    "wave.forward_solve()"
   ]
  },
  {
   "cell_type": "code",
   "execution_count": 6,
   "id": "d21f4b94-8126-4b45-938c-a3703e19fa05",
   "metadata": {},
   "outputs": [
    {
     "data": {
      "image/png": "[encoded data removed]",
      "text/plain": [
       "<Figure size 900x900 with 1 Axes>"
      ]
     },
     "metadata": {},
     "output_type": "display_data"
    }
   ],
   "source": [
    "spyro.plots.plot_function(wave.u_n)"
   ]
  },
  {
   "cell_type": "markdown",
   "id": "44ec2aca-0df9-434c-bec7-0896f6a39b4d",
   "metadata": {},
   "source": [
    "In the following, we show that, for $\\tau_\\sigma = \\tau_\\epsilon = 0.0$ the results coincide with the elastic case. We redefine the parameters dictionary and set \"viscoelastic\" as **False**:"
   ]
  },
  {
   "cell_type": "code",
   "execution_count": 8,
   "id": "7bfad1b0-e4db-4aad-b3be-366232775d4b",
   "metadata": {},
   "outputs": [],
   "source": [
    "dictionary = {\n",
    "    \"options\": {\n",
    "        \"cell_type\": \"Q\",\n",
    "        \"variant\": \"lumped\",\n",
    "        \"degree\": 4,\n",
    "        \"dimension\": 2,\n",
    "    },\n",
    "    \"parallelism\": {\n",
    "        \"type\": \"automatic\",\n",
    "    },\n",
    "    \"mesh\": {\n",
    "        \"Lz\": 1.0,\n",
    "        \"Lx\": 1.0,\n",
    "        \"mesh_file\": None,\n",
    "        \"mesh_type\": \"firedrake_mesh\",\n",
    "    },\n",
    "    \"acquisition\": {\n",
    "        \"source_type\": \"ricker\",\n",
    "        \"source_locations\": [(-0.5, 0.5)],\n",
    "        \"frequency\": 5.0,\n",
    "        \"delay\": 0.2,\n",
    "        \"delay_type\": \"time\",\n",
    "        \"receiver_locations\": spyro.create_transect((-1.9, 1.2), (-1.9, 1.8), 300),\n",
    "    },\n",
    "    \"time_axis\": {\n",
    "        \"initial_time\": 0.0,\n",
    "        \"final_time\": 0.5,\n",
    "        \"dt\": 0.00005,\n",
    "        \"output_frequency\": 100,\n",
    "        \"gradient_sampling_frequency\": 1,\n",
    "    },\n",
    "    \"visualization\": {\n",
    "        \"forward_output\": True,\n",
    "        \"forward_output_filename\": \"results/forward_output.pvd\",\n",
    "        \"fwi_velocity_model_output\": False,\n",
    "        \"velocity_model_filename\": None,\n",
    "        \"gradient_output\": False,\n",
    "        \"gradient_filename\": \"results/Gradient.pvd\",\n",
    "        \"adjoint_output\": False,\n",
    "        \"adjoint_filename\": None,\n",
    "        \"debug_output\": False,\n",
    "    },\n",
    "    \"viscoelasticity\": {\n",
    "        \"viscoelastic\": False,\n",
    "        \"visco_type\": 'zener',\n",
    "        \"tau_sigma\": 0.1,\n",
    "        \"tau_epsilon\": 0.02,\n",
    "    },\n",
    "}\n",
    "\n",
    "dictionary[\"synthetic_data\"] = {\n",
    "    \"type\": \"object\",\n",
    "    \"density\": 0.1,\n",
    "    \"p_wave_velocity\": 1.5,\n",
    "    \"s_wave_velocity\": 1.0,\n",
    "    \"real_velocity_file\": None,\n",
    "}\n",
    "\n",
    "dictionary[\"acquisition\"][\"amplitude\"] = np.array([0, 1])"
   ]
  },
  {
   "cell_type": "markdown",
   "id": "fff6c852-65e1-470d-945b-79d68f5c660b",
   "metadata": {},
   "source": [
    "Then we run the commands for the wave construction and propagation:"
   ]
  },
  {
   "cell_type": "code",
   "execution_count": 9,
   "id": "81c0066c-9159-4ca6-b4b0-17e9b37195f1",
   "metadata": {},
   "outputs": [
    {
     "name": "stdout",
     "output_type": "stream",
     "text": [
      "Parallelism type: automatic\n"
     ]
    },
    {
     "name": "stderr",
     "output_type": "stream",
     "text": [
      "/home/paulanevesdearaujo/venv-firedrake/lib/python3.12/site-packages/spyro/io/model_parameters.py:579: UserWarning: No velocity model set initially. If using user defined conditional or expression, please input it in the Wave object.\n",
      "  warnings.warn(\n",
      "/home/paulanevesdearaujo/venv-firedrake/lib/python3.12/site-packages/spyro/solvers/wave.py:84: UserWarning: No mesh file, Firedrake mesh will be automatically generated.\n",
      "  warnings.warn(\n"
     ]
    },
    {
     "name": "stdout",
     "output_type": "stream",
     "text": [
      "Isotropic elastic\n",
      "Saving Displacement in: results/forward_outputsn0.pvd\n"
     ]
    },
    {
     "name": "stderr",
     "output_type": "stream",
     "text": [
      "/home/paulanevesdearaujo/venv-firedrake/lib/python3.12/site-packages/ufl/utils/sorting.py:88: UserWarning: Applying str() to a metadata value of type TensorProductQuadratureRule, don't know if this is safe.\n",
      "  warnings.warn(\n",
      "/home/paulanevesdearaujo/venv-firedrake/lib/python3.12/site-packages/ufl/utils/sorting.py:88: UserWarning: Applying str() to a metadata value of type TensorProductQuadratureRule, don't know if this is safe.\n",
      "  warnings.warn(\n",
      "/home/paulanevesdearaujo/venv-firedrake/lib/python3.12/site-packages/ufl/utils/sorting.py:88: UserWarning: Applying str() to a metadata value of type TensorProductQuadratureRule, don't know if this is safe.\n",
      "  warnings.warn(\n"
     ]
    },
    {
     "name": "stdout",
     "output_type": "stream",
     "text": [
      "Simulation time is:        0.0 seconds\n",
      "Simulation time is:      0.005 seconds\n",
      "Simulation time is:       0.01 seconds\n",
      "Simulation time is:      0.015 seconds\n",
      "Simulation time is:       0.02 seconds\n",
      "Simulation time is:      0.025 seconds\n",
      "Simulation time is:       0.03 seconds\n",
      "Simulation time is:      0.035 seconds\n",
      "Simulation time is:       0.04 seconds\n",
      "Simulation time is:      0.045 seconds\n",
      "Simulation time is:       0.05 seconds\n",
      "Simulation time is:      0.055 seconds\n",
      "Simulation time is:       0.06 seconds\n",
      "Simulation time is:      0.065 seconds\n",
      "Simulation time is:       0.07 seconds\n",
      "Simulation time is:      0.075 seconds\n",
      "Simulation time is:       0.08 seconds\n",
      "Simulation time is:      0.085 seconds\n",
      "Simulation time is:       0.09 seconds\n",
      "Simulation time is:      0.095 seconds\n",
      "Simulation time is:        0.1 seconds\n",
      "Simulation time is:      0.105 seconds\n",
      "Simulation time is:       0.11 seconds\n",
      "Simulation time is:      0.115 seconds\n",
      "Simulation time is:       0.12 seconds\n",
      "Simulation time is:      0.125 seconds\n",
      "Simulation time is:       0.13 seconds\n",
      "Simulation time is:      0.135 seconds\n",
      "Simulation time is:       0.14 seconds\n",
      "Simulation time is:      0.145 seconds\n",
      "Simulation time is:       0.15 seconds\n",
      "Simulation time is:      0.155 seconds\n",
      "Simulation time is:       0.16 seconds\n",
      "Simulation time is:      0.165 seconds\n",
      "Simulation time is:       0.17 seconds\n",
      "Simulation time is:      0.175 seconds\n",
      "Simulation time is:       0.18 seconds\n",
      "Simulation time is:      0.185 seconds\n",
      "Simulation time is:       0.19 seconds\n",
      "Simulation time is:      0.195 seconds\n",
      "Simulation time is:        0.2 seconds\n",
      "Simulation time is:      0.205 seconds\n",
      "Simulation time is:       0.21 seconds\n",
      "Simulation time is:      0.215 seconds\n",
      "Simulation time is:       0.22 seconds\n",
      "Simulation time is:      0.225 seconds\n",
      "Simulation time is:       0.23 seconds\n",
      "Simulation time is:      0.235 seconds\n",
      "Simulation time is:       0.24 seconds\n",
      "Simulation time is:      0.245 seconds\n",
      "Simulation time is:       0.25 seconds\n",
      "Simulation time is:      0.255 seconds\n",
      "Simulation time is:       0.26 seconds\n",
      "Simulation time is:      0.265 seconds\n",
      "Simulation time is:       0.27 seconds\n",
      "Simulation time is:      0.275 seconds\n",
      "Simulation time is:       0.28 seconds\n",
      "Simulation time is:      0.285 seconds\n",
      "Simulation time is:       0.29 seconds\n",
      "Simulation time is:      0.295 seconds\n",
      "Simulation time is:        0.3 seconds\n",
      "Simulation time is:      0.305 seconds\n",
      "Simulation time is:       0.31 seconds\n",
      "Simulation time is:      0.315 seconds\n",
      "Simulation time is:       0.32 seconds\n",
      "Simulation time is:      0.325 seconds\n",
      "Simulation time is:       0.33 seconds\n",
      "Simulation time is:      0.335 seconds\n",
      "Simulation time is:       0.34 seconds\n",
      "Simulation time is:      0.345 seconds\n",
      "Simulation time is:       0.35 seconds\n",
      "Simulation time is:      0.355 seconds\n",
      "Simulation time is:       0.36 seconds\n",
      "Simulation time is:      0.365 seconds\n",
      "Simulation time is:       0.37 seconds\n",
      "Simulation time is:      0.375 seconds\n",
      "Simulation time is:       0.38 seconds\n",
      "Simulation time is:      0.385 seconds\n",
      "Simulation time is:       0.39 seconds\n",
      "Simulation time is:      0.395 seconds\n",
      "Simulation time is:        0.4 seconds\n",
      "Simulation time is:      0.405 seconds\n",
      "Simulation time is:       0.41 seconds\n",
      "Simulation time is:      0.415 seconds\n",
      "Simulation time is:       0.42 seconds\n",
      "Simulation time is:      0.425 seconds\n",
      "Simulation time is:       0.43 seconds\n",
      "Simulation time is:      0.435 seconds\n",
      "Simulation time is:       0.44 seconds\n",
      "Simulation time is:      0.445 seconds\n",
      "Simulation time is:       0.45 seconds\n",
      "Simulation time is:      0.455 seconds\n",
      "Simulation time is:       0.46 seconds\n",
      "Simulation time is:      0.465 seconds\n",
      "Simulation time is:       0.47 seconds\n",
      "Simulation time is:      0.475 seconds\n",
      "Simulation time is:       0.48 seconds\n",
      "Simulation time is:      0.485 seconds\n",
      "Simulation time is:       0.49 seconds\n",
      "Simulation time is:      0.495 seconds\n",
      "Simulation time is:        0.5 seconds\n"
     ]
    }
   ],
   "source": [
    "wave = spyro.IsotropicWave(dictionary)\n",
    "\n",
    "wave.set_mesh(mesh_parameters={\"dx\": 0.025, \"periodic\": True})\n",
    "\n",
    "wave.forward_solve()"
   ]
  },
  {
   "cell_type": "markdown",
   "id": "f43dc8dc-1896-4f2f-b229-554e6a88ae5f",
   "metadata": {},
   "source": [
    "We obtain the following result:"
   ]
  },
  {
   "cell_type": "code",
   "execution_count": 10,
   "id": "231222f8-4410-4b02-80a3-90c2c1f4496c",
   "metadata": {},
   "outputs": [
    {
     "data": {
      "image/png": "[encoded data removed]",
      "text/plain": [
       "<Figure size 900x900 with 1 Axes>"
      ]
     },
     "metadata": {},
     "output_type": "display_data"
    }
   ],
   "source": [
    "spyro.plots.plot_function(wave.u_n)"
   ]
  },
  {
   "cell_type": "markdown",
   "id": "e97cc22b-1f40-48df-8443-15e8b6c96614",
   "metadata": {},
   "source": [
    "Finally, we run the same code for the viscoelastic Zener model with $\\tau_\\sigma=\\tau_\\epsilon=0.0:$"
   ]
  },
  {
   "cell_type": "code",
   "execution_count": 11,
   "id": "1ee1ff59-9f18-4166-83b3-264e43b974d1",
   "metadata": {},
   "outputs": [],
   "source": [
    "dictionary = {\n",
    "    \"options\": {\n",
    "        \"cell_type\": \"Q\",\n",
    "        \"variant\": \"lumped\",\n",
    "        \"degree\": 4,\n",
    "        \"dimension\": 2,\n",
    "    },\n",
    "    \"parallelism\": {\n",
    "        \"type\": \"automatic\",\n",
    "    },\n",
    "    \"mesh\": {\n",
    "        \"Lz\": 1.0,\n",
    "        \"Lx\": 1.0,\n",
    "        \"mesh_file\": None,\n",
    "        \"mesh_type\": \"firedrake_mesh\",\n",
    "    },\n",
    "    \"acquisition\": {\n",
    "        \"source_type\": \"ricker\",\n",
    "        \"source_locations\": [(-0.5, 0.5)],\n",
    "        \"frequency\": 5.0,\n",
    "        \"delay\": 0.2,\n",
    "        \"delay_type\": \"time\",\n",
    "        \"receiver_locations\": spyro.create_transect((-1.9, 1.2), (-1.9, 1.8), 300),\n",
    "    },\n",
    "    \"time_axis\": {\n",
    "        \"initial_time\": 0.0,\n",
    "        \"final_time\": 0.5,\n",
    "        \"dt\": 0.00005,\n",
    "        \"output_frequency\": 100,\n",
    "        \"gradient_sampling_frequency\": 1,\n",
    "    },\n",
    "    \"visualization\": {\n",
    "        \"forward_output\": True,\n",
    "        \"forward_output_filename\": \"results/forward_output.pvd\",\n",
    "        \"fwi_velocity_model_output\": False,\n",
    "        \"velocity_model_filename\": None,\n",
    "        \"gradient_output\": False,\n",
    "        \"gradient_filename\": \"results/Gradient.pvd\",\n",
    "        \"adjoint_output\": False,\n",
    "        \"adjoint_filename\": None,\n",
    "        \"debug_output\": False,\n",
    "    },\n",
    "    \"viscoelasticity\": {\n",
    "        \"viscoelastic\": True,\n",
    "        \"visco_type\": 'zener',\n",
    "        \"tau_sigma\": 0.0,\n",
    "        \"tau_epsilon\": 0.0,\n",
    "    },\n",
    "}\n",
    "\n",
    "dictionary[\"synthetic_data\"] = {\n",
    "    \"type\": \"object\",\n",
    "    \"density\": 0.1,\n",
    "    \"p_wave_velocity\": 1.5,\n",
    "    \"s_wave_velocity\": 1.0,\n",
    "    \"real_velocity_file\": None,\n",
    "}\n",
    "\n",
    "dictionary[\"acquisition\"][\"amplitude\"] = np.array([0, 1])"
   ]
  },
  {
   "cell_type": "code",
   "execution_count": 12,
   "id": "b2b0b955-93af-4d93-982a-4ad6076dd3e5",
   "metadata": {},
   "outputs": [
    {
     "name": "stdout",
     "output_type": "stream",
     "text": [
      "Parallelism type: automatic\n"
     ]
    },
    {
     "name": "stderr",
     "output_type": "stream",
     "text": [
      "/home/paulanevesdearaujo/venv-firedrake/lib/python3.12/site-packages/spyro/io/model_parameters.py:579: UserWarning: No velocity model set initially. If using user defined conditional or expression, please input it in the Wave object.\n",
      "  warnings.warn(\n",
      "/home/paulanevesdearaujo/venv-firedrake/lib/python3.12/site-packages/spyro/solvers/wave.py:84: UserWarning: No mesh file, Firedrake mesh will be automatically generated.\n",
      "  warnings.warn(\n"
     ]
    },
    {
     "name": "stdout",
     "output_type": "stream",
     "text": [
      "Viscoelastic Zener\n",
      "Saving Displacement in: results/forward_outputsn0.pvd\n"
     ]
    },
    {
     "name": "stderr",
     "output_type": "stream",
     "text": [
      "/home/paulanevesdearaujo/venv-firedrake/lib/python3.12/site-packages/ufl/utils/sorting.py:88: UserWarning: Applying str() to a metadata value of type TensorProductQuadratureRule, don't know if this is safe.\n",
      "  warnings.warn(\n"
     ]
    },
    {
     "name": "stdout",
     "output_type": "stream",
     "text": [
      "Simulation time is:        0.0 seconds\n"
     ]
    },
    {
     "name": "stderr",
     "output_type": "stream",
     "text": [
      "/home/paulanevesdearaujo/venv-firedrake/lib/python3.12/site-packages/ufl/utils/sorting.py:88: UserWarning: Applying str() to a metadata value of type TensorProductQuadratureRule, don't know if this is safe.\n",
      "  warnings.warn(\n",
      "/home/paulanevesdearaujo/venv-firedrake/lib/python3.12/site-packages/ufl/utils/sorting.py:88: UserWarning: Applying str() to a metadata value of type TensorProductQuadratureRule, don't know if this is safe.\n",
      "  warnings.warn(\n"
     ]
    },
    {
     "name": "stdout",
     "output_type": "stream",
     "text": [
      "Simulation time is:      0.005 seconds\n",
      "Simulation time is:       0.01 seconds\n",
      "Simulation time is:      0.015 seconds\n",
      "Simulation time is:       0.02 seconds\n",
      "Simulation time is:      0.025 seconds\n",
      "Simulation time is:       0.03 seconds\n",
      "Simulation time is:      0.035 seconds\n",
      "Simulation time is:       0.04 seconds\n",
      "Simulation time is:      0.045 seconds\n",
      "Simulation time is:       0.05 seconds\n",
      "Simulation time is:      0.055 seconds\n",
      "Simulation time is:       0.06 seconds\n",
      "Simulation time is:      0.065 seconds\n",
      "Simulation time is:       0.07 seconds\n",
      "Simulation time is:      0.075 seconds\n",
      "Simulation time is:       0.08 seconds\n",
      "Simulation time is:      0.085 seconds\n",
      "Simulation time is:       0.09 seconds\n",
      "Simulation time is:      0.095 seconds\n",
      "Simulation time is:        0.1 seconds\n",
      "Simulation time is:      0.105 seconds\n",
      "Simulation time is:       0.11 seconds\n",
      "Simulation time is:      0.115 seconds\n",
      "Simulation time is:       0.12 seconds\n",
      "Simulation time is:      0.125 seconds\n",
      "Simulation time is:       0.13 seconds\n",
      "Simulation time is:      0.135 seconds\n",
      "Simulation time is:       0.14 seconds\n",
      "Simulation time is:      0.145 seconds\n",
      "Simulation time is:       0.15 seconds\n",
      "Simulation time is:      0.155 seconds\n",
      "Simulation time is:       0.16 seconds\n",
      "Simulation time is:      0.165 seconds\n",
      "Simulation time is:       0.17 seconds\n",
      "Simulation time is:      0.175 seconds\n",
      "Simulation time is:       0.18 seconds\n",
      "Simulation time is:      0.185 seconds\n",
      "Simulation time is:       0.19 seconds\n",
      "Simulation time is:      0.195 seconds\n",
      "Simulation time is:        0.2 seconds\n",
      "Simulation time is:      0.205 seconds\n",
      "Simulation time is:       0.21 seconds\n",
      "Simulation time is:      0.215 seconds\n",
      "Simulation time is:       0.22 seconds\n",
      "Simulation time is:      0.225 seconds\n",
      "Simulation time is:       0.23 seconds\n",
      "Simulation time is:      0.235 seconds\n",
      "Simulation time is:       0.24 seconds\n",
      "Simulation time is:      0.245 seconds\n",
      "Simulation time is:       0.25 seconds\n",
      "Simulation time is:      0.255 seconds\n",
      "Simulation time is:       0.26 seconds\n",
      "Simulation time is:      0.265 seconds\n",
      "Simulation time is:       0.27 seconds\n",
      "Simulation time is:      0.275 seconds\n",
      "Simulation time is:       0.28 seconds\n",
      "Simulation time is:      0.285 seconds\n",
      "Simulation time is:       0.29 seconds\n",
      "Simulation time is:      0.295 seconds\n",
      "Simulation time is:        0.3 seconds\n",
      "Simulation time is:      0.305 seconds\n",
      "Simulation time is:       0.31 seconds\n",
      "Simulation time is:      0.315 seconds\n",
      "Simulation time is:       0.32 seconds\n",
      "Simulation time is:      0.325 seconds\n",
      "Simulation time is:       0.33 seconds\n",
      "Simulation time is:      0.335 seconds\n",
      "Simulation time is:       0.34 seconds\n",
      "Simulation time is:      0.345 seconds\n",
      "Simulation time is:       0.35 seconds\n",
      "Simulation time is:      0.355 seconds\n",
      "Simulation time is:       0.36 seconds\n",
      "Simulation time is:      0.365 seconds\n",
      "Simulation time is:       0.37 seconds\n",
      "Simulation time is:      0.375 seconds\n",
      "Simulation time is:       0.38 seconds\n",
      "Simulation time is:      0.385 seconds\n",
      "Simulation time is:       0.39 seconds\n",
      "Simulation time is:      0.395 seconds\n",
      "Simulation time is:        0.4 seconds\n",
      "Simulation time is:      0.405 seconds\n",
      "Simulation time is:       0.41 seconds\n",
      "Simulation time is:      0.415 seconds\n",
      "Simulation time is:       0.42 seconds\n",
      "Simulation time is:      0.425 seconds\n",
      "Simulation time is:       0.43 seconds\n",
      "Simulation time is:      0.435 seconds\n",
      "Simulation time is:       0.44 seconds\n",
      "Simulation time is:      0.445 seconds\n",
      "Simulation time is:       0.45 seconds\n",
      "Simulation time is:      0.455 seconds\n",
      "Simulation time is:       0.46 seconds\n",
      "Simulation time is:      0.465 seconds\n",
      "Simulation time is:       0.47 seconds\n",
      "Simulation time is:      0.475 seconds\n",
      "Simulation time is:       0.48 seconds\n",
      "Simulation time is:      0.485 seconds\n",
      "Simulation time is:       0.49 seconds\n",
      "Simulation time is:      0.495 seconds\n",
      "Simulation time is:        0.5 seconds\n"
     ]
    }
   ],
   "source": [
    "wave = spyro.IsotropicWave(dictionary)\n",
    "\n",
    "wave.set_mesh(mesh_parameters={\"dx\": 0.025, \"periodic\": True})\n",
    "\n",
    "wave.forward_solve()"
   ]
  },
  {
   "cell_type": "code",
   "execution_count": 13,
   "id": "c411eb61-19db-45ce-9e96-d46a9566567c",
   "metadata": {},
   "outputs": [
    {
     "data": {
      "image/png": "[encoded data removed]",
      "text/plain": [
       "<Figure size 900x900 with 1 Axes>"
      ]
     },
     "metadata": {},
     "output_type": "display_data"
    }
   ],
   "source": [
    "spyro.plots.plot_function(wave.u_n)"
   ]
  },
  {
   "cell_type": "markdown",
   "id": "c18333f3-99eb-42a0-97b8-83782794b48a",
   "metadata": {},
   "source": [
    "Let us set $\\tau_\\sigma$ and $\\tau_\\epsilon$ to different values:"
   ]
  },
  {
   "cell_type": "code",
   "execution_count": 19,
   "id": "4732b3ee-140f-45ef-aef5-31d0e8cdcfb9",
   "metadata": {},
   "outputs": [],
   "source": [
    "dictionary[\"viscoelasticity\"][\"tau_sigma\"] = 0.5\n",
    "dictionary[\"viscoelasticity\"][\"tau_epsilon\"] = 0.08"
   ]
  },
  {
   "cell_type": "markdown",
   "id": "5f535512-347c-41ea-a19c-5f2b89584be0",
   "metadata": {},
   "source": [
    "And then we run the results for the new dictionary:"
   ]
  },
  {
   "cell_type": "code",
   "execution_count": 20,
   "id": "09459a1c-f098-40f4-a7fc-928cc539d9ea",
   "metadata": {},
   "outputs": [
    {
     "name": "stdout",
     "output_type": "stream",
     "text": [
      "Parallelism type: automatic\n"
     ]
    },
    {
     "name": "stderr",
     "output_type": "stream",
     "text": [
      "/home/paulanevesdearaujo/venv-firedrake/lib/python3.12/site-packages/spyro/io/model_parameters.py:579: UserWarning: No velocity model set initially. If using user defined conditional or expression, please input it in the Wave object.\n",
      "  warnings.warn(\n",
      "/home/paulanevesdearaujo/venv-firedrake/lib/python3.12/site-packages/spyro/solvers/wave.py:84: UserWarning: No mesh file, Firedrake mesh will be automatically generated.\n",
      "  warnings.warn(\n"
     ]
    },
    {
     "name": "stdout",
     "output_type": "stream",
     "text": [
      "Viscoelastic Zener\n",
      "Saving Displacement in: results/forward_outputsn0.pvd\n"
     ]
    },
    {
     "name": "stderr",
     "output_type": "stream",
     "text": [
      "/home/paulanevesdearaujo/venv-firedrake/lib/python3.12/site-packages/ufl/utils/sorting.py:88: UserWarning: Applying str() to a metadata value of type TensorProductQuadratureRule, don't know if this is safe.\n",
      "  warnings.warn(\n",
      "/home/paulanevesdearaujo/venv-firedrake/lib/python3.12/site-packages/ufl/utils/sorting.py:88: UserWarning: Applying str() to a metadata value of type TensorProductQuadratureRule, don't know if this is safe.\n",
      "  warnings.warn(\n",
      "/home/paulanevesdearaujo/venv-firedrake/lib/python3.12/site-packages/ufl/utils/sorting.py:88: UserWarning: Applying str() to a metadata value of type TensorProductQuadratureRule, don't know if this is safe.\n",
      "  warnings.warn(\n"
     ]
    },
    {
     "name": "stdout",
     "output_type": "stream",
     "text": [
      "Simulation time is:        0.0 seconds\n",
      "Simulation time is:      0.005 seconds\n",
      "Simulation time is:       0.01 seconds\n",
      "Simulation time is:      0.015 seconds\n",
      "Simulation time is:       0.02 seconds\n",
      "Simulation time is:      0.025 seconds\n",
      "Simulation time is:       0.03 seconds\n",
      "Simulation time is:      0.035 seconds\n",
      "Simulation time is:       0.04 seconds\n",
      "Simulation time is:      0.045 seconds\n",
      "Simulation time is:       0.05 seconds\n",
      "Simulation time is:      0.055 seconds\n",
      "Simulation time is:       0.06 seconds\n",
      "Simulation time is:      0.065 seconds\n",
      "Simulation time is:       0.07 seconds\n",
      "Simulation time is:      0.075 seconds\n",
      "Simulation time is:       0.08 seconds\n",
      "Simulation time is:      0.085 seconds\n",
      "Simulation time is:       0.09 seconds\n",
      "Simulation time is:      0.095 seconds\n",
      "Simulation time is:        0.1 seconds\n",
      "Simulation time is:      0.105 seconds\n",
      "Simulation time is:       0.11 seconds\n",
      "Simulation time is:      0.115 seconds\n",
      "Simulation time is:       0.12 seconds\n",
      "Simulation time is:      0.125 seconds\n",
      "Simulation time is:       0.13 seconds\n",
      "Simulation time is:      0.135 seconds\n",
      "Simulation time is:       0.14 seconds\n",
      "Simulation time is:      0.145 seconds\n",
      "Simulation time is:       0.15 seconds\n",
      "Simulation time is:      0.155 seconds\n",
      "Simulation time is:       0.16 seconds\n",
      "Simulation time is:      0.165 seconds\n",
      "Simulation time is:       0.17 seconds\n",
      "Simulation time is:      0.175 seconds\n",
      "Simulation time is:       0.18 seconds\n",
      "Simulation time is:      0.185 seconds\n",
      "Simulation time is:       0.19 seconds\n",
      "Simulation time is:      0.195 seconds\n",
      "Simulation time is:        0.2 seconds\n",
      "Simulation time is:      0.205 seconds\n",
      "Simulation time is:       0.21 seconds\n",
      "Simulation time is:      0.215 seconds\n",
      "Simulation time is:       0.22 seconds\n",
      "Simulation time is:      0.225 seconds\n",
      "Simulation time is:       0.23 seconds\n",
      "Simulation time is:      0.235 seconds\n",
      "Simulation time is:       0.24 seconds\n",
      "Simulation time is:      0.245 seconds\n",
      "Simulation time is:       0.25 seconds\n",
      "Simulation time is:      0.255 seconds\n",
      "Simulation time is:       0.26 seconds\n",
      "Simulation time is:      0.265 seconds\n",
      "Simulation time is:       0.27 seconds\n",
      "Simulation time is:      0.275 seconds\n",
      "Simulation time is:       0.28 seconds\n",
      "Simulation time is:      0.285 seconds\n",
      "Simulation time is:       0.29 seconds\n",
      "Simulation time is:      0.295 seconds\n",
      "Simulation time is:        0.3 seconds\n",
      "Simulation time is:      0.305 seconds\n",
      "Simulation time is:       0.31 seconds\n",
      "Simulation time is:      0.315 seconds\n",
      "Simulation time is:       0.32 seconds\n",
      "Simulation time is:      0.325 seconds\n",
      "Simulation time is:       0.33 seconds\n",
      "Simulation time is:      0.335 seconds\n",
      "Simulation time is:       0.34 seconds\n",
      "Simulation time is:      0.345 seconds\n",
      "Simulation time is:       0.35 seconds\n",
      "Simulation time is:      0.355 seconds\n",
      "Simulation time is:       0.36 seconds\n",
      "Simulation time is:      0.365 seconds\n",
      "Simulation time is:       0.37 seconds\n",
      "Simulation time is:      0.375 seconds\n",
      "Simulation time is:       0.38 seconds\n",
      "Simulation time is:      0.385 seconds\n",
      "Simulation time is:       0.39 seconds\n",
      "Simulation time is:      0.395 seconds\n",
      "Simulation time is:        0.4 seconds\n",
      "Simulation time is:      0.405 seconds\n",
      "Simulation time is:       0.41 seconds\n",
      "Simulation time is:      0.415 seconds\n",
      "Simulation time is:       0.42 seconds\n",
      "Simulation time is:      0.425 seconds\n",
      "Simulation time is:       0.43 seconds\n",
      "Simulation time is:      0.435 seconds\n",
      "Simulation time is:       0.44 seconds\n",
      "Simulation time is:      0.445 seconds\n",
      "Simulation time is:       0.45 seconds\n",
      "Simulation time is:      0.455 seconds\n",
      "Simulation time is:       0.46 seconds\n",
      "Simulation time is:      0.465 seconds\n",
      "Simulation time is:       0.47 seconds\n",
      "Simulation time is:      0.475 seconds\n",
      "Simulation time is:       0.48 seconds\n",
      "Simulation time is:      0.485 seconds\n",
      "Simulation time is:       0.49 seconds\n",
      "Simulation time is:      0.495 seconds\n",
      "Simulation time is:        0.5 seconds\n"
     ]
    }
   ],
   "source": [
    "wave = spyro.IsotropicWave(dictionary)\n",
    "\n",
    "wave.set_mesh(mesh_parameters={\"dx\": 0.025, \"periodic\": True})\n",
    "\n",
    "wave.forward_solve()"
   ]
  },
  {
   "cell_type": "code",
   "execution_count": 21,
   "id": "c4744d19-73dc-4b2f-ad18-d0e8890575ec",
   "metadata": {},
   "outputs": [
    {
     "data": {
      "image/png": "[encoded data removed]",
      "text/plain": [
       "<Figure size 900x900 with 1 Axes>"
      ]
     },
     "metadata": {},
     "output_type": "display_data"
    }
   ],
   "source": [
    "spyro.plots.plot_function(wave.u_n)"
   ]
  },
  {
   "cell_type": "code",
   "execution_count": null,
   "id": "2c395f2c-e2d6-4747-a34a-23d4758e0313",
   "metadata": {},
   "outputs": [],
   "source": []
  }
 ],
 "metadata": {
  "kernelspec": {
   "display_name": "Python 3 (ipykernel)",
   "language": "python",
   "name": "python3"
  },
  "language_info": {
   "codemirror_mode": {
    "name": "ipython",
    "version": 3
   },
   "file_extension": ".py",
   "mimetype": "text/x-python",
   "name": "python",
   "nbconvert_exporter": "python",
   "pygments_lexer": "ipython3",
   "version": "3.12.2"
  }
 },
 "nbformat": 4,
 "nbformat_minor": 5
}
