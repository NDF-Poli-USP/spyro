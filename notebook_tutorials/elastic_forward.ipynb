{
 "cells": [
  {
   "cell_type": "markdown",
   "id": "20a65ef2-9bd3-4bda-af02-0903ceb133f2",
   "metadata": {},
   "source": [
    "# Isotropic elastic wave propagator"
   ]
  },
  {
   "cell_type": "markdown",
   "id": "46c86e6f-8b13-474c-94e6-426ef6155f06",
   "metadata": {},
   "source": [
    "This tutorial was prepared by Eduardo Moscatelli emoscatelli@usp.br"
   ]
  },
  {
   "cell_type": "markdown",
   "id": "0624cad4-65f7-4490-990b-4176fd6aed2a",
   "metadata": {},
   "source": [
    "This tutorial is an introduction to the isotropic elastic wave propagator. The tutorial is an adaption of the simple forward tutorial, so the reader may be interested in consulting the acoustic simple forward tutorial before reading this tutorial for more details on the passages that are not addressed in detail here. The objective is to show that several features of spyro are common between the solvers."
   ]
  },
  {
   "cell_type": "markdown",
   "id": "aea5a107-9710-4889-8f7b-a770b72f74e6",
   "metadata": {},
   "source": [
    "First, the notebook environment is configured and the required modules are impored."
   ]
  },
  {
   "cell_type": "code",
   "execution_count": 1,
   "id": "98caa990-1830-42f7-87a7-2795196c80ec",
   "metadata": {},
   "outputs": [],
   "source": [
    "%matplotlib inline\n",
    "import spyro\n",
    "import numpy as np"
   ]
  },
  {
   "cell_type": "markdown",
   "id": "7b88ec6a-d4b2-423e-bac3-e05ade5749ce",
   "metadata": {},
   "source": [
    "Then, the commands that are the same as in the acoustic example are run."
   ]
  },
  {
   "cell_type": "code",
   "execution_count": 2,
   "id": "1b4b0323-fabc-4e0f-ac31-316f58284f2d",
   "metadata": {},
   "outputs": [],
   "source": [
    "dictionary = {\n",
    "    \"options\": {\n",
    "        \"cell_type\": \"Q\",\n",
    "        \"variant\": \"lumped\",\n",
    "        \"degree\": 4,\n",
    "        \"dimension\": 2,\n",
    "    },\n",
    "    \"parallelism\": {\n",
    "        \"type\": \"automatic\",\n",
    "    },\n",
    "    \"mesh\": {\n",
    "        \"Lz\": 3.0,\n",
    "        \"Lx\": 3.0,\n",
    "        #\"Ly\": 0.0,\n",
    "        \"mesh_file\": None,\n",
    "        \"mesh_type\": \"firedrake_mesh\",\n",
    "    },\n",
    "    \"acquisition\": {\n",
    "        \"source_type\": \"ricker\",\n",
    "        \"source_locations\": [(-1.1, 1.5)],\n",
    "        \"frequency\": 5.0,\n",
    "        \"delay\": 0.2,\n",
    "        \"delay_type\": \"time\",\n",
    "        \"receiver_locations\": spyro.create_transect((-1.9, 1.2), (-1.9, 1.8), 300),\n",
    "    },\n",
    "    \"time_axis\": {\n",
    "        \"initial_time\": 0.0,\n",
    "        \"final_time\": 1.0,\n",
    "        \"dt\": 0.001,\n",
    "        \"output_frequency\": 100,\n",
    "        \"gradient_sampling_frequency\": 1,\n",
    "    },\n",
    "    \"visualization\": {\n",
    "        \"forward_output\": True,\n",
    "        \"forward_output_filename\": \"results/forward_output.pvd\",\n",
    "        \"fwi_velocity_model_output\": False,\n",
    "        \"velocity_model_filename\": None,\n",
    "        \"gradient_output\": False,\n",
    "        \"gradient_filename\": \"results/Gradient.pvd\",\n",
    "        \"adjoint_output\": False,\n",
    "        \"adjoint_filename\": None,\n",
    "        \"debug_output\": False,\n",
    "    },\n",
    "}"
   ]
  },
  {
   "cell_type": "markdown",
   "id": "16f66592-b144-480f-83a5-086b773b614e",
   "metadata": {},
   "source": [
    "The isotropic elastic wave propagator requires three parameters: the density and two parameters for the constitutive behavior. The user may choose between providing the density, the P-wave and S-wave velocities, or the density and the Lamé parameters ($\\lambda$ and $\\mu$). This tutorial follows the second option, so the synthetic data dictionary is set as follows."
   ]
  },
  {
   "cell_type": "code",
   "execution_count": 3,
   "id": "a4ad3969-cd88-4c72-915c-75a31c897809",
   "metadata": {},
   "outputs": [],
   "source": [
    "dictionary[\"synthetic_data\"] = {\n",
    "    \"type\": \"object\",\n",
    "    \"density\": 1.0,\n",
    "    \"lambda\": 1.5,\n",
    "    \"mu\": 1.0,\n",
    "    \"real_velocity_file\": None,\n",
    "}"
   ]
  },
  {
   "cell_type": "markdown",
   "id": "83882a91-1127-4b49-a138-8fb08e1a62a8",
   "metadata": {},
   "source": [
    "The isotropic elastic solver of spyro implements a pure displacement formulation of the elastic problem. Therefore, the displacement vector is the output and the loads are vectors with one component per direction. The body forces of the elastic wave are set as follows."
   ]
  },
  {
   "cell_type": "code",
   "execution_count": 4,
   "id": "3060fc2c-0d76-4bcb-9912-eec3d547dc17",
   "metadata": {},
   "outputs": [],
   "source": [
    "dictionary[\"acquisition\"][\"amplitude\"] = np.array([0, 1])"
   ]
  },
  {
   "cell_type": "markdown",
   "id": "b939c657-4a76-4c09-b33c-896a91372407",
   "metadata": {},
   "source": [
    "The class that implements the isotropic elastic wave propagator is the `IsotropicWave`. First, we create an instance of this class (the warning messages may be ignored)."
   ]
  },
  {
   "cell_type": "code",
   "execution_count": 5,
   "id": "017bc398-6db4-447c-ac3c-4e9c0c8238ed",
   "metadata": {},
   "outputs": [
    {
     "name": "stdout",
     "output_type": "stream",
     "text": [
      "Parallelism type: automatic\n"
     ]
    },
    {
     "name": "stderr",
     "output_type": "stream",
     "text": [
      "/home/firedrake/shared/spyro/spyro/io/model_parameters.py:572: UserWarning: No velocity model set initially. If using user defined conditional or expression, please input it in the Wave object.\n",
      "  warnings.warn(\n",
      "/home/firedrake/shared/spyro/spyro/solvers/wave.py:84: UserWarning: No mesh file, Firedrake mesh will be automatically generated.\n",
      "  warnings.warn(\n"
     ]
    }
   ],
   "source": [
    "wave = spyro.IsotropicWave(dictionary)"
   ]
  },
  {
   "cell_type": "markdown",
   "id": "750dc070-25be-482e-9ecc-6c41580feb31",
   "metadata": {},
   "source": [
    "We set the mesh parameters to define a periodic mesh for this example."
   ]
  },
  {
   "cell_type": "code",
   "execution_count": 6,
   "id": "1b21c1cd-b49d-4a7a-8498-21bc9ee1e4c9",
   "metadata": {},
   "outputs": [],
   "source": [
    "wave.set_mesh(mesh_parameters={\"dx\": 0.02, \"periodic\": True})"
   ]
  },
  {
   "cell_type": "markdown",
   "id": "8ecb39ad-b051-43ad-8324-32fe59fd04a6",
   "metadata": {},
   "source": [
    "Then, the wave propagation may start."
   ]
  },
  {
   "cell_type": "code",
   "execution_count": 7,
   "id": "f46ed42a-fbbe-4d2d-bc38-bb4fa1a5df4c",
   "metadata": {},
   "outputs": [
    {
     "name": "stdout",
     "output_type": "stream",
     "text": [
      "Saving output in: results/forward_outputsn0.pvd\n"
     ]
    },
    {
     "name": "stderr",
     "output_type": "stream",
     "text": [
      "/home/firedrake/firedrake/src/ufl/ufl/utils/sorting.py:89: UserWarning: Applying str() to a metadata value of type TensorProductQuadratureRule, don't know if this is safe.\n",
      "  warnings.warn(f\"Applying str() to a metadata value of type {type(value).__name__}, \"\n",
      "/home/firedrake/firedrake/src/ufl/ufl/utils/sorting.py:89: UserWarning: Applying str() to a metadata value of type TensorProductQuadratureRule, don't know if this is safe.\n",
      "  warnings.warn(f\"Applying str() to a metadata value of type {type(value).__name__}, \"\n"
     ]
    },
    {
     "name": "stdout",
     "output_type": "stream",
     "text": [
      "Simulation time is:        0.0 seconds\n",
      "Simulation time is:        0.1 seconds\n",
      "Simulation time is:        0.2 seconds\n",
      "Simulation time is:        0.3 seconds\n",
      "Simulation time is:        0.4 seconds\n",
      "Simulation time is:        0.5 seconds\n",
      "Simulation time is:        0.6 seconds\n",
      "Simulation time is:        0.7 seconds\n",
      "Simulation time is:        0.8 seconds\n",
      "Simulation time is:        0.9 seconds\n",
      "Simulation time is:        1.0 seconds\n"
     ]
    }
   ],
   "source": [
    "wave.forward_solve()"
   ]
  },
  {
   "cell_type": "markdown",
   "id": "d82f9ebb-509f-480a-be16-7a77e05ff267",
   "metadata": {},
   "source": [
    "The final displacement field may be visualized with the following function."
   ]
  },
  {
   "cell_type": "code",
   "execution_count": 8,
   "id": "2c0b6420-cb31-4617-9858-3031a6149b3c",
   "metadata": {},
   "outputs": [
    {
     "data": {
      "image/png": "[encoded data removed]",
      "text/plain": [
       "<Figure size 900x900 with 1 Axes>"
      ]
     },
     "metadata": {},
     "output_type": "display_data"
    }
   ],
   "source": [
    "spyro.plots.plot_function(wave.u_n)"
   ]
  }
 ],
 "metadata": {
  "kernelspec": {
   "display_name": "Python 3 (ipykernel)",
   "language": "python",
   "name": "python3"
  },
  "language_info": {
   "codemirror_mode": {
    "name": "ipython",
    "version": 3
   },
   "file_extension": ".py",
   "mimetype": "text/x-python",
   "name": "python",
   "nbconvert_exporter": "python",
   "pygments_lexer": "ipython3",
   "version": "3.10.12"
  }
 },
 "nbformat": 4,
 "nbformat_minor": 5
}
