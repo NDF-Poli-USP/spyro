{
 "cells": [
  {
   "cell_type": "markdown",
   "metadata": {},
   "source": [
    "# Meshing in Spyro"
   ]
  },
  {
   "cell_type": "markdown",
   "metadata": {},
   "source": [
    "This tutorial was prepared by Alexandre Olender. If you have any questions, please email: olender@usp.br\n",
    "\n",
    "Meshing is a complex problem frequently encountered in Seismic imaging. For seismic imaging based on higher-order finite element methods, such as Spectral Element Methods of higher-order mass lumped triangles, adequate meshing is a computational necessity. Using higher-order FEM without any specific mesh considerations will usually give results computationally significantly more expensive than finite difference-based wave solvers. This inherent meshing complexity tends to turn users away from FEM-based solvers. Spyro aims to treat most seismic imaging-based problems with little user input relative to generating meshes, removing the additional complexity encountered by an end-user when propagating waves. \n",
    "\n",
    "Wave solvers in Spyro can automatically create meshes based on the inputs of the dictionary parameters. For most users, this will be enough. For these automatic mesh capabilities, please see the **simple forward exercises** and the **simple forward with overthrust** tutorials. This tutorial is only geared for more advanced users who need to directly call on the `AutomaticMesh` class or develop inside it."
   ]
  },
  {
   "cell_type": "code",
   "execution_count": 1,
   "metadata": {},
   "outputs": [
    {
     "name": "stderr",
     "output_type": "stream",
     "text": [
      "firedrake:WARNING OMP_NUM_THREADS is not set or is set to a value greater than 1, we suggest setting OMP_NUM_THREADS=1 to improve performance\n"
     ]
    }
   ],
   "source": [
    "# Code in this cell enables plotting in the notebook\n",
    "%matplotlib inline\n",
    "\n",
    "import spyro"
   ]
  },
  {
   "cell_type": "markdown",
   "metadata": {},
   "source": [
    "\n",
    "In Spyro, we use the Firedrake meshing utilities and a Python package for simplex (2D triangles and 3D tetrahedral) mesh generation called SeismicMesh. A user can input Gmsh-generated meshes (see https://www.firedrakeproject.org/demos/immersed_fem.py.html) and also create meshes separately in SeismicMesh (https://doi.org/10.21105/joss.02687). Any mesh compatible with Firedrake is compatible with Spyro. Here, we will use Spyro's wrappers for Firedrake and SeismicMesh for mesh generation. This should be enough for any synthetic or complex real seismic imaging problem. However, if you are using Spyro for other cases, creating those meshes in either Gmsh or SeimicMesh might be necessary."
   ]
  },
  {
   "cell_type": "markdown",
   "metadata": {},
   "source": [
    "## Automatic Mesh class"
   ]
  },
  {
   "cell_type": "markdown",
   "metadata": {},
   "source": [
    "For the Automatic mesh class, we use Firedrake and SeismicMesh-based wrappers. Almost every option is based on the weird seismic orientation we found in segy files. The axis orders are z, x, and y for 3D and z, x for 2D, with z coordinates going in the negative direction. We can learn more about this class using Python's help method."
   ]
  },
  {
   "cell_type": "code",
   "execution_count": 2,
   "metadata": {},
   "outputs": [
    {
     "name": "stdout",
     "output_type": "stream",
     "text": [
      "Help on class AutomaticMesh in module spyro.meshing.meshing_functions:\n",
      "\n",
      "class AutomaticMesh(builtins.object)\n",
      " |  AutomaticMesh(comm=None, mesh_parameters=None)\n",
      " |  \n",
      " |  Class for automatic meshing.\n",
      " |  \n",
      " |  Attributes\n",
      " |  ----------\n",
      " |  dimension : int\n",
      " |      Spatial dimension of the mesh.\n",
      " |  length_z : float\n",
      " |      Length of the domain in the z direction.\n",
      " |  length_x : float\n",
      " |      Length of the domain in the x direction.\n",
      " |  length_y : float\n",
      " |      Length of the domain in the y direction.\n",
      " |  dx : float\n",
      " |      Mesh size.\n",
      " |  quadrilateral : bool\n",
      " |      If True, the mesh is quadrilateral.\n",
      " |  periodic : bool\n",
      " |      If True, the mesh is periodic.\n",
      " |  comm : MPI communicator\n",
      " |      MPI communicator.\n",
      " |  mesh_type : str\n",
      " |      Type of the mesh.\n",
      " |  abc_pad : float\n",
      " |      Padding to be added to the domain.\n",
      " |  \n",
      " |  Methods\n",
      " |  -------\n",
      " |  set_mesh_size(length_z=None, length_x=None, length_y=None)\n",
      " |      Sets the mesh size.\n",
      " |  set_meshing_parameters(dx=None, cell_type=None, mesh_type=None)\n",
      " |      Sets the meshing parameters.\n",
      " |  set_seismicmesh_parameters(cpw=None, velocity_model=None, edge_length=None)\n",
      " |      Sets the SeismicMesh parameters.\n",
      " |  make_periodic()\n",
      " |      Sets the mesh boundaries periodic. Only works for firedrake_mesh.\n",
      " |  create_mesh()\n",
      " |      Creates the mesh.\n",
      " |  create_firedrake_mesh()\n",
      " |      Creates a mesh based on Firedrake meshing utilities.\n",
      " |  create_firedrake_2D_mesh()\n",
      " |      Creates a 2D mesh based on Firedrake meshing utilities.\n",
      " |  create_firedrake_3D_mesh()\n",
      " |      Creates a 3D mesh based on Firedrake meshing utilities.\n",
      " |  create_seismicmesh_mesh()\n",
      " |      Creates a mesh based on SeismicMesh meshing utilities.\n",
      " |  create_seimicmesh_2d_mesh()\n",
      " |      Creates a 2D mesh based on SeismicMesh meshing utilities.\n",
      " |  create_seismicmesh_2D_mesh_homogeneous()\n",
      " |      Creates a 2D mesh homogeneous velocity mesh based on SeismicMesh meshing utilities.\n",
      " |  \n",
      " |  Methods defined here:\n",
      " |  \n",
      " |  __init__(self, comm=None, mesh_parameters=None)\n",
      " |      Initialize the MeshingFunctions class.\n",
      " |      \n",
      " |      Parameters\n",
      " |      ----------\n",
      " |      comm : MPI communicator, optional\n",
      " |          MPI communicator. The default is None.\n",
      " |      mesh_parameters : dict, optional\n",
      " |          Dictionary containing the mesh parameters. The default is None.\n",
      " |      \n",
      " |      Raises\n",
      " |      ------\n",
      " |      ValueError\n",
      " |          If `abc_pad_length` is negative.\n",
      " |      \n",
      " |      Notes\n",
      " |      -----\n",
      " |      The `mesh_parameters` dictionary should contain the following keys:\n",
      " |      - 'dimension': int, optional. Dimension of the mesh. The default is 2.\n",
      " |      - 'length_z': float, optional. Length of the mesh in the z-direction.\n",
      " |      - 'length_x': float, optional. Length of the mesh in the x-direction.\n",
      " |      - 'length_y': float, optional. Length of the mesh in the y-direction.\n",
      " |      - 'cell_type': str, optional. Type of the mesh cells.\n",
      " |      - 'mesh_type': str, optional. Type of the mesh.\n",
      " |      \n",
      " |      For mesh with absorbing layer only:\n",
      " |      - 'abc_pad_length': float, optional. Length of the absorbing boundary condition padding.\n",
      " |      \n",
      " |      For Firedrake mesh only:\n",
      " |      - 'dx': float, optional. Mesh element size.\n",
      " |      - 'periodic': bool, optional. Whether the mesh is periodic.\n",
      " |      - 'edge_length': float, optional. Length of the mesh edges.\n",
      " |      \n",
      " |      For SeismicMesh only:\n",
      " |      - 'cells_per_wavelength': float, optional. Number of cells per wavelength.\n",
      " |      - 'source_frequency': float, optional. Frequency of the source.\n",
      " |      - 'minimum_velocity': float, optional. Minimum velocity.\n",
      " |      - 'velocity_model_file': str, optional. File containing the velocity model.\n",
      " |      - 'edge_length': float, optional. Length of the mesh edges.\n",
      " |  \n",
      " |  create_firedrake_2D_mesh(self)\n",
      " |      Creates a 2D mesh based on Firedrake meshing utilities.\n",
      " |  \n",
      " |  create_firedrake_3D_mesh(self)\n",
      " |      Creates a 3D mesh based on Firedrake meshing utilities.\n",
      " |  \n",
      " |  create_firedrake_mesh(self)\n",
      " |      Creates a mesh based on Firedrake meshing utilities.\n",
      " |  \n",
      " |  create_mesh(self)\n",
      " |      Creates the mesh.\n",
      " |      \n",
      " |      Returns\n",
      " |      -------\n",
      " |      mesh : Mesh\n",
      " |          Mesh\n",
      " |  \n",
      " |  create_seimicmesh_2d_mesh(self)\n",
      " |      Creates a 2D mesh based on SeismicMesh meshing utilities.\n",
      " |  \n",
      " |  create_seismicmesh_2D_mesh_homogeneous(self)\n",
      " |      Creates a 2D mesh based on SeismicMesh meshing utilities, with homogeneous velocity model.\n",
      " |  \n",
      " |  create_seismicmesh_2D_mesh_with_velocity_model(self)\n",
      " |  \n",
      " |  create_seismicmesh_mesh(self)\n",
      " |      Creates a mesh based on SeismicMesh meshing utilities.\n",
      " |      \n",
      " |      Returns\n",
      " |      -------\n",
      " |      mesh : Mesh\n",
      " |          Mesh\n",
      " |  \n",
      " |  make_periodic(self)\n",
      " |      Sets the mesh boundaries periodic.\n",
      " |      Only works for firedrake_mesh.\n",
      " |  \n",
      " |  set_mesh_size(self, length_z=None, length_x=None, length_y=None)\n",
      " |      Parameters\n",
      " |      ----------\n",
      " |      length_z : float, optional\n",
      " |          Length of the domain in the z direction. The default is None.\n",
      " |      length_x : float, optional\n",
      " |          Length of the domain in the x direction. The default is None.\n",
      " |      length_y : float, optional\n",
      " |          Length of the domain in the y direction. The default is None.\n",
      " |      \n",
      " |      Returns\n",
      " |      -------\n",
      " |      None\n",
      " |  \n",
      " |  set_meshing_parameters(self, dx=None, cell_type=None, mesh_type=None)\n",
      " |      Parameters\n",
      " |      ----------\n",
      " |      dx : float, optional\n",
      " |          Mesh size. The default is None.\n",
      " |      cell_type : str, optional\n",
      " |          Type of the cell. The default is None.\n",
      " |      mesh_type : str, optional\n",
      " |          Type of the mesh. The default is None.\n",
      " |      \n",
      " |      Returns\n",
      " |      -------\n",
      " |      None\n",
      " |  \n",
      " |  set_seismicmesh_parameters(self, cpw=None, velocity_model=None, edge_length=None, output_file_name=None)\n",
      " |      Parameters\n",
      " |      ----------\n",
      " |      cpw : float, optional\n",
      " |          Cells per wavelength parameter. The default is None.\n",
      " |      velocity_model : str, optional\n",
      " |          Velocity model. The default is None.\n",
      " |      edge_length : float, optional\n",
      " |          Edge length. The default is None.\n",
      " |      output_file_name : str, optional\n",
      " |          Output file name. The default is None.\n",
      " |      \n",
      " |      Returns\n",
      " |      -------\n",
      " |      None\n",
      " |  \n",
      " |  ----------------------------------------------------------------------\n",
      " |  Data descriptors defined here:\n",
      " |  \n",
      " |  __dict__\n",
      " |      dictionary for instance variables (if defined)\n",
      " |  \n",
      " |  __weakref__\n",
      " |      list of weak references to the object (if defined)\n",
      "\n"
     ]
    }
   ],
   "source": [
    "help(spyro.meshing.AutomaticMesh)"
   ]
  },
  {
   "cell_type": "markdown",
   "metadata": {},
   "source": [
    "As with everything in Python, help() provides information based on the documentation written inside the code.  Let us highlight the notes on the init method:\n",
    "\n",
    "Notes\n",
    "-----\n",
    "The `mesh_parameters` dictionary should contain the following keys:\n",
    " - 'dimension': int, optional. Dimension of the mesh. The default is 2.\n",
    " - 'length_z': float, optional. Length of the mesh in the z-direction.\n",
    " - 'length_x': float, optional. Length of the mesh in the x-direction.\n",
    " - 'length_y': float, optional. Length of the mesh in the y-direction.\n",
    " - 'cell_type': str, optional. Type of the mesh cells.\n",
    " - 'mesh_type': str, optional. Type of the mesh.\n",
    "\n",
    "For mesh with absorbing layer only:\n",
    " - 'abc_pad_length': float, optional. Length of the absorbing boundary condition padding.\n",
    "\n",
    "For Firedrake mesh only:\n",
    " - 'dx': float, optional. Mesh element size.\n",
    " - 'periodic': bool, optional. Whether the mesh is periodic.\n",
    " - 'edge_length': float, optional. Length of the mesh edges.\n",
    "\n",
    " For SeismicMesh only:\n",
    " - 'cells_per_wavelength': float, optional. Number of cells per wavelength.\n",
    " - 'source_frequency': float, optional. Frequency of the source.\n",
    " - 'minimum_velocity': float, optional. Minimum velocity.\n",
    " - 'velocity_model_file': str, optional. File containing the velocity model.\n",
    " - 'edge_length': float, optional. Length of the mesh edges."
   ]
  },
  {
   "cell_type": "markdown",
   "metadata": {},
   "source": [
    "## Firedrake based meshes"
   ]
  },
  {
   "cell_type": "markdown",
   "metadata": {},
   "source": [
    "We can use the Firedrake-based meshes. These take the dictionary inputs and place them in the appropriate 2D or 3D wrappers of Firedrake functions, for 2D Firedrake provides a `RectangleMesh` object."
   ]
  },
  {
   "cell_type": "code",
   "execution_count": 3,
   "metadata": {},
   "outputs": [
    {
     "name": "stdout",
     "output_type": "stream",
     "text": [
      "Help on cython_function_or_method in module firedrake.utility_meshes:\n",
      "\n",
      "RectangleMesh(nx, ny, Lx, Ly, quadrilateral=False, reorder=None, diagonal='left', distribution_parameters=None, comm=<mpi4py.MPI.Intracomm object at 0x7f9033d71350>, name='firedrake_default', distribution_name=None, permutation_name=None)\n",
      "    Generate a rectangular mesh\n",
      "    \n",
      "    :arg nx: The number of cells in the x direction\n",
      "    :arg ny: The number of cells in the y direction\n",
      "    :arg Lx: The extent in the x direction\n",
      "    :arg Ly: The extent in the y direction\n",
      "    :kwarg quadrilateral: (optional), creates quadrilateral mesh, defaults to False\n",
      "    :kwarg reorder: (optional), should the mesh be reordered\n",
      "    :kwarg comm: Optional communicator to build the mesh on (defaults to\n",
      "        COMM_WORLD).\n",
      "    :kwarg diagonal: For triangular meshes, should the diagonal got\n",
      "        from bottom left to top right (``\"right\"``), or top left to\n",
      "        bottom right (``\"left\"``), or put in both diagonals (``\"crossed\"``).\n",
      "    :kwarg name: Optional name of the mesh.\n",
      "    :kwarg distribution_name: the name of parallel distribution used\n",
      "           when checkpointing; if `None`, the name is automatically\n",
      "           generated.\n",
      "    :kwarg permutation_name: the name of entity permutation (reordering) used\n",
      "           when checkpointing; if `None`, the name is automatically\n",
      "           generated.\n",
      "    \n",
      "    The boundary edges in this mesh are numbered as follows:\n",
      "    \n",
      "    * 1: plane x == 0\n",
      "    * 2: plane x == Lx\n",
      "    * 3: plane y == 0\n",
      "    * 4: plane y == Ly\n",
      "\n"
     ]
    }
   ],
   "source": [
    "import firedrake as fire\n",
    "help(fire.RectangleMesh)"
   ]
  },
  {
   "cell_type": "markdown",
   "metadata": {},
   "source": [
    "Based on the above documentation, please create a 10-element by 20-element quadrilateral mesh with the first axis (representing Z) of length 1.5 km and the second axis (representing X) of length 3 km."
   ]
  },
  {
   "cell_type": "code",
   "execution_count": 4,
   "metadata": {},
   "outputs": [],
   "source": [
    "nz = 10\n",
    "nx = 20\n",
    "length_z = 1.5\n",
    "length_x = 3.0\n",
    "\n",
    "mesh = fire.RectangleMesh(nz, nx, length_z, length_x, quadrilateral=True)"
   ]
  },
  {
   "cell_type": "markdown",
   "metadata": {},
   "source": [
    "Let us have a look at our mesh:"
   ]
  },
  {
   "cell_type": "code",
   "execution_count": 5,
   "metadata": {},
   "outputs": [
    {
     "data": {
      "image/png": "[encoded data removed]",
      "text/plain": [
       "<Figure size 640x480 with 1 Axes>"
      ]
     },
     "metadata": {},
     "output_type": "display_data"
    }
   ],
   "source": [
    "from firedrake import triplot\n",
    "import matplotlib.pyplot as plt\n",
    "\n",
    "fig, axes = plt.subplots()\n",
    "triplot(mesh, axes=axes)\n",
    "axes.set_aspect(\"equal\")"
   ]
  },
  {
   "cell_type": "markdown",
   "metadata": {},
   "source": [
    "As shown above, see Z is still positive. We can alter the coordinates in mesh.coordinates.dat.data. Please try to do this below."
   ]
  },
  {
   "cell_type": "code",
   "execution_count": 6,
   "metadata": {},
   "outputs": [
    {
     "data": {
      "image/png": "[encoded data removed]",
      "text/plain": [
       "<Figure size 640x480 with 1 Axes>"
      ]
     },
     "metadata": {},
     "output_type": "display_data"
    }
   ],
   "source": [
    "mesh.coordinates.dat.data[:, 0] *= -1.0\n",
    "\n",
    "fig, axes = plt.subplots()\n",
    "triplot(mesh, axes=axes)\n",
    "axes.set_aspect(\"equal\")"
   ]
  },
  {
   "cell_type": "markdown",
   "metadata": {},
   "source": [
    "Our wrapper also adds a pad option and dislocates it appropriately (with zero starting in the domain of interest). Below, we show this wrapper (located in spyro.meshing.RectangleMesh) with the comm variable removed:"
   ]
  },
  {
   "cell_type": "code",
   "execution_count": 7,
   "metadata": {},
   "outputs": [],
   "source": [
    "def RectangleMesh(nx, ny, Lx, Ly, pad=None, quadrilateral=False):\n",
    "    \"\"\"Create a rectangle mesh based on the Firedrake mesh.\n",
    "    First axis is negative, second axis is positive. If there is a pad, both\n",
    "    axis are dislocated by the pad.\n",
    "\n",
    "    Parameters\n",
    "    ----------\n",
    "    Lx : float\n",
    "        Length of the domain in the x direction.\n",
    "    Ly : float\n",
    "        Length of the domain in the y direction.\n",
    "    nx : int\n",
    "        Number of elements in the x direction.\n",
    "    ny : int\n",
    "        Number of elements in the y direction.\n",
    "    pad : float, optional\n",
    "        Padding to be added to the domain. The default is None.\n",
    "    comm : MPI communicator, optional\n",
    "        MPI communicator. The default is None.\n",
    "    quadrilateral : bool, optional\n",
    "        If True, the mesh is quadrilateral. The default is False.\n",
    "\n",
    "    Returns\n",
    "    -------\n",
    "    mesh : Firedrake Mesh\n",
    "        Mesh\n",
    "    \"\"\"\n",
    "    if pad is not None:\n",
    "        Lx += pad\n",
    "        Ly += 2 * pad\n",
    "    else:\n",
    "        pad = 0\n",
    "    mesh = fire.RectangleMesh(nx, ny, Lx, Ly, quadrilateral=quadrilateral)\n",
    "    mesh.coordinates.dat.data[:, 0] *= -1.0\n",
    "    mesh.coordinates.dat.data[:, 1] -= pad\n",
    "\n",
    "    return mesh\n"
   ]
  },
  {
   "cell_type": "markdown",
   "metadata": {},
   "source": [
    "Let us use it to alter the example below and add a 0.5km pad."
   ]
  },
  {
   "cell_type": "code",
   "execution_count": 8,
   "metadata": {},
   "outputs": [],
   "source": [
    "nz = 10\n",
    "nx = 20\n",
    "length_z = 1.5\n",
    "length_x = 3.0\n",
    "pad = 0.5\n",
    "quad = True\n",
    "mesh = RectangleMesh(nz, nx, length_z, length_x, pad=0.5, quadrilateral=quad)"
   ]
  },
  {
   "cell_type": "code",
   "execution_count": 9,
   "metadata": {},
   "outputs": [
    {
     "data": {
      "image/png": "[encoded data removed]",
      "text/plain": [
       "<Figure size 640x480 with 1 Axes>"
      ]
     },
     "metadata": {},
     "output_type": "display_data"
    }
   ],
   "source": [
    "fig, axes = plt.subplots()\n",
    "triplot(mesh, axes=axes)\n",
    "axes.invert_yaxis()\n",
    "axes.set_xlabel(\"Z (km)\")\n",
    "axes.set_ylabel(\"X (km)\", rotation=-90, labelpad=20)\n",
    "plt.setp(axes.get_xticklabels(), rotation=-90, va=\"top\", ha=\"center\")\n",
    "plt.setp(axes.get_yticklabels(), rotation=-90, va=\"center\", ha=\"left\")\n",
    "axes.tick_params(axis='y', pad=20)\n",
    "axes.set_aspect(\"equal\")"
   ]
  },
  {
   "cell_type": "markdown",
   "metadata": {},
   "source": [
    "We use similar wrappers for 3D hexahedral and tetrahedral meshes, shown below as:"
   ]
  },
  {
   "cell_type": "code",
   "execution_count": 10,
   "metadata": {},
   "outputs": [],
   "source": [
    "def BoxMesh(nx, ny, nz, Lx, Ly, Lz, pad=None, quadrilateral=False):\n",
    "    if pad is not None:\n",
    "        Lx += pad\n",
    "        Ly += 2 * pad\n",
    "        Lz += 2 * pad\n",
    "    else:\n",
    "        pad = 0\n",
    "    if quadrilateral:\n",
    "        quad_mesh = fire.RectangleMesh(nx, ny, Lx, Ly, quadrilateral=quadrilateral)\n",
    "        quad_mesh.coordinates.dat.data[:, 0] *= -1.0\n",
    "        quad_mesh.coordinates.dat.data[:, 1] -= pad\n",
    "        layer_height = Lz / nz\n",
    "        mesh = fire.ExtrudedMesh(quad_mesh, nz, layer_height=layer_height)\n",
    "    else:\n",
    "        mesh = fire.BoxMesh(nx, ny, nz, Lx, Ly, Lz)\n",
    "        mesh.coordinates.dat.data[:, 0] *= -1.0\n",
    "\n",
    "    return mesh"
   ]
  },
  {
   "cell_type": "markdown",
   "metadata": {},
   "source": [
    "You will notice that an extruded rectangle mesh is used for hexahedral elements. This is necessary for Firedrake to take advantage of sum factorization in spectral elements. The layer height can be adjusted and be different for every layer. The 2D mesh to be extruded can be replaced with an unstructured quadrilateral mesh."
   ]
  },
  {
   "cell_type": "markdown",
   "metadata": {},
   "source": [
    "## SeismicMesh"
   ]
  },
  {
   "cell_type": "markdown",
   "metadata": {},
   "source": [
    "Please contribute to SeismicMesh and collaborate with Dr. Keith Richards for any improvements in our meshing algorithm. SeismicMesh has extensive documentation and demos at https://seismicmesh.readthedocs.io/en/par3d/. The current 2D wrapper in use is located in spyro.meshing.AutomaticMesh.create_seismicmesh_2d_mesh_with_velocity_model, but we refer to the SeismicMesh repository for tutorials and demos. \n",
    "\n",
    "It is essential to understand the required mesh resolution for a given desired accuracy to apply higher-order mass-lumped methods with unstructured meshes effectively. Here, we will only focus on the cells-per-wavelength parameter. To better understand this parameter relative to acoustic waves with simplexes, please read the Spyro paper or ask at olender@usp.br. If you want to use different wave equations, calculating new parameters is necessary but straightforward with the cells_per_wavelength_calculator located inside the tools package. If you need any help using the previously mentioned tool, please contact the developer of this specific tool (Alexandre Olender) only after implementing and verifying your new wave equation.\n",
    "\n",
    "For acoustic waves, just follow the updated table below when calling SeismicMesh:\n",
    "\n",
    "| Element      | CPW |\n",
    "| ----------- | ----------- |\n",
    "| mlt2tri      | 7.20       |\n",
    "| mlt3tri   | 3.97        |\n",
    "| mlt4tri   | 2.67        |\n",
    "| mlt5tri   | 2.03        |\n",
    "| mlt6tri   | 1.50        |\n",
    "| mlt2tet   | 6.12        |\n",
    "| mlt3tet   | 3.72        |"
   ]
  },
  {
   "cell_type": "markdown",
   "metadata": {},
   "source": [
    "Let us create meshes for mlt2tri and mlt6tri elements and compare them based on a cut Overthrust model. The dimensions are length_z = 2.8 km and length_x = 6.0 km. The Ricker source has a peak frequency of 5 Hz. A pad of abc_pad = 0.75 km was added. Please complete the code below:"
   ]
  },
  {
   "cell_type": "code",
   "execution_count": 11,
   "metadata": {},
   "outputs": [],
   "source": [
    "frequency = 5.0  # ANSWER\n",
    "length_z = 2.8  # ANSWER\n",
    "length_x = 6.0  # ANSWER\n",
    "abc_pad = 0.75  # ANSWER\n",
    "\n",
    "cells_per_wavelength = 7.20  # ANSWER\n",
    "\n",
    "# SeismicMesh takes length parameters in meters, even though the velocity paramter can be in km/s\n",
    "length_z *= 1000\n",
    "length_x *= 1000\n",
    "abc_pad *= 1000"
   ]
  },
  {
   "cell_type": "markdown",
   "metadata": {},
   "source": [
    "We also need to input the minimum element length. This occurs where velocity has the smallest value in our Overthurst model, representing the water layer, with 1.5 km/s."
   ]
  },
  {
   "cell_type": "code",
   "execution_count": 12,
   "metadata": {},
   "outputs": [],
   "source": [
    "v_min = 1.5\n",
    "lbda_min = v_min/frequency  # ANSWER\n",
    "h_min = lbda_min/cells_per_wavelength\n",
    "\n",
    "h_min *= 1000"
   ]
  },
  {
   "cell_type": "markdown",
   "metadata": {},
   "source": [
    "We need to build a box and domain with our corner coordinates. "
   ]
  },
  {
   "cell_type": "code",
   "execution_count": 13,
   "metadata": {},
   "outputs": [],
   "source": [
    "import SeismicMesh\n",
    "\n",
    "bbox = (-length_z, 0.0, 0.0, length_x)\n",
    "domain = SeismicMesh.Rectangle(bbox)"
   ]
  },
  {
   "cell_type": "markdown",
   "metadata": {},
   "source": [
    "Seismic mesh can now calculate the necessary element sizes across the domain using its `get_sizing_from_segy` method. If the file were a segy, the code below would run without errors."
   ]
  },
  {
   "cell_type": "code",
   "execution_count": 14,
   "metadata": {},
   "outputs": [
    {
     "ename": "IndexError",
     "evalue": "list index out of range",
     "output_type": "error",
     "traceback": [
      "\u001b[0;31m---------------------------------------------------------------------------\u001b[0m",
      "\u001b[0;31mIndexError\u001b[0m                                Traceback (most recent call last)",
      "Cell \u001b[0;32mIn[14], line 1\u001b[0m\n\u001b[0;32m----> 1\u001b[0m ef \u001b[38;5;241m=\u001b[39m \u001b[43mSeismicMesh\u001b[49m\u001b[38;5;241;43m.\u001b[39;49m\u001b[43mget_sizing_function_from_segy\u001b[49m\u001b[43m(\u001b[49m\n\u001b[1;32m      2\u001b[0m \u001b[43m    \u001b[49m\u001b[38;5;124;43m\"\u001b[39;49m\u001b[38;5;124;43mvelocity_models/cut_overthrust_binary.bin\u001b[39;49m\u001b[38;5;124;43m\"\u001b[39;49m\u001b[43m,\u001b[49m\n\u001b[1;32m      3\u001b[0m \u001b[43m    \u001b[49m\u001b[43mbbox\u001b[49m\u001b[43m,\u001b[49m\n\u001b[1;32m      4\u001b[0m \u001b[43m    \u001b[49m\u001b[43mhmin\u001b[49m\u001b[38;5;241;43m=\u001b[39;49m\u001b[43mh_min\u001b[49m\u001b[43m,\u001b[49m\n\u001b[1;32m      5\u001b[0m \u001b[43m    \u001b[49m\u001b[43mwl\u001b[49m\u001b[38;5;241;43m=\u001b[39;49m\u001b[43mcells_per_wavelength\u001b[49m\u001b[43m,\u001b[49m\n\u001b[1;32m      6\u001b[0m \u001b[43m    \u001b[49m\u001b[43mfreq\u001b[49m\u001b[38;5;241;43m=\u001b[39;49m\u001b[43mfrequency\u001b[49m\u001b[43m,\u001b[49m\n\u001b[1;32m      7\u001b[0m \u001b[43m    \u001b[49m\u001b[43mgrade\u001b[49m\u001b[38;5;241;43m=\u001b[39;49m\u001b[38;5;241;43m0.15\u001b[39;49m\u001b[43m,\u001b[49m\n\u001b[1;32m      8\u001b[0m \u001b[43m    \u001b[49m\u001b[43mdomain_pad\u001b[49m\u001b[38;5;241;43m=\u001b[39;49m\u001b[43mabc_pad\u001b[49m\u001b[43m,\u001b[49m\n\u001b[1;32m      9\u001b[0m \u001b[43m    \u001b[49m\u001b[43mpad_style\u001b[49m\u001b[38;5;241;43m=\u001b[39;49m\u001b[38;5;124;43m\"\u001b[39;49m\u001b[38;5;124;43medge\u001b[39;49m\u001b[38;5;124;43m\"\u001b[39;49m\u001b[43m,\u001b[49m\n\u001b[1;32m     10\u001b[0m \u001b[43m    \u001b[49m\u001b[43munits\u001b[49m\u001b[38;5;241;43m=\u001b[39;49m\u001b[38;5;124;43m'\u001b[39;49m\u001b[38;5;124;43mkm/s\u001b[39;49m\u001b[38;5;124;43m'\u001b[39;49m\u001b[43m,\u001b[49m\n\u001b[1;32m     11\u001b[0m \u001b[43m)\u001b[49m\n",
      "File \u001b[0;32m~/firedrake/lib/python3.8/site-packages/SeismicMesh/sizing/mesh_size_function.py:132\u001b[0m, in \u001b[0;36mget_sizing_function_from_segy\u001b[0;34m(filename, bbox, comm, **kwargs)\u001b[0m\n\u001b[1;32m    129\u001b[0m \u001b[38;5;28;01melse\u001b[39;00m:\n\u001b[1;32m    130\u001b[0m     \u001b[38;5;28;01mraise\u001b[39;00m \u001b[38;5;167;01mValueError\u001b[39;00m(\u001b[38;5;124m\"\u001b[39m\u001b[38;5;124mDimension not supported\u001b[39m\u001b[38;5;124m\"\u001b[39m)\n\u001b[0;32m--> 132\u001b[0m vp, nz, nx, ny \u001b[38;5;241m=\u001b[39m \u001b[43m_read_velocity_model\u001b[49m\u001b[43m(\u001b[49m\n\u001b[1;32m    133\u001b[0m \u001b[43m    \u001b[49m\u001b[43mfilename\u001b[49m\u001b[38;5;241;43m=\u001b[39;49m\u001b[43mfilename\u001b[49m\u001b[43m,\u001b[49m\n\u001b[1;32m    134\u001b[0m \u001b[43m    \u001b[49m\u001b[43mnz\u001b[49m\u001b[38;5;241;43m=\u001b[39;49m\u001b[43msz_opts\u001b[49m\u001b[43m[\u001b[49m\u001b[38;5;124;43m\"\u001b[39;49m\u001b[38;5;124;43mnz\u001b[39;49m\u001b[38;5;124;43m\"\u001b[39;49m\u001b[43m]\u001b[49m\u001b[43m,\u001b[49m\n\u001b[1;32m    135\u001b[0m \u001b[43m    \u001b[49m\u001b[43mnx\u001b[49m\u001b[38;5;241;43m=\u001b[39;49m\u001b[43msz_opts\u001b[49m\u001b[43m[\u001b[49m\u001b[38;5;124;43m\"\u001b[39;49m\u001b[38;5;124;43mnx\u001b[39;49m\u001b[38;5;124;43m\"\u001b[39;49m\u001b[43m]\u001b[49m\u001b[43m,\u001b[49m\n\u001b[1;32m    136\u001b[0m \u001b[43m    \u001b[49m\u001b[43mny\u001b[49m\u001b[38;5;241;43m=\u001b[39;49m\u001b[43msz_opts\u001b[49m\u001b[43m[\u001b[49m\u001b[38;5;124;43m\"\u001b[39;49m\u001b[38;5;124;43mny\u001b[39;49m\u001b[38;5;124;43m\"\u001b[39;49m\u001b[43m]\u001b[49m\u001b[43m,\u001b[49m\n\u001b[1;32m    137\u001b[0m \u001b[43m    \u001b[49m\u001b[43mbyte_order\u001b[49m\u001b[38;5;241;43m=\u001b[39;49m\u001b[43msz_opts\u001b[49m\u001b[43m[\u001b[49m\u001b[38;5;124;43m\"\u001b[39;49m\u001b[38;5;124;43mbyte_order\u001b[39;49m\u001b[38;5;124;43m\"\u001b[39;49m\u001b[43m]\u001b[49m\u001b[43m,\u001b[49m\n\u001b[1;32m    138\u001b[0m \u001b[43m    \u001b[49m\u001b[43maxes_order\u001b[49m\u001b[38;5;241;43m=\u001b[39;49m\u001b[43msz_opts\u001b[49m\u001b[43m[\u001b[49m\u001b[38;5;124;43m\"\u001b[39;49m\u001b[38;5;124;43maxes_order\u001b[39;49m\u001b[38;5;124;43m\"\u001b[39;49m\u001b[43m]\u001b[49m\u001b[43m,\u001b[49m\n\u001b[1;32m    139\u001b[0m \u001b[43m    \u001b[49m\u001b[43maxes_order_sort\u001b[49m\u001b[38;5;241;43m=\u001b[39;49m\u001b[43msz_opts\u001b[49m\u001b[43m[\u001b[49m\u001b[38;5;124;43m\"\u001b[39;49m\u001b[38;5;124;43maxes_order_sort\u001b[39;49m\u001b[38;5;124;43m\"\u001b[39;49m\u001b[43m]\u001b[49m\u001b[43m,\u001b[49m\n\u001b[1;32m    140\u001b[0m \u001b[43m    \u001b[49m\u001b[43mdtype\u001b[49m\u001b[38;5;241;43m=\u001b[39;49m\u001b[43msz_opts\u001b[49m\u001b[43m[\u001b[49m\u001b[38;5;124;43m\"\u001b[39;49m\u001b[38;5;124;43mdtype\u001b[39;49m\u001b[38;5;124;43m\"\u001b[39;49m\u001b[43m]\u001b[49m\u001b[43m,\u001b[49m\n\u001b[1;32m    141\u001b[0m \u001b[43m    \u001b[49m\u001b[43mdim\u001b[49m\u001b[38;5;241;43m=\u001b[39;49m\u001b[43mdim\u001b[49m\u001b[43m,\u001b[49m\n\u001b[1;32m    142\u001b[0m \u001b[43m\u001b[49m\u001b[43m)\u001b[49m\n\u001b[1;32m    144\u001b[0m \u001b[38;5;28;01mif\u001b[39;00m sz_opts[\u001b[38;5;124m\"\u001b[39m\u001b[38;5;124munits\u001b[39m\u001b[38;5;124m\"\u001b[39m] \u001b[38;5;241m==\u001b[39m \u001b[38;5;124m\"\u001b[39m\u001b[38;5;124mkm-s\u001b[39m\u001b[38;5;124m\"\u001b[39m:\n\u001b[1;32m    145\u001b[0m     \u001b[38;5;28mprint\u001b[39m(\u001b[38;5;124m\"\u001b[39m\u001b[38;5;124mConverting from km-s to m-s...\u001b[39m\u001b[38;5;124m\"\u001b[39m, flush\u001b[38;5;241m=\u001b[39m\u001b[38;5;28;01mTrue\u001b[39;00m)\n",
      "File \u001b[0;32m~/firedrake/lib/python3.8/site-packages/SeismicMesh/sizing/mesh_size_function.py:575\u001b[0m, in \u001b[0;36m_read_velocity_model\u001b[0;34m(filename, nz, nx, ny, byte_order, axes_order, axes_order_sort, dtype, dim)\u001b[0m\n\u001b[1;32m    573\u001b[0m     \u001b[38;5;28;01mreturn\u001b[39;00m _read_segy(filename)\n\u001b[1;32m    574\u001b[0m \u001b[38;5;28;01melse\u001b[39;00m:\n\u001b[0;32m--> 575\u001b[0m     \u001b[38;5;28;01mreturn\u001b[39;00m \u001b[43m_read_bin\u001b[49m\u001b[43m(\u001b[49m\n\u001b[1;32m    576\u001b[0m \u001b[43m        \u001b[49m\u001b[43mfilename\u001b[49m\u001b[43m,\u001b[49m\u001b[43m \u001b[49m\u001b[43mnz\u001b[49m\u001b[43m,\u001b[49m\u001b[43m \u001b[49m\u001b[43mnx\u001b[49m\u001b[43m,\u001b[49m\u001b[43m \u001b[49m\u001b[43mny\u001b[49m\u001b[43m,\u001b[49m\u001b[43m \u001b[49m\u001b[43mbyte_order\u001b[49m\u001b[43m,\u001b[49m\u001b[43m \u001b[49m\u001b[43maxes_order\u001b[49m\u001b[43m,\u001b[49m\u001b[43m \u001b[49m\u001b[43maxes_order_sort\u001b[49m\u001b[43m,\u001b[49m\u001b[43m \u001b[49m\u001b[43mdtype\u001b[49m\u001b[43m,\u001b[49m\u001b[43m \u001b[49m\u001b[43mdim\u001b[49m\n\u001b[1;32m    577\u001b[0m \u001b[43m    \u001b[49m\u001b[43m)\u001b[49m\n",
      "File \u001b[0;32m~/firedrake/lib/python3.8/site-packages/SeismicMesh/sizing/mesh_size_function.py:583\u001b[0m, in \u001b[0;36m_read_bin\u001b[0;34m(filename, nz, nx, ny, byte_order, axes_order, axes_order_sort, dtype, dim)\u001b[0m\n\u001b[1;32m    581\u001b[0m \u001b[38;5;250m\u001b[39m\u001b[38;5;124;03m\"\"\"Read a velocity model from a binary\"\"\"\u001b[39;00m\n\u001b[1;32m    582\u001b[0m \u001b[38;5;28;01mif\u001b[39;00m dim \u001b[38;5;241m==\u001b[39m \u001b[38;5;241m2\u001b[39m:\n\u001b[0;32m--> 583\u001b[0m     \u001b[38;5;28;01mreturn\u001b[39;00m \u001b[43m_read_bin_2d\u001b[49m\u001b[43m(\u001b[49m\u001b[43mfilename\u001b[49m\u001b[43m,\u001b[49m\u001b[43m \u001b[49m\u001b[43mnz\u001b[49m\u001b[43m,\u001b[49m\u001b[43m \u001b[49m\u001b[43mnx\u001b[49m\u001b[43m,\u001b[49m\u001b[43m \u001b[49m\u001b[43mbyte_order\u001b[49m\u001b[43m,\u001b[49m\u001b[43m \u001b[49m\u001b[43maxes_order\u001b[49m\u001b[43m,\u001b[49m\u001b[43m \u001b[49m\u001b[43maxes_order_sort\u001b[49m\u001b[43m,\u001b[49m\u001b[43m \u001b[49m\u001b[43mdtype\u001b[49m\u001b[43m)\u001b[49m\n\u001b[1;32m    584\u001b[0m \u001b[38;5;28;01mif\u001b[39;00m (nz \u001b[38;5;129;01mis\u001b[39;00m \u001b[38;5;28;01mNone\u001b[39;00m) \u001b[38;5;129;01mor\u001b[39;00m (nx \u001b[38;5;129;01mis\u001b[39;00m \u001b[38;5;28;01mNone\u001b[39;00m) \u001b[38;5;129;01mor\u001b[39;00m (ny \u001b[38;5;129;01mis\u001b[39;00m \u001b[38;5;28;01mNone\u001b[39;00m):\n\u001b[1;32m    585\u001b[0m     \u001b[38;5;28;01mraise\u001b[39;00m \u001b[38;5;167;01mValueError\u001b[39;00m(\n\u001b[1;32m    586\u001b[0m         \u001b[38;5;124m\"\u001b[39m\u001b[38;5;124mPlease specify the number of grid points in each dimension (e.g., `nz`, `nx`, `ny`)...\u001b[39m\u001b[38;5;124m\"\u001b[39m\n\u001b[1;32m    587\u001b[0m     )\n",
      "File \u001b[0;32m~/firedrake/lib/python3.8/site-packages/SeismicMesh/sizing/mesh_size_function.py:610\u001b[0m, in \u001b[0;36m_read_bin_2d\u001b[0;34m(filename, nz, nx, byte_order, axes_order, axes_order_sort, dtype)\u001b[0m\n\u001b[1;32m    608\u001b[0m axes \u001b[38;5;241m=\u001b[39m [nz, nx]\n\u001b[1;32m    609\u001b[0m ix \u001b[38;5;241m=\u001b[39m np\u001b[38;5;241m.\u001b[39margsort(axes_order)\n\u001b[0;32m--> 610\u001b[0m axes \u001b[38;5;241m=\u001b[39m [axes[o] \u001b[38;5;28;01mfor\u001b[39;00m o \u001b[38;5;129;01min\u001b[39;00m ix]\n\u001b[1;32m    611\u001b[0m \u001b[38;5;28;01mwith\u001b[39;00m \u001b[38;5;28mopen\u001b[39m(filename, \u001b[38;5;124m\"\u001b[39m\u001b[38;5;124mr\u001b[39m\u001b[38;5;124m\"\u001b[39m) \u001b[38;5;28;01mas\u001b[39;00m file:\n\u001b[1;32m    612\u001b[0m     \u001b[38;5;28mprint\u001b[39m(\u001b[38;5;124m\"\u001b[39m\u001b[38;5;124mReading binary file: \u001b[39m\u001b[38;5;124m\"\u001b[39m \u001b[38;5;241m+\u001b[39m filename)\n",
      "File \u001b[0;32m~/firedrake/lib/python3.8/site-packages/SeismicMesh/sizing/mesh_size_function.py:610\u001b[0m, in \u001b[0;36m<listcomp>\u001b[0;34m(.0)\u001b[0m\n\u001b[1;32m    608\u001b[0m axes \u001b[38;5;241m=\u001b[39m [nz, nx]\n\u001b[1;32m    609\u001b[0m ix \u001b[38;5;241m=\u001b[39m np\u001b[38;5;241m.\u001b[39margsort(axes_order)\n\u001b[0;32m--> 610\u001b[0m axes \u001b[38;5;241m=\u001b[39m [\u001b[43maxes\u001b[49m\u001b[43m[\u001b[49m\u001b[43mo\u001b[49m\u001b[43m]\u001b[49m \u001b[38;5;28;01mfor\u001b[39;00m o \u001b[38;5;129;01min\u001b[39;00m ix]\n\u001b[1;32m    611\u001b[0m \u001b[38;5;28;01mwith\u001b[39;00m \u001b[38;5;28mopen\u001b[39m(filename, \u001b[38;5;124m\"\u001b[39m\u001b[38;5;124mr\u001b[39m\u001b[38;5;124m\"\u001b[39m) \u001b[38;5;28;01mas\u001b[39;00m file:\n\u001b[1;32m    612\u001b[0m     \u001b[38;5;28mprint\u001b[39m(\u001b[38;5;124m\"\u001b[39m\u001b[38;5;124mReading binary file: \u001b[39m\u001b[38;5;124m\"\u001b[39m \u001b[38;5;241m+\u001b[39m filename)\n",
      "\u001b[0;31mIndexError\u001b[0m: list index out of range"
     ]
    }
   ],
   "source": [
    "ef = SeismicMesh.get_sizing_function_from_segy(\n",
    "    \"velocity_models/cut_overthrust_binary.bin\",\n",
    "    bbox,\n",
    "    hmin=h_min,\n",
    "    wl=cells_per_wavelength,\n",
    "    freq=frequency,\n",
    "    grade=0.15,\n",
    "    domain_pad=abc_pad,\n",
    "    pad_style=\"edge\",\n",
    "    units='km/s',\n",
    ")"
   ]
  },
  {
   "cell_type": "markdown",
   "metadata": {},
   "source": [
    "Even though segy files are the norm in Seismic imaging, binary files are also common. This is a severe hindrance if you need to learn how the binary file is organized. However, most binaries used in seismic imaging to represent velocity files are organized similarly. To use these files in SeismicMesh, you have to pass the number of elements in each direction, axes order, byte order, and dtype. "
   ]
  },
  {
   "cell_type": "code",
   "execution_count": 15,
   "metadata": {},
   "outputs": [
    {
     "name": "stdout",
     "output_type": "stream",
     "text": [
      "Reading binary file: velocity_models/cut_overthrust_binary.bin\n",
      "Mesh sizes will be built to resolve an estimate of wavelength of a 5.0 hz wavelet with 7.2 vertices...\n",
      "Enforcing minimum edge length of 41.666666666666664\n",
      "Enforcing maximum edge length of 10000.0\n",
      "Enforcing mesh size gradation of 0.15 decimal percent...\n",
      "Including a 750.0 meter domain extension...\n",
      "Using the pad_style: edge\n"
     ]
    }
   ],
   "source": [
    "nz, nx, ny = 140, 300, 0\n",
    "\n",
    "ef = SeismicMesh.get_sizing_function_from_segy(\n",
    "    \"velocity_models/cut_overthrust_binary.bin\",\n",
    "    bbox,\n",
    "    hmin=h_min,\n",
    "    wl=cells_per_wavelength,\n",
    "    freq=frequency,\n",
    "    grade=0.15,\n",
    "    domain_pad=abc_pad,\n",
    "    pad_style=\"edge\",\n",
    "    units='km/s',\n",
    "    nz=nz,\n",
    "    nx=nx,\n",
    "    ny=ny,\n",
    "    axes_order=(1, 0),\n",
    "    byte_order=\"little\",\n",
    "    dtype=\"int32\",\n",
    ")"
   ]
  },
  {
   "cell_type": "markdown",
   "metadata": {},
   "source": [
    "We can now create our mesh"
   ]
  },
  {
   "cell_type": "code",
   "execution_count": 16,
   "metadata": {},
   "outputs": [],
   "source": [
    "points, cells = SeismicMesh.generate_mesh(\n",
    "    domain=domain,\n",
    "    edge_length=ef,\n",
    "    verbose=0,\n",
    ")"
   ]
  },
  {
   "cell_type": "markdown",
   "metadata": {},
   "source": [
    "We can save our mesh using meshio. If necessary, we can convert the coordinates back to km here. The vtk file is just for Paraview visualization."
   ]
  },
  {
   "cell_type": "code",
   "execution_count": 17,
   "metadata": {},
   "outputs": [
    {
     "data": {
      "text/html": [
       "<pre style=\"white-space:pre;overflow-x:auto;line-height:normal;font-family:Menlo,'DejaVu Sans Mono',consolas,'Courier New',monospace\"><span style=\"color: #808000; text-decoration-color: #808000; font-weight: bold\">Warning:</span><span style=\"color: #808000; text-decoration-color: #808000\"> Appending zeros to replace the missing physical tag data.</span>\n",
       "</pre>\n"
      ],
      "text/plain": [
       "\u001b[1;33mWarning:\u001b[0m\u001b[33m Appending zeros to replace the missing physical tag data.\u001b[0m\n"
      ]
     },
     "metadata": {},
     "output_type": "display_data"
    },
    {
     "data": {
      "text/html": [
       "<pre style=\"white-space:pre;overflow-x:auto;line-height:normal;font-family:Menlo,'DejaVu Sans Mono',consolas,'Courier New',monospace\"><span style=\"color: #808000; text-decoration-color: #808000; font-weight: bold\">Warning:</span><span style=\"color: #808000; text-decoration-color: #808000\"> Appending zeros to replace the missing geometrical tag data.</span>\n",
       "</pre>\n"
      ],
      "text/plain": [
       "\u001b[1;33mWarning:\u001b[0m\u001b[33m Appending zeros to replace the missing geometrical tag data.\u001b[0m\n"
      ]
     },
     "metadata": {},
     "output_type": "display_data"
    },
    {
     "data": {
      "text/html": [
       "<pre style=\"white-space:pre;overflow-x:auto;line-height:normal;font-family:Menlo,'DejaVu Sans Mono',consolas,'Courier New',monospace\"><span style=\"color: #808000; text-decoration-color: #808000; font-weight: bold\">Warning:</span><span style=\"color: #808000; text-decoration-color: #808000\"> VTK requires 3D points, but 2D points given. Appending </span><span style=\"color: #808000; text-decoration-color: #808000; font-weight: bold\">0</span><span style=\"color: #808000; text-decoration-color: #808000\"> third component.</span>\n",
       "</pre>\n"
      ],
      "text/plain": [
       "\u001b[1;33mWarning:\u001b[0m\u001b[33m VTK requires 3D points, but 2D points given. Appending \u001b[0m\u001b[1;33m0\u001b[0m\u001b[33m third component.\u001b[0m\n"
      ]
     },
     "metadata": {},
     "output_type": "display_data"
    }
   ],
   "source": [
    "import meshio\n",
    "\n",
    "meshio.write_points_cells(\n",
    "    \"meshing_tutorial_mesh.msh\",\n",
    "    points/1000.0,\n",
    "    [(\"triangle\", cells)],\n",
    "    file_format=\"gmsh22\",\n",
    "    binary=False\n",
    ")\n",
    "\n",
    "meshio.write_points_cells(\n",
    "    \"meshing_tutorial_mesh.vtk\",\n",
    "    points/1000.0,\n",
    "    [(\"triangle\", cells)],\n",
    "    file_format=\"vtk\"\n",
    ")"
   ]
  },
  {
   "cell_type": "markdown",
   "metadata": {},
   "source": [
    "Let us load our mesh into Firedrake so we can have a look at it"
   ]
  },
  {
   "cell_type": "code",
   "execution_count": 18,
   "metadata": {},
   "outputs": [],
   "source": [
    "mesh = fire.Mesh(\n",
    "    'meshing_tutorial_mesh.msh',\n",
    "    distribution_parameters={\n",
    "        \"overlap_type\": (fire.DistributedMeshOverlapType.NONE, 0)\n",
    "    },\n",
    ")"
   ]
  },
  {
   "cell_type": "code",
   "execution_count": 19,
   "metadata": {},
   "outputs": [
    {
     "data": {
      "image/png": "[encoded data removed]",
      "text/plain": [
       "<Figure size 1300x1000 with 2 Axes>"
      ]
     },
     "metadata": {},
     "output_type": "display_data"
    }
   ],
   "source": [
    "spyro.plots.plot_mesh_sizes(\n",
    "    firedrake_mesh=mesh,\n",
    "    title_str=\"Overtrust mesh\",\n",
    "    show=True,\n",
    ")"
   ]
  },
  {
   "cell_type": "markdown",
   "metadata": {},
   "source": [
    "The above mesh has elements varying from 30 meters to 270 meters. Total DoFs can give us an idea of computational storage and runtime costs. Since we are using ML2Tri, we must look at the nodes inside each element, not just the vertices. For the above problem, the total DoFs are:"
   ]
  },
  {
   "cell_type": "code",
   "execution_count": 20,
   "metadata": {},
   "outputs": [
    {
     "name": "stdout",
     "output_type": "stream",
     "text": [
      "Total Dofs for ml2tri function space:36709\n"
     ]
    }
   ],
   "source": [
    "element = fire.FiniteElement(\"KMV\", mesh.ufl_cell(), degree=2, variant=\"KMV\")\n",
    "space = fire.FunctionSpace(mesh, element)\n",
    "print(f\"Total Dofs for ml2tri function space:{space.dim()}\")"
   ]
  },
  {
   "cell_type": "markdown",
   "metadata": {},
   "source": [
    "For comparison, let us create the same mesh and function space using ml4tri elements"
   ]
  },
  {
   "cell_type": "code",
   "execution_count": 21,
   "metadata": {},
   "outputs": [
    {
     "name": "stdout",
     "output_type": "stream",
     "text": [
      "Reading binary file: velocity_models/cut_overthrust_binary.bin\n",
      "Mesh sizes will be built to resolve an estimate of wavelength of a 5.0 hz wavelet with 2.67 vertices...\n",
      "Enforcing minimum edge length of 112.35955056179775\n",
      "Enforcing maximum edge length of 10000.0\n",
      "Enforcing mesh size gradation of 0.15 decimal percent...\n",
      "Including a 750.0 meter domain extension...\n",
      "Using the pad_style: edge\n"
     ]
    },
    {
     "data": {
      "text/html": [
       "<pre style=\"white-space:pre;overflow-x:auto;line-height:normal;font-family:Menlo,'DejaVu Sans Mono',consolas,'Courier New',monospace\"><span style=\"color: #808000; text-decoration-color: #808000; font-weight: bold\">Warning:</span><span style=\"color: #808000; text-decoration-color: #808000\"> Appending zeros to replace the missing physical tag data.</span>\n",
       "</pre>\n"
      ],
      "text/plain": [
       "\u001b[1;33mWarning:\u001b[0m\u001b[33m Appending zeros to replace the missing physical tag data.\u001b[0m\n"
      ]
     },
     "metadata": {},
     "output_type": "display_data"
    },
    {
     "data": {
      "text/html": [
       "<pre style=\"white-space:pre;overflow-x:auto;line-height:normal;font-family:Menlo,'DejaVu Sans Mono',consolas,'Courier New',monospace\"><span style=\"color: #808000; text-decoration-color: #808000; font-weight: bold\">Warning:</span><span style=\"color: #808000; text-decoration-color: #808000\"> Appending zeros to replace the missing geometrical tag data.</span>\n",
       "</pre>\n"
      ],
      "text/plain": [
       "\u001b[1;33mWarning:\u001b[0m\u001b[33m Appending zeros to replace the missing geometrical tag data.\u001b[0m\n"
      ]
     },
     "metadata": {},
     "output_type": "display_data"
    },
    {
     "data": {
      "text/html": [
       "<pre style=\"white-space:pre;overflow-x:auto;line-height:normal;font-family:Menlo,'DejaVu Sans Mono',consolas,'Courier New',monospace\"><span style=\"color: #808000; text-decoration-color: #808000; font-weight: bold\">Warning:</span><span style=\"color: #808000; text-decoration-color: #808000\"> VTK requires 3D points, but 2D points given. Appending </span><span style=\"color: #808000; text-decoration-color: #808000; font-weight: bold\">0</span><span style=\"color: #808000; text-decoration-color: #808000\"> third component.</span>\n",
       "</pre>\n"
      ],
      "text/plain": [
       "\u001b[1;33mWarning:\u001b[0m\u001b[33m VTK requires 3D points, but 2D points given. Appending \u001b[0m\u001b[1;33m0\u001b[0m\u001b[33m third component.\u001b[0m\n"
      ]
     },
     "metadata": {},
     "output_type": "display_data"
    }
   ],
   "source": [
    "frequency = 5.0\n",
    "length_z = 2.8\n",
    "length_x = 6.0\n",
    "abc_pad = 0.75\n",
    "\n",
    "cells_per_wavelength = 2.67 # ANSWER\n",
    "\n",
    "# SeismicMesh takes length parameters in meters, even though the velocity paramter can be in km/s\n",
    "length_z *= 1000\n",
    "length_x *= 1000\n",
    "abc_pad *= 1000\n",
    "\n",
    "v_min = 1.5\n",
    "lbda_min = v_min/frequency\n",
    "h_min = lbda_min/cells_per_wavelength\n",
    "\n",
    "h_min *= 1000\n",
    "\n",
    "bbox = (-length_z, 0.0, 0.0, length_x)\n",
    "domain = SeismicMesh.Rectangle(bbox)\n",
    "\n",
    "nz, nx, ny = 140, 300, 0\n",
    "\n",
    "ef = SeismicMesh.get_sizing_function_from_segy(\n",
    "    \"velocity_models/cut_overthrust_binary.bin\",\n",
    "    bbox,\n",
    "    hmin=h_min,\n",
    "    wl=cells_per_wavelength,\n",
    "    freq=frequency,\n",
    "    grade=0.15,\n",
    "    domain_pad=abc_pad,\n",
    "    pad_style=\"edge\",\n",
    "    units='km/s',\n",
    "    nz=nz,\n",
    "    nx=nx,\n",
    "    ny=ny,\n",
    "    axes_order=(1, 0),\n",
    "    byte_order=\"little\",\n",
    "    dtype=\"int32\",\n",
    ")\n",
    "\n",
    "points, cells = SeismicMesh.generate_mesh(\n",
    "    domain=domain,\n",
    "    edge_length=ef,\n",
    "    verbose=0,\n",
    ")\n",
    "\n",
    "meshio.write_points_cells(\n",
    "    \"new_meshing_tutorial_mesh.msh\",\n",
    "    points/1000.0,\n",
    "    [(\"triangle\", cells)],\n",
    "    file_format=\"gmsh22\",\n",
    "    binary=False\n",
    ")\n",
    "\n",
    "meshio.write_points_cells(\n",
    "    \"new_meshing_tutorial_mesh.vtk\",\n",
    "    points/1000.0,\n",
    "    [(\"triangle\", cells)],\n",
    "    file_format=\"vtk\"\n",
    ")\n",
    "\n",
    "new_mesh = fire.Mesh(\n",
    "    'new_meshing_tutorial_mesh.msh',\n",
    "    distribution_parameters={\n",
    "        \"overlap_type\": (fire.DistributedMeshOverlapType.NONE, 0)\n",
    "    },\n",
    ")"
   ]
  },
  {
   "cell_type": "markdown",
   "metadata": {},
   "source": [
    "Let us have a look at the new mesh"
   ]
  },
  {
   "cell_type": "code",
   "execution_count": 22,
   "metadata": {},
   "outputs": [
    {
     "data": {
      "image/png": "[encoded data removed]",
      "text/plain": [
       "<Figure size 1300x1000 with 2 Axes>"
      ]
     },
     "metadata": {},
     "output_type": "display_data"
    }
   ],
   "source": [
    "spyro.plots.plot_mesh_sizes(\n",
    "    firedrake_mesh=new_mesh,\n",
    "    title_str=\"Overtrust ML4tri mesh\",\n",
    "    show=True,\n",
    ")"
   ]
  },
  {
   "cell_type": "markdown",
   "metadata": {},
   "source": [
    "As you can see, our element sizes are considerably bigger, varying from 80 to 400 meters. Larger elements for the same domain mean fewer elements. However, does this translate to fewer DoFs? A single ml4tri element has more DoFs than a single ML2tri element, so the tradeoff is only sometimes clear. Let us calculate the new total DoFs:"
   ]
  },
  {
   "cell_type": "code",
   "execution_count": 23,
   "metadata": {},
   "outputs": [
    {
     "name": "stdout",
     "output_type": "stream",
     "text": [
      "Total Dofs for ml4tri function space:18798\n"
     ]
    }
   ],
   "source": [
    "element = fire.FiniteElement(\"KMV\", new_mesh.ufl_cell(), degree=4, variant=\"KMV\")\n",
    "space = fire.FunctionSpace(new_mesh, element)\n",
    "print(f\"Total Dofs for ml4tri function space:{space.dim()}\")"
   ]
  },
  {
   "cell_type": "markdown",
   "metadata": {},
   "source": [
    "As you can see using the 4th order element we have greatly reduced our total DoFs!"
   ]
  }
 ],
 "metadata": {
  "kernelspec": {
   "display_name": "firedrake",
   "language": "python",
   "name": "python3"
  },
  "language_info": {
   "codemirror_mode": {
    "name": "ipython",
    "version": 3
   },
   "file_extension": ".py",
   "mimetype": "text/x-python",
   "name": "python",
   "nbconvert_exporter": "python",
   "pygments_lexer": "ipython3",
   "version": "3.8.10"
  }
 },
 "nbformat": 4,
 "nbformat_minor": 2
}
