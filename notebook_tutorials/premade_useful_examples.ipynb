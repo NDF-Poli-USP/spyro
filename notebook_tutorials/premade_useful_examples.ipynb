{
 "cells": [
  {
   "cell_type": "markdown",
   "metadata": {},
   "source": [
    "# Premade useful examples"
   ]
  },
  {
   "cell_type": "code",
   "execution_count": 1,
   "metadata": {},
   "outputs": [
    {
     "name": "stderr",
     "output_type": "stream",
     "text": [
      "firedrake:WARNING OMP_NUM_THREADS is not set or is set to a value greater than 1, we suggest setting OMP_NUM_THREADS=1 to improve performance\n"
     ]
    }
   ],
   "source": [
    "# Code in this cell enables plotting in the notebook\n",
    "%matplotlib inline\n",
    "import spyro"
   ]
  },
  {
   "cell_type": "markdown",
   "metadata": {},
   "source": [
    "Author: Alexandre Olender\n",
    "\n",
    "Contact: olender@usp.br\n",
    "\n",
    "This tutorial provides simple examples commonly encountered in seismic imaging model development. These examples serve as a foundation for testing and verifying code implementations before applying them to more complex experiments. You can find these examples within the \"examples\" folder."
   ]
  },
  {
   "cell_type": "markdown",
   "metadata": {},
   "source": [
    "## Rectangle example"
   ]
  },
  {
   "cell_type": "markdown",
   "metadata": {},
   "source": [
    "The Rectangle example is, by default, a 1 km by 1 km rectangle with 0.05 km mesh size and 0.25km absorbing layers. It has a default dictionary located in the rectangles.py file. You can easily modify any isolated dictionary parameter. The example class has a multiple_layer_velocity_model method for quickly adding horizontal velocity layers. For instance, you can create a four-layer experiment with:"
   ]
  },
  {
   "cell_type": "code",
   "execution_count": 2,
   "metadata": {},
   "outputs": [
    {
     "name": "stdout",
     "output_type": "stream",
     "text": [
      "Parallelism type: automatic\n"
     ]
    },
    {
     "name": "stderr",
     "output_type": "stream",
     "text": [
      "/home/alexandre/Development/tutorials/spyro-1/spyro/solvers/wave.py:85: UserWarning: No mesh file, Firedrake mesh will be automatically generated.\n",
      "  warnings.warn(\n"
     ]
    }
   ],
   "source": [
    "Wave_obj = spyro.examples.Rectangle_acoustic()\n",
    "\n",
    "layer_values = [1.5, 2.0, 2.5, 3.0]\n",
    "z_switches = [-0.25, -0.5, -0.75]\n",
    "Wave_obj.multiple_layer_velocity_model(z_switches, layer_values)"
   ]
  },
  {
   "cell_type": "markdown",
   "metadata": {},
   "source": [
    "Let us have a look at the generated model:"
   ]
  },
  {
   "cell_type": "code",
   "execution_count": 3,
   "metadata": {},
   "outputs": [
    {
     "name": "stdout",
     "output_type": "stream",
     "text": [
      "File name rectangle_model1.png\n"
     ]
    }
   ],
   "source": [
    "spyro.plots.plot_model(Wave_obj, filename=\"rectangle_model1.png\", show=False)"
   ]
  },
  {
   "cell_type": "markdown",
   "metadata": {},
   "source": [
    "![title](rectangle_model1.png)"
   ]
  },
  {
   "cell_type": "markdown",
   "metadata": {},
   "source": [
    "You can easily customize this model. Let's create a model with the following specifications:\n",
    "\n",
    "- Width: 4 km\n",
    "- Depth: 3 km\n",
    "- Element size: 100 meters\n",
    "- No Perfectly Matched Layer (PML)\n",
    "- Source located 10 meters deep in the middle of the width\n",
    "- 20 receivers equally spaced between the first and second layers\n",
    "- 3 layers, equally spaced, with velocities of 1.5 km/s, 2.5 km/s, and 3.5 km/s.\n",
    "\n",
    "Simply adjust the parameters that deviate from the default values."
   ]
  },
  {
   "cell_type": "code",
   "execution_count": 4,
   "metadata": {},
   "outputs": [
    {
     "name": "stdout",
     "output_type": "stream",
     "text": [
      "Parallelism type: automatic\n"
     ]
    },
    {
     "name": "stderr",
     "output_type": "stream",
     "text": [
      "/home/alexandre/Development/tutorials/spyro-1/spyro/solvers/wave.py:85: UserWarning: No mesh file, Firedrake mesh will be automatically generated.\n",
      "  warnings.warn(\n"
     ]
    }
   ],
   "source": [
    "dictionary = {}\n",
    "dictionary[\"mesh\"] = {\n",
    "    \"Lz\": 3.0,  # depth in km - always positive\n",
    "    \"Lx\": 4.0,  # width in km - always positive\n",
    "    \"h\": 0.1,  # mesh size in km\n",
    "}\n",
    "dictionary[\"absorving_boundary_conditions\"] = {\n",
    "    \"status\": False,\n",
    "    \"pad_length\": 0.,\n",
    "}\n",
    "dictionary[\"acquisition\"] = {\n",
    "    \"source_locations\": [(-0.1, 2.0)],\n",
    "    \"receiver_locations\": spyro.create_transect((-1.0, 0.0), (-1.0, 4.0), 20),\n",
    "}\n",
    "Wave_obj_rec2 = spyro.examples.Rectangle_acoustic(dictionary=dictionary)\n",
    "layer_values = [1.5, 2.5, 3.5]\n",
    "z_switches = [-1.0, -2.0]\n",
    "Wave_obj_rec2.multiple_layer_velocity_model(z_switches, layer_values)"
   ]
  },
  {
   "cell_type": "markdown",
   "metadata": {},
   "source": [
    "As we can see, you only need to add the parameters that differ from the default values."
   ]
  },
  {
   "cell_type": "code",
   "execution_count": 5,
   "metadata": {},
   "outputs": [
    {
     "name": "stdout",
     "output_type": "stream",
     "text": [
      "File name rectangle_model2.png\n"
     ]
    }
   ],
   "source": [
    "spyro.plots.plot_model(Wave_obj_rec2, filename=\"rectangle_model2.png\", show=False)"
   ]
  },
  {
   "cell_type": "markdown",
   "metadata": {},
   "source": [
    "![title](rectangle_model2.png)"
   ]
  },
  {
   "cell_type": "markdown",
   "metadata": {},
   "source": [
    "Now, generate your own model based on the Rectangle example with five layers, 6 km width, and 3 km depth."
   ]
  },
  {
   "cell_type": "markdown",
   "metadata": {},
   "source": [
    "## Camembert example"
   ]
  },
  {
   "cell_type": "markdown",
   "metadata": {},
   "source": [
    "A recurring model in the literature for verifying and validating code is the Camembert model, which consists of a higher velocity circle inside an otherwise homogeneous velocity rectangle domain.\n",
    "\n",
    "Let us create a model with the following specifications:\n",
    "- 1 km wide,\n",
    "- 1 km deep,\n",
    "- 100 meter element size,\n",
    "- inside circle velocity of 3.5 km/s and 0.2 km radius,\n",
    "- outside circle velocity of 2.0 km/s,\n",
    "- 1 ricker source at (-0.1, 0.5) with 6 Hz peak frequency,\n",
    "- 10 receivers between (-0.9, 0.1) and (-0.9, 0.9)."
   ]
  },
  {
   "cell_type": "code",
   "execution_count": 6,
   "metadata": {},
   "outputs": [
    {
     "name": "stdout",
     "output_type": "stream",
     "text": [
      "Parallelism type: automatic\n"
     ]
    },
    {
     "name": "stderr",
     "output_type": "stream",
     "text": [
      "/home/alexandre/Development/tutorials/spyro-1/spyro/io/dictionaryio.py:301: UserWarning: Both methods of specifying method and cell_type with                     variant used. Method specification taking priority.\n",
      "  warnings.warn(\n",
      "/home/alexandre/Development/tutorials/spyro-1/spyro/io/model_parameters.py:610: UserWarning: No velocity model set initially. If using                         user defined conditional or expression, please                             input it in the Wave object.\n",
      "  warnings.warn(\n",
      "/home/alexandre/Development/tutorials/spyro-1/spyro/solvers/wave.py:85: UserWarning: No mesh file, Firedrake mesh will be automatically generated.\n",
      "  warnings.warn(\n"
     ]
    }
   ],
   "source": [
    "camembert_dictionary = {}\n",
    "camembert_dictionary[\"mesh\"] = {\n",
    "    \"Lz\": 1.0,  # depth in km - always positive\n",
    "    \"Lx\": 1.0,  # width in km - always positive\n",
    "    \"h\": 0.05,  # mesh size in km\n",
    "}\n",
    "camembert_dictionary[\"camembert_options\"] = {\n",
    "    \"radius\": 0.2,\n",
    "    \"outside_velocity\": 2.0,\n",
    "    \"inside_circle_velocity\": 3.5,\n",
    "}\n",
    "camembert_dictionary[\"acquisition\"] = {\n",
    "    \"source_locations\": [(-0.1, 0.5)],\n",
    "    \"frequency\": 6.0,\n",
    "    \"receiver_locations\": spyro.create_transect((-0.9, 0.1), (-0.9, 0.9), 10),\n",
    "}\n",
    "camembert_dictionary[\"visualization\"] = {\n",
    "    \"debug_output\": True,\n",
    "}\n",
    "Wave_obj_queijo_minas = spyro.examples.Camembert_acoustic(dictionary=camembert_dictionary)"
   ]
  },
  {
   "cell_type": "code",
   "execution_count": 7,
   "metadata": {},
   "outputs": [
    {
     "name": "stdout",
     "output_type": "stream",
     "text": [
      "File name camembert_example.png\n"
     ]
    }
   ],
   "source": [
    "spyro.plots.plot_model(Wave_obj_queijo_minas, filename=\"camembert_example.png\", show=False)"
   ]
  },
  {
   "cell_type": "markdown",
   "metadata": {},
   "source": [
    "![title](camembert_example.png)"
   ]
  },
  {
   "cell_type": "markdown",
   "metadata": {},
   "source": [
    "Looking at our model, you can see that the circle is not well-defined. The visual plotting capabilities of Firedrake have difficulties with higher order elements, such as the ML4tri we used on this camembert example. To have a more accurate representation of the real velocity model used, you have to use a Paraview version higher or equal to 5.8. The reason we passed a debug output boolean in our dictionary is so that it outputs the velocity model. The figure generated by Paraview can be seen below:"
   ]
  },
  {
   "cell_type": "markdown",
   "metadata": {},
   "source": [
    "![title](camembert_example_paraview.png)"
   ]
  },
  {
   "cell_type": "markdown",
   "metadata": {},
   "source": [
    "## Creating your own example"
   ]
  },
  {
   "cell_type": "markdown",
   "metadata": {},
   "source": [
    "This section is crucial, especially during code development when you need to test or experiment with similar models featuring variations in single or multiple variables. For instance, you may want to train a neural network with changing velocity model files, run the same model in Full Waveform Inversion (FWI) with different receiver setups, or employ FWI while varying inversion options.\n",
    "\n",
    "Creating a commonly used example can be beneficial for your own use and for other researchers. For example, you may want to test the same velocity model with hundreds of variations of receiver locations."
   ]
  },
  {
   "cell_type": "markdown",
   "metadata": {},
   "source": [
    "We can create a default example model such as the one below:"
   ]
  },
  {
   "cell_type": "code",
   "execution_count": 8,
   "metadata": {},
   "outputs": [],
   "source": [
    "from spyro.examples.example_model import Example_model_acoustic\n",
    "\n",
    "default_dictionary = {}\n",
    "default_dictionary[\"options\"] = {\n",
    "    \"cell_type\": \"T\",  # simplexes such as triangles or tetrahedra (T) or quadrilaterals (Q)\n",
    "    \"variant\": \"lumped\",  # lumped, equispaced or DG, default is lumped\n",
    "    \"degree\": 4,  # p order\n",
    "    \"dimension\": 2,  # dimension\n",
    "}\n",
    "default_dictionary[\"parallelism\"] = {\n",
    "    \"type\": \"automatic\",  # options: automatic (same number of cores for evey processor) or spatial\n",
    "}\n",
    "default_dictionary[\"mesh\"] = {\n",
    "    \"Lz\": 2.8,  # depth in km - always positive   # Como ver isso sem ler a malha?\n",
    "    \"Lx\": 6.0,  # width in km - always positive\n",
    "    \"Ly\": 0.0,  # thickness in km - always positive\n",
    "    \"mesh_file\": \"meshes/cut_overthrust.msh\",\n",
    "}\n",
    "default_dictionary[\"acquisition\"] = {\n",
    "    \"source_type\": \"ricker\",\n",
    "    \"source_locations\": [(-0.01, 3.0)],\n",
    "    \"frequency\": 5.0,\n",
    "    \"receiver_locations\": spyro.create_transect((-0.37, 0.2), (-0.37, 5.8), 300),\n",
    "}\n",
    "default_dictionary[\"absorving_boundary_conditions\"] = {\n",
    "    \"status\": True,\n",
    "    \"damping_type\": \"PML\",\n",
    "    \"exponent\": 2,\n",
    "    \"cmax\": 4.5,\n",
    "    \"R\": 1e-6,\n",
    "    \"pad_length\": 0.75,\n",
    "}\n",
    "default_dictionary[\"synthetic_data\"] = {\n",
    "    \"real_velocity_file\": \"velocity_models/cut_overthrust.hdf5\",\n",
    "}\n",
    "default_dictionary[\"time_axis\"] = {\n",
    "    \"initial_time\": 0.0,  # Initial time for event\n",
    "    \"final_time\": 5.00,  # Final time for event\n",
    "    \"dt\": 0.0005,  # timestep size\n",
    "    \"output_frequency\": 200,  # how frequently to output solution to pvds - Perguntar Daiane ''post_processing_frequnecy'\n",
    "    \"gradient_sampling_frequency\": 1,  # how frequently to save solution to RAM    - Perguntar Daiane 'gradient_sampling_frequency'\n",
    "}\n",
    "default_dictionary[\"visualization\"] = {\n",
    "    \"forward_output\": True,\n",
    "    \"forward_output_filename\": \"results/forward_output.pvd\",\n",
    "    \"fwi_velocity_model_output\": False,\n",
    "    \"velocity_model_filename\": None,\n",
    "    \"gradient_output\": False,\n",
    "    \"gradient_filename\": \"results/Gradient.pvd\",\n",
    "    \"adjoint_output\": False,\n",
    "    \"adjoint_filename\": None,\n",
    "    \"debug_output\": False,\n",
    "}\n",
    "optimization_parameters = {\n",
    "    \"General\": {\n",
    "        \"Secant\": {\"Type\": \"Limited-Memory BFGS\", \"Maximum Storage\": 10}\n",
    "    },\n",
    "    \"Step\": {\n",
    "        \"Type\": \"Augmented Lagrangian\",\n",
    "        \"Augmented Lagrangian\": {\n",
    "            \"Subproblem Step Type\": \"Line Search\",\n",
    "            \"Subproblem Iteration Limit\": 5.0,\n",
    "        },\n",
    "        \"Line Search\": {\"Descent Method\": {\"Type\": \"Quasi-Newton Step\"}},\n",
    "    },\n",
    "    \"Status Test\": {\n",
    "        \"Gradient Tolerance\": 1e-16,\n",
    "        \"Iteration Limit\": None,\n",
    "        \"Step Tolerance\": 1.0e-16,\n",
    "    },\n",
    "}\n",
    "default_dictionary[\"inversion\"] = {\n",
    "    \"perform_fwi\": False,  # switch to true to make a FWI\n",
    "    \"initial_guess_model_file\": None,\n",
    "    \"shot_record_file\": None,\n",
    "    \"optimization_parameters\": optimization_parameters,\n",
    "}\n",
    "\n",
    "class Overthrust_acoustic(Example_model_acoustic):\n",
    "    \"\"\"\n",
    "    Rectangle model.\n",
    "    This class is a child of the Example_model class.\n",
    "    It is used to create a dictionary with the parameters of the\n",
    "    Rectangle model.\n",
    "\n",
    "    Parameters\n",
    "    ----------\n",
    "    dictionary : dict, optional\n",
    "        Dictionary with the parameters of the model that are different from\n",
    "        the default model. The default is None.\n",
    "    comm : firedrake.mpi_comm.MPI.Intracomm, optional\n",
    "    periodic : bool, optional\n",
    "        If True, the mesh will be periodic in all directions. The default is\n",
    "        False.\n",
    "    \"\"\"\n",
    "    def __init__(\n",
    "        self,\n",
    "        dictionary=None,\n",
    "        example_dictionary=default_dictionary,\n",
    "        comm=None,\n",
    "        periodic=False,\n",
    "    ):\n",
    "        super().__init__(\n",
    "            dictionary=dictionary,\n",
    "            default_dictionary=example_dictionary,\n",
    "            comm=comm,\n",
    "        )"
   ]
  },
  {
   "cell_type": "markdown",
   "metadata": {},
   "source": [
    "We can now create multiple wave objects just by varying the desired variables. The example below creates 2 different objects with different source locations."
   ]
  },
  {
   "cell_type": "code",
   "execution_count": 9,
   "metadata": {},
   "outputs": [
    {
     "name": "stdout",
     "output_type": "stream",
     "text": [
      "Parallelism type: automatic\n",
      "INFO: Distributing 1 shot(s) across 1 core(s).                 Each shot is using 1 cores\n",
      "  rank 0 on ensemble 0 owns 5976 elements and can access 3113 vertices\n",
      "Parallelism type: automatic\n",
      "INFO: Distributing 1 shot(s) across 1 core(s).                 Each shot is using 1 cores\n",
      "  rank 0 on ensemble 0 owns 5976 elements and can access 3113 vertices\n"
     ]
    }
   ],
   "source": [
    "temp_dict = {}\n",
    "temp_dict[\"acquisition\"] = {\n",
    "    \"source_locations\": [(-0.01, 1.0)],\n",
    "    \"frequency\": 5.0,\n",
    "    \"receiver_locations\": spyro.create_transect((-0.37, 0.2), (-0.37, 5.8), 10),\n",
    "}\n",
    "Wave_obj_overthurst1 = Overthrust_acoustic(dictionary=temp_dict)\n",
    "temp_dict[\"acquisition\"][\"source_locations\"] = [(-0.01, 5.0)]\n",
    "Wave_obj_overthurst2 = Overthrust_acoustic(dictionary=temp_dict)"
   ]
  },
  {
   "cell_type": "markdown",
   "metadata": {},
   "source": [
    "This is also recommended for reused examples that require new methods not in the inherited class. "
   ]
  }
 ],
 "metadata": {
  "kernelspec": {
   "display_name": "firedrake",
   "language": "python",
   "name": "python3"
  },
  "language_info": {
   "codemirror_mode": {
    "name": "ipython",
    "version": 3
   },
   "file_extension": ".py",
   "mimetype": "text/x-python",
   "name": "python",
   "nbconvert_exporter": "python",
   "pygments_lexer": "ipython3",
   "version": "3.8.10"
  }
 },
 "nbformat": 4,
 "nbformat_minor": 2
}
