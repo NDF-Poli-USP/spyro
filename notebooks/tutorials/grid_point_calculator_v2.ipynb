{
 "cells": [
  {
   "cell_type": "markdown",
   "id": "460e8250",
   "metadata": {},
   "source": [
    "The desired distribution of triangular edge lengths $l_e$ in the meshes are calculated using a ratio of the local seismic velocity (e.g., P-wavespeed) and the representative frequency of a source wavelet:\n",
    "$$\n",
    "l_e(\\textbf{x}) \\propto \\frac{c(\\textbf{x})}{C \\cdot f_{source}}\n",
    "$$\n",
    "where $c(\\textbf{x})$ is spatially variable P-wavespeed, $f_{source}$ is the representative frequency of a source wavelet and $C$ denotes the number of cells-per-wavelength:\n",
    "$$\n",
    "C \\equiv \\frac{\\lambda}{l_e}\n",
    "$$\n",
    "The following figure is an example of a typical mesh size distribution for the synthetic P-wavespeed model Marmousi2."
   ]
  },
  {
   "cell_type": "markdown",
   "id": "fd5b2f21",
   "metadata": {},
   "source": [
    "# Grid point per wavelength calculation"
   ]
  },
  {
   "cell_type": "markdown",
   "id": "124e93ee",
   "metadata": {},
   "source": [
    "`spyro` uses variable resolution element sizes meshes, in order to maximize the accuracy and minimize the computational costs. In this software, such elements are based on the acoustic wavelength, the Courant–Friedrichs–Lewy (CFL) condition and a mesh gradation rate. Stated that, the design of resolution becomes proportional to the wavelength of the acoustic wave. One assumption made is that all triangles are nearly equilateral, which is required for accurate simulation with FEMs."
   ]
  },
  {
   "cell_type": "markdown",
   "id": "fc9b508a",
   "metadata": {},
   "source": [
    "<img src=\"marmousi_mesh.png\" alt=\"Drawing\" style=\"width: 600px;\"/>"
   ]
  },
  {
   "cell_type": "markdown",
   "id": "2fcf6829",
   "metadata": {},
   "source": [
    "**Note:** mesh sizes must be smoothly varying (otherwise referred to as a graded) to avoid numerical errors when simulations are performed. `spyro` uses a mesh gradation rate of 15%, which was obtained through trial-and-error."
   ]
  },
  {
   "cell_type": "markdown",
   "id": "3eb47317",
   "metadata": {},
   "source": [
    "The parameters $C$ and $G$ (number of grid-point-per-wavelength) are related to one another through:\n",
    "$$\n",
    "G = \\alpha(P) \\cdot C\n",
    "$$\n",
    "where $\\alpha(P)$ is a constant coefficient that is a function of the spatial polynomial degree $k$. Kong-Mulder-Veldhuizen (KMV) elements have a higher number of nodes-per-element, therefore they have a higher $\\alpha$ per polynomial degree than standard Lagrange elements.\n",
    "\n",
    "$\\alpha(P)$ is calculated based on the square root of the number of DoF ($n_{DoF}$) per number of elements ($n_e$) in the mesh, \n",
    "$$\n",
    "\\sqrt{\\frac{n_{DoF}}{n_e}}\n",
    "$$"
   ]
  },
  {
   "cell_type": "markdown",
   "id": "5603b18a",
   "metadata": {},
   "source": [
    "The selection of $C$, and consequently $G$, raise several important questions such as: what is the minimal $G$ that can minimize numerical dispersion error and how does the choice of $G$ affect the total DoF for a given problem.\n",
    "\n",
    "These are important aspects as they yield significant effects on both the runtime and computational requirements of FWI with FEM."
   ]
  },
  {
   "cell_type": "markdown",
   "id": "ff787a89",
   "metadata": {},
   "source": [
    "## 1. Importing libraries"
   ]
  },
  {
   "cell_type": "markdown",
   "id": "479c3506",
   "metadata": {},
   "source": [
    "The required libraries for running the grid point function are:"
   ]
  },
  {
   "cell_type": "code",
   "execution_count": 1,
   "id": "cbf81afb",
   "metadata": {},
   "outputs": [
    {
     "name": "stderr",
     "output_type": "stream",
     "text": [
      "firedrake:WARNING OMP_NUM_THREADS is not set or is set to a value greater than 1, we suggest setting OMP_NUM_THREADS=1 to improve performance\n"
     ]
    }
   ],
   "source": [
    "from mpi4py import MPI\n",
    "import numpy as np\n",
    "from scipy import interpolate\n",
    "import meshio\n",
    "import SeismicMesh\n",
    "import firedrake as fire\n",
    "import time\n",
    "import copy\n",
    "import spyro"
   ]
  },
  {
   "cell_type": "markdown",
   "id": "6fd81006",
   "metadata": {},
   "source": [
    "## 2. Required functions"
   ]
  },
  {
   "cell_type": "markdown",
   "id": "4abd3cfa",
   "metadata": {},
   "source": [
    "### 2.1. Minimum grid point calculator"
   ]
  },
  {
   "cell_type": "markdown",
   "id": "d5c255e0",
   "metadata": {},
   "source": [
    "`minimum_grid_point_calculator` is a function to calculate necessary grid point density.\n",
    "\n",
    "**Parameters:**\n",
    "- *grid_point_calculator_parameters*: Python 'dictionary'. It contains all parameters related to the experiment. An example is provided in the demo file.\n",
    "    \n",
    "**Returns:**\n",
    "- *G*: `float`. Minimum grid point density necessary for a `experiment_type` mesh with a FEM whith \n",
    "    the degree and method specified within the specified error tolerance."
   ]
  },
  {
   "cell_type": "code",
   "execution_count": 4,
   "id": "ee4be570",
   "metadata": {},
   "outputs": [],
   "source": [
    "def minimum_grid_point_calculator(grid_point_calculator_parameters):\n",
    "    G_reference = grid_point_calculator_parameters['G_reference']\n",
    "    degree_reference = grid_point_calculator_parameters['reference_degree']\n",
    "    G_initial = grid_point_calculator_parameters['G_initial']\n",
    "    desired_degree = grid_point_calculator_parameters['desired_degree']\n",
    "    TOL = grid_point_calculator_parameters['accepted_error_threshold']\n",
    "\n",
    "    model = spyro.tools.create_model_for_grid_point_calculation(grid_point_calculator_parameters, degree_reference)\n",
    "    \n",
    "    comm = spyro.utils.mpi_init(model)\n",
    "    \n",
    "    print(\"Entering search\", flush = True)\n",
    "    p_exact = wave_solver(model, G =G_reference, comm = comm)\n",
    "    print(\"p_exact calculation finished\", flush = True)\n",
    "\n",
    "    comm.comm.barrier()\n",
    "\n",
    "    model = spyro.tools.create_model_for_grid_point_calculation(grid_point_calculator_parameters, desired_degree)\n",
    "    G = searching_for_minimum(model, p_exact, TOL, starting_G=G_initial, comm = comm)\n",
    "\n",
    "    return G"
   ]
  },
  {
   "cell_type": "markdown",
   "id": "dca6c5ba",
   "metadata": {},
   "source": [
    "### 2.2. Wave solver"
   ]
  },
  {
   "cell_type": "markdown",
   "id": "9f5685ba",
   "metadata": {},
   "source": [
    "`wave_solver` is a function that runs the standard model several times.\n",
    "\n",
    "**Parameters:**\n",
    "- *model*: Python 'dictionary'. Contains model options and parameters.\n",
    "- *G*: `float`. Defined as above.\n",
    "- *comm*: Firedrake.ensemble_communicator. The MPI communicator for parallelism.\n",
    "    \n",
    "**Returns:**\n",
    "- *p_recv*: `float`. Recorded pressure values."
   ]
  },
  {
   "cell_type": "code",
   "execution_count": 5,
   "id": "c2f5e7b9",
   "metadata": {},
   "outputs": [],
   "source": [
    "def wave_solver(model, G, comm = False):\n",
    "    minimum_mesh_velocity = model['testing_parameters']['minimum_mesh_velocity']\n",
    "\n",
    "    mesh = generate_mesh(model, G, comm)\n",
    "\n",
    "    element = spyro.domains.space.FE_method(mesh, model[\"opts\"][\"method\"], model[\"opts\"][\"degree\"])\n",
    "    V = fire.FunctionSpace(mesh, element)\n",
    "\n",
    "    if model['testing_parameters']['experiment_type'] == 'homogeneous':\n",
    "        vp_exact = fire.Constant(minimum_mesh_velocity)\n",
    "    elif model['testing_parameters']['experiment_type'] == 'heterogeneous':\n",
    "        vp_exact = spyro.io.interpolate(model, mesh, V, guess=False)\n",
    "\n",
    "    if model[\"opts\"][\"method\"] == 'KMV':\n",
    "        estimate_max_eigenvalue=True\n",
    "    else:\n",
    "        estimate_max_eigenvalue=False\n",
    "    new_dt = 0.2*spyro.estimate_timestep(mesh, V, vp_exact,estimate_max_eigenvalue=estimate_max_eigenvalue)\n",
    "\n",
    "    model['timeaxis']['dt'] = comm.comm.allreduce(new_dt, op=MPI.MIN)\n",
    "    if model['timeaxis']['dt'] > 0.001:\n",
    "        model['timeaxis']['dt'] = 0.001\n",
    "    if comm.comm.rank == 0:\n",
    "        print(\n",
    "            f\"Maximum stable timestep is: {comm.comm.allreduce(new_dt, op=MPI.MIN)} seconds\",\n",
    "            flush=True,\n",
    "        )\n",
    "        print(\n",
    "            f\"Maximum stable timestep used is: {model['timeaxis']['dt']} seconds\",\n",
    "            flush=True,\n",
    "        )\n",
    "\n",
    "    sources = spyro.Sources(model, mesh, V, comm)\n",
    "    receivers = spyro.Receivers(model, mesh, V, comm)\n",
    "    wavelet = spyro.full_ricker_wavelet(\n",
    "                                        dt=model[\"timeaxis\"][\"dt\"],\n",
    "                                        tf=model[\"timeaxis\"][\"tf\"],\n",
    "                                        freq=model[\"acquisition\"][\"frequency\"],\n",
    "                                    )\n",
    "\n",
    "    for sn in range(model[\"acquisition\"][\"num_sources\"]):\n",
    "        if spyro.io.is_owner(comm, sn):\n",
    "            t1 = time.time()\n",
    "            p_field, p_recv = spyro.solvers.forward(\n",
    "                model, mesh, comm, vp_exact, sources, wavelet, receivers, source_num=sn, output= False)\n",
    "            print(time.time() - t1)\n",
    "\n",
    "    return p_recv"
   ]
  },
  {
   "cell_type": "markdown",
   "id": "eaef38f4",
   "metadata": {},
   "source": [
    "### 2.3. Searching for minimum"
   ]
  },
  {
   "cell_type": "markdown",
   "id": "04f20888",
   "metadata": {},
   "source": [
    "`searching_for_minimum` is a function to search for the minimum `G` value. It starts from the accuracy value and runs a loop until the minimum is found.\n",
    "\n",
    "**Parameters:**\n",
    "- *p_exact*: exact pressure values.\n",
    "- *TOL*: `float`. Tolerance.\n",
    "- *accuracy*: `float`. Desired accuracy. Default value: 0.1.\n",
    "- *starting_G:* `float`. Initial guess value for the minimum grid point density. Default value: 7.0.\n",
    "    \n",
    "**Returns:**\n",
    "- *G*: `float`. Optimized value of `G`."
   ]
  },
  {
   "cell_type": "code",
   "execution_count": 7,
   "id": "2263e891",
   "metadata": {},
   "outputs": [],
   "source": [
    "def searching_for_minimum(model, p_exact, TOL, accuracy = 0.1, starting_G = 7.0, comm=False):\n",
    "    error = 100.0\n",
    "    G = starting_G\n",
    "\n",
    "    # fast loop\n",
    "    print(\"Entering fast loop\", flush = True)\n",
    "    while error > TOL:\n",
    "        dif = max(G*0.1, accuracy)\n",
    "        G = G + dif\n",
    "        print('With G equal to '+str(G) )\n",
    "        print(\"Entering wave solver\", flush = True)\n",
    "        p0 = wave_solver(model,G, comm)\n",
    "        error = error_calc(p_exact, p0, model, comm = comm)\n",
    "        print('Error of '+str(error))\n",
    "\n",
    "    G -= dif\n",
    "    G = np.round(G,1)-accuracy\n",
    "    # slow loop\n",
    "    if dif > accuracy :\n",
    "        print(\"Entering slow loop\", flush = True)\n",
    "        error = 100.0\n",
    "        while error > TOL:\n",
    "            dif = accuracy\n",
    "            G = G + dif\n",
    "            print('With G equal to '+str(G) )\n",
    "            print(\"Entering wave solver\", flush = True)\n",
    "            p0 = wave_solver(model,G, comm )\n",
    "            error = error_calc(p_exact, p0, model, comm = comm)\n",
    "            print('Error of '+str(error))\n",
    "\n",
    "    return G"
   ]
  },
  {
   "cell_type": "markdown",
   "id": "9397b235",
   "metadata": {},
   "source": [
    "### 2.4. Grid point to mesh point converter for SeismicMesh"
   ]
  },
  {
   "cell_type": "markdown",
   "id": "0b0f50c3",
   "metadata": {},
   "source": [
    "`grid_point_to_mesh_point_converter_for_seismicmesh` converts the `G` value obtained previously, which is related to the grid, to a mesh representation. The conversion parameters were manually calculated. Due to this fact, `spyro` converter currently supports only the method KMV.\n",
    "\n",
    "**Parameters:** All of them were defined previously.\n",
    "    \n",
    "**Returns:**\n",
    "- *M*: `float`. Minimum mesh point density necessary for a `experiment_type` mesh with a FEM whith the degree and method specified within the specified error tolerance."
   ]
  },
  {
   "cell_type": "code",
   "execution_count": 8,
   "id": "bc4079de",
   "metadata": {},
   "outputs": [],
   "source": [
    "def grid_point_to_mesh_point_converter_for_seismicmesh(model, G):\n",
    "    degree = model[\"opts\"]['degree']\n",
    "    if model[\"opts\"][\"method\"] == 'KMV':\n",
    "        if degree == 1:\n",
    "            M = G/0.707813887967734\n",
    "        if degree == 2:\n",
    "            M = 0.5*G/0.8663141029672784\n",
    "        if degree == 3:\n",
    "            M = 0.2934695559090401*G/0.7483761673104953\n",
    "        if degree == 4:\n",
    "            M = 0.21132486540518713*G/0.7010127254535244\n",
    "        if degree == 5:\n",
    "            M = 0.20231237605867816*G/0.9381929803311276\n",
    "\n",
    "    if model[\"opts\"][\"method\"] == 'CG':\n",
    "        raise ValueError(\"Correct M to G conversion to be inputed for CG\")\n",
    "\n",
    "    if model[\"opts\"][\"method\"] == 'spectral':\n",
    "        raise ValueError(\"Correct M to G conversion to be inputed for spectral\")\n",
    "        \n",
    "    return M"
   ]
  },
  {
   "cell_type": "markdown",
   "id": "aa4a3b64",
   "metadata": {},
   "source": [
    "### 2.5. Error calculation"
   ]
  },
  {
   "cell_type": "markdown",
   "id": "74c44a1b",
   "metadata": {},
   "source": [
    "`error_calc` is associated with the  deviation between the exact pressure *p_exact* and the recorded value, *p*. It is evaluated according the expression:\n",
    "\n",
    "$$\n",
    "E = \\sqrt{\\frac{\\sum_{r=1}^{N_r} \\ \\int_0^{t_f} (p_r-p_{r_{ref}})^2 \\ dt}{\\sum_{r=1}^{N_r} \\ \\int_0^{t_f} p_{r_{ref}}^2 \\ dt}} \\ \\times \\ 100\\%\n",
    "$$\n",
    "\n",
    "where $N_r$ denotes the number of receivers, $t_f$ is the final simulation time in seconds, $p_r$ is the pressure at the receivers\n",
    "for a given mesh and $p_{ref}$ denotes the pressure at the receivers computed with a reference mesh.\n",
    "\n",
    "**Parameters:** All of them were defined previously.\n",
    "    \n",
    "**Returns:**\n",
    "- *error*: `float`. "
   ]
  },
  {
   "cell_type": "code",
   "execution_count": 2,
   "id": "892bc851",
   "metadata": {},
   "outputs": [],
   "source": [
    "def error_calc(p_exact, p, model, comm = False):\n",
    "    \n",
    "    # testing shape\n",
    "    times_p_exact, r_p_exact = p_exact.shape\n",
    "    times_p, r_p = p.shape\n",
    "    if times_p_exact > times_p: #then we interpolate p_exact\n",
    "        times, receivers = p.shape\n",
    "        dt = model[\"timeaxis\"]['tf']/times\n",
    "        p_exact = time_interpolation(p_exact, p, model)\n",
    "    elif times_p_exact < times_p: #then we interpolate p\n",
    "        times, receivers = p_exact.shape\n",
    "        dt = model[\"timeaxis\"]['tf']/times\n",
    "        p = time_interpolation(p, p_exact, model)\n",
    "    else: #then we dont need to interpolate\n",
    "        times, receivers = p.shape\n",
    "        dt = model[\"timeaxis\"]['tf']/times\n",
    "    #p = time_interpolation(p, p_exact, model)\n",
    "\n",
    "    p_diff = p_exact-p\n",
    "    max_absolute_diff = 0.0\n",
    "    max_percentage_diff = 0.0\n",
    "\n",
    "    if comm.ensemble_comm.rank ==0:\n",
    "        numerator = 0.0\n",
    "        denominator = 0.0\n",
    "        for receiver in range(receivers):\n",
    "            numerator_time_int = 0.0\n",
    "            denominator_time_int = 0.0\n",
    "            for t in range(times-1):\n",
    "                top_integration = (p_exact[t,receiver]-p[t,receiver])**2*dt\n",
    "                bot_integration = (p_exact[t,receiver])**2*dt\n",
    "\n",
    "                # Adding 1e-25 filter to receivers to eliminate noise\n",
    "                numerator_time_int   += top_integration\n",
    "\n",
    "                denominator_time_int += bot_integration\n",
    "\n",
    "\n",
    "                diff = p_exact[t,receiver]-p[t,receiver]\n",
    "                if abs(diff) > 1e-15 and abs(diff) > max_absolute_diff:\n",
    "                    max_absolute_diff = copy.deepcopy(diff)\n",
    "                \n",
    "                if abs(diff) > 1e-15 and abs(p_exact[t,receiver]) > 1e-15:\n",
    "                    percentage_diff = abs( diff/p_exact[t,receiver]  )*100\n",
    "                    if percentage_diff > max_percentage_diff:\n",
    "                        max_percentage_diff = copy.deepcopy(percentage_diff)\n",
    "\n",
    "            numerator   += numerator_time_int\n",
    "            denominator += denominator_time_int\n",
    "\n",
    "    if denominator > 1e-15:\n",
    "        error = np.sqrt(numerator/denominator)\n",
    "\n",
    "    if denominator < 1e-15:\n",
    "        print(\"Warning: receivers don't appear to register a shot.\", flush = True)\n",
    "        error = 0.0\n",
    "\n",
    "    return error"
   ]
  },
  {
   "cell_type": "markdown",
   "id": "4cdf2a2e",
   "metadata": {},
   "source": [
    "## 3. Example"
   ]
  },
  {
   "cell_type": "markdown",
   "id": "10065102",
   "metadata": {},
   "source": [
    "The grid point calculator function must be evaluated only once for a given model file. It means that an optimization study can be conducted prior to running the `FWI` function, for example, and the optimal parameters can be stored. One can find examples in the literature."
   ]
  },
  {
   "cell_type": "markdown",
   "id": "29e0df84",
   "metadata": {},
   "source": [
    "<img src=\"grid_point_table.png\" alt=\"Drawing\" style=\"width: 600px;\"/>\n",
    "\n",
    "Comparison between the homogeneous and heterogeneous experiment, in order to identify efficient values for $G$ using\n",
    "KMV elements. The spatial degree $k$ was varied with an error threshold of $E = 5\\%$, as compared to a highly-refined reference solution. From [1]."
   ]
  },
  {
   "cell_type": "markdown",
   "id": "f1cc4e79",
   "metadata": {},
   "source": [
    "Similarly, the variation of $E$ as a function of $C$ and $G$ can also be analyzed:"
   ]
  },
  {
   "cell_type": "markdown",
   "id": "58b60801",
   "metadata": {},
   "source": [
    "<img src=\"grid_point_graph.png\" alt=\"Drawing\" style=\"width: 1000px;\"/>\n",
    "\n",
    "Pictures (a) and (b) show the results for the homogeneous velocity model experiment to find the minimum $G$ (as shown in the function `searchinf_for_minimum`). Panel (a) shows $C$ as a function of $E$ (according the equation in subsection **2.5.**). Panel (b) illustrates the error as a function of $G$. Panels (c) and (d) show the same thing as (a) and (b) but for the heterogeneous velocity model experiment for different polynomial orders. The $E = 5 \\%$ threshold is drawn as a horizontal dashed black line on all panels. The best fit is made in (a) and (c). The slope is below the curves. From [1]."
   ]
  },
  {
   "cell_type": "markdown",
   "id": "6b544c72",
   "metadata": {},
   "source": [
    "## 4. References"
   ]
  },
  {
   "cell_type": "markdown",
   "id": "4eebb1d8",
   "metadata": {},
   "source": [
    "[1] ROBERTS, K. J. et al. spyro: a firedrake-based wave propagation and full waveform\n",
    "inversion finite element solver. Geoscientific Model Development Discussions, v. 2021, p.\n",
    "1–47, 2021. Available in: <https://gmd.copernicus.org/preprints/gmd-2021-363/> "
   ]
  }
 ],
 "metadata": {
  "interpreter": {
   "hash": "c636c80da4301bac4452b76631ed9bfa598d64810b11ba9aafb778bda6792944"
  },
  "kernelspec": {
   "display_name": "firedrake",
   "language": "python",
   "name": "python3"
  },
  "language_info": {
   "codemirror_mode": {
    "name": "ipython",
    "version": 3
   },
   "file_extension": ".py",
   "mimetype": "text/x-python",
   "name": "python",
   "nbconvert_exporter": "python",
   "pygments_lexer": "ipython3",
   "version": "3.9.5"
  }
 },
 "nbformat": 4,
 "nbformat_minor": 5
}
