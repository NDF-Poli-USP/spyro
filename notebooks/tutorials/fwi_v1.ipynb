{
 "cells": [
  {
   "cell_type": "markdown",
   "id": "35eb3f9b",
   "metadata": {},
   "source": [
    "# Full Waveform Inversion (FWI)"
   ]
  },
  {
   "cell_type": "markdown",
   "id": "fd7db673",
   "metadata": {},
   "source": [
    "## 1. Introduction"
   ]
  },
  {
   "cell_type": "markdown",
   "id": "55885922",
   "metadata": {},
   "source": [
    "The Full Waveform Inversion (FWI) techinique is designed to simulate a geophysical survey and estimate the model parameters (e.g., seismic velocity) to explain the observed waveforms in a way that minimizes a measure of error (e.g., misfit), process known as inversion.\n",
    "\n",
    "FWI utilizes both amplitudes and phase information from recorded data and can thus image higher resolution targets to half the spatial wavelength of the source frequency (Fichtner, 2011).\n",
    "\n",
    "The following shows a basic overview of an experimental configuration used in FWI in a marine environment.\n",
    "\n",
    "<img src=\"fwi_setup.png\" alt=\"Drawing\" style=\"width: 600px;\"/>\n",
    "\n",
    "Source: [1]."
   ]
  },
  {
   "cell_type": "markdown",
   "id": "688aeac2",
   "metadata": {},
   "source": [
    "`spyro` uses continuous Galerkin finite elements are applied to perform full waveform inversion (FWI) for seismic velocity model building. It is used a time-domain FWI approach with meshes composed of variably sized triangular elements to discretize the domain. To resolve both the forward and adjoint-state equations, and to calculate a mesh-independent gradient associated with the FWI process, a fully-explicit, variable higher-order (up to degree k = 5 in 2D and k = 3 in 3D) mass lumping method is used."
   ]
  },
  {
   "cell_type": "markdown",
   "id": "a3ebbab0",
   "metadata": {},
   "source": [
    "The adaptation of the triangular elements to the expected peak source frequency and properties of the wavefield (e.g., local P-wavespeed) and by leveraging higher-order basis functions, the number of degrees-of-freedom necessary to discretize the domain can be reduced. "
   ]
  },
  {
   "cell_type": "markdown",
   "id": "42c67e9d",
   "metadata": {},
   "source": [
    "## 2. FWI 2D example"
   ]
  },
  {
   "cell_type": "markdown",
   "id": "15750b24",
   "metadata": {},
   "source": [
    "### 2.1. Importing libraries"
   ]
  },
  {
   "cell_type": "markdown",
   "id": "5a97cf9b",
   "metadata": {},
   "source": [
    "For implementing FWI, the ROL library must be installed. First, activate the `Firedrake` environment. Then, install the `patchelf` library:\n",
    "\n",
    "`sudo apt install patchelf`\n",
    "\n",
    "Then install the Rapid Optimization Library along with roltrilinos:\n",
    "\n",
    "`pip3 install --no-cache-dir roltrilinos`\n",
    "\n",
    "`pip3 install --no-cache-dir ROL`"
   ]
  },
  {
   "cell_type": "code",
   "execution_count": 12,
   "id": "76922821",
   "metadata": {},
   "outputs": [],
   "source": [
    "import firedrake as fire\n",
    "import numpy as np\n",
    "import finat\n",
    "from ROL.firedrake_vector import FiredrakeVector as FeVector\n",
    "import ROL\n",
    "from mpi4py import MPI\n",
    "\n",
    "import spyro\n",
    "\n",
    "import psutil\n",
    "import os"
   ]
  },
  {
   "cell_type": "markdown",
   "id": "40bb9ae6",
   "metadata": {},
   "source": [
    "### 2.2. Memory usage analysis"
   ]
  },
  {
   "cell_type": "markdown",
   "id": "4d4575c0",
   "metadata": {},
   "source": [
    "Since FWI requires a high computational cost, the memory usage should be monitored. An output directory is also created."
   ]
  },
  {
   "cell_type": "code",
   "execution_count": 13,
   "id": "61a7a0ba",
   "metadata": {},
   "outputs": [],
   "source": [
    "def get_memory_usage():\n",
    "    \"\"\"Return the memory usage in Mo.\"\"\"\n",
    "    process = psutil.Process(os.getpid())\n",
    "    mem = process.memory_info()[0] / float(2 ** 20)\n",
    "    return mem\n",
    "\n",
    "\n",
    "outdir = \"fwi_p3_ho/\"\n",
    "if COMM_WORLD.rank == 0:\n",
    "    mem = open(outdir + \"mem.txt\", \"w\")\n",
    "    func = open(outdir + \"func.txt\", \"w\")"
   ]
  },
  {
   "cell_type": "markdown",
   "id": "eb362323",
   "metadata": {},
   "source": [
    "### 2.3. Model definition"
   ]
  },
  {
   "cell_type": "markdown",
   "id": "adebffc8",
   "metadata": {},
   "source": [
    "`spyro` requires a model dictionary containing all relevant parameters and information. A simple model for testing can be created as follows."
   ]
  },
  {
   "cell_type": "code",
   "execution_count": 5,
   "id": "366d30d3",
   "metadata": {},
   "outputs": [],
   "source": [
    "model = {}"
   ]
  },
  {
   "cell_type": "markdown",
   "id": "db89b917",
   "metadata": {},
   "source": [
    "#### 2.3.1. Model options"
   ]
  },
  {
   "cell_type": "markdown",
   "id": "f129f786",
   "metadata": {},
   "source": [
    "Information regarding the method, its order and the domain dimension."
   ]
  },
  {
   "cell_type": "code",
   "execution_count": 6,
   "id": "9cff1a01",
   "metadata": {},
   "outputs": [],
   "source": [
    "model[\"opts\"] = {\n",
    "        \"method\": \"KMV\",  # either CG or KMV\n",
    "        \"quadratrue\": \"KMV\", # Equi or KMV\n",
    "        \"degree\": 1,  # p order\n",
    "        \"dimension\": 2,  # dimension\n",
    "        \"regularization\": False,  # regularization is on?\n",
    "        \"gamma\": 1e-5, # regularization parameter\n",
    "    }"
   ]
  },
  {
   "cell_type": "markdown",
   "id": "3eaa61bd",
   "metadata": {},
   "source": [
    "#### 2.3.2. Model parallelism"
   ]
  },
  {
   "cell_type": "markdown",
   "id": "efbccc3d",
   "metadata": {},
   "source": [
    "It is recommended that the parallelism is settled to *spatial*."
   ]
  },
  {
   "cell_type": "code",
   "execution_count": 7,
   "id": "95de3cf3",
   "metadata": {},
   "outputs": [],
   "source": [
    "model[\"parallelism\"] = {\n",
    "        \"type\": \"spatial\",  # options: automatic (same number of cores for evey processor) or spatial\n",
    "    }"
   ]
  },
  {
   "cell_type": "markdown",
   "id": "aaa84309",
   "metadata": {},
   "source": [
    "#### 2.3.3. Model mesh"
   ]
  },
  {
   "cell_type": "markdown",
   "id": "e59e25c1",
   "metadata": {},
   "source": [
    "The domain dimensions must be defined, as well as the mesh and velocity files imported."
   ]
  },
  {
   "cell_type": "code",
   "execution_count": 10,
   "id": "f0e85051",
   "metadata": {},
   "outputs": [],
   "source": [
    "model[\"mesh\"] = {\n",
    "            \"Lz\": 1.0,  # depth in km - always positive\n",
    "            \"Lx\": 1.0,  # width in km - always positive\n",
    "            \"Ly\": 0.0,  # thickness in km - always positive\n",
    "            \"meshfile\": \"not_used.msh\",\n",
    "            \"initmodel\": \"not_used.hdf5\",\n",
    "            \"truemodel\": \"not_used.hdf5\",\n",
    "        }"
   ]
  },
  {
   "cell_type": "markdown",
   "id": "95e8c39a",
   "metadata": {},
   "source": [
    "#### 2.3.4. Model boundary conditions"
   ]
  },
  {
   "cell_type": "markdown",
   "id": "a3f22dd2",
   "metadata": {},
   "source": [
    "`spyro` can use a perfectly matched layer (PML), an artificial absorbing layer for wave equations, commonly used to truncate computational regions in numerical methods to simulate problems with open boundaries. "
   ]
  },
  {
   "cell_type": "code",
   "execution_count": 8,
   "id": "22cca0f7",
   "metadata": {},
   "outputs": [],
   "source": [
    "# Specify a 250-m Absorbing Boundary Layer (ABL) on the three sides of the domain to damp outgoing waves.\n",
    "model[\"BCs\"] = {\n",
    "    \"status\": True,  # True or False, used to turn on any type of BC\n",
    "    \"method\": \"PML\", # either PML or Damping, used to turn on any type of BC\n",
    "    \"outer_bc\": \"non-reflective\", #  none or non-reflective (outer boundary condition)\n",
    "    \"damping_type\": \"polynomial\",  # polynomial, hyperbolic, shifted_hyperbolic\n",
    "    \"exponent\": 2,  # damping layer has a exponent variation\n",
    "    \"cmax\": 1.5,  # maximum acoustic wave velocity in PML - km/s\n",
    "    \"R\": 1e-6,  # theoretical reflection coefficient\n",
    "    \"lz\": 0.7,  # thickness of the PML in the z-direction (km) - always positive\n",
    "    \"lx\": 0.7,  # thickness of the PML in the x-direction (km) - always positive\n",
    "    \"ly\": 0.0,  # thickness of the PML in the y-direction (km) - always positive\n",
    "}"
   ]
  },
  {
   "cell_type": "markdown",
   "id": "5fff41be",
   "metadata": {},
   "source": [
    "#### 2.3.5. Model acquisition"
   ]
  },
  {
   "cell_type": "markdown",
   "id": "fe915cb3",
   "metadata": {},
   "source": [
    "The user must inform some parameters regarding the experimental setup of data acquisition."
   ]
  },
  {
   "cell_type": "code",
   "execution_count": 9,
   "id": "eb26cf16",
   "metadata": {},
   "outputs": [],
   "source": [
    "model[\"acquisition\"] = {\n",
    "            \"source_type\": \"Ricker\",\n",
    "            \"num_sources\": 1,\n",
    "            \"source_pos\": [(0.5, 0.5)],\n",
    "            \"frequency\": 10.0,\n",
    "            \"delay\": 1.0,\n",
    "            \"num_receivers\": 10,\n",
    "            \"receiver_locations\": spyro.create_transect(\n",
    "            (0.25, 0.2), (0.25, 0.8), 10\n",
    "            ),\n",
    "        }"
   ]
  },
  {
   "cell_type": "markdown",
   "id": "b78a3c5d",
   "metadata": {},
   "source": [
    "#### 2.3.6. Model time domain"
   ]
  },
  {
   "cell_type": "markdown",
   "id": "0413b2db",
   "metadata": {},
   "source": [
    "The last part of the model is to create the time axis."
   ]
  },
  {
   "cell_type": "code",
   "execution_count": 10,
   "id": "4d7958c0",
   "metadata": {},
   "outputs": [],
   "source": [
    "model[\"aut_dif\"] = {\n",
    "        \"status\": True, \n",
    "    }\n",
    "\n",
    "model[\"timeaxis\"] = {\n",
    "    \"t0\": 0.0,  #  Initial time for event\n",
    "    \"tf\": 1.0,  # Final time for event (for test 7)\n",
    "    \"dt\": 0.001,  # timestep size (divided by 2 in the test 4. dt for test 3 is 0.00050)\n",
    "    \"amplitude\": 1,  # the Ricker has an amplitude of 1.\n",
    "    \"nspool\":  2000,  # (20 for dt=0.00050) how frequently to output solution to pvds\n",
    "    \"fspool\": 1,  # how frequently to save solution to RAM\n",
    "}"
   ]
  },
  {
   "cell_type": "markdown",
   "id": "a8a76899",
   "metadata": {},
   "source": [
    "#### 2.3.7. Mesh generation"
   ]
  },
  {
   "cell_type": "markdown",
   "id": "3e434dfe",
   "metadata": {},
   "source": [
    "Due to the fact that a simple mesh is generated, the process can be done with a `firedrake` function:"
   ]
  },
  {
   "cell_type": "code",
   "execution_count": 19,
   "id": "51c68c60",
   "metadata": {},
   "outputs": [],
   "source": [
    "mesh = fire.RectangleMesh(100, 100, 1.5, 1.5) # to test FWI, mesh aligned with interface"
   ]
  },
  {
   "cell_type": "markdown",
   "id": "03faeb69",
   "metadata": {},
   "source": [
    "#### 2.3.8. Models extraction"
   ]
  },
  {
   "cell_type": "markdown",
   "id": "79be1ced",
   "metadata": {},
   "source": [
    "The exact and guess models can be extracted from the function:"
   ]
  },
  {
   "cell_type": "code",
   "execution_count": 20,
   "id": "22517c80",
   "metadata": {},
   "outputs": [],
   "source": [
    "def _make_vp_pml(V, mesh, v0=1.5, v1=4.0):\n",
    "    \"\"\"Create a half space\"\"\"\n",
    "    z, x = fire.SpatialCoordinate(mesh)\n",
    "    velocity = fire.conditional(z < 0.5, v0, v1)\n",
    "    vp       = fire.Function(V, name=\"vp\").interpolate(velocity)\n",
    "    fire.File(\"exact_vel.pvd\").write(vp)\n",
    "\n",
    "    return vp"
   ]
  },
  {
   "cell_type": "markdown",
   "id": "8f5ac147",
   "metadata": {},
   "source": [
    "Then, it is defined and extracted:"
   ]
  },
  {
   "cell_type": "code",
   "execution_count": 21,
   "id": "57c74b8f",
   "metadata": {},
   "outputs": [],
   "source": [
    "element  = spyro.domains.space.FE_method(\n",
    "            mesh, model[\"opts\"][\"method\"], \n",
    "            model[\"opts\"][\"degree\"]\n",
    "            )\n",
    "V        = fire.FunctionSpace(mesh, element)\n",
    "vp_exact = _make_vp_pml(V, mesh)\n",
    "vp_guess = _make_vp_pml(V, mesh, v0=1.5, v1=1.5)"
   ]
  },
  {
   "cell_type": "markdown",
   "id": "8fece0d2",
   "metadata": {},
   "source": [
    "#### 2.3.9. Model reading"
   ]
  },
  {
   "cell_type": "markdown",
   "id": "47e45a4b",
   "metadata": {},
   "source": [
    "The next step is to read the model file and apply some functions to it. Also, the water domain is identified."
   ]
  },
  {
   "cell_type": "code",
   "execution_count": 25,
   "id": "585b1761",
   "metadata": {},
   "outputs": [
    {
     "name": "stdout",
     "output_type": "stream",
     "text": [
      "The mesh has 10201 degrees of freedom\n"
     ]
    }
   ],
   "source": [
    "if COMM_WORLD.rank == 0:\n",
    "    print(f\"The mesh has {V.dim()} degrees of freedom\")\n",
    "\n",
    "sources = spyro.Sources(model, mesh, V, comm)\n",
    "receivers = spyro.Receivers(model, mesh, V, comm)\n",
    "wavelet = spyro.full_ricker_wavelet(\n",
    "    dt=model[\"timeaxis\"][\"dt\"],\n",
    "    tf=model[\"timeaxis\"][\"tf\"],\n",
    "    freq=model[\"acquisition\"][\"frequency\"],\n",
    ")\n",
    "if comm.ensemble_comm.rank == 0:\n",
    "    control_file = File(outdir + \"control.pvd\", comm=comm.comm)\n",
    "    grad_file = File(outdir + \"grad.pvd\", comm=comm.comm)\n",
    "quad_rule = finat.quadrature.make_quadrature(\n",
    "    V.finat_element.cell, V.ufl_element().degree(), \"KMV\"\n",
    ")\n",
    "dxlump = dx(rule=quad_rule)\n",
    "\n",
    "water = np.where(vp_exact.dat.data[:] < 1.51)"
   ]
  },
  {
   "cell_type": "markdown",
   "id": "25fd18dc",
   "metadata": {},
   "source": [
    "### 2.4. Classes and functions"
   ]
  },
  {
   "cell_type": "markdown",
   "id": "50dd2401",
   "metadata": {},
   "source": [
    "Some functions and classes are useful for dealing with the FWI. They are presented in the following sections."
   ]
  },
  {
   "cell_type": "markdown",
   "id": "ba37f2d7",
   "metadata": {},
   "source": [
    "#### 2.4.1. Inner product"
   ]
  },
  {
   "cell_type": "code",
   "execution_count": 20,
   "id": "34999172",
   "metadata": {},
   "outputs": [],
   "source": [
    "class L2Inner(object):\n",
    "    def __init__(self):\n",
    "        self.A = assemble(\n",
    "            TrialFunction(V) * TestFunction(V) * dxlump, mat_type=\"matfree\"\n",
    "        )\n",
    "        self.Ap = as_backend_type(self.A).mat()\n",
    "\n",
    "    def eval(self, _u, _v):\n",
    "        upet = as_backend_type(_u).vec()\n",
    "        vpet = as_backend_type(_v).vec()\n",
    "        A_u = self.Ap.createVecLeft()\n",
    "        self.Ap.mult(upet, A_u)\n",
    "        return vpet.dot(A_u)"
   ]
  },
  {
   "cell_type": "markdown",
   "id": "f8bf0382",
   "metadata": {},
   "source": [
    "#### 2.4.2. Gradient regularization"
   ]
  },
  {
   "cell_type": "code",
   "execution_count": 21,
   "id": "0734593c",
   "metadata": {},
   "outputs": [],
   "source": [
    "def regularize_gradient(vp, dJ):\n",
    "    \"\"\"Tikhonov regularization\"\"\"\n",
    "    m_u = TrialFunction(V)\n",
    "    m_v = TestFunction(V)\n",
    "    mgrad = m_u * m_v * dx(rule=qr_x)\n",
    "    ffG = dot(grad(vp), grad(m_v)) * dx(rule=qr_x)\n",
    "    G = mgrad - ffG\n",
    "    lhsG, rhsG = lhs(G), rhs(G)\n",
    "    gradreg = Function(V)\n",
    "    grad_prob = LinearVariationalProblem(lhsG, rhsG, gradreg)\n",
    "    grad_solver = LinearVariationalSolver(\n",
    "        grad_prob,\n",
    "        solver_parameters={\n",
    "            \"ksp_type\": \"preonly\",\n",
    "            \"pc_type\": \"jacobi\",\n",
    "            \"mat_type\": \"matfree\",\n",
    "        },\n",
    "    )\n",
    "    grad_solver.solve()\n",
    "    dJ += gradreg\n",
    "    return dJ"
   ]
  },
  {
   "cell_type": "markdown",
   "id": "a8bcf938",
   "metadata": {},
   "source": [
    "#### 2.4.3. Object"
   ]
  },
  {
   "cell_type": "code",
   "execution_count": 23,
   "id": "b9b18545",
   "metadata": {},
   "outputs": [],
   "source": [
    "class Objective(ROL.Objective):\n",
    "    def __init__(self, inner_product):\n",
    "        ROL.Objective.__init__(self)\n",
    "        self.inner_product = inner_product\n",
    "        self.p_guess = None\n",
    "        self.misfit = 0.0\n",
    "        self.p_exact_recv = spyro.io.load_shots(model, comm)\n",
    "\n",
    "    def value(self, x, tol):\n",
    "        \"\"\"Compute the functional\"\"\"\n",
    "        J_total = np.zeros((1))\n",
    "        self.p_guess, p_guess_recv = spyro.solvers.forward(\n",
    "            model,\n",
    "            mesh,\n",
    "            comm,\n",
    "            vp,\n",
    "            sources,\n",
    "            wavelet,\n",
    "            receivers,\n",
    "        )\n",
    "        self.misfit = spyro.utils.evaluate_misfit(\n",
    "            model, p_guess_recv, self.p_exact_recv\n",
    "        )\n",
    "        J_total[0] += spyro.utils.compute_functional(model, self.misfit, velocity=vp)\n",
    "        J_total = COMM_WORLD.allreduce(J_total, op=MPI.SUM)\n",
    "        J_total[0] /= comm.ensemble_comm.size\n",
    "        if comm.comm.size > 1:\n",
    "            J_total[0] /= comm.comm.size\n",
    "\n",
    "        if COMM_WORLD.rank == 0:\n",
    "            mem.write(str(get_memory_usage()))\n",
    "            func.write(str(J_total[0]))\n",
    "            mem.write(\"\\n\")\n",
    "            func.write(\"\\n\")\n",
    "\n",
    "        return J_total[0]\n",
    "\n",
    "    def gradient(self, g, x, tol):\n",
    "        \"\"\"Compute the gradient of the functional\"\"\"\n",
    "        dJ = Function(V, name=\"gradient\")\n",
    "        dJ_local = spyro.solvers.gradient(\n",
    "            model,\n",
    "            mesh,\n",
    "            comm,\n",
    "            vp,\n",
    "            receivers,\n",
    "            self.p_guess,\n",
    "            self.misfit,\n",
    "        )\n",
    "        if comm.ensemble_comm.size > 1:\n",
    "            comm.allreduce(dJ_local, dJ)\n",
    "        else:\n",
    "            dJ = dJ_local\n",
    "        dJ /= comm.ensemble_comm.size\n",
    "        if comm.comm.size > 1:\n",
    "            dJ /= comm.comm.size\n",
    "        # regularize the gradient if asked.\n",
    "        if model[\"opts\"][\"regularization\"]:\n",
    "            dJ = regularize_gradient(vp, dJ)\n",
    "        # mask the water layer\n",
    "        dJ.dat.data[water] = 0.0\n",
    "        # Visualize\n",
    "        if comm.ensemble_comm.rank == 0:\n",
    "            grad_file.write(dJ)\n",
    "        g.scale(0)\n",
    "        g.vec += dJ\n",
    "\n",
    "    def update(self, x, flag, iteration):\n",
    "        vp.assign(Function(V, x.vec, name=\"velocity\"))\n",
    "        # If iteration reduces functional, save it.\n",
    "        if iteration >= 0:\n",
    "            if comm.ensemble_comm.rank == 0:\n",
    "                control_file.write(vp)"
   ]
  },
  {
   "cell_type": "markdown",
   "id": "662a0f48",
   "metadata": {},
   "source": [
    "### 2.5. Parameter definition and code running"
   ]
  },
  {
   "cell_type": "code",
   "execution_count": 24,
   "id": "e161cc3d",
   "metadata": {},
   "outputs": [
    {
     "ename": "NameError",
     "evalue": "name 'V' is not defined",
     "output_type": "error",
     "traceback": [
      "\u001b[0;31m---------------------------------------------------------------------------\u001b[0m",
      "\u001b[0;31mNameError\u001b[0m                                 Traceback (most recent call last)",
      "\u001b[1;32m/home/bruno/Desktop/IC/spyro/notebooks/tutorials/fwi_v0.ipynb Cell 46'\u001b[0m in \u001b[0;36m<module>\u001b[0;34m\u001b[0m\n\u001b[1;32m      <a href='vscode-notebook-cell:/home/bruno/Desktop/IC/spyro/notebooks/tutorials/fwi_v0.ipynb#ch0000082?line=0'>1</a>\u001b[0m paramsDict \u001b[39m=\u001b[39m {\n\u001b[1;32m      <a href='vscode-notebook-cell:/home/bruno/Desktop/IC/spyro/notebooks/tutorials/fwi_v0.ipynb#ch0000082?line=1'>2</a>\u001b[0m     \u001b[39m\"\u001b[39m\u001b[39mGeneral\u001b[39m\u001b[39m\"\u001b[39m: {\u001b[39m\"\u001b[39m\u001b[39mSecant\u001b[39m\u001b[39m\"\u001b[39m: {\u001b[39m\"\u001b[39m\u001b[39mType\u001b[39m\u001b[39m\"\u001b[39m: \u001b[39m\"\u001b[39m\u001b[39mLimited-Memory BFGS\u001b[39m\u001b[39m\"\u001b[39m, \u001b[39m\"\u001b[39m\u001b[39mMaximum Storage\u001b[39m\u001b[39m\"\u001b[39m: \u001b[39m10\u001b[39m}},\n\u001b[1;32m      <a href='vscode-notebook-cell:/home/bruno/Desktop/IC/spyro/notebooks/tutorials/fwi_v0.ipynb#ch0000082?line=2'>3</a>\u001b[0m     \u001b[39m\"\u001b[39m\u001b[39mStep\u001b[39m\u001b[39m\"\u001b[39m: {\n\u001b[0;32m   (...)\u001b[0m\n\u001b[1;32m     <a href='vscode-notebook-cell:/home/bruno/Desktop/IC/spyro/notebooks/tutorials/fwi_v0.ipynb#ch0000082?line=14'>15</a>\u001b[0m     },\n\u001b[1;32m     <a href='vscode-notebook-cell:/home/bruno/Desktop/IC/spyro/notebooks/tutorials/fwi_v0.ipynb#ch0000082?line=15'>16</a>\u001b[0m }\n\u001b[1;32m     <a href='vscode-notebook-cell:/home/bruno/Desktop/IC/spyro/notebooks/tutorials/fwi_v0.ipynb#ch0000082?line=17'>18</a>\u001b[0m params \u001b[39m=\u001b[39m ROL\u001b[39m.\u001b[39mParameterList(paramsDict, \u001b[39m\"\u001b[39m\u001b[39mParameters\u001b[39m\u001b[39m\"\u001b[39m)\n\u001b[0;32m---> <a href='vscode-notebook-cell:/home/bruno/Desktop/IC/spyro/notebooks/tutorials/fwi_v0.ipynb#ch0000082?line=19'>20</a>\u001b[0m inner_product \u001b[39m=\u001b[39m L2Inner()\n\u001b[1;32m     <a href='vscode-notebook-cell:/home/bruno/Desktop/IC/spyro/notebooks/tutorials/fwi_v0.ipynb#ch0000082?line=21'>22</a>\u001b[0m obj \u001b[39m=\u001b[39m Objective(inner_product)\n\u001b[1;32m     <a href='vscode-notebook-cell:/home/bruno/Desktop/IC/spyro/notebooks/tutorials/fwi_v0.ipynb#ch0000082?line=23'>24</a>\u001b[0m u \u001b[39m=\u001b[39m Function(V, name\u001b[39m=\u001b[39m\u001b[39m\"\u001b[39m\u001b[39mvelocity\u001b[39m\u001b[39m\"\u001b[39m)\u001b[39m.\u001b[39massign(vp)\n",
      "\u001b[1;32m/home/bruno/Desktop/IC/spyro/notebooks/tutorials/fwi_v0.ipynb Cell 40'\u001b[0m in \u001b[0;36mL2Inner.__init__\u001b[0;34m(self)\u001b[0m\n\u001b[1;32m      <a href='vscode-notebook-cell:/home/bruno/Desktop/IC/spyro/notebooks/tutorials/fwi_v0.ipynb#ch0000087?line=1'>2</a>\u001b[0m \u001b[39mdef\u001b[39;00m \u001b[39m__init__\u001b[39m(\u001b[39mself\u001b[39m):\n\u001b[1;32m      <a href='vscode-notebook-cell:/home/bruno/Desktop/IC/spyro/notebooks/tutorials/fwi_v0.ipynb#ch0000087?line=2'>3</a>\u001b[0m     \u001b[39mself\u001b[39m\u001b[39m.\u001b[39mA \u001b[39m=\u001b[39m assemble(\n\u001b[0;32m----> <a href='vscode-notebook-cell:/home/bruno/Desktop/IC/spyro/notebooks/tutorials/fwi_v0.ipynb#ch0000087?line=3'>4</a>\u001b[0m         TrialFunction(V) \u001b[39m*\u001b[39m TestFunction(V) \u001b[39m*\u001b[39m dxlump, mat_type\u001b[39m=\u001b[39m\u001b[39m\"\u001b[39m\u001b[39mmatfree\u001b[39m\u001b[39m\"\u001b[39m\n\u001b[1;32m      <a href='vscode-notebook-cell:/home/bruno/Desktop/IC/spyro/notebooks/tutorials/fwi_v0.ipynb#ch0000087?line=4'>5</a>\u001b[0m     )\n\u001b[1;32m      <a href='vscode-notebook-cell:/home/bruno/Desktop/IC/spyro/notebooks/tutorials/fwi_v0.ipynb#ch0000087?line=5'>6</a>\u001b[0m     \u001b[39mself\u001b[39m\u001b[39m.\u001b[39mAp \u001b[39m=\u001b[39m as_backend_type(\u001b[39mself\u001b[39m\u001b[39m.\u001b[39mA)\u001b[39m.\u001b[39mmat()\n",
      "\u001b[0;31mNameError\u001b[0m: name 'V' is not defined"
     ]
    }
   ],
   "source": [
    "paramsDict = {\n",
    "    \"General\": {\"Secant\": {\"Type\": \"Limited-Memory BFGS\", \"Maximum Storage\": 10}},\n",
    "    \"Step\": {\n",
    "        \"Type\": \"Augmented Lagrangian\",\n",
    "        \"Augmented Lagrangian\": {\n",
    "            \"Subproblem Step Type\": \"Line Search\",\n",
    "            \"Subproblem Iteration Limit\": 5.0,\n",
    "        },\n",
    "        \"Line Search\": {\"Descent Method\": {\"Type\": \"Quasi-Newton Step\"}},\n",
    "    },\n",
    "    \"Status Test\": {\n",
    "        \"Gradient Tolerance\": 1e-16,\n",
    "        \"Iteration Limit\": 100,\n",
    "        \"Step Tolerance\": 1.0e-16,\n",
    "    },\n",
    "}\n",
    "\n",
    "params = ROL.ParameterList(paramsDict, \"Parameters\")\n",
    "\n",
    "inner_product = L2Inner()\n",
    "\n",
    "obj = Objective(inner_product)\n",
    "\n",
    "u = Function(V, name=\"velocity\").assign(vp)\n",
    "opt = FeVector(u.vector(), inner_product)\n",
    "\n",
    "# Add control bounds to the problem (uses more RAM)\n",
    "xlo = Function(V)\n",
    "xlo.interpolate(Constant(1.0))\n",
    "x_lo = FeVector(xlo.vector(), inner_product)\n",
    "\n",
    "xup = Function(V)\n",
    "xup.interpolate(Constant(5.0))\n",
    "x_up = FeVector(xup.vector(), inner_product)\n",
    "\n",
    "bnd = ROL.Bounds(x_lo, x_up, 1.0)\n",
    "\n",
    "algo = ROL.Algorithm(\"Line Search\", params)\n",
    "\n",
    "algo.run(opt, obj, bnd)\n",
    "\n",
    "if comm.ensemble_comm.rank == 0:\n",
    "    File(\"res.pvd\", comm=comm.comm).write(vp)\n",
    "\n",
    "\n",
    "if COMM_WORLD.rank == 0:\n",
    "    func.close()\n",
    "    mem.close()"
   ]
  },
  {
   "cell_type": "markdown",
   "id": "2a462c9a",
   "metadata": {},
   "source": [
    "## 3. References"
   ]
  },
  {
   "cell_type": "markdown",
   "id": "c4e8e62c",
   "metadata": {},
   "source": [
    "[1] ROBERTS, K. J. et al. spyro: a firedrake-based wave propagation and full waveform\n",
    "inversion finite element solver. Geoscientific Model Development Discussions, v. 2021, p.\n",
    "1–47, 2021. Available in: <https://gmd.copernicus.org/preprints/gmd-2021-363/> "
   ]
  }
 ],
 "metadata": {
  "interpreter": {
   "hash": "c636c80da4301bac4452b76631ed9bfa598d64810b11ba9aafb778bda6792944"
  },
  "kernelspec": {
   "display_name": "firedrake",
   "language": "python",
   "name": "python3"
  },
  "language_info": {
   "codemirror_mode": {
    "name": "ipython",
    "version": 3
   },
   "file_extension": ".py",
   "mimetype": "text/x-python",
   "name": "python",
   "nbconvert_exporter": "python",
   "pygments_lexer": "ipython3",
   "version": "3.9.5"
  }
 },
 "nbformat": 4,
 "nbformat_minor": 5
}
