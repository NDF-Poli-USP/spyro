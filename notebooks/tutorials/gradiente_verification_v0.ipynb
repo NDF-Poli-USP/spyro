{
 "cells": [
  {
   "cell_type": "markdown",
   "id": "b97a8a61",
   "metadata": {},
   "source": [
    "# Gradient verification"
   ]
  },
  {
   "cell_type": "markdown",
   "id": "4325f401",
   "metadata": {},
   "source": [
    "## 1. Importing libraries"
   ]
  },
  {
   "cell_type": "code",
   "execution_count": 13,
   "id": "fb63c9ee",
   "metadata": {},
   "outputs": [],
   "source": [
    "import numpy as np\n",
    "\n",
    "from firedrake import *\n",
    "\n",
    "import spyro\n",
    "from spyro.domains import quadrature\n",
    "\n",
    "import matplotlib.pyplot as plt"
   ]
  },
  {
   "cell_type": "markdown",
   "id": "17a4b166",
   "metadata": {},
   "source": [
    "The gradient models must be imported as follows:"
   ]
  },
  {
   "cell_type": "code",
   "execution_count": 3,
   "id": "683033ec",
   "metadata": {},
   "outputs": [],
   "source": [
    "from Model1_gradient_2d import model\n",
    "from Model1_gradient_2d_pml import model_pml"
   ]
  },
  {
   "cell_type": "markdown",
   "id": "040ad4dc",
   "metadata": {},
   "source": [
    "## 2. Functions"
   ]
  },
  {
   "cell_type": "markdown",
   "id": "4f808a70",
   "metadata": {},
   "source": [
    "Some of the `spyro` features are defined as"
   ]
  },
  {
   "cell_type": "code",
   "execution_count": 4,
   "id": "38d6ec60",
   "metadata": {},
   "outputs": [],
   "source": [
    "forward = spyro.solvers.forward\n",
    "gradient = spyro.solvers.gradient\n",
    "functional = spyro.utils.compute_functional"
   ]
  },
  {
   "cell_type": "markdown",
   "id": "2dc87d4d",
   "metadata": {},
   "source": [
    "### 2.1  Exact velocity model"
   ]
  },
  {
   "cell_type": "markdown",
   "id": "b2cdd818",
   "metadata": {},
   "source": [
    "Then, the `_make_vp_exact` function, which returns de exact P-wave velocity model, is created:"
   ]
  },
  {
   "cell_type": "code",
   "execution_count": 5,
   "id": "1b210ba5",
   "metadata": {},
   "outputs": [],
   "source": [
    "def _make_vp_exact(V, mesh):\n",
    "    \"\"\"Create a circle with higher velocity in the center\"\"\"\n",
    "    z, x = SpatialCoordinate(mesh)\n",
    "    vp_exact = Function(V).interpolate(\n",
    "        4.0 + 1.0 * tanh(10.0 * (0.5 - sqrt((z - 1.5) ** 2 + (x + 1.5) ** 2)))\n",
    "        # 5.0 + 0.5 * tanh(10.0 * (0.5 - sqrt((z - 1.5) ** 2 + (x + 1.5) ** 2)))\n",
    "    )\n",
    "    File(\"exact_vel.pvd\").write(vp_exact)\n",
    "    return vp_exact"
   ]
  },
  {
   "cell_type": "code",
   "execution_count": 12,
   "id": "c8297b40",
   "metadata": {},
   "outputs": [],
   "source": [
    "def _make_vp_exact_pml(V, mesh):\n",
    "    \"\"\"Create a half space\"\"\"\n",
    "    z, x = SpatialCoordinate(mesh)\n",
    "    velocity = conditional(z > -0.5, 1.5, 4.0)\n",
    "    vp_exact = Function(V, name=\"vp\").interpolate(velocity)\n",
    "    File(\"exact_vel.pvd\").write(vp_exact)\n",
    "    return vp_exact"
   ]
  },
  {
   "cell_type": "code",
   "execution_count": 13,
   "id": "387c15f8",
   "metadata": {},
   "outputs": [],
   "source": [
    "def _make_vp_guess(V, mesh):\n",
    "    \"\"\"The guess is a uniform velocity of 4.0 km/s\"\"\"\n",
    "    z, x = SpatialCoordinate(mesh)\n",
    "    vp_guess = Function(V).interpolate(4.0 + 0.0 * x)\n",
    "    File(\"guess_vel.pvd\").write(vp_guess)\n",
    "    return vp_guess"
   ]
  },
  {
   "cell_type": "code",
   "execution_count": 18,
   "id": "b46c1492",
   "metadata": {},
   "outputs": [],
   "source": [
    "def test_gradient(model):\n",
    "    _test_gradient(model)\n",
    "\n",
    "\n",
    "def test_gradient_pml():\n",
    "    _test_gradient(model_pml, pml=True)"
   ]
  },
  {
   "cell_type": "code",
   "execution_count": 19,
   "id": "b2d4c902",
   "metadata": {},
   "outputs": [],
   "source": [
    "def _test_gradient(options, pml=False):\n",
    "\n",
    "    comm = spyro.utils.mpi_init(options)\n",
    "\n",
    "    mesh, V = spyro.io.read_mesh(options, comm)\n",
    "\n",
    "    if pml:\n",
    "        vp_exact = _make_vp_exact_pml(V, mesh)\n",
    "        z, x = SpatialCoordinate(mesh)\n",
    "        Lx = model_pml[\"mesh\"][\"Lx\"]\n",
    "        Lz = model_pml[\"mesh\"][\"Lz\"]\n",
    "        x1 = 0.0\n",
    "        x2 = Lx\n",
    "        z1 = 0.0\n",
    "        z2 = -Lz\n",
    "        boxx1 = Function(V).interpolate(conditional(x > x1, 1.0, 0.0))\n",
    "        boxx2 = Function(V).interpolate(conditional(x < Lx, 1.0, 0.0))\n",
    "        boxz1 = Function(V).interpolate(conditional(z > z2, 1.0, 0.0))\n",
    "        mask = Function(V).interpolate(boxx1 * boxx2 * boxz1)\n",
    "        File(\"mask.pvd\").write(mask)\n",
    "    else:\n",
    "        vp_exact = _make_vp_exact(V, mesh)\n",
    "\n",
    "        mask = Function(V).assign(1.0)\n",
    "\n",
    "    vp_guess = _make_vp_guess(V, mesh)\n",
    "\n",
    "    sources = spyro.Sources(options, mesh, V, comm)\n",
    "\n",
    "    receivers = spyro.Receivers(options, mesh, V, comm)\n",
    "\n",
    "    wavelet = spyro.full_ricker_wavelet(\n",
    "        options[\"timeaxis\"][\"dt\"],\n",
    "        options[\"timeaxis\"][\"tf\"],\n",
    "        options[\"acquisition\"][\"frequency\"],\n",
    "    )\n",
    "\n",
    "    # simulate the exact model\n",
    "    p_exact, p_exact_recv = forward(\n",
    "        options,\n",
    "        mesh,\n",
    "        comm,\n",
    "        vp_exact,\n",
    "        sources,\n",
    "        wavelet,\n",
    "        receivers,\n",
    "    )\n",
    "\n",
    "    # simulate the guess model\n",
    "    p_guess, p_guess_recv = forward(\n",
    "        options,\n",
    "        mesh,\n",
    "        comm,\n",
    "        vp_guess,\n",
    "        sources,\n",
    "        wavelet,\n",
    "        receivers,\n",
    "    )\n",
    "\n",
    "    misfit = p_exact_recv - p_guess_recv\n",
    "\n",
    "    qr_x, _, _ = quadrature.quadrature_rules(V)\n",
    "\n",
    "    Jm = functional(options, misfit)\n",
    "    print(\"\\n Cost functional at fixed point : \" + str(Jm) + \" \\n \")\n",
    "\n",
    "    # compute the gradient of the control (to be verified)\n",
    "    dJ = gradient(options, mesh, comm, vp_guess, receivers, p_guess, misfit)\n",
    "    dJ *= mask\n",
    "    File(\"gradient.pvd\").write(dJ)\n",
    "\n",
    "    steps = [1e-3, 1e-4, 1e-5]  # , 1e-6]  # step length\n",
    "\n",
    "    delta_m = Function(V)  # model direction (random)\n",
    "    delta_m.assign(dJ)\n",
    "\n",
    "    # this deepcopy is important otherwise pertubations accumulate\n",
    "    vp_original = vp_guess.copy(deepcopy=True)\n",
    "\n",
    "    errors = []\n",
    "    for step in steps:  # range(3):\n",
    "        # steps.append(step)\n",
    "        # perturb the model and calculate the functional (again)\n",
    "        # J(m + delta_m*h)\n",
    "        vp_guess = vp_original + step * delta_m\n",
    "        _, p_guess_recv = forward(\n",
    "            options,\n",
    "            mesh,\n",
    "            comm,\n",
    "            vp_guess,\n",
    "            sources,\n",
    "            wavelet,\n",
    "            receivers,\n",
    "        )\n",
    "\n",
    "        Jp = functional(options, p_exact_recv - p_guess_recv)\n",
    "        projnorm = assemble(mask * dJ * delta_m * dx(rule=qr_x))\n",
    "        fd_grad = (Jp - Jm) / step\n",
    "        print(\n",
    "            \"\\n Cost functional for step \"\n",
    "            + str(step)\n",
    "            + \" : \"\n",
    "            + str(Jp)\n",
    "            + \", fd approx.: \"\n",
    "            + str(fd_grad)\n",
    "            + \", grad'*dir : \"\n",
    "            + str(projnorm)\n",
    "            + \" \\n \",\n",
    "        )\n",
    "\n",
    "        errors.append(100 * ((fd_grad - projnorm) / projnorm))\n",
    "        # step /= 2\n",
    "\n",
    "    # all errors less than 1 %\n",
    "    errors = np.array(errors)\n",
    "    assert (np.abs(errors) < 5.0).all()"
   ]
  },
  {
   "cell_type": "markdown",
   "id": "0f9cf1a9",
   "metadata": {},
   "source": [
    "## 3. Gradient verification"
   ]
  },
  {
   "cell_type": "code",
   "execution_count": 20,
   "id": "6094e604",
   "metadata": {},
   "outputs": [
    {
     "ename": "Error",
     "evalue": "error code 65\n[0] PetscViewerFileSetName() line 649 in /home/bruno/libs/firedrake/src/petsc/src/sys/classes/viewer/impls/ascii/filev.c\n[0] PetscViewerFileSetName_ASCII() line 753 in /home/bruno/libs/firedrake/src/petsc/src/sys/classes/viewer/impls/ascii/filev.c\n[0] Unable to open file\n[0] Cannot open PetscViewer file: /home/bruno/Desktop/IC2/spyro/notebooks/../meshes/Uniform2D.msh",
     "output_type": "error",
     "traceback": [
      "\u001b[0;31m---------------------------------------------------------------------------\u001b[0m",
      "\u001b[0;31mError\u001b[0m                                     Traceback (most recent call last)",
      "\u001b[0;32m<ipython-input-20-e8e02887662b>\u001b[0m in \u001b[0;36m<module>\u001b[0;34m\u001b[0m\n\u001b[1;32m      1\u001b[0m \u001b[0;32mif\u001b[0m \u001b[0m__name__\u001b[0m \u001b[0;34m==\u001b[0m \u001b[0;34m\"__main__\"\u001b[0m\u001b[0;34m:\u001b[0m\u001b[0;34m\u001b[0m\u001b[0;34m\u001b[0m\u001b[0m\n\u001b[0;32m----> 2\u001b[0;31m     \u001b[0mtest_gradient\u001b[0m\u001b[0;34m(\u001b[0m\u001b[0mmodel\u001b[0m\u001b[0;34m)\u001b[0m\u001b[0;34m\u001b[0m\u001b[0;34m\u001b[0m\u001b[0m\n\u001b[0m",
      "\u001b[0;32m<ipython-input-18-32792e4e3e41>\u001b[0m in \u001b[0;36mtest_gradient\u001b[0;34m(model)\u001b[0m\n\u001b[1;32m      1\u001b[0m \u001b[0;32mdef\u001b[0m \u001b[0mtest_gradient\u001b[0m\u001b[0;34m(\u001b[0m\u001b[0mmodel\u001b[0m\u001b[0;34m)\u001b[0m\u001b[0;34m:\u001b[0m\u001b[0;34m\u001b[0m\u001b[0;34m\u001b[0m\u001b[0m\n\u001b[0;32m----> 2\u001b[0;31m     \u001b[0m_test_gradient\u001b[0m\u001b[0;34m(\u001b[0m\u001b[0mmodel\u001b[0m\u001b[0;34m)\u001b[0m\u001b[0;34m\u001b[0m\u001b[0;34m\u001b[0m\u001b[0m\n\u001b[0m\u001b[1;32m      3\u001b[0m \u001b[0;34m\u001b[0m\u001b[0m\n\u001b[1;32m      4\u001b[0m \u001b[0;34m\u001b[0m\u001b[0m\n\u001b[1;32m      5\u001b[0m \u001b[0;32mdef\u001b[0m \u001b[0mtest_gradient_pml\u001b[0m\u001b[0;34m(\u001b[0m\u001b[0;34m)\u001b[0m\u001b[0;34m:\u001b[0m\u001b[0;34m\u001b[0m\u001b[0;34m\u001b[0m\u001b[0m\n",
      "\u001b[0;32m<ipython-input-19-e1603ff38dc4>\u001b[0m in \u001b[0;36m_test_gradient\u001b[0;34m(options, pml)\u001b[0m\n\u001b[1;32m      3\u001b[0m     \u001b[0mcomm\u001b[0m \u001b[0;34m=\u001b[0m \u001b[0mspyro\u001b[0m\u001b[0;34m.\u001b[0m\u001b[0mutils\u001b[0m\u001b[0;34m.\u001b[0m\u001b[0mmpi_init\u001b[0m\u001b[0;34m(\u001b[0m\u001b[0moptions\u001b[0m\u001b[0;34m)\u001b[0m\u001b[0;34m\u001b[0m\u001b[0;34m\u001b[0m\u001b[0m\n\u001b[1;32m      4\u001b[0m \u001b[0;34m\u001b[0m\u001b[0m\n\u001b[0;32m----> 5\u001b[0;31m     \u001b[0mmesh\u001b[0m\u001b[0;34m,\u001b[0m \u001b[0mV\u001b[0m \u001b[0;34m=\u001b[0m \u001b[0mspyro\u001b[0m\u001b[0;34m.\u001b[0m\u001b[0mio\u001b[0m\u001b[0;34m.\u001b[0m\u001b[0mread_mesh\u001b[0m\u001b[0;34m(\u001b[0m\u001b[0moptions\u001b[0m\u001b[0;34m,\u001b[0m \u001b[0mcomm\u001b[0m\u001b[0;34m)\u001b[0m\u001b[0;34m\u001b[0m\u001b[0;34m\u001b[0m\u001b[0m\n\u001b[0m\u001b[1;32m      6\u001b[0m \u001b[0;34m\u001b[0m\u001b[0m\n\u001b[1;32m      7\u001b[0m     \u001b[0;32mif\u001b[0m \u001b[0mpml\u001b[0m\u001b[0;34m:\u001b[0m\u001b[0;34m\u001b[0m\u001b[0;34m\u001b[0m\u001b[0m\n",
      "\u001b[0;32m~/libs/firedrake/lib/python3.9/site-packages/spyro/io/io.py\u001b[0m in \u001b[0;36mread_mesh\u001b[0;34m(model, ens_comm)\u001b[0m\n\u001b[1;32m    328\u001b[0m \u001b[0;34m\u001b[0m\u001b[0m\n\u001b[1;32m    329\u001b[0m     \u001b[0;32mif\u001b[0m \u001b[0mmethod\u001b[0m \u001b[0;34m==\u001b[0m \u001b[0;34m\"CG\"\u001b[0m \u001b[0;32mor\u001b[0m \u001b[0mmethod\u001b[0m \u001b[0;34m==\u001b[0m \u001b[0;34m\"KMV\"\u001b[0m\u001b[0;34m:\u001b[0m\u001b[0;34m\u001b[0m\u001b[0;34m\u001b[0m\u001b[0m\n\u001b[0;32m--> 330\u001b[0;31m         mesh = fire.Mesh(\n\u001b[0m\u001b[1;32m    331\u001b[0m             \u001b[0mmshname\u001b[0m\u001b[0;34m,\u001b[0m\u001b[0;34m\u001b[0m\u001b[0;34m\u001b[0m\u001b[0m\n\u001b[1;32m    332\u001b[0m             \u001b[0mcomm\u001b[0m\u001b[0;34m=\u001b[0m\u001b[0mens_comm\u001b[0m\u001b[0;34m.\u001b[0m\u001b[0mcomm\u001b[0m\u001b[0;34m,\u001b[0m\u001b[0;34m\u001b[0m\u001b[0;34m\u001b[0m\u001b[0m\n",
      "\u001b[0;32mPETSc/Log.pyx\u001b[0m in \u001b[0;36mpetsc4py.PETSc.Log.EventDecorator.decorator.wrapped_func\u001b[0;34m()\u001b[0m\n",
      "\u001b[0;32mPETSc/Log.pyx\u001b[0m in \u001b[0;36mpetsc4py.PETSc.Log.EventDecorator.decorator.wrapped_func\u001b[0;34m()\u001b[0m\n",
      "\u001b[0;32m~/libs/firedrake/src/firedrake/firedrake/mesh.py\u001b[0m in \u001b[0;36mMesh\u001b[0;34m(meshfile, **kwargs)\u001b[0m\n\u001b[1;32m   1763\u001b[0m             \u001b[0mopts\u001b[0m \u001b[0;34m=\u001b[0m \u001b[0mOptionsManager\u001b[0m\u001b[0;34m(\u001b[0m\u001b[0mopts\u001b[0m\u001b[0;34m,\u001b[0m \u001b[0;34m\"\"\u001b[0m\u001b[0;34m)\u001b[0m\u001b[0;34m\u001b[0m\u001b[0;34m\u001b[0m\u001b[0m\n\u001b[1;32m   1764\u001b[0m             \u001b[0;32mwith\u001b[0m \u001b[0mopts\u001b[0m\u001b[0;34m.\u001b[0m\u001b[0minserted_options\u001b[0m\u001b[0;34m(\u001b[0m\u001b[0;34m)\u001b[0m\u001b[0;34m:\u001b[0m\u001b[0;34m\u001b[0m\u001b[0;34m\u001b[0m\u001b[0m\n\u001b[0;32m-> 1765\u001b[0;31m                 \u001b[0mplex\u001b[0m \u001b[0;34m=\u001b[0m \u001b[0m_from_gmsh\u001b[0m\u001b[0;34m(\u001b[0m\u001b[0mmeshfile\u001b[0m\u001b[0;34m,\u001b[0m \u001b[0mcomm\u001b[0m\u001b[0;34m)\u001b[0m\u001b[0;34m\u001b[0m\u001b[0;34m\u001b[0m\u001b[0m\n\u001b[0m\u001b[1;32m   1766\u001b[0m         \u001b[0;32melif\u001b[0m \u001b[0mext\u001b[0m\u001b[0;34m.\u001b[0m\u001b[0mlower\u001b[0m\u001b[0;34m(\u001b[0m\u001b[0;34m)\u001b[0m \u001b[0;34m==\u001b[0m \u001b[0;34m'.node'\u001b[0m\u001b[0;34m:\u001b[0m\u001b[0;34m\u001b[0m\u001b[0;34m\u001b[0m\u001b[0m\n\u001b[1;32m   1767\u001b[0m             \u001b[0mplex\u001b[0m \u001b[0;34m=\u001b[0m \u001b[0m_from_triangle\u001b[0m\u001b[0;34m(\u001b[0m\u001b[0mmeshfile\u001b[0m\u001b[0;34m,\u001b[0m \u001b[0mgeometric_dim\u001b[0m\u001b[0;34m,\u001b[0m \u001b[0mcomm\u001b[0m\u001b[0;34m)\u001b[0m\u001b[0;34m\u001b[0m\u001b[0;34m\u001b[0m\u001b[0m\n",
      "\u001b[0;32mPETSc/Log.pyx\u001b[0m in \u001b[0;36mpetsc4py.PETSc.Log.EventDecorator.decorator.wrapped_func\u001b[0;34m()\u001b[0m\n",
      "\u001b[0;32mPETSc/Log.pyx\u001b[0m in \u001b[0;36mpetsc4py.PETSc.Log.EventDecorator.decorator.wrapped_func\u001b[0;34m()\u001b[0m\n",
      "\u001b[0;32m~/libs/firedrake/src/firedrake/firedrake/mesh.py\u001b[0m in \u001b[0;36m_from_gmsh\u001b[0;34m(filename, comm)\u001b[0m\n\u001b[1;32m    219\u001b[0m     \u001b[0mgmsh_viewer\u001b[0m\u001b[0;34m.\u001b[0m\u001b[0msetType\u001b[0m\u001b[0;34m(\u001b[0m\u001b[0;34m\"ascii\"\u001b[0m\u001b[0;34m)\u001b[0m\u001b[0;34m\u001b[0m\u001b[0;34m\u001b[0m\u001b[0m\n\u001b[1;32m    220\u001b[0m     \u001b[0mgmsh_viewer\u001b[0m\u001b[0;34m.\u001b[0m\u001b[0msetFileMode\u001b[0m\u001b[0;34m(\u001b[0m\u001b[0;34m\"r\"\u001b[0m\u001b[0;34m)\u001b[0m\u001b[0;34m\u001b[0m\u001b[0;34m\u001b[0m\u001b[0m\n\u001b[0;32m--> 221\u001b[0;31m     \u001b[0mgmsh_viewer\u001b[0m\u001b[0;34m.\u001b[0m\u001b[0msetFileName\u001b[0m\u001b[0;34m(\u001b[0m\u001b[0mfilename\u001b[0m\u001b[0;34m)\u001b[0m\u001b[0;34m\u001b[0m\u001b[0;34m\u001b[0m\u001b[0m\n\u001b[0m\u001b[1;32m    222\u001b[0m     \u001b[0mgmsh_plex\u001b[0m \u001b[0;34m=\u001b[0m \u001b[0mPETSc\u001b[0m\u001b[0;34m.\u001b[0m\u001b[0mDMPlex\u001b[0m\u001b[0;34m(\u001b[0m\u001b[0;34m)\u001b[0m\u001b[0;34m.\u001b[0m\u001b[0mcreateGmsh\u001b[0m\u001b[0;34m(\u001b[0m\u001b[0mgmsh_viewer\u001b[0m\u001b[0;34m,\u001b[0m \u001b[0mcomm\u001b[0m\u001b[0;34m=\u001b[0m\u001b[0mcomm\u001b[0m\u001b[0;34m)\u001b[0m\u001b[0;34m\u001b[0m\u001b[0;34m\u001b[0m\u001b[0m\n\u001b[1;32m    223\u001b[0m \u001b[0;34m\u001b[0m\u001b[0m\n",
      "\u001b[0;32mPETSc/Viewer.pyx\u001b[0m in \u001b[0;36mpetsc4py.PETSc.Viewer.setFileName\u001b[0;34m()\u001b[0m\n",
      "\u001b[0;31mError\u001b[0m: error code 65\n[0] PetscViewerFileSetName() line 649 in /home/bruno/libs/firedrake/src/petsc/src/sys/classes/viewer/impls/ascii/filev.c\n[0] PetscViewerFileSetName_ASCII() line 753 in /home/bruno/libs/firedrake/src/petsc/src/sys/classes/viewer/impls/ascii/filev.c\n[0] Unable to open file\n[0] Cannot open PetscViewer file: /home/bruno/Desktop/IC2/spyro/notebooks/../meshes/Uniform2D.msh"
     ]
    }
   ],
   "source": [
    "if __name__ == \"__main__\":\n",
    "    test_gradient(model)"
   ]
  }
 ],
 "metadata": {
  "kernelspec": {
   "display_name": "firedrake",
   "language": "python",
   "name": "firedrake"
  },
  "language_info": {
   "codemirror_mode": {
    "name": "ipython",
    "version": 3
   },
   "file_extension": ".py",
   "mimetype": "text/x-python",
   "name": "python",
   "nbconvert_exporter": "python",
   "pygments_lexer": "ipython3",
   "version": "3.9.5"
  }
 },
 "nbformat": 4,
 "nbformat_minor": 5
}
