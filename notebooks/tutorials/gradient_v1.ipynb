{
 "cells": [
  {
   "cell_type": "markdown",
   "id": "9287b11b",
   "metadata": {},
   "source": [
    "# Gradient Calculation"
   ]
  },
  {
   "cell_type": "markdown",
   "id": "b6725113",
   "metadata": {},
   "source": [
    "## 1. Introduction"
   ]
  },
  {
   "cell_type": "markdown",
   "id": "99e3e088",
   "metadata": {},
   "source": [
    "The gradient function uses the Discrete Adjoint with secord-order in time fully-explicit timestepping scheme with implementation of a Perfectly Matched Layer (PML) using CG FEM with or without higher order mass lumping (KMV type elements)."
   ]
  },
  {
   "cell_type": "markdown",
   "id": "06a7932f",
   "metadata": {},
   "source": [
    "The gradient calculation algorithm follows the steps:\n",
    "1. a synthetic FWI problem is runned in order to generate a synthetic *shot record* for reference\n",
    "2. another FWI problem is executed, but with the initial guess\n",
    "3. the difference between the results is evaluated as follows\n",
    "$$\n",
    "misfit = p_{exact_{recv}} - p_{guess_{recv}}\n",
    "$$\n",
    "4. then, the misfit and other parameters, such as the mesh, the velocity model guess and the receivers location, are used as input to the `gradient` function"
   ]
  },
  {
   "cell_type": "markdown",
   "id": "26076575",
   "metadata": {},
   "source": [
    "The gradient calculation method is based on the **adjoint method**, because it reduces the computational cost in a problem with many variables. Besides that, the adjoint equations have as source the difference in the receivers between the real values and the guess."
   ]
  },
  {
   "cell_type": "markdown",
   "id": "a2a6c458",
   "metadata": {},
   "source": [
    "## 2. Example"
   ]
  },
  {
   "cell_type": "markdown",
   "id": "924f3daa",
   "metadata": {},
   "source": [
    "### 2.1. Real case"
   ]
  },
  {
   "cell_type": "markdown",
   "id": "918503a6",
   "metadata": {},
   "source": [
    "The first step is to evaluate the real case. It includes the libraries,"
   ]
  },
  {
   "cell_type": "code",
   "execution_count": 9,
   "id": "50da7254",
   "metadata": {},
   "outputs": [],
   "source": [
    "from firedrake import File\n",
    "import spyro\n",
    "import numpy as np"
   ]
  },
  {
   "cell_type": "markdown",
   "id": "e997db78",
   "metadata": {},
   "source": [
    "model definition,"
   ]
  },
  {
   "cell_type": "code",
   "execution_count": 4,
   "id": "ffc0c04b",
   "metadata": {},
   "outputs": [],
   "source": [
    "model = {}\n",
    "model[\"opts\"] = {\n",
    "    \"method\": \"KMV\",  # either CG or KMV\n",
    "    \"quadratrue\": \"KMV\",  # Equi or KMV\n",
    "    \"degree\": 4,  # p order\n",
    "    \"dimension\": 2,  # dimension\n",
    "}\n",
    "model[\"parallelism\"] = {\n",
    "    \"type\": \"automatic\",\n",
    "}\n",
    "model[\"mesh\"] = {\n",
    "    \"Lz\": 3.5,  # depth in km - always positive\n",
    "    \"Lx\": 17.0,  # width in km - always positive\n",
    "    \"Ly\": 0.0,  # thickness in km - always positive\n",
    "    \"meshfile\": \"meshes/marmousi_exact.msh\",\n",
    "    \"initmodel\": \"velocity_models/not_used.hdf5\",\n",
    "    \"truemodel\": \"velocity_models/marmousi_exact.hdf5\",\n",
    "}\n",
    "model[\"BCs\"] = {\n",
    "    \"status\": True,  # True or false\n",
    "    \"outer_bc\": \"non-reflective\",  #  None or non-reflective (outer boundary condition)\n",
    "    \"damping_type\": \"polynomial\",  # polynomial, hyperbolic, shifted_hyperbolic\n",
    "    \"exponent\": 2,  # damping layer has a exponent variation\n",
    "    \"cmax\": 4.5,  # maximum acoustic wave velocity in PML - km/s\n",
    "    \"R\": 1e-6,  # theoretical reflection coefficient\n",
    "    \"lz\": 0.9,  # thickness of the PML in the z-direction (km) - always positive\n",
    "    \"lx\": 0.9,  # thickness of the PML in the x-direction (km) - always positive\n",
    "    \"ly\": 0.0,  # thickness of the PML in the y-direction (km) - always positive\n",
    "}\n",
    "model[\"acquisition\"] = {\n",
    "    \"source_type\": \"Ricker\",\n",
    "    \"num_sources\": 40,\n",
    "    \"source_pos\": spyro.create_transect((-0.01, 1.0), (-0.01, 15.0), 40),\n",
    "    \"frequency\": 5.0,\n",
    "    \"delay\": 1.0,\n",
    "    \"num_receivers\": 500,\n",
    "    \"receiver_locations\": spyro.create_transect((-0.10, 0.1), (-0.10, 17.0), 500),\n",
    "}\n",
    "model[\"timeaxis\"] = {\n",
    "    \"t0\": 0.0,  #  Initial time for event\n",
    "    \"tf\": 5.00,  # Final time for event\n",
    "    \"dt\": 0.00025,\n",
    "    \"amplitude\": 1,  # the Ricker has an amplitude of 1.\n",
    "    \"nspool\": 100,  # how frequently to output solution to pvds\n",
    "    \"fspool\": 99999,  # how frequently to save solution to RAM\n",
    "}"
   ]
  },
  {
   "cell_type": "markdown",
   "id": "b0426e81",
   "metadata": {},
   "source": [
    "and model evaluation"
   ]
  },
  {
   "cell_type": "code",
   "execution_count": 5,
   "id": "c8bdcbb2",
   "metadata": {},
   "outputs": [
    {
     "name": "stdout",
     "output_type": "stream",
     "text": [
      "1\n"
     ]
    },
    {
     "ename": "ValueError",
     "evalue": "Available cores cannot be divided between sources equally.",
     "output_type": "error",
     "traceback": [
      "\u001b[0;31m---------------------------------------------------------------------------\u001b[0m",
      "\u001b[0;31mValueError\u001b[0m                                Traceback (most recent call last)",
      "\u001b[1;32m/home/bruno/Desktop/IC/spyro/notebooks/tutorials/gradient_v0.ipynb Cell 13'\u001b[0m in \u001b[0;36m<module>\u001b[0;34m\u001b[0m\n\u001b[0;32m----> <a href='vscode-notebook-cell:/home/bruno/Desktop/IC/spyro/notebooks/tutorials/gradient_v0.ipynb#ch0000031?line=0'>1</a>\u001b[0m comm \u001b[39m=\u001b[39m spyro\u001b[39m.\u001b[39;49mutils\u001b[39m.\u001b[39;49mmpi_init(model)\n\u001b[1;32m      <a href='vscode-notebook-cell:/home/bruno/Desktop/IC/spyro/notebooks/tutorials/gradient_v0.ipynb#ch0000031?line=1'>2</a>\u001b[0m mesh, V \u001b[39m=\u001b[39m spyro\u001b[39m.\u001b[39mio\u001b[39m.\u001b[39mread_mesh(model, comm)\n\u001b[1;32m      <a href='vscode-notebook-cell:/home/bruno/Desktop/IC/spyro/notebooks/tutorials/gradient_v0.ipynb#ch0000031?line=2'>3</a>\u001b[0m vp \u001b[39m=\u001b[39m spyro\u001b[39m.\u001b[39mio\u001b[39m.\u001b[39minterpolate(model, mesh, V, guess\u001b[39m=\u001b[39m\u001b[39mFalse\u001b[39;00m)\n",
      "File \u001b[0;32m~/libs/firedrake/lib/python3.9/site-packages/spyro/utils/utils.py:85\u001b[0m, in \u001b[0;36mmpi_init\u001b[0;34m(model)\u001b[0m\n\u001b[1;32m     <a href='file:///home/bruno/libs/firedrake/lib/python3.9/site-packages/spyro/utils/utils.py?line=82'>83</a>\u001b[0m     num_cores_per_shot \u001b[39m=\u001b[39m available_cores \u001b[39m/\u001b[39m model[\u001b[39m\"\u001b[39m\u001b[39macquisition\u001b[39m\u001b[39m\"\u001b[39m][\u001b[39m\"\u001b[39m\u001b[39mnum_sources\u001b[39m\u001b[39m\"\u001b[39m]\n\u001b[1;32m     <a href='file:///home/bruno/libs/firedrake/lib/python3.9/site-packages/spyro/utils/utils.py?line=83'>84</a>\u001b[0m     \u001b[39mif\u001b[39;00m available_cores \u001b[39m%\u001b[39m model[\u001b[39m\"\u001b[39m\u001b[39macquisition\u001b[39m\u001b[39m\"\u001b[39m][\u001b[39m\"\u001b[39m\u001b[39mnum_sources\u001b[39m\u001b[39m\"\u001b[39m] \u001b[39m!=\u001b[39m \u001b[39m0\u001b[39m:\n\u001b[0;32m---> <a href='file:///home/bruno/libs/firedrake/lib/python3.9/site-packages/spyro/utils/utils.py?line=84'>85</a>\u001b[0m         \u001b[39mraise\u001b[39;00m \u001b[39mValueError\u001b[39;00m(\n\u001b[1;32m     <a href='file:///home/bruno/libs/firedrake/lib/python3.9/site-packages/spyro/utils/utils.py?line=85'>86</a>\u001b[0m             \u001b[39m\"\u001b[39m\u001b[39mAvailable cores cannot be divided between sources equally.\u001b[39m\u001b[39m\"\u001b[39m\n\u001b[1;32m     <a href='file:///home/bruno/libs/firedrake/lib/python3.9/site-packages/spyro/utils/utils.py?line=86'>87</a>\u001b[0m         )\n\u001b[1;32m     <a href='file:///home/bruno/libs/firedrake/lib/python3.9/site-packages/spyro/utils/utils.py?line=87'>88</a>\u001b[0m \u001b[39melif\u001b[39;00m model[\u001b[39m\"\u001b[39m\u001b[39mparallelism\u001b[39m\u001b[39m\"\u001b[39m][\u001b[39m\"\u001b[39m\u001b[39mtype\u001b[39m\u001b[39m\"\u001b[39m] \u001b[39m==\u001b[39m \u001b[39m\"\u001b[39m\u001b[39mspatial\u001b[39m\u001b[39m\"\u001b[39m:\n\u001b[1;32m     <a href='file:///home/bruno/libs/firedrake/lib/python3.9/site-packages/spyro/utils/utils.py?line=88'>89</a>\u001b[0m     num_cores_per_shot \u001b[39m=\u001b[39m available_cores\n",
      "\u001b[0;31mValueError\u001b[0m: Available cores cannot be divided between sources equally."
     ]
    }
   ],
   "source": [
    "comm = spyro.utils.mpi_init(model)\n",
    "mesh, V = spyro.io.read_mesh(model, comm)\n",
    "vp = spyro.io.interpolate(model, mesh, V, guess=False)\n",
    "if comm.ensemble_comm.rank == 0:\n",
    "    File(\"true_velocity.pvd\", comm=comm.comm).write(vp)\n",
    "sources = spyro.Sources(model, mesh, V, comm)\n",
    "receivers = spyro.Receivers(model, mesh, V, comm)\n",
    "wavelet = spyro.full_ricker_wavelet(\n",
    "    dt=model[\"timeaxis\"][\"dt\"],\n",
    "    tf=model[\"timeaxis\"][\"tf\"],\n",
    "    freq=model[\"acquisition\"][\"frequency\"],\n",
    ")\n",
    "p, p_r = spyro.solvers.forward(model, mesh, comm, vp, sources, wavelet, receivers)\n",
    "spyro.io.save_shots(model, comm, p_r)"
   ]
  },
  {
   "cell_type": "markdown",
   "id": "cb2be7a8",
   "metadata": {},
   "source": [
    "### 2.2. Guess model"
   ]
  },
  {
   "cell_type": "markdown",
   "id": "82775a73",
   "metadata": {},
   "source": [
    "Similarly, the guess model is submitted to the same process, except for the `save_shots` function."
   ]
  },
  {
   "cell_type": "code",
   "execution_count": 6,
   "id": "08f36024",
   "metadata": {},
   "outputs": [],
   "source": [
    "model = {}\n",
    "\n",
    "model[\"opts\"] = {\n",
    "    \"method\": \"KMV\",  # either CG or KMV\n",
    "    \"quadratrue\": \"KMV\",  # Equi or KMV\n",
    "    \"degree\": 5,  # p order\n",
    "    \"dimension\": 2,  # dimension\n",
    "}\n",
    "model[\"parallelism\"] = {\n",
    "    \"type\": \"automatic\",\n",
    "}\n",
    "model[\"mesh\"] = {\n",
    "    \"Lz\": 3.5,  # depth in km - always positive\n",
    "    \"Lx\": 17.0,  # width in km - always positive\n",
    "    \"Ly\": 0.0,  # thickness in km - always positive\n",
    "    \"meshfile\": \"meshes/marmousi_guess.msh\",\n",
    "    \"initmodel\": \"velocity_models/marmousi_guess.hdf5\",\n",
    "    \"truemodel\": None,\n",
    "}\n",
    "model[\"BCs\"] = {\n",
    "    \"status\": True,  # True or false\n",
    "    \"outer_bc\": \"non-reflective\",  #  None or non-reflective (outer boundary condition)\n",
    "    \"damping_type\": \"polynomial\",  # polynomial, hyperbolic, shifted_hyperbolic\n",
    "    \"exponent\": 2,  # damping layer has a exponent variation\n",
    "    \"cmax\": 4.5,  # maximum acoustic wave velocity in PML - km/s\n",
    "    \"R\": 1e-6,  # theoretical reflection coefficient\n",
    "    \"lz\": 0.9,  # thickness of the PML in the z-direction (km) - always positive\n",
    "    \"lx\": 0.9,  # thickness of the PML in the x-direction (km) - always positive\n",
    "    \"ly\": 0.0,  # thickness of the PML in the y-direction (km) - always positive\n",
    "}\n",
    "model[\"acquisition\"] = {\n",
    "    \"source_type\": \"Ricker\",\n",
    "    \"num_sources\": 40,\n",
    "    \"source_pos\": spyro.create_transect((-0.01, 1.0), (-0.01, 15.0), 40),\n",
    "    \"frequency\": 5.0,\n",
    "    \"delay\": 1.0,\n",
    "    \"num_receivers\": 500,\n",
    "    \"receiver_locations\": spyro.create_transect((-0.10, 0.1), (-0.10, 17.0), 500),\n",
    "}\n",
    "model[\"timeaxis\"] = {\n",
    "    \"t0\": 0.0,  #  Initial time for event\n",
    "    \"tf\": 5.00,  # Final time for event\n",
    "    \"dt\": 0.001,\n",
    "    \"amplitude\": 1,  # the Ricker has an amplitude of 1.\n",
    "    \"nspool\": 100,  # how frequently to output solution to pvds\n",
    "    \"fspool\": 99999,  # how frequently to save solution to RAM\n",
    "}"
   ]
  },
  {
   "cell_type": "code",
   "execution_count": 7,
   "id": "92c52e9d",
   "metadata": {},
   "outputs": [
    {
     "name": "stdout",
     "output_type": "stream",
     "text": [
      "1\n"
     ]
    },
    {
     "ename": "ValueError",
     "evalue": "Available cores cannot be divided between sources equally.",
     "output_type": "error",
     "traceback": [
      "\u001b[0;31m---------------------------------------------------------------------------\u001b[0m",
      "\u001b[0;31mValueError\u001b[0m                                Traceback (most recent call last)",
      "\u001b[1;32m/home/bruno/Desktop/IC/spyro/notebooks/tutorials/gradient_v0.ipynb Cell 17'\u001b[0m in \u001b[0;36m<module>\u001b[0;34m\u001b[0m\n\u001b[0;32m----> <a href='vscode-notebook-cell:/home/bruno/Desktop/IC/spyro/notebooks/tutorials/gradient_v0.ipynb#ch0000037?line=0'>1</a>\u001b[0m comm \u001b[39m=\u001b[39m spyro\u001b[39m.\u001b[39;49mutils\u001b[39m.\u001b[39;49mmpi_init(model)\n\u001b[1;32m      <a href='vscode-notebook-cell:/home/bruno/Desktop/IC/spyro/notebooks/tutorials/gradient_v0.ipynb#ch0000037?line=1'>2</a>\u001b[0m mesh, V \u001b[39m=\u001b[39m spyro\u001b[39m.\u001b[39mio\u001b[39m.\u001b[39mread_mesh(model, comm)\n\u001b[1;32m      <a href='vscode-notebook-cell:/home/bruno/Desktop/IC/spyro/notebooks/tutorials/gradient_v0.ipynb#ch0000037?line=2'>3</a>\u001b[0m vp \u001b[39m=\u001b[39m spyro\u001b[39m.\u001b[39mio\u001b[39m.\u001b[39minterpolate(model, mesh, V, guess\u001b[39m=\u001b[39m\u001b[39mTrue\u001b[39;00m)\n",
      "File \u001b[0;32m~/libs/firedrake/lib/python3.9/site-packages/spyro/utils/utils.py:85\u001b[0m, in \u001b[0;36mmpi_init\u001b[0;34m(model)\u001b[0m\n\u001b[1;32m     <a href='file:///home/bruno/libs/firedrake/lib/python3.9/site-packages/spyro/utils/utils.py?line=82'>83</a>\u001b[0m     num_cores_per_shot \u001b[39m=\u001b[39m available_cores \u001b[39m/\u001b[39m model[\u001b[39m\"\u001b[39m\u001b[39macquisition\u001b[39m\u001b[39m\"\u001b[39m][\u001b[39m\"\u001b[39m\u001b[39mnum_sources\u001b[39m\u001b[39m\"\u001b[39m]\n\u001b[1;32m     <a href='file:///home/bruno/libs/firedrake/lib/python3.9/site-packages/spyro/utils/utils.py?line=83'>84</a>\u001b[0m     \u001b[39mif\u001b[39;00m available_cores \u001b[39m%\u001b[39m model[\u001b[39m\"\u001b[39m\u001b[39macquisition\u001b[39m\u001b[39m\"\u001b[39m][\u001b[39m\"\u001b[39m\u001b[39mnum_sources\u001b[39m\u001b[39m\"\u001b[39m] \u001b[39m!=\u001b[39m \u001b[39m0\u001b[39m:\n\u001b[0;32m---> <a href='file:///home/bruno/libs/firedrake/lib/python3.9/site-packages/spyro/utils/utils.py?line=84'>85</a>\u001b[0m         \u001b[39mraise\u001b[39;00m \u001b[39mValueError\u001b[39;00m(\n\u001b[1;32m     <a href='file:///home/bruno/libs/firedrake/lib/python3.9/site-packages/spyro/utils/utils.py?line=85'>86</a>\u001b[0m             \u001b[39m\"\u001b[39m\u001b[39mAvailable cores cannot be divided between sources equally.\u001b[39m\u001b[39m\"\u001b[39m\n\u001b[1;32m     <a href='file:///home/bruno/libs/firedrake/lib/python3.9/site-packages/spyro/utils/utils.py?line=86'>87</a>\u001b[0m         )\n\u001b[1;32m     <a href='file:///home/bruno/libs/firedrake/lib/python3.9/site-packages/spyro/utils/utils.py?line=87'>88</a>\u001b[0m \u001b[39melif\u001b[39;00m model[\u001b[39m\"\u001b[39m\u001b[39mparallelism\u001b[39m\u001b[39m\"\u001b[39m][\u001b[39m\"\u001b[39m\u001b[39mtype\u001b[39m\u001b[39m\"\u001b[39m] \u001b[39m==\u001b[39m \u001b[39m\"\u001b[39m\u001b[39mspatial\u001b[39m\u001b[39m\"\u001b[39m:\n\u001b[1;32m     <a href='file:///home/bruno/libs/firedrake/lib/python3.9/site-packages/spyro/utils/utils.py?line=88'>89</a>\u001b[0m     num_cores_per_shot \u001b[39m=\u001b[39m available_cores\n",
      "\u001b[0;31mValueError\u001b[0m: Available cores cannot be divided between sources equally."
     ]
    }
   ],
   "source": [
    "comm = spyro.utils.mpi_init(model)\n",
    "mesh, V = spyro.io.read_mesh(model, comm)\n",
    "vp = spyro.io.interpolate(model, mesh, V, guess=True)\n",
    "if comm.ensemble_comm.rank == 0:\n",
    "    File(\"true_velocity.pvd\", comm=comm.comm).write(vp)\n",
    "sources = spyro.Sources(model, mesh, V, comm)\n",
    "receivers = spyro.Receivers(model, mesh, V, comm)\n",
    "wavelet = spyro.full_ricker_wavelet(\n",
    "    dt=model[\"timeaxis\"][\"dt\"],\n",
    "    tf=model[\"timeaxis\"][\"tf\"],\n",
    "    freq=model[\"acquisition\"][\"frequency\"],\n",
    ")\n",
    "p, p_r = spyro.solvers.forward(model, mesh, comm, vp, sources, wavelet, receivers)"
   ]
  },
  {
   "cell_type": "markdown",
   "id": "f99214e7",
   "metadata": {},
   "source": [
    "If there is water inside the domain, it should be localized:"
   ]
  },
  {
   "cell_type": "code",
   "execution_count": 10,
   "id": "2f760f2b",
   "metadata": {},
   "outputs": [
    {
     "ename": "NameError",
     "evalue": "name 'vp' is not defined",
     "output_type": "error",
     "traceback": [
      "\u001b[0;31m---------------------------------------------------------------------------\u001b[0m",
      "\u001b[0;31mNameError\u001b[0m                                 Traceback (most recent call last)",
      "\u001b[1;32m/home/bruno/Desktop/IC/spyro/notebooks/tutorials/gradient_v0.ipynb Cell 19'\u001b[0m in \u001b[0;36m<module>\u001b[0;34m\u001b[0m\n\u001b[0;32m----> <a href='vscode-notebook-cell:/home/bruno/Desktop/IC/spyro/notebooks/tutorials/gradient_v0.ipynb#ch0000040?line=0'>1</a>\u001b[0m water \u001b[39m=\u001b[39m np\u001b[39m.\u001b[39mwhere(vp\u001b[39m.\u001b[39mdat\u001b[39m.\u001b[39mdata[:] \u001b[39m<\u001b[39m \u001b[39m1.51\u001b[39m)\n",
      "\u001b[0;31mNameError\u001b[0m: name 'vp' is not defined"
     ]
    }
   ],
   "source": [
    "water = np.where(vp.dat.data[:] < 1.51)"
   ]
  },
  {
   "cell_type": "markdown",
   "id": "310ad7d7",
   "metadata": {},
   "source": [
    "### 2.3. Gradient calculation"
   ]
  },
  {
   "cell_type": "markdown",
   "id": "4bf381e8",
   "metadata": {},
   "source": [
    "The gradient is calculated according the adjoint method. The receivers are acting as sources and the misfit is the recorded value of the sources:"
   ]
  },
  {
   "cell_type": "code",
   "execution_count": 12,
   "id": "2cfcf355",
   "metadata": {},
   "outputs": [
    {
     "ename": "NameError",
     "evalue": "name 'V' is not defined",
     "output_type": "error",
     "traceback": [
      "\u001b[0;31m---------------------------------------------------------------------------\u001b[0m",
      "\u001b[0;31mNameError\u001b[0m                                 Traceback (most recent call last)",
      "\u001b[1;32m/home/bruno/Desktop/IC/spyro/notebooks/tutorials/gradient_v0.ipynb Cell 22'\u001b[0m in \u001b[0;36m<module>\u001b[0;34m\u001b[0m\n\u001b[0;32m----> <a href='vscode-notebook-cell:/home/bruno/Desktop/IC/spyro/notebooks/tutorials/gradient_v0.ipynb#ch0000045?line=0'>1</a>\u001b[0m dJ \u001b[39m=\u001b[39m Function(V, name\u001b[39m=\u001b[39m\u001b[39m\"\u001b[39m\u001b[39mgradient\u001b[39m\u001b[39m\"\u001b[39m)\n\u001b[1;32m      <a href='vscode-notebook-cell:/home/bruno/Desktop/IC/spyro/notebooks/tutorials/gradient_v0.ipynb#ch0000045?line=1'>2</a>\u001b[0m dJ_local \u001b[39m=\u001b[39m spyro\u001b[39m.\u001b[39msolvers\u001b[39m.\u001b[39mgradient(\n\u001b[1;32m      <a href='vscode-notebook-cell:/home/bruno/Desktop/IC/spyro/notebooks/tutorials/gradient_v0.ipynb#ch0000045?line=2'>3</a>\u001b[0m     model,\n\u001b[1;32m      <a href='vscode-notebook-cell:/home/bruno/Desktop/IC/spyro/notebooks/tutorials/gradient_v0.ipynb#ch0000045?line=3'>4</a>\u001b[0m     mesh,\n\u001b[0;32m   (...)\u001b[0m\n\u001b[1;32m      <a href='vscode-notebook-cell:/home/bruno/Desktop/IC/spyro/notebooks/tutorials/gradient_v0.ipynb#ch0000045?line=8'>9</a>\u001b[0m     \u001b[39mself\u001b[39m\u001b[39m.\u001b[39mmisfit,\n\u001b[1;32m     <a href='vscode-notebook-cell:/home/bruno/Desktop/IC/spyro/notebooks/tutorials/gradient_v0.ipynb#ch0000045?line=9'>10</a>\u001b[0m )\n\u001b[1;32m     <a href='vscode-notebook-cell:/home/bruno/Desktop/IC/spyro/notebooks/tutorials/gradient_v0.ipynb#ch0000045?line=10'>11</a>\u001b[0m \u001b[39mif\u001b[39;00m comm\u001b[39m.\u001b[39mensemble_comm\u001b[39m.\u001b[39msize \u001b[39m>\u001b[39m \u001b[39m1\u001b[39m:\n",
      "\u001b[0;31mNameError\u001b[0m: name 'V' is not defined"
     ]
    }
   ],
   "source": [
    "dJ = Function(V, name=\"gradient\")\n",
    "dJ_local = spyro.solvers.gradient(\n",
    "    model,\n",
    "    mesh,\n",
    "    comm,\n",
    "    vp,\n",
    "    receivers,\n",
    "    self.p_guess,\n",
    "    self.misfit,\n",
    ")\n",
    "if comm.ensemble_comm.size > 1:\n",
    "    comm.allreduce(dJ_local, dJ)\n",
    "else:\n",
    "    dJ = dJ_local\n",
    "dJ /= comm.ensemble_comm.size\n",
    "if comm.comm.size > 1:\n",
    "    dJ /= comm.comm.size\n",
    "# regularize the gradient if asked.\n",
    "if model[\"opts\"][\"regularization\"]:\n",
    "    dJ = regularize_gradient(vp, dJ)\n",
    "# mask the water layer\n",
    "dJ.dat.data[water] = 0.0"
   ]
  }
 ],
 "metadata": {
  "interpreter": {
   "hash": "c636c80da4301bac4452b76631ed9bfa598d64810b11ba9aafb778bda6792944"
  },
  "kernelspec": {
   "display_name": "firedrake",
   "language": "python",
   "name": "python3"
  },
  "language_info": {
   "codemirror_mode": {
    "name": "ipython",
    "version": 3
   },
   "file_extension": ".py",
   "mimetype": "text/x-python",
   "name": "python",
   "nbconvert_exporter": "python",
   "pygments_lexer": "ipython3",
   "version": "3.9.5"
  }
 },
 "nbformat": 4,
 "nbformat_minor": 5
}
