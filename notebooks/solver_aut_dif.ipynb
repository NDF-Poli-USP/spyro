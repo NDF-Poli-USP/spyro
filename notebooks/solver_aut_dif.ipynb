{
 "cells": [
  {
   "cell_type": "code",
   "execution_count": 1,
   "metadata": {},
   "outputs": [],
   "source": [
    "from __future__ import print_function\n",
    "from firedrake import *\n",
    "from firedrake_adjoint import *\n",
    "import numpy as np\n",
    "import os, sys\n",
    "from firedrake import *\n",
    "from firedrake_adjoint import *\n",
    "import spyro\n",
    "import numpy as np\n",
    "import math\n",
    "\n",
    "model = {}\n",
    "\n",
    "# Choose method and parameters\n",
    "model[\"opts\"] = {\n",
    "    \"method\": \"KMV\",  # either CG or KMV\n",
    "    \"quadratrue\": \"KMV\", # Equi or KMV\n",
    "    \"degree\": 1,  # p order\n",
    "    \"dimension\": 2,  # dimension\n",
    "}\n",
    "\n",
    "# Number of cores for the shot. For simplicity, we keep things serial.\n",
    "# spyro however supports both spatial parallelism and \"shot\" parallelism.\n",
    "model[\"parallelism\"] = {\n",
    "    \"type\": \"off\",  # options: automatic (same number of cores for evey processor), custom, off.\n",
    "    \"custom_cores_per_shot\": [],  # only if the user wants a different number of cores for every shot.\n",
    "    # input is a list of integers with the length of the number of shots.\n",
    "}\n",
    "\n",
    "# Define the domain size without the PML. Here we'll assume a 0.75 x 1.50 km\n",
    "# domain and reserve the remaining 250 m for the Perfectly Matched Layer (PML) to absorb\n",
    "# outgoing waves on three sides (eg., -z, +-x sides) of the domain.\n",
    "model[\"mesh\"] = {\n",
    "    \"Lz\": 0.75,  # depth in km - always positive\n",
    "    \"Lx\": 1.5,  # width in km - always positive\n",
    "    \"Ly\": 0.0,  # thickness in km - always positive\n",
    "    \"meshfile\": \"not_used.msh\",\n",
    "    \"initmodel\": \"not_used.hdf5\",\n",
    "    \"truemodel\": \"not_used.hdf5\",\n",
    "}\n",
    "\n",
    "# Specify a 250-m PML on the three sides of the domain to damp outgoing waves.\n",
    "model[\"PML\"] = {\n",
    "    \"status\": True,  # True or false\n",
    "    \"outer_bc\": \"non-reflective\",  #  None or non-reflective (outer boundary condition)\n",
    "    \"damping_type\": \"polynomial\",  # polynomial, hyperbolic, shifted_hyperbolic\n",
    "    \"exponent\": 2,  # damping layer has a exponent variation\n",
    "    \"cmax\": 4.7,  # maximum acoustic wave velocity in PML - km/s\n",
    "    \"R\": 1e-6,  # theoretical reflection coefficient\n",
    "    \"lz\": 0.25,  # thickness of the PML in the z-direction (km) - always positive\n",
    "    \"lx\": 0.25,  # thickness of the PML in the x-direction (km) - always positive\n",
    "    \"ly\": 0.0,  # thickness of the PML in the y-direction (km) - always positive\n",
    "}\n",
    "\n",
    "# Create a source injection operator. Here we use a single source with a\n",
    "# Ricker wavelet that has a peak frequency of 8 Hz injected at the center of the mesh.\n",
    "# We also specify to record the solution at 101 microphones near the top of the domain.\n",
    "# This transect of receivers is created with the helper function `create_transect`.\n",
    "model[\"acquisition\"] = {\n",
    "    \"source_type\": \"Ricker\",\n",
    "    \"num_sources\": 1,\n",
    "    \"source_pos\": [(0.1, 0.5)],\n",
    "    \"frequency\": 3.0,\n",
    "    \"delay\": 1.0,\n",
    "    \"num_receivers\": 100,\n",
    "    \"receiver_locations\": spyro.create_transect(\n",
    "        (0.10, 0.1), (0.10, 0.9), 100\n",
    "    ),\n",
    "}\n",
    "\n",
    "# Simulate for 2.0 seconds.\n",
    "model[\"timeaxis\"] = {\n",
    "    \"t0\": 0.0,  #  Initial time for event\n",
    "    \"tf\": 1.00,  # Final time for event\n",
    "    \"dt\": 0.001,  # timestep size\n",
    "    \"amplitude\": 1,  # the Ricker has an amplitude of 1.\n",
    "    \"nspool\": 100,  # how frequently to output solution to pvds\n",
    "    \"fspool\": 100,  # how frequently to save solution to RAM\n",
    "}\n",
    "\n",
    "num_rec = model[\"acquisition\"][\"num_receivers\"]\n",
    "δs = np.linspace(0.1, 0.9, num_rec)\n",
    "X, Y = np.meshgrid(0.1, δs)\n",
    "xs = np.vstack((X.flatten(), Y.flatten())).T\n"
   ]
  },
  {
   "cell_type": "code",
   "execution_count": 2,
   "metadata": {},
   "outputs": [],
   "source": [
    "mesh = RectangleMesh(100, 100, 1.0, 1.0)\n",
    "# V    = FunctionSpace(mesh, family='CG', degree=2)\n",
    "# Create the computational environment\n",
    "comm = spyro.utils.mpi_init(model)\n",
    "\n",
    "element = spyro.domains.space.FE_method(\n",
    "    mesh, model[\"opts\"][\"method\"], model[\"opts\"][\"degree\"]\n",
    ")\n",
    "V = FunctionSpace(mesh, element)\n"
   ]
  },
  {
   "cell_type": "code",
   "execution_count": 3,
   "metadata": {},
   "outputs": [],
   "source": [
    "x, y = SpatialCoordinate(mesh)\n",
    "velocity = conditional(x > 0.35, 1.5, 3.0)\n",
    "\n",
    "vp = Function(V, name=\"vp\").interpolate(velocity)\n",
    "\n",
    "# These pvd files can be easily visualized in ParaView!\n",
    "File(\"simple_velocity_model.pvd\").write(vp)\n",
    "\n",
    "velocity0 = conditional(x > 0.35, 1, 1.0)\n",
    "vp_guess = Function(V, name=\"control\").interpolate(velocity0)\n"
   ]
  },
  {
   "cell_type": "code",
   "execution_count": 4,
   "metadata": {},
   "outputs": [],
   "source": [
    "bcval = Constant(0.0)\n",
    "def delta_expr(x0, z, xm, sigma_x):\n",
    "    \n",
    "    return exp(-sigma_x * ((z - x0[0]) ** 2 + (x - x0[1]) ** 2))\n",
    "\n",
    "def timedependentSource(model, t, freq=None, amp=1, delay=1.5):\n",
    "    if model[\"acquisition\"][\"source_type\"] == \"Ricker\":\n",
    "        return RickerWavelet(t, freq, amp, delay=delay)\n",
    "    elif model[\"acquisition\"][\"source_type\"] == \"MMS\":\n",
    "        return MMS_time(t)\n",
    "    else:\n",
    "        raise ValueError(\"source not implemented\")\n",
    "\n",
    "\n",
    "def RickerWavelet(t, freq, amp=1.0, delay=1.5):\n",
    "    \"\"\"Creates a Ricker source function with a\n",
    "    delay in term of multiples of the distance\n",
    "    between the minimums.\n",
    "    \"\"\"\n",
    "    t = t - delay * math.sqrt(6.0) / (math.pi * freq)\n",
    "    return (\n",
    "        amp\n",
    "        * (1.0 - (1.0 / 2.0) * (2.0 * math.pi * freq) * (2.0 * math.pi * freq) * t * t)\n",
    "        * math.exp(\n",
    "            (-1.0 / 4.0) * (2.0 * math.pi * freq) * (2.0 * math.pi * freq) * t * t\n",
    "        )\n",
    "    )\n",
    "\n",
    "\n",
    "def FullRickerWavelet(dt, tf, freq, amp=1.0, cutoff=None):\n",
    "    \"\"\"Compute the full Ricker wavelet and apply low-pass filtering\n",
    "    using cutoff frequency in hz\n",
    "    \"\"\"\n",
    "    nt = int(tf / dt)  # number of timesteps\n",
    "    time = 0.0\n",
    "    FullWavelet = np.zeros((nt,))\n",
    "    for t in range(nt):\n",
    "        FullWavelet[t] = RickerWavelet(time, freq, amp)\n",
    "        time += dt\n",
    "    if cutoff is not None:\n",
    "        fs = 1.0 / dt\n",
    "        order = 2\n",
    "        nyq = 0.5 * fs  # Nyquist Frequency\n",
    "        normal_cutoff = cutoff / nyq\n",
    "        # Get the filter coefficients\n",
    "        b, a = butter(order, normal_cutoff, btype=\"low\", analog=False)\n",
    "        FullWavelet = filtfilt(b, a, FullWavelet)\n",
    "    return FullWavelet\n"
   ]
  },
  {
   "cell_type": "code",
   "execution_count": 5,
   "metadata": {},
   "outputs": [],
   "source": [
    "dim    = 2\n",
    "amp    = 1\n",
    "freq   = model[\"acquisition\"][\"frequency\"]\n",
    "method = model[\"opts\"][\"method\"]\n",
    "degree = model[\"opts\"][\"degree\"]\n",
    "dt     = model[\"timeaxis\"][\"dt\"]\n",
    "tf     = model[\"timeaxis\"][\"tf\"]\n",
    "delay  = model[\"acquisition\"][\"delay\"]\n",
    "nspool = model[\"timeaxis\"][\"nspool\"]\n",
    "fspool = model[\"timeaxis\"][\"fspool\"]\n",
    "params = {\"ksp_type\": \"preonly\", \"pc_type\": \"jacobi\"}\n",
    "# params = {\"ksp_type\": \"cg\", \"pc_type\": \"jacobi\"}\n",
    "\n",
    "qr_x, qr_s, _ = spyro.domains.quadrature.quadrature_rules(V)\n",
    "\n",
    "source_num = 0\n"
   ]
  },
  {
   "cell_type": "code",
   "execution_count": 6,
   "metadata": {},
   "outputs": [
    {
     "data": {
      "text/plain": [
       "Constant(FiniteElement('Real', None, 0), 47)"
      ]
     },
     "execution_count": 6,
     "metadata": {},
     "output_type": "execute_result"
    }
   ],
   "source": [
    "# ----------------------------------------#\n",
    "# external forcing\n",
    "RW = FullRickerWavelet(dt, tf, freq, amp=amp, cutoff=None)\n",
    "    \n",
    "z, x = SpatialCoordinate(mesh) \n",
    "pos = model[\"acquisition\"][\"source_pos\"]\n",
    "sigma_x = Constant(2000)\n",
    "source  = Constant(pos[source_num])\n",
    "delta   = Interpolator(delta_expr(source, z, x, sigma_x), V)\n",
    "excitation = Function(delta.interpolate())\n",
    "\n",
    "ricker = Constant(0)\n",
    "f = excitation * ricker\n",
    "ricker.assign(RW[0], annotate=True)\n",
    "# ----------------------------------------#"
   ]
  },
  {
   "cell_type": "code",
   "execution_count": 9,
   "metadata": {},
   "outputs": [],
   "source": [
    "from numpy import pi as π\n",
    "from firedrake.assemble import create_assembly_callable\n",
    "set_log_level(ERROR)\n",
    "\n",
    "nt = int(tf / dt)  # number of timesteps\n",
    "dstep = int(delay / dt)  # number of timesteps with source\n",
    "\n",
    "u     = TrialFunction(V)\n",
    "v     = TestFunction(V)\n",
    "u_nm1 = Function(V,name=\"u_nm1\")\n",
    "u_n   = Function(V,name=\"u_n\")\n",
    "u_np1 = Function(V,name=\"u_np1\")\n",
    "\n",
    "# # -------------------------------------------------------\n",
    "m1 = ((u - 2.0 * u_n + u_nm1) / Constant(dt ** 2)) * v * dx(rule=qr_x)\n",
    "a = vp * vp * dot(grad(u_n), grad(v)) * dx(rule=qr_x)  # explicit\n",
    "\n",
    "FF = m1 + a - f * v * dx(rule=qr_x)\n",
    "\n",
    "X = Function(V)\n",
    "B = Function(V)\n",
    "\n",
    "lhs_ = lhs(FF)\n",
    "rhs_ = rhs(FF)\n",
    "#----------------------------------------------------\n",
    "# A      = assemble(lhs_, diagonal=True)\n",
    "# solver = LinearSolver(A, solver_parameters=params)\n",
    "# #----------------------------------------------------\n",
    "# assembly_callable = create_assembly_callable(rhs_, tensor=B)\n",
    "u = Function(V, name=\"u\")\n",
    "usol_recv = []\n",
    "obj  = []\n",
    "t    = 0.0\n",
    "step = 0\n",
    "\n",
    "point_cloud = VertexOnlyMesh(mesh, xs)\n",
    "P           = FunctionSpace(point_cloud, 'DG', 0)\n",
    "\n",
    "while t <= tf:\n",
    "    \n",
    "    step += 1\n",
    "    if step < dstep:\n",
    "        ricker.assign(RW[step])\n",
    "    elif step == dstep:\n",
    "        ricker.assign(0.0)\n",
    "\n",
    "    solve(lhs_ == rhs_, u, solver_parameters=params)\n",
    "\n",
    "#     solver.solve(X, B)\n",
    "\n",
    "    u_np1.assign(u)\n",
    "    u_nm1.assign(u_n)\n",
    "    u_n.assign(u_np1)\n",
    "\n",
    "    rec  = interpolate(u_np1, P)\n",
    "    usol_recv.append(rec.dat.data)\n",
    "    obj.append(assemble(0.5*inner(2*rec-rec, 2*rec-rec)*dx)) \n",
    "    t   += dt\n",
    "\n"
   ]
  },
  {
   "cell_type": "code",
   "execution_count": 10,
   "metadata": {},
   "outputs": [
    {
     "name": "stdout",
     "output_type": "stream",
     "text": [
      "9.322399002274441e-09\n"
     ]
    }
   ],
   "source": [
    "\n",
    "J= 0\n",
    "for i in range(1, len(obj)):\n",
    "    J += 0.5*(obj[i-1] + obj[i])*dt\n",
    "    \n",
    "J=0.5*J\n",
    "    \n"
   ]
  },
  {
   "cell_type": "code",
   "execution_count": 11,
   "metadata": {
    "scrolled": false
   },
   "outputs": [
    {
     "name": "stdout",
     "output_type": "stream",
     "text": [
      "100\n"
     ]
    },
    {
     "data": {
      "image/png": "[encoded data removed]",
      "text/plain": [
       "<Figure size 432x288 with 2 Axes>"
      ]
     },
     "metadata": {
      "needs_background": "light"
     },
     "output_type": "display_data"
    }
   ],
   "source": [
    "import numpy                  as np\n",
    "import matplotlib.pyplot      as plot\n",
    "import matplotlib.ticker      as mticker  \n",
    "from matplotlib               import cm\n",
    "from mpl_toolkits.axes_grid1  import make_axes_locatable\n",
    "from matplotlib               import ticker\n",
    "def graph2drec(rec):  \n",
    "    print(len(rec[0]))\n",
    "    \n",
    "    tf     = model[\"timeaxis\"][\"tf\"]\n",
    "    extent = [0,1, tf, 0]\n",
    "    fig    = plot.imshow(rec[:][:], cmap=\"seismic\", extent=extent)\n",
    "    plot.gca().xaxis.set_major_formatter(mticker.FormatStrFormatter('%.2f '))\n",
    "    plot.gca().yaxis.set_major_formatter(mticker.FormatStrFormatter('%.2f s'))\n",
    "    ax = plot.gca()\n",
    "    ax.xaxis.set_major_locator(plot.MaxNLocator(4))\n",
    "    ax.yaxis.set_major_locator(plot.MaxNLocator(4))\n",
    "    \n",
    "    divider = make_axes_locatable(ax)\n",
    "    \n",
    "    cax = divider.append_axes(\"right\", size=\"5%\", pad=0.05)\n",
    "    \n",
    "    tick_locator = ticker.MaxNLocator(nbins=5)\n",
    "    \n",
    "    cbar = plot.colorbar(fig, cax=cax, format='%.1e')\n",
    "    \n",
    "    cbar.locator = tick_locator\n",
    "    \n",
    "    cbar.update_ticks()\n",
    "    \n",
    "    plot.draw()\n",
    "     \n",
    "    plot.show()\n",
    "    plot.close()\n",
    "\n",
    "    return\n",
    "#==============================================================================\n",
    "\n",
    "graph2drec(usol_recv)"
   ]
  },
  {
   "cell_type": "code",
   "execution_count": 15,
   "metadata": {},
   "outputs": [],
   "source": [
    "control = Control(vp)\n",
    "\n",
    "dJdm = compute_gradient(J, control)\n"
   ]
  },
  {
   "cell_type": "code",
   "execution_count": 16,
   "metadata": {},
   "outputs": [],
   "source": [
    "File(\"simple_velocity_model.pvd\").write(dJdm)"
   ]
  },
  {
   "cell_type": "code",
   "execution_count": null,
   "metadata": {},
   "outputs": [],
   "source": []
  },
  {
   "cell_type": "code",
   "execution_count": null,
   "metadata": {},
   "outputs": [],
   "source": []
  }
 ],
 "metadata": {
  "kernelspec": {
   "display_name": "new_firedrak1",
   "language": "python",
   "name": "new_firedrak1"
  },
  "language_info": {
   "codemirror_mode": {
    "name": "ipython",
    "version": 3
   },
   "file_extension": ".py",
   "mimetype": "text/x-python",
   "name": "python",
   "nbconvert_exporter": "python",
   "pygments_lexer": "ipython3",
   "version": "3.8.5"
  }
 },
 "nbformat": 4,
 "nbformat_minor": 4
}
