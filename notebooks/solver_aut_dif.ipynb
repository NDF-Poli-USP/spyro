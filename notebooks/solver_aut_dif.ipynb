{
 "cells": [
  {
   "cell_type": "code",
   "execution_count": 1,
   "metadata": {},
   "outputs": [],
   "source": [
    "from __future__ import print_function\n",
    "from firedrake import *\n",
    "from firedrake_adjoint import *\n",
    "import numpy as np\n",
    "import os, sys\n",
    "import spyro\n",
    "import numpy as np\n",
    "import math\n",
    "import matplotlib.pyplot as plot\n",
    "import matplotlib.ticker      as mticker  \n",
    "from matplotlib               import cm\n",
    "from mpl_toolkits.axes_grid1  import make_axes_locatable\n",
    "import memory_profiler\n",
    "\n",
    "model = {}\n",
    "\n",
    "# Choose method and parameters\n",
    "model[\"opts\"] = {\n",
    "    \"method\": \"KMV\",  # either CG or KMV\n",
    "    \"quadratrue\": \"KMV\", # Equi or KMV\n",
    "    \"degree\": 1,  # p order\n",
    "    \"dimension\": 2,  # dimension\n",
    "}\n",
    "\n",
    "# Number of cores for the shot. For simplicity, we keep things serial.\n",
    "# spyro however supports both spatial parallelism and \"shot\" parallelism.\n",
    "model[\"parallelism\"] = {\n",
    "    \"type\": \"spatial\",  # options: automatic (same number of cores for evey processor), custom, off.\n",
    "    \"custom_cores_per_shot\": [],  # only if the user wants a different number of cores for every shot.\n",
    "    \"num_cores_per_shot\": 1\n",
    "    # input is a list of integers with the length of the number of shots.\n",
    "}\n",
    "\n",
    "# Define the domain size without the PML. Here we'll assume a 0.75 x 1.50 km\n",
    "# domain and reserve the remaining 250 m for the Perfectly Matched Layer (PML) to absorb\n",
    "# outgoing waves on three sides (eg., -z, +-x sides) of the domain.\n",
    "model[\"mesh\"] = {\n",
    "    \"Lz\": 0.75,  # depth in km - always positive\n",
    "    \"Lx\": 1.5,  # width in km - always positive\n",
    "    \"Ly\": 0.0,  # thickness in km - always positive\n",
    "    \"meshfile\": \"not_used.msh\",\n",
    "    \"initmodel\": \"not_used.hdf5\",\n",
    "    \"truemodel\": \"not_used.hdf5\",\n",
    "}\n",
    "\n",
    "model[\"BCs\"] = {\n",
    "    \"status\":False,  # True or false\n",
    "    \"outer_bc\": \"non-reflective\",  #  neumann, non-reflective (outer boundary condition)\n",
    "    \"damping_type\": \"polynomial\",  # polynomial. hyperbolic, shifted_hyperbolic\n",
    "    \"exponent\": 1,\n",
    "    \"cmax\": 4.7,  # maximum acoustic wave velocity in PML - km/s\n",
    "    \"R\": 0.001,  # theoretical reflection coefficient\n",
    "    \"lz\": 0.5,  # thickness of the pml in the z-direction (km) - always positive\n",
    "    \"lx\": 0.5,  # thickness of the pml in the x-direction (km) - always positive\n",
    "    \"ly\": 0.0,  # thickness of the pml in the y-direction (km) - always positive\n",
    "}\n",
    "\n",
    "model[\"acquisition\"] = {\n",
    "    \"source_type\": \"Ricker\",\n",
    "    \"num_sources\": 2,\n",
    "    \"source_pos\": spyro.create_transect((0.1, 0.2), (0.1, 0.8), 2),\n",
    "    \"frequency\": 3.0,\n",
    "    \"delay\": 1.0,\n",
    "    \"num_receivers\": 100,\n",
    "    \"receiver_locations\": spyro.create_transect(\n",
    "        (0.10, 0.1), (0.10, 0.9), 100\n",
    "    ),\n",
    "}\n",
    "\n",
    "# Simulate for 2.0 seconds.\n",
    "model[\"timeaxis\"] = {\n",
    "    \"t0\": 0.0,  #  Initial time for event\n",
    "    \"tf\": 1.00,  # Final time for event\n",
    "    \"dt\": 0.001,  # timestep size\n",
    "    \"amplitude\": 1,  # the Ricker has an amplitude of 1.\n",
    "    \"nspool\": 100,  # how frequently to output solution to pvds\n",
    "    \"fspool\": 100,  # how frequently to save solution to RAM\n",
    "}\n",
    "\n",
    "\n",
    "num_rec = model[\"acquisition\"][\"num_receivers\"]\n",
    "δs = np.linspace(0.1, 0.9, num_rec)\n",
    "X, Y = np.meshgrid(0.1, δs)\n",
    "xs = np.vstack((X.flatten(), Y.flatten())).T\n",
    "mesh = RectangleMesh(100, 100, 1.0, 1.0)"
   ]
  },
  {
   "cell_type": "code",
   "execution_count": 2,
   "metadata": {},
   "outputs": [],
   "source": [
    "# Create the computational environment\n",
    "comm = spyro.utils.mpi_init(model)\n",
    "\n",
    "element = spyro.domains.space.FE_method(\n",
    "    mesh, model[\"opts\"][\"method\"], model[\"opts\"][\"degree\"]\n",
    ")\n",
    "V = FunctionSpace(mesh, element)\n",
    "\n",
    "x, y = SpatialCoordinate(mesh)\n",
    "velocity = conditional(x > 0.35, 1.5, 3)\n",
    "vp   = Function(V, name=\"vp\").interpolate(velocity)\n"
   ]
  },
  {
   "cell_type": "code",
   "execution_count": 3,
   "metadata": {},
   "outputs": [],
   "source": [
    "sources = spyro.Sources(model, mesh, V, comm).create()\n",
    "tf   = model[\"timeaxis\"][\"tf\"] \n",
    "dt   = model[\"timeaxis\"][\"dt\"]\n",
    "freq = model[\"acquisition\"][\"frequency\"]\n",
    "\n",
    "wavelet = spyro.full_ricker_wavelet(dt=dt, tf=tf, freq=freq)\n"
   ]
  },
  {
   "cell_type": "code",
   "execution_count": 4,
   "metadata": {
    "scrolled": false
   },
   "outputs": [
    {
     "name": "stdout",
     "output_type": "stream",
     "text": [
      "Simulation time is:        0.0 seconds\n",
      "Simulation time is:      0.099 seconds\n",
      "Simulation time is:      0.199 seconds\n",
      "Simulation time is:      0.299 seconds\n",
      "Simulation time is:      0.399 seconds\n",
      "Simulation time is:      0.499 seconds\n",
      "Simulation time is:      0.599 seconds\n",
      "Simulation time is:      0.699 seconds\n",
      "Simulation time is:      0.799 seconds\n",
      "Simulation time is:      0.899 seconds\n",
      "---------------------------------------------------------------\n",
      "Simulation time is:        0.0 seconds\n",
      "Simulation time is:      0.099 seconds\n",
      "Simulation time is:      0.199 seconds\n",
      "Simulation time is:      0.299 seconds\n",
      "Simulation time is:      0.399 seconds\n",
      "Simulation time is:      0.499 seconds\n",
      "Simulation time is:      0.599 seconds\n",
      "Simulation time is:      0.699 seconds\n",
      "Simulation time is:      0.799 seconds\n",
      "Simulation time is:      0.899 seconds\n",
      "---------------------------------------------------------------\n"
     ]
    }
   ],
   "source": [
    "solver         = spyro.solvers.forward_AD\n",
    "\n",
    "J = []\n",
    "usol_rec = []\n",
    "for sn in range(0,model[\"acquisition\"][\"num_sources\"]):\n",
    "    aux0, aux1  = solver(model, mesh, comm, vp, sources, wavelet, xs, source_num=sn)\n",
    "    J.append(aux0)\n",
    "    usol_rec.append(aux1)\n"
   ]
  },
  {
   "cell_type": "code",
   "execution_count": 5,
   "metadata": {},
   "outputs": [],
   "source": [
    "control = Control(vp)\n",
    "dJdm    = Function(V)\n",
    "for sn in range(0,model[\"acquisition\"][\"num_sources\"]):\n",
    "    dJdm += compute_gradient(J[sn], control)"
   ]
  },
  {
   "cell_type": "code",
   "execution_count": 6,
   "metadata": {},
   "outputs": [
    {
     "data": {
      "image/png": "[encoded data removed]",
      "text/plain": [
       "<Figure size 432x288 with 2 Axes>"
      ]
     },
     "metadata": {
      "needs_background": "light"
     },
     "output_type": "display_data"
    }
   ],
   "source": [
    "fig, axes = plot.subplots()\n",
    "axes.set_aspect('equal')\n",
    "colors = firedrake.tripcolor(dJdm, axes=axes, shading='gouraud', cmap=\"jet\")\n",
    "\n",
    "fig.colorbar(colors);\n",
    "plot.savefig('grad.png',dpi=100,format='png')\n"
   ]
  },
  {
   "cell_type": "code",
   "execution_count": 7,
   "metadata": {},
   "outputs": [],
   "source": [
    "# J_total = sum(J)\n",
    "# print(J)\n",
    "# h = Function(V)\n",
    "# h.vector()[:] = 0.1\n",
    "# Jhat    = ReducedFunctional(J_total, control) \n",
    "# conv_rate = taylor_test(Jhat, vp, h)"
   ]
  },
  {
   "cell_type": "code",
   "execution_count": 8,
   "metadata": {},
   "outputs": [],
   "source": [
    "water = np.where(vp.dat.data[:] < 1.51)\n",
    "dJdm.dat.data[water] = 0.0\n",
    "File(\"grad_ad.pvd\").write(dJdm)\n",
    "File(\"vel.pvd\").write(vp)"
   ]
  },
  {
   "cell_type": "code",
   "execution_count": null,
   "metadata": {},
   "outputs": [],
   "source": []
  }
 ],
 "metadata": {
  "kernelspec": {
   "display_name": "new_firedrak1",
   "language": "python",
   "name": "new_firedrak1"
  },
  "language_info": {
   "codemirror_mode": {
    "name": "ipython",
    "version": 3
   },
   "file_extension": ".py",
   "mimetype": "text/x-python",
   "name": "python",
   "nbconvert_exporter": "python",
   "pygments_lexer": "ipython3",
   "version": "3.8.5"
  }
 },
 "nbformat": 4,
 "nbformat_minor": 4
}
