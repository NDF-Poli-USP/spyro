{
 "cells": [
  {
   "cell_type": "code",
   "execution_count": 1,
   "metadata": {},
   "outputs": [],
   "source": [
    "from __future__ import print_function\n",
    "from firedrake import *\n",
    "from firedrake_adjoint import *\n",
    "import numpy as np\n",
    "import os, sys\n",
    "import spyro\n",
    "\n",
    "import numpy as np\n",
    "import math\n",
    "import matplotlib.pyplot as plot\n",
    "import matplotlib.ticker      as mticker  \n",
    "from matplotlib               import cm\n",
    "from mpl_toolkits.axes_grid1  import make_axes_locatable\n",
    "import memory_profiler\n",
    "\n",
    "model = {}\n",
    "model[\"opts\"] = {\n",
    "    \"method\": \"KMV\",  # either CG or KMV\n",
    "    \"quadratrue\": \"KMV\",  # Equi or KMV\n",
    "    \"degree\": 2,  # p order\n",
    "    \"dimension\": 2,  # dimension\n",
    "}\n",
    "model[\"parallelism\"] = {\n",
    "    \"type\": \"spatial\",  # options: automatic (same number of cores for evey processor), custom, off.\n",
    "    \"custom_cores_per_shot\": [],  # only if the user wants a different number of cores for every shot.\n",
    "    \"num_cores_per_shot\": 1\n",
    "}\n",
    "model[\"mesh\"] = {\n",
    "    \"Lz\": 1.,  # depth in km - always positive\n",
    "    \"Lx\": 1.,  # width in km - always positive\n",
    "    \"Ly\": 0.0,  # thickness in km - always positive\n",
    "    \"meshfile\": \"meshes/square.msh\",\n",
    "    \"initmodel\": \"not_used.hdf5\",\n",
    "    \"truemodel\": \"velocity_models/MarmousiII_w1KM_EXT_GUESS.hdf5\",\n",
    "}\n",
    "model[\"BCs\"] = {\n",
    "    \"status\": False,  # True or false\n",
    "    \"outer_bc\": \"non-reflective\",  #  None or non-reflective (outer boundary condition)\n",
    "    \"damping_type\": \"polynomial\",  # polynomial, hyperbolic, shifted_hyperbolic\n",
    "    \"exponent\": 2,  # damping layer has a exponent variation\n",
    "    \"cmax\": 3.,  # maximum acoustic wave velocity in PML - km/s\n",
    "    \"R\": 1e-6,  # theoretical reflection coefficient\n",
    "    \"lz\": 0.9,  # thickness of the PML in the z-direction (km) - always positive\n",
    "    \"lx\": 0.9,  # thickness of the PML in the x-direction (km) - always positive\n",
    "    \"ly\": 0.0,  # thickness of the PML in the y-direction (km) - always positive\n",
    "}\n",
    "model[\"acquisition\"] = {\n",
    "    \"source_type\": \"Ricker\",\n",
    "    \"num_sources\": 1,\n",
    "    \"source_pos\": spyro.create_transect((-0.1, 0.1), (-0.1, 0.9), 2),\n",
    "    \"frequency\": 4.0,\n",
    "    \"delay\": 1.0,\n",
    "    \"num_receivers\": 100,\n",
    "    \"receiver_locations\": spyro.create_transect((-0.10, 0.1), (-0.10, 0.9), 100),\n",
    "}\n",
    "model[\"timeaxis\"] = {\n",
    "    \"t0\": 0.0,  #  Initial time for event\n",
    "    \"tf\": 1.00,  # Final time for event\n",
    "    \"dt\": 0.001,\n",
    "    \"amplitude\": 1,  # the Ricker has an amplitude of 1.\n",
    "    \"nspool\": 100,  # how frequently to output solution to pvds\n",
    "    \"fspool\": 99999,  # how frequently to save solution to RAM\n",
    "}\n",
    "\n",
    "num_rec = model[\"acquisition\"][\"num_receivers\"]\n",
    "δs = np.linspace(0.1, 0.9, num_rec)\n",
    "X, Y = np.meshgrid(-0.1, δs)\n",
    "xs = np.vstack((X.flatten(), Y.flatten())).T\n"
   ]
  },
  {
   "cell_type": "code",
   "execution_count": 2,
   "metadata": {},
   "outputs": [
    {
     "name": "stdout",
     "output_type": "stream",
     "text": [
      "INFO: Distributing 1 shot(s) across 1 core(s). Each shot is using 1 cores\n",
      "  rank 0 on ensemble 0 owns 780 elements and can access 431 vertices\n"
     ]
    }
   ],
   "source": [
    "comm    = spyro.utils.mpi_init(model)\n",
    "mesh, V = spyro.io.read_mesh(model, comm)\n",
    "\n",
    "x, y = SpatialCoordinate(mesh)\n",
    "velocity = conditional(x > -0.5, 1.5, 1.5)\n",
    "vp   = Function(V, name=\"vp\").interpolate(velocity)\n",
    "\n"
   ]
  },
  {
   "cell_type": "code",
   "execution_count": 3,
   "metadata": {},
   "outputs": [],
   "source": [
    "sources = spyro.Sources(model, mesh, V, comm)\n",
    "tf   = model[\"timeaxis\"][\"tf\"] \n",
    "dt   = model[\"timeaxis\"][\"dt\"]\n",
    "freq = model[\"acquisition\"][\"frequency\"]\n",
    "\n",
    "wavelet = spyro.full_ricker_wavelet(dt=dt, tf=tf, freq=freq)\n"
   ]
  },
  {
   "cell_type": "code",
   "execution_count": 4,
   "metadata": {
    "scrolled": false
   },
   "outputs": [
    {
     "name": "stdout",
     "output_type": "stream",
     "text": [
      "Simulation time is:        0.0 seconds\n",
      "Simulation time is:      0.099 seconds\n",
      "Simulation time is:      0.199 seconds\n",
      "Simulation time is:      0.299 seconds\n",
      "Simulation time is:      0.399 seconds\n",
      "Simulation time is:      0.499 seconds\n",
      "Simulation time is:      0.599 seconds\n",
      "Simulation time is:      0.699 seconds\n",
      "Simulation time is:      0.799 seconds\n",
      "Simulation time is:      0.899 seconds\n",
      "---------------------------------------------------------------\n",
      "2.698394425751284e-05\n"
     ]
    }
   ],
   "source": [
    "control = Control(vp)\n",
    "\n",
    "usol_rec = []\n",
    "dJdm = Function(V)\n",
    "J_total =0\n",
    "usol_rec = []\n",
    "for sn in range(0,model[\"acquisition\"][\"num_sources\"]):\n",
    "    \n",
    "    p_true_rec = spyro.io.load_shots(model, comm, file_name='true_rec/true_rec_' + str(sn))\n",
    "    solver  = spyro.solver_AD(p_true_rec=p_true_rec,Calc_Jfunctional=True)\n",
    "    solver.obj_func = 0.\n",
    "    p_rec  = solver.forward_AD(model, mesh, comm, vp, sources, wavelet, xs, source_num=sn)\n",
    "    J = solver.obj_func\n",
    "    J_total += J\n",
    "    print(J)\n",
    "#     dJdm += compute_gradient(J, control)\n",
    "    \n",
    "    usol_rec.append(p_rec)\n",
    "\n"
   ]
  },
  {
   "cell_type": "code",
   "execution_count": 5,
   "metadata": {
    "scrolled": true
   },
   "outputs": [
    {
     "data": {
      "image/png": "[encoded data removed]",
      "text/plain": [
       "<Figure size 432x288 with 2 Axes>"
      ]
     },
     "metadata": {
      "needs_background": "light"
     },
     "output_type": "display_data"
    }
   ],
   "source": [
    "spyro.plots.plot_shots(\n",
    "            model,comm,p_rec,show=True,file_name=str(0 + 1),legend=True,save=False\n",
    "        )\n",
    "\n"
   ]
  },
  {
   "cell_type": "code",
   "execution_count": 9,
   "metadata": {},
   "outputs": [],
   "source": [
    "# fig, axes = plot.subplots()\n",
    "# axes.set_aspect('equal')\n",
    "# colors = firedrake.tripcolor(dJdm, axes=axes, shading='gouraud', cmap=\"jet\")\n",
    "\n",
    "# fig.colorbar(colors);\n",
    "# plot.savefig('grad.png',dpi=100,format='png')\n"
   ]
  },
  {
   "cell_type": "code",
   "execution_count": 7,
   "metadata": {},
   "outputs": [
    {
     "name": "stdout",
     "output_type": "stream",
     "text": [
      "Running Taylor test\n",
      "Computed residuals: [1.9436920524834205e-10, 4.8623133061002814e-11, 1.2159629924952688e-11, 3.0403881149272475e-12]\n",
      "Computed convergence rates: [1.9990849022474033, 1.9995435358734048, 1.999771916404329]\n"
     ]
    }
   ],
   "source": [
    "h = Function(V)\n",
    "h.vector()[:] = 0.1\n",
    "Jhat    = ReducedFunctional(J_total, control) \n",
    "conv_rate = taylor_test(Jhat, vp, h)"
   ]
  },
  {
   "cell_type": "code",
   "execution_count": 8,
   "metadata": {},
   "outputs": [],
   "source": [
    "water = np.where(vp.dat.data[:] < 1.51)\n",
    "dJdm.dat.data[water] = 0.0\n",
    "File(\"grad_ad.pvd\").write(dJdm)\n",
    "File(\"vel.pvd\").write(vp)"
   ]
  },
  {
   "cell_type": "code",
   "execution_count": null,
   "metadata": {},
   "outputs": [],
   "source": []
  }
 ],
 "metadata": {
  "kernelspec": {
   "display_name": "new_firedrak1",
   "language": "python",
   "name": "new_firedrak1"
  },
  "language_info": {
   "codemirror_mode": {
    "name": "ipython",
    "version": 3
   },
   "file_extension": ".py",
   "mimetype": "text/x-python",
   "name": "python",
   "nbconvert_exporter": "python",
   "pygments_lexer": "ipython3",
   "version": "3.8.5"
  }
 },
 "nbformat": 4,
 "nbformat_minor": 4
}
