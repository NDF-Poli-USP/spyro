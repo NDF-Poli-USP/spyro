{
 "cells": [
  {
   "cell_type": "markdown",
   "metadata": {},
   "source": [
    "# Basics\n",
    "\n",
    "This notebook will show some of the basic features of [Firedrake](https://www.firedrakeproject.org), which spyro is built upon and also go over the basics of spyro. These are the kind of things you'd need to know to before you begin to model anything. First, we'll show how to use some of the builtin meshing capabilities in Firedrake and then talk a little bit about how Firedrake represents things on meshes using their concept of Functions.\n",
    "\n",
    "## Meshes\n",
    "\n",
    "To perform any finite element simulation, you'll first need a mesh. In spyro, we make use a specific kind of mesh composed of simplices, which is just a fancy word for a mesh composed of triangles in two-dimensions and tetrahedrals in three-dimensions. These meshes offer a number of advantages to model complex geometries in a computational efficient manner by being able to largely vary element sizes. \n",
    "\n",
    "Firedrake provides a number of utility/helper functions to generate uniform simplical meshes. You can type\n",
    "```\n",
    "help(firedrake.utility_meshes)\n",
    "```\n",
    "\n",
    "For example, a uniform mesh of a rectangle ∈ [1 x 2] km with ~100 m sized elements would be created like so: "
   ]
  },
  {
   "cell_type": "code",
   "execution_count": null,
   "metadata": {},
   "outputs": [],
   "source": [
    "import firedrake\n",
    "nx, ny = 16, 16\n",
    "mesh = firedrake.UnitRectangleMesh(nx, ny)"
   ]
  },
  {
   "cell_type": "markdown",
   "metadata": {},
   "source": [
    "## Note on using external meshes \n",
    "\n",
    "2D/3D triangular meshes can also be created with external meshers such as [SeismicMesh](https://github.com/krober10nd/SeismicMesh) and the like and used within Firedrake. We'll go over how to use external meshing tools in a later tutorial. Mesh files should be preferably in the gmsh v2.2 or > version in ASCII text file format. A great way to convert mesh formats if via [meshio](https://pypi.org/project/meshio/). \n"
   ]
  },
  {
   "cell_type": "markdown",
   "metadata": {},
   "source": [
    "## Functions\n",
    "\n",
    "Scalar and vector-valued functions can be defined on meshes using the concept of functions in Firedrake. \n",
    "\n",
    "In order to create a `firedrake.function`, we first need to construct what is called a function space `V`. Since we already have a mesh, now we need to decide what element family and polynomial degree to use. In spyro, we exclusively rely on the element family consisting of continuous piecewise-polynomial functions in each simplex, which is abbreviated to CG for \"Continuous Galerkin\" or \"KMV\" for \"Kong-Mulder-Veldhuizen\". \n",
    "\n",
    "Next, we have to make an expression for the function and interpolate it to the function space `V`. The function `firedrake.SpatialCoordinate` returns two symbolic objects `x`, `y` for the coordinates of each point of the mesh. These symbols can be used to define expressions. "
   ]
  },
  {
   "cell_type": "code",
   "execution_count": null,
   "metadata": {},
   "outputs": [],
   "source": [
    "V = FunctionSpace(mesh, 'CG', 1)\n",
    "x, y = SpatialCoordinate(mesh)\n",
    "velocity = conditional(x < 0.5, 1.5, 3.0)\n",
    "vp = Function(V, name=\"velocity\").interpolate(velocity)\n",
    "File(\"simple.pvd\").write(vp)"
   ]
  },
  {
   "cell_type": "markdown",
   "metadata": {},
   "source": [
    "Here we've created a function called `vp` that has the value 1.5 on the left side of the domain (where x < 0.5 coordinate) and 3.0 on the right hand side (where x >= 0.5). We use the `firedrake.interpolate` to interpolate the symbolic expression onto the mesh and then we can write it to disk as a pvd file for visualization in ParaView. \n",
    "\n",
    "Note all functions have a method `write`, which enables the user to write the function to disk for analysis and visualization in [ParaView](https://www.paraview.org)."
   ]
  },
  {
   "cell_type": "markdown",
   "metadata": {},
   "source": [
    "## Conclusion\n",
    "\n",
    "Spyro uses `Firedrake.Functions` to implement solvers for seismic inversion problems. They can also be used to define input fields for simulations, if those fields have a simple analytical expression. In the next tutorial, we'll learn how to simulate a forward wave simulation on a synethic geometry with a point source and adding absorbing boundary conditions. \n",
    "\n",
    "To learn more about Firedrake, you can visit their [documentation](https://www.firedrakeproject.org/documentation.html) or check out some of the [demos](https://www.firedrakeproject.org/notebooks.html).\n"
   ]
  }
 ],
 "metadata": {
  "kernelspec": {
   "display_name": "Python 3",
   "language": "python",
   "name": "python3"
  },
  "language_info": {
   "codemirror_mode": {
    "name": "ipython",
    "version": 3
   },
   "file_extension": ".py",
   "mimetype": "text/x-python",
   "name": "python",
   "nbconvert_exporter": "python",
   "pygments_lexer": "ipython3",
   "version": "3.6.5"
  }
 },
 "nbformat": 4,
 "nbformat_minor": 2
}
