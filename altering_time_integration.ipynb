{
 "cells": [
  {
   "cell_type": "markdown",
   "metadata": {},
   "source": [
    "# Altering time discretization"
   ]
  },
  {
   "cell_type": "markdown",
   "metadata": {},
   "source": [
    "This tutorial was prepared by Alexandre Olender. If you have any questions, please email: olender@usp.br\n",
    "\n",
    "This tutorial is specifically tailored for developers of Spyro, an open-source Python library for modeling waves. Spyro provides a user-friendly interface built on top of Firedrake, making working with complex mathematical models easier. Before you begin this tutorial, it is recommended that you familiarize yourself either with Firedrake (https://www.firedrakeproject.org/documentation.html) or FEniCS (which uses the same domain-specific language called Unified Form Language - UFL). Firedrake is an automated system for the solution of partial differential equations using the finite element method (FEM). In addition to the prerequisite knowledge of Firedrake or FEniCS, a solid understanding of Python programming and basic concepts of numerical methods will be beneficial. \n",
    "\n",
    "This tutorial, however, does not delve into the details of finite element methods.\n",
    "\n",
    "By the end of this tutorial, you will have the skills to start implementing explicit time integration schemes in Spyro."
   ]
  },
  {
   "cell_type": "code",
   "execution_count": 1,
   "metadata": {},
   "outputs": [
    {
     "name": "stderr",
     "output_type": "stream",
     "text": [
      "firedrake:WARNING OMP_NUM_THREADS is not set or is set to a value greater than 1, we suggest setting OMP_NUM_THREADS=1 to improve performance\n"
     ]
    }
   ],
   "source": [
    "# Code in this cell enables plotting in the notebook\n",
    "%matplotlib inline\n",
    "import spyro"
   ]
  },
  {
   "cell_type": "markdown",
   "metadata": {},
   "source": [
    "## Wave class"
   ]
  },
  {
   "cell_type": "markdown",
   "metadata": {},
   "source": [
    "The `Wave` class in spyro provides a base class for any wave propagator."
   ]
  },
  {
   "cell_type": "code",
   "execution_count": 2,
   "metadata": {},
   "outputs": [
    {
     "name": "stdout",
     "output_type": "stream",
     "text": [
      "Help on class Wave in module spyro.solvers.wave:\n",
      "\n",
      "class Wave(spyro.io.model_parameters.Model_parameters)\n",
      " |  Wave(dictionary=None, comm=None)\n",
      " |  \n",
      " |  Base class for wave equation solvers.\n",
      " |  \n",
      " |  Attributes:\n",
      " |  -----------\n",
      " |  comm: MPI communicator\n",
      " |  \n",
      " |  initial_velocity_model: firedrake function\n",
      " |      Initial velocity model\n",
      " |  function_space: firedrake function space\n",
      " |      Function space for the wave equation\n",
      " |  current_time: float\n",
      " |      Current time of the simulation\n",
      " |  solver_parameters: Python object\n",
      " |      Contains solver parameters\n",
      " |  real_shot_record: firedrake function\n",
      " |      Real shot record\n",
      " |  wavelet: list of floats\n",
      " |      Values at timesteps of wavelet used in the simulation\n",
      " |  mesh: firedrake mesh\n",
      " |      Mesh used in the simulation (2D or 3D)\n",
      " |  mesh_z: symbolic coordinate z of the mesh object\n",
      " |  mesh_x: symbolic coordinate x of the mesh object\n",
      " |  mesh_y: symbolic coordinate y of the mesh object\n",
      " |  sources: Sources object\n",
      " |      Contains information about sources\n",
      " |  receivers: Receivers object\n",
      " |      Contains information about receivers\n",
      " |  \n",
      " |  Methods:\n",
      " |  --------\n",
      " |  set_mesh: sets or calculates new mesh\n",
      " |  set_solver_parameters: sets new or default solver parameters\n",
      " |  get_spatial_coordinates: returns spatial coordinates of mesh\n",
      " |  set_initial_velocity_model: sets initial velocity model\n",
      " |  get_and_set_maximum_dt: calculates and/or sets maximum dt\n",
      " |  get_mass_matrix_diagonal: returns diagonal of mass matrix\n",
      " |  set_last_solve_as_real_shot_record: sets last solve as real shot record\n",
      " |  \n",
      " |  Method resolution order:\n",
      " |      Wave\n",
      " |      spyro.io.model_parameters.Model_parameters\n",
      " |      builtins.object\n",
      " |  \n",
      " |  Methods defined here:\n",
      " |  \n",
      " |  __init__(self, dictionary=None, comm=None)\n",
      " |      Wave object solver. Contains both the forward solver\n",
      " |      and gradient calculator methods.\n",
      " |      \n",
      " |      Parameters:\n",
      " |      -----------\n",
      " |      comm: MPI communicator\n",
      " |      \n",
      " |      model_parameters: Python object\n",
      " |          Contains model parameters\n",
      " |  \n",
      " |  forward_solve(self)\n",
      " |      Solves the forward problem.\n",
      " |  \n",
      " |  get_and_set_maximum_dt(self, fraction=0.7, estimate_max_eigenvalue=False)\n",
      " |      Calculates and sets the maximum stable time step (dt) for the wave solver.\n",
      " |      \n",
      " |      Args:\n",
      " |          fraction (float, optional):\n",
      " |              Fraction of the estimated time step to use. Defaults to 0.7.\n",
      " |          estimate_max_eigenvalue (bool, optional):\n",
      " |              Whether to estimate the maximum eigenvalue. Defaults to False.\n",
      " |      \n",
      " |      Returns:\n",
      " |          float: The calculated maximum time step (dt).\n",
      " |  \n",
      " |  get_mass_matrix_diagonal(self)\n",
      " |      Builds a section of the mass matrix for debugging purposes.\n",
      " |  \n",
      " |  get_spatial_coordinates(self)\n",
      " |  \n",
      " |  matrix_building(self)\n",
      " |      Builds the matrix for the forward problem.\n",
      " |  \n",
      " |  set_initial_velocity_model(self, constant=None, conditional=None, velocity_model_function=None, expression=None, new_file=None, output=False, dg_velocity_model=True)\n",
      " |      Method to define new user velocity model or file. It is optional.\n",
      " |      \n",
      " |      Parameters:\n",
      " |      -----------\n",
      " |      conditional:  (optional)\n",
      " |          Firedrake conditional object.\n",
      " |      velocity_model_function: Firedrake function (optional)\n",
      " |          Firedrake function to be used as the velocity model. Has to be in the same function space as the object.\n",
      " |      expression:  str (optional)\n",
      " |          If you use an expression, you can use the following variables:\n",
      " |          x, y, z, pi, tanh, sqrt. Example: \"2.0 + 0.5*tanh((x-2.0)/0.1)\".\n",
      " |          It will be interpoalte into either the same function space as the object or a DG0 function space\n",
      " |          in the same mesh.\n",
      " |      new_file:  str (optional)\n",
      " |          Name of the file containing the velocity model.\n",
      " |      output:  bool (optional)\n",
      " |          If True, outputs the velocity model to a pvd file for visualization.\n",
      " |  \n",
      " |  set_last_solve_as_real_shot_record(self)\n",
      " |  \n",
      " |  set_mesh(self, user_mesh=None, mesh_parameters=None)\n",
      " |      Set the mesh for the solver.\n",
      " |      \n",
      " |      Args:\n",
      " |          user_mesh (optional): User-defined mesh. Defaults to None.\n",
      " |          mesh_parameters (optional): Parameters for generating a mesh. Defaults to None.\n",
      " |  \n",
      " |  set_solver_parameters(self, parameters=None)\n",
      " |      Set the solver parameters.\n",
      " |      \n",
      " |      Args:\n",
      " |          parameters (dict): A dictionary containing the solver parameters.\n",
      " |      \n",
      " |      Returns:\n",
      " |          None\n",
      " |  \n",
      " |  ----------------------------------------------------------------------\n",
      " |  Methods inherited from spyro.io.model_parameters.Model_parameters:\n",
      " |  \n",
      " |  get_mesh(self)\n",
      " |      Reads in an external mesh and scatters it between cores.\n",
      " |      \n",
      " |      Returns\n",
      " |      -------\n",
      " |      mesh: Firedrake.Mesh object\n",
      " |          The distributed mesh across `ens_comm`\n",
      " |  \n",
      " |  get_wavelet(self)\n",
      " |      Returns a wavelet based on the source type.\n",
      " |      \n",
      " |      Returns\n",
      " |      -------\n",
      " |      wavelet : numpy.ndarray\n",
      " |          Wavelet values in each time step to be used in the simulation.\n",
      " |  \n",
      " |  ----------------------------------------------------------------------\n",
      " |  Data descriptors inherited from spyro.io.model_parameters.Model_parameters:\n",
      " |  \n",
      " |  __dict__\n",
      " |      dictionary for instance variables (if defined)\n",
      " |  \n",
      " |  __weakref__\n",
      " |      list of weak references to the object (if defined)\n",
      "\n"
     ]
    }
   ],
   "source": [
    "help(spyro.Wave)"
   ]
  },
  {
   "cell_type": "markdown",
   "metadata": {},
   "source": [
    "It is highly recommended that every wave solver inherit this class. Two of the methods present in it are abstract methods. This means that any concrete class derived from it needs to define them. They are the matrix_building and the forward_solve methods. The matrix_building method is not the subject of this tutorial; however, we have to consider its outputs. The name itself is counterintuitive since it does not necessarily have to build a matrix. However, we will momentarily deal with it as having matrices for teaching purposes. Spyro focuses on solving time-dependent wave equations. After doing the finite element-based spatial discretization, we should have a time-dependent equation with something analogous to the following:\n",
    "\n",
    "$A_1 \\ddot{Q} + A_2 \\dot{Q} + A_3 Q = F$\n",
    "\n",
    "For most cases in seismic imaging, we limit ourselves to explicit time integration schemes. Several papers have examined their advantages compared to implicit schemes when dealing with PDEs encountered for seismic imaging. However, this is not a rigorous rule. Studying new implicit schemes is an exciting area of research with various promising developments. We do limit our scope in this tutorial to only explicit schemes. In these schemes, we can discretize the above equation in time to make a result at a given timestep an explicit function of the previous ones. In other words, the result at a timestep n+1 can be written as:\n",
    "\n",
    "$Q_{n+1} = M^{-1}(B_0 Q_{n} + B_1 Q_{n-1} + B_2 Q_{n-2} + ... + B_n)$"
   ]
  },
  {
   "cell_type": "markdown",
   "metadata": {},
   "source": [
    "Not every previous $Q$ solution at a timestep needs to be used, since every variable we store increases our memory storage cost. For this tutorial we will focus on an integration scheme that only saves $Q_n$ and $Q_{n-1}$, therefore our equation above has to take the form:\n",
    "\n",
    "$Q_{n+1} = M^{-1}(B_0 Q_{n} + B_1 Q_{n-1} + B_2)$"
   ]
  },
  {
   "cell_type": "markdown",
   "metadata": {},
   "source": [
    "Therefore, our time marching scheme has to apply a solver operator, where the previous values for $Q$ are known and calculate $Q_{n+1}$. Afterward, $Q_n$ and $Q_{n-1}$ have to be updated. I have used $Q$ instead of $u$ or $p$ for the desired time-dependent variable we are calculating for, because our PDE can actually be a system of equations with various time-dependent auxiliariary variables. In those cases, we use a mixed-function space, and the pressure-related space has to be first."
   ]
  },
  {
   "cell_type": "markdown",
   "metadata": {},
   "source": [
    "Let us build an acoustic wave object. For simplicity, I will use a rectangle example (see premade useful examples tutorial)."
   ]
  },
  {
   "cell_type": "code",
   "execution_count": 3,
   "metadata": {},
   "outputs": [
    {
     "name": "stdout",
     "output_type": "stream",
     "text": [
      "Parallelism type: automatic\n"
     ]
    },
    {
     "name": "stderr",
     "output_type": "stream",
     "text": [
      "/home/alexandre/Development/tutorials/spyro-1/spyro/solvers/wave.py:85: UserWarning: No mesh file, Firedrake mesh will be automatically generated.\n",
      "  warnings.warn(\n"
     ]
    }
   ],
   "source": [
    "dictionary = {}\n",
    "dictionary[\"mesh\"] = {\n",
    "    \"Lz\": 3.0,  # depth in km - always positive\n",
    "    \"Lx\": 4.0,  # width in km - always positive\n",
    "    \"h\": 0.1,  # mesh size in km\n",
    "}\n",
    "dictionary[\"absorving_boundary_conditions\"] = {\n",
    "    \"status\": False,\n",
    "    \"pad_length\": 0.,\n",
    "}\n",
    "dictionary[\"acquisition\"] = {\n",
    "    \"source_locations\": [(-0.1, 2.0)],\n",
    "    \"receiver_locations\": spyro.create_transect((-1.0, 0.0), (-1.0, 4.0), 20),\n",
    "}\n",
    "Wave_obj = spyro.examples.Rectangle_acoustic(dictionary=dictionary)\n",
    "layer_values = [1.5, 2.5, 3.5]\n",
    "z_switches = [-1.0, -2.0]\n",
    "Wave_obj.multiple_layer_velocity_model(z_switches, layer_values)\n",
    "\n",
    "# to visualize"
   ]
  },
  {
   "cell_type": "code",
   "execution_count": 4,
   "metadata": {},
   "outputs": [
    {
     "name": "stdout",
     "output_type": "stream",
     "text": [
      "File name model.png\n"
     ]
    },
    {
     "data": {
      "image/png": "[encoded data removed]",
      "text/plain": [
       "<Figure size 900x900 with 2 Axes>"
      ]
     },
     "metadata": {},
     "output_type": "display_data"
    }
   ],
   "source": [
    "spyro.plots.plot_model(Wave_obj, show=True, flip_axis=False)"
   ]
  },
  {
   "cell_type": "markdown",
   "metadata": {},
   "source": [
    "Before propagating our wave, we have to define the velocity model for the solver operator and construct it."
   ]
  },
  {
   "cell_type": "code",
   "execution_count": 5,
   "metadata": {},
   "outputs": [],
   "source": [
    "Wave_obj._get_initial_velocity_model()\n",
    "Wave_obj.c = Wave_obj.initial_velocity_model\n",
    "Wave_obj.matrix_building()"
   ]
  },
  {
   "cell_type": "markdown",
   "metadata": {},
   "source": [
    "The `_get_initial_velocity_model` is not actually necessary for this specific case (where the velocity model is already created in the object) and does not do anything in this case. However, it needs to be called, because in larger cases the velocity model is only loaded, by this method, into our function space right before it is needed (to conserve memory). Spyro will build the solver object based on the velocity model that the `c` attribute points to. This can be diferent than the `initial_velocity_model`, especially in inversion problems."
   ]
  },
  {
   "cell_type": "markdown",
   "metadata": {},
   "source": [
    "Before we propagate our wave, we can now calculate the maximum upper bound of a stable timestep based on the spectral radius of our mass matrix. The actual maximum stable timestep can vary depending on the discretization used. If you are using lumped elements you can estimate the spectral radius to reduce total runtime of this calculation. "
   ]
  },
  {
   "cell_type": "code",
   "execution_count": 7,
   "metadata": {},
   "outputs": [
    {
     "name": "stdout",
     "output_type": "stream",
     "text": [
      "Timstep used: 0.0014619883040935672\n"
     ]
    }
   ],
   "source": [
    "Wave_obj.get_and_set_maximum_dt(fraction=0.8, estimate_max_eigenvalue=True)\n",
    "print(f\"Timstep used: {Wave_obj.dt}\")"
   ]
  },
  {
   "cell_type": "markdown",
   "metadata": {},
   "source": [
    "We can now focus on the time discretization. The source_id variable illustrates which sources we will be propagating. Inside the forward_solve method there is a wrapper to distribute them while taking into account our parallelism strategy. If you are making a new method you only have to copy that wrapper and put source_id as an input to your method."
   ]
  },
  {
   "cell_type": "code",
   "execution_count": 9,
   "metadata": {},
   "outputs": [],
   "source": [
    "import firedrake as fire\n",
    "source_id = 0"
   ]
  },
  {
   "cell_type": "markdown",
   "metadata": {},
   "source": [
    "Here we just get the variables we will use from the corresponding object."
   ]
  },
  {
   "cell_type": "code",
   "execution_count": 15,
   "metadata": {},
   "outputs": [],
   "source": [
    "excitations = Wave_obj.sources\n",
    "excitations.current_source = source_id\n",
    "receivers = Wave_obj.receivers\n",
    "\n",
    "output_filename = \"forward_time_scheme_tutorial.pvd\"\n",
    "output = fire.File(output_filename)\n",
    "\n",
    "final_time = Wave_obj.final_time\n",
    "dt = Wave_obj.dt\n",
    "t = Wave_obj.current_time"
   ]
  },
  {
   "cell_type": "markdown",
   "metadata": {},
   "source": [
    "The next code is very simple, but a common source of error. Please calculate the number of timesteps based on final time and current time. Don't forget to add one when calculating the number of timesteps!"
   ]
  },
  {
   "cell_type": "code",
   "execution_count": 10,
   "metadata": {},
   "outputs": [],
   "source": [
    "nt = int((final_time - t) / dt) + 1  # ANSWER"
   ]
  },
  {
   "cell_type": "markdown",
   "metadata": {},
   "source": [
    "Firedrake stores data on Function objects. This is where we will save our solutions. u_nm1 and u_n are also functions in the same function space, that were previously defined. If you want to use more previous timesteps you have to add them too. To save space we will save the whole solution field of our pressure variable only for the necessary steps used in gradient calculation, with u_sol."
   ]
  },
  {
   "cell_type": "code",
   "execution_count": 11,
   "metadata": {},
   "outputs": [],
   "source": [
    "X = fire.Function(Wave_obj.function_space)\n",
    "\n",
    "u_nm1 = Wave_obj.u_nm1\n",
    "u_n = Wave_obj.u_n\n",
    "u_np1 = fire.Function(Wave_obj.function_space)\n",
    "\n",
    "usol = [\n",
    "    fire.Function(Wave_obj.function_space, name=\"pressure\")\n",
    "    for t in range(nt)\n",
    "    if t % Wave_obj.gradient_sampling_frequency == 0\n",
    "]"
   ]
  },
  {
   "cell_type": "markdown",
   "metadata": {},
   "source": [
    "Our system has a right hand that can be calculated (based on the previous time-steps). Here we save a function to hold those values (`Function` objects in Firedrake have values and are always initialized with zeros). The rhs is actually a symbolic object that calcutes our right hand side. Everytime we change a variable in it we have to reassemble it."
   ]
  },
  {
   "cell_type": "code",
   "execution_count": 12,
   "metadata": {},
   "outputs": [],
   "source": [
    "rhs_forcing = fire.Function(Wave_obj.function_space)\n",
    "usol_recv = []\n",
    "save_step = 0\n",
    "B = Wave_obj.B\n",
    "rhs = Wave_obj.rhs"
   ]
  },
  {
   "cell_type": "markdown",
   "metadata": {},
   "source": [
    "The apply_source method projects our time-dependent source into our function space and saves the values in the relevant degrees of freedom. The following code does not have the update of the rpevious time steps. Please add them."
   ]
  },
  {
   "cell_type": "code",
   "execution_count": 13,
   "metadata": {},
   "outputs": [],
   "source": [
    "for step in range(nt):\n",
    "    rhs_forcing.assign(0.0)\n",
    "    B = fire.assemble(rhs, tensor=B)\n",
    "    f = excitations.apply_source(rhs_forcing, Wave_obj.wavelet[step])\n",
    "    B0 = B.sub(0)\n",
    "    B0 += f\n",
    "    Wave_obj.solver.solve(X, B)\n",
    "\n",
    "    u_np1.assign(X)\n",
    "\n",
    "    usol_recv.append(\n",
    "        Wave_obj.receivers.interpolate(u_np1.dat.data_ro_with_halos[:])\n",
    "    )\n",
    "\n",
    "    if step % Wave_obj.gradient_sampling_frequency == 0:\n",
    "        usol[save_step].assign(u_np1)\n",
    "        save_step += 1\n",
    "\n",
    "    if (step - 1) % Wave_obj.output_frequency == 0:\n",
    "        assert (\n",
    "            fire.norm(u_n) < 1\n",
    "        ), \"Numerical instability. Try reducing dt or building the \\\n",
    "            mesh differently\"\n",
    "        if Wave_obj.forward_output:\n",
    "            output.write(u_n, time=t, name=\"Pressure\")\n",
    "\n",
    "    u_nm1.assign(u_n)  # ANSWER\n",
    "    u_n.assign(u_np1)  # ANSWER\n",
    "\n",
    "    t = step * float(dt)\n"
   ]
  },
  {
   "cell_type": "code",
   "execution_count": 14,
   "metadata": {},
   "outputs": [],
   "source": [
    "Wave_obj.current_time = t\n",
    "\n",
    "Wave_obj.receivers_output = usol_recv\n",
    "\n",
    "Wave_obj.forward_solution = usol\n",
    "Wave_obj.forward_solution_receivers = usol_recv"
   ]
  }
 ],
 "metadata": {
  "kernelspec": {
   "display_name": "firedrake",
   "language": "python",
   "name": "python3"
  },
  "language_info": {
   "codemirror_mode": {
    "name": "ipython",
    "version": 3
   },
   "file_extension": ".py",
   "mimetype": "text/x-python",
   "name": "python",
   "nbconvert_exporter": "python",
   "pygments_lexer": "ipython3",
   "version": "3.8.10"
  }
 },
 "nbformat": 4,
 "nbformat_minor": 2
}
