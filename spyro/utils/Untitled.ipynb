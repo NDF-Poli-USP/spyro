{
 "cells": [
  {
   "cell_type": "code",
   "execution_count": 1,
   "id": "87e66b19",
   "metadata": {},
   "outputs": [
    {
     "name": "stderr",
     "output_type": "stream",
     "text": [
      "/home/bruno/libs/firedrake/src/firedrake/firedrake/randomfunctiongen.py:358: UserWarning: Found unknown attribute: Falling back to numpy.random.PCG64DXSM, but Firedrake might need to wrap this attribute.\n",
      "  warnings.warn(\"Found unknown attribute: Falling back to numpy.random.%s, but Firedrake might need to wrap this attribute.\" % module_attr)\n",
      "firedrake:WARNING OMP_NUM_THREADS is not set or is set to a value greater than 1, we suggest setting OMP_NUM_THREADS=1 to improve performance\n"
     ]
    }
   ],
   "source": [
    "import numpy as np\n",
    "from scipy.interpolate import griddata\n",
    "import copy\n",
    "import meshio\n",
    "import SeismicMesh\n",
    "import firedrake as fire\n",
    "import spyro"
   ]
  },
  {
   "cell_type": "code",
   "execution_count": 2,
   "id": "07364c8b",
   "metadata": {},
   "outputs": [],
   "source": [
    "def cells_per_wavelength(method, degree, dimension):\n",
    "    cell_per_wavelength_dictionary = {\n",
    "        'kmv2tri': 7.02,\n",
    "        'kmv3tri': 3.70,\n",
    "        'kmv4tri': 2.67,\n",
    "        'kmv5tri': 2.03,\n",
    "        'kmv2tet': 6.12,\n",
    "        'kmv3tet': 3.72,\n",
    "    }\n",
    "\n",
    "    if dimension == 2 and (method == 'KMV' or method == 'CG'):\n",
    "        cell_type = 'tri'\n",
    "    if dimension == 3 and (method == 'KMV' or method == 'CG'):\n",
    "        cell_type = 'tet'\n",
    "\n",
    "    key = method.lower()+str(degree)+cell_type\n",
    "    \n",
    "    return cell_per_wavelength_dictionary.get(key)\n"
   ]
  },
  {
   "cell_type": "code",
   "execution_count": 3,
   "id": "1853d911",
   "metadata": {},
   "outputs": [],
   "source": [
    "def get_domain(model, units):\n",
    "    Lz = model[\"mesh\"]['Lz']\n",
    "    lz = model['BCs']['lz']\n",
    "    Lx = model[\"mesh\"]['Lx']\n",
    "    lx = model['BCs']['lx']\n",
    "    if units == 'km-s':\n",
    "        Lz *= 1000\n",
    "        lz *= 1000\n",
    "        Lx *= 1000\n",
    "        lx *= 1000\n",
    "\n",
    "    Real_Lz = Lz + lz\n",
    "    Real_Lx = Lx + 2*lx\n",
    "\n",
    "    if model[\"opts\"][\"dimension\"] == 2:\n",
    "        #bbox = (-Real_Lz, 0.0, -lx, Real_Lx-lx)\n",
    "        bbox = (-Lz, 0.0, 0.0, Lx)\n",
    "        domain = SeismicMesh.Rectangle(bbox)\n",
    "    elif model[\"opts\"][\"dimension\"] == 3:\n",
    "        Ly = model[\"mesh\"]['Ly']\n",
    "        ly= model['BCs']['ly']\n",
    "        Real_Ly = Ly + 2*ly\n",
    "\n",
    "        bbox = (-Real_Lz, 0.0, -lx, Real_Lx-lx, -ly, Real_Ly-ly)\n",
    "        domain = SeismicMesh.Cube(bbox)\n",
    "\n",
    "    return domain, bbox"
   ]
  },
  {
   "cell_type": "code",
   "execution_count": 4,
   "id": "c1c07b73",
   "metadata": {},
   "outputs": [],
   "source": [
    "def build_mesh(model, comm, output_filename, vp_filename, units = 'km-s', see_mesh = True):\n",
    "    dimension = model[\"opts\"][\"dimension\"]\n",
    "    method =model[\"opts\"][\"method\"]\n",
    "    degree =model[\"opts\"][\"degree\"]\n",
    "    frequency = model[\"acquisition\"]['frequency']\n",
    "    domain_pad = model[\"BCs\"][\"lz\"]\n",
    "\n",
    "    if units == 'km-s':\n",
    "        minimum_mesh_velocity = 1.429\n",
    "    else:\n",
    "        minimum_mesh_velocity = 1429\n",
    "\n",
    "    C = cells_per_wavelength(method, degree, dimension)\n",
    "    hmin = minimum_mesh_velocity/(C*frequency)\n",
    "\n",
    "    domain, bbox = get_domain(model, units = units)\n",
    "    \n",
    "    if units == 'km-s':\n",
    "        hmin *= 1000\n",
    "        domain_pad *= 1000\n",
    "\n",
    "\n",
    "    ef = SeismicMesh.get_sizing_function_from_segy(\n",
    "        vp_filename,\n",
    "        bbox,\n",
    "        hmin=hmin,\n",
    "        wl=C,\n",
    "        freq=frequency,\n",
    "        grade=0.15,\n",
    "        domain_pad=domain_pad,\n",
    "        pad_style=\"edge\",\n",
    "        units = units,\n",
    "    )\n",
    "\n",
    "    if comm.comm.rank == 0:\n",
    "        # Creating rectangular mesh\n",
    "        points, cells = SeismicMesh.generate_mesh(\n",
    "            domain=domain, \n",
    "            edge_length=ef, \n",
    "            verbose = 0, \n",
    "            mesh_improvement=False \n",
    "            )\n",
    "\n",
    "        print('entering spatial rank 0 after mesh generation')\n",
    "\n",
    "        meshio.write_points_cells(output_filename,\n",
    "            points/ 1000,[(\"triangle\", cells)],\n",
    "            file_format=\"gmsh22\", \n",
    "            binary = False\n",
    "        )\n",
    "        \n",
    "        meshfname = copy.deepcopy(output_filename)\n",
    "        \n",
    "        if see_mesh == True:\n",
    "            output_filename =output_filename[:-4]\n",
    "            meshio.write_points_cells(output_filename+\".vtk\",\n",
    "                points/ 1000,[(\"triangle\", cells)],\n",
    "                file_format=\"vtk\"\n",
    "            )\n",
    "\n",
    "    mesh = fire.Mesh(\n",
    "            meshfname,\n",
    "            comm=comm.comm,\n",
    "            distribution_parameters={\n",
    "                \"overlap_type\": (fire.DistributedMeshOverlapType.NONE, 0)\n",
    "            },\n",
    "        )\n",
    "    \n",
    "    return mesh"
   ]
  },
  {
   "cell_type": "code",
   "execution_count": 5,
   "id": "f5c4db0f",
   "metadata": {},
   "outputs": [],
   "source": [
    "from mpi4py import MPI\n",
    "comm = MPI.COMM_WORLD\n",
    "\n",
    "model = \"velocity_models/marmousi_exact.hdf5\"\n",
    "fname = \"velocity_models/vp_marmousi-ii.segy\""
   ]
  },
  {
   "cell_type": "code",
   "execution_count": 6,
   "id": "f1083484",
   "metadata": {},
   "outputs": [
    {
     "ename": "TypeError",
     "evalue": "string indices must be integers",
     "output_type": "error",
     "traceback": [
      "\u001b[0;31m---------------------------------------------------------------------------\u001b[0m",
      "\u001b[0;31mTypeError\u001b[0m                                 Traceback (most recent call last)",
      "\u001b[0;32m<ipython-input-6-1112da302140>\u001b[0m in \u001b[0;36m<module>\u001b[0;34m\u001b[0m\n\u001b[0;32m----> 1\u001b[0;31m \u001b[0mbuild_mesh\u001b[0m\u001b[0;34m(\u001b[0m\u001b[0mmodel\u001b[0m\u001b[0;34m,\u001b[0m\u001b[0mcomm\u001b[0m\u001b[0;34m,\u001b[0m\u001b[0;34m\"teste\"\u001b[0m\u001b[0;34m,\u001b[0m\u001b[0mfname\u001b[0m\u001b[0;34m,\u001b[0m\u001b[0;32mTrue\u001b[0m\u001b[0;34m)\u001b[0m\u001b[0;34m\u001b[0m\u001b[0;34m\u001b[0m\u001b[0m\n\u001b[0m",
      "\u001b[0;32m<ipython-input-4-f79d3943b2d1>\u001b[0m in \u001b[0;36mbuild_mesh\u001b[0;34m(model, comm, output_filename, vp_filename, units, see_mesh)\u001b[0m\n\u001b[1;32m      1\u001b[0m \u001b[0;32mdef\u001b[0m \u001b[0mbuild_mesh\u001b[0m\u001b[0;34m(\u001b[0m\u001b[0mmodel\u001b[0m\u001b[0;34m,\u001b[0m \u001b[0mcomm\u001b[0m\u001b[0;34m,\u001b[0m \u001b[0moutput_filename\u001b[0m\u001b[0;34m,\u001b[0m \u001b[0mvp_filename\u001b[0m\u001b[0;34m,\u001b[0m \u001b[0munits\u001b[0m \u001b[0;34m=\u001b[0m \u001b[0;34m'km-s'\u001b[0m\u001b[0;34m,\u001b[0m \u001b[0msee_mesh\u001b[0m \u001b[0;34m=\u001b[0m \u001b[0;32mTrue\u001b[0m\u001b[0;34m)\u001b[0m\u001b[0;34m:\u001b[0m\u001b[0;34m\u001b[0m\u001b[0;34m\u001b[0m\u001b[0m\n\u001b[0;32m----> 2\u001b[0;31m     \u001b[0mdimension\u001b[0m \u001b[0;34m=\u001b[0m \u001b[0mmodel\u001b[0m\u001b[0;34m[\u001b[0m\u001b[0;34m\"opts\"\u001b[0m\u001b[0;34m]\u001b[0m\u001b[0;34m[\u001b[0m\u001b[0;34m\"dimension\"\u001b[0m\u001b[0;34m]\u001b[0m\u001b[0;34m\u001b[0m\u001b[0;34m\u001b[0m\u001b[0m\n\u001b[0m\u001b[1;32m      3\u001b[0m     \u001b[0mmethod\u001b[0m \u001b[0;34m=\u001b[0m\u001b[0mmodel\u001b[0m\u001b[0;34m[\u001b[0m\u001b[0;34m\"opts\"\u001b[0m\u001b[0;34m]\u001b[0m\u001b[0;34m[\u001b[0m\u001b[0;34m\"method\"\u001b[0m\u001b[0;34m]\u001b[0m\u001b[0;34m\u001b[0m\u001b[0;34m\u001b[0m\u001b[0m\n\u001b[1;32m      4\u001b[0m     \u001b[0mdegree\u001b[0m \u001b[0;34m=\u001b[0m\u001b[0mmodel\u001b[0m\u001b[0;34m[\u001b[0m\u001b[0;34m\"opts\"\u001b[0m\u001b[0;34m]\u001b[0m\u001b[0;34m[\u001b[0m\u001b[0;34m\"degree\"\u001b[0m\u001b[0;34m]\u001b[0m\u001b[0;34m\u001b[0m\u001b[0;34m\u001b[0m\u001b[0m\n\u001b[1;32m      5\u001b[0m     \u001b[0mfrequency\u001b[0m \u001b[0;34m=\u001b[0m \u001b[0mmodel\u001b[0m\u001b[0;34m[\u001b[0m\u001b[0;34m\"acquisition\"\u001b[0m\u001b[0;34m]\u001b[0m\u001b[0;34m[\u001b[0m\u001b[0;34m'frequency'\u001b[0m\u001b[0;34m]\u001b[0m\u001b[0;34m\u001b[0m\u001b[0;34m\u001b[0m\u001b[0m\n",
      "\u001b[0;31mTypeError\u001b[0m: string indices must be integers"
     ]
    }
   ],
   "source": [
    "build_mesh(model,comm,\"teste\",fname,True)"
   ]
  }
 ],
 "metadata": {
  "kernelspec": {
   "display_name": "firedrake",
   "language": "python",
   "name": "firedrake"
  },
  "language_info": {
   "codemirror_mode": {
    "name": "ipython",
    "version": 3
   },
   "file_extension": ".py",
   "mimetype": "text/x-python",
   "name": "python",
   "nbconvert_exporter": "python",
   "pygments_lexer": "ipython3",
   "version": "3.9.5"
  }
 },
 "nbformat": 4,
 "nbformat_minor": 5
}
