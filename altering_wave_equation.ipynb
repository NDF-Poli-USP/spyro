{
 "cells": [
  {
   "cell_type": "markdown",
   "metadata": {},
   "source": [
    "# Altering variational equation"
   ]
  },
  {
   "cell_type": "markdown",
   "metadata": {},
   "source": [
    "This tutorial was prepared by Alexandre Olender, using code made by Dr. Thiago Dias dos Santos. If you have any questions, please email: olender@usp.br\n",
    "\n",
    "This tutorial is specifically tailored for developers of Spyro, an open-source Python library for modeling waves. Spyro provides a user-friendly interface built on top of Firedrake, making working with complex mathematical models easier. Before you begin this tutorial, it is recommended that you familiarize yourself either with Firedrake (https://www.firedrakeproject.org/documentation.html) or FEniCS (which uses the same domain-specific language called Unified Form Language - UFL). Firedrake is an automated system for the solution of partial differential equations using the finite element method (FEM). In addition to the prerequisite knowledge of Firedrake or FEniCS, a solid understanding of Python programming and basic concepts of numerical methods will be beneficial.  We also recommend previous knowleddege of finite element methods."
   ]
  },
  {
   "cell_type": "code",
   "execution_count": 2,
   "metadata": {},
   "outputs": [
    {
     "name": "stderr",
     "output_type": "stream",
     "text": [
      "firedrake:WARNING OMP_NUM_THREADS is not set or is set to a value greater than 1, we suggest setting OMP_NUM_THREADS=1 to improve performance\n"
     ]
    }
   ],
   "source": [
    "# Code in this cell enables plotting in the notebook\n",
    "%matplotlib inline\n",
    "import spyro"
   ]
  },
  {
   "cell_type": "markdown",
   "metadata": {},
   "source": [
    "## Wave class"
   ]
  },
  {
   "cell_type": "markdown",
   "metadata": {},
   "source": [
    "The `Wave` class in spyro provides a base class for any wave propagator."
   ]
  },
  {
   "cell_type": "code",
   "execution_count": 3,
   "metadata": {},
   "outputs": [
    {
     "name": "stdout",
     "output_type": "stream",
     "text": [
      "Help on class Wave in module spyro.solvers.wave:\n",
      "\n",
      "class Wave(spyro.io.model_parameters.Model_parameters)\n",
      " |  Wave(dictionary=None, comm=None)\n",
      " |  \n",
      " |  Base class for wave equation solvers.\n",
      " |  \n",
      " |  Attributes:\n",
      " |  -----------\n",
      " |  comm: MPI communicator\n",
      " |  \n",
      " |  initial_velocity_model: firedrake function\n",
      " |      Initial velocity model\n",
      " |  function_space: firedrake function space\n",
      " |      Function space for the wave equation\n",
      " |  current_time: float\n",
      " |      Current time of the simulation\n",
      " |  solver_parameters: Python object\n",
      " |      Contains solver parameters\n",
      " |  real_shot_record: firedrake function\n",
      " |      Real shot record\n",
      " |  wavelet: list of floats\n",
      " |      Values at timesteps of wavelet used in the simulation\n",
      " |  mesh: firedrake mesh\n",
      " |      Mesh used in the simulation (2D or 3D)\n",
      " |  mesh_z: symbolic coordinate z of the mesh object\n",
      " |  mesh_x: symbolic coordinate x of the mesh object\n",
      " |  mesh_y: symbolic coordinate y of the mesh object\n",
      " |  sources: Sources object\n",
      " |      Contains information about sources\n",
      " |  receivers: Receivers object\n",
      " |      Contains information about receivers\n",
      " |  \n",
      " |  Methods:\n",
      " |  --------\n",
      " |  set_mesh: sets or calculates new mesh\n",
      " |  set_solver_parameters: sets new or default solver parameters\n",
      " |  get_spatial_coordinates: returns spatial coordinates of mesh\n",
      " |  set_initial_velocity_model: sets initial velocity model\n",
      " |  get_and_set_maximum_dt: calculates and/or sets maximum dt\n",
      " |  get_mass_matrix_diagonal: returns diagonal of mass matrix\n",
      " |  set_last_solve_as_real_shot_record: sets last solve as real shot record\n",
      " |  \n",
      " |  Method resolution order:\n",
      " |      Wave\n",
      " |      spyro.io.model_parameters.Model_parameters\n",
      " |      builtins.object\n",
      " |  \n",
      " |  Methods defined here:\n",
      " |  \n",
      " |  __init__(self, dictionary=None, comm=None)\n",
      " |      Wave object solver. Contains both the forward solver\n",
      " |      and gradient calculator methods.\n",
      " |      \n",
      " |      Parameters:\n",
      " |      -----------\n",
      " |      comm: MPI communicator\n",
      " |      \n",
      " |      model_parameters: Python object\n",
      " |          Contains model parameters\n",
      " |  \n",
      " |  forward_solve(self)\n",
      " |      Solves the forward problem.\n",
      " |  \n",
      " |  get_and_set_maximum_dt(self, fraction=0.7, estimate_max_eigenvalue=False)\n",
      " |      Calculates and sets the maximum stable time step (dt) for the wave solver.\n",
      " |      \n",
      " |      Args:\n",
      " |          fraction (float, optional):\n",
      " |              Fraction of the estimated time step to use. Defaults to 0.7.\n",
      " |          estimate_max_eigenvalue (bool, optional):\n",
      " |              Whether to estimate the maximum eigenvalue. Defaults to False.\n",
      " |      \n",
      " |      Returns:\n",
      " |          float: The calculated maximum time step (dt).\n",
      " |  \n",
      " |  get_mass_matrix_diagonal(self)\n",
      " |      Builds a section of the mass matrix for debugging purposes.\n",
      " |  \n",
      " |  get_spatial_coordinates(self)\n",
      " |  \n",
      " |  matrix_building(self)\n",
      " |      Builds the matrix for the forward problem.\n",
      " |  \n",
      " |  set_initial_velocity_model(self, constant=None, conditional=None, velocity_model_function=None, expression=None, new_file=None, output=False, dg_velocity_model=True)\n",
      " |      Method to define new user velocity model or file. It is optional.\n",
      " |      \n",
      " |      Parameters:\n",
      " |      -----------\n",
      " |      conditional:  (optional)\n",
      " |          Firedrake conditional object.\n",
      " |      velocity_model_function: Firedrake function (optional)\n",
      " |          Firedrake function to be used as the velocity model. Has to be in the same function space as the object.\n",
      " |      expression:  str (optional)\n",
      " |          If you use an expression, you can use the following variables:\n",
      " |          x, y, z, pi, tanh, sqrt. Example: \"2.0 + 0.5*tanh((x-2.0)/0.1)\".\n",
      " |          It will be interpoalte into either the same function space as the object or a DG0 function space\n",
      " |          in the same mesh.\n",
      " |      new_file:  str (optional)\n",
      " |          Name of the file containing the velocity model.\n",
      " |      output:  bool (optional)\n",
      " |          If True, outputs the velocity model to a pvd file for visualization.\n",
      " |  \n",
      " |  set_last_solve_as_real_shot_record(self)\n",
      " |  \n",
      " |  set_mesh(self, user_mesh=None, mesh_parameters=None)\n",
      " |      Set the mesh for the solver.\n",
      " |      \n",
      " |      Args:\n",
      " |          user_mesh (optional): User-defined mesh. Defaults to None.\n",
      " |          mesh_parameters (optional): Parameters for generating a mesh. Defaults to None.\n",
      " |  \n",
      " |  set_solver_parameters(self, parameters=None)\n",
      " |      Set the solver parameters.\n",
      " |      \n",
      " |      Args:\n",
      " |          parameters (dict): A dictionary containing the solver parameters.\n",
      " |      \n",
      " |      Returns:\n",
      " |          None\n",
      " |  \n",
      " |  ----------------------------------------------------------------------\n",
      " |  Methods inherited from spyro.io.model_parameters.Model_parameters:\n",
      " |  \n",
      " |  get_mesh(self)\n",
      " |      Reads in an external mesh and scatters it between cores.\n",
      " |      \n",
      " |      Returns\n",
      " |      -------\n",
      " |      mesh: Firedrake.Mesh object\n",
      " |          The distributed mesh across `ens_comm`\n",
      " |  \n",
      " |  get_wavelet(self)\n",
      " |      Returns a wavelet based on the source type.\n",
      " |      \n",
      " |      Returns\n",
      " |      -------\n",
      " |      wavelet : numpy.ndarray\n",
      " |          Wavelet values in each time step to be used in the simulation.\n",
      " |  \n",
      " |  ----------------------------------------------------------------------\n",
      " |  Data descriptors inherited from spyro.io.model_parameters.Model_parameters:\n",
      " |  \n",
      " |  __dict__\n",
      " |      dictionary for instance variables (if defined)\n",
      " |  \n",
      " |  __weakref__\n",
      " |      list of weak references to the object (if defined)\n",
      "\n"
     ]
    }
   ],
   "source": [
    "help(spyro.Wave)"
   ]
  },
  {
   "cell_type": "markdown",
   "metadata": {},
   "source": [
    "It is highly recommended that every wave solver inherit this class. Two of the methods present in it are abstract methods. This means that any concrete class derived from it needs to define them. They are the matrix_building and the forward_solve methods. The name itself is counterintuitive since it does not necessarily have to build a matrix. However it is in this method that we will construct our solver operators based on the desired variational equation. Spyro already has an acoustic wave solver, based on a second order in time pressure equation. \n",
    "\n",
    "To differentiate and illustrate a solver using a mixed function space we will focus on implementing an isotropic elastic wave equation. The weak formulation used is:\n",
    "\n",
    "$$\n",
    "\\begin{split}\n",
    "    \\int_\\Omega \\rho \\frac{\\partial^2 \\mathbf{u}}{\\partial t^2} \\cdot \\mathbf{v} \\,d\\Omega\n",
    "    &=\n",
    "    \\int_{\\Gamma}\\left(\\boldsymbol{\\sigma}\\mathbf{n}\\right) \\cdot \\mathbf{v} \\, d\\Gamma\\\\\n",
    "    &-\n",
    "    \\int_\\Omega \\lambda\\, \\mathrm{tr}\\left(\\boldsymbol{\\epsilon}\\left(\\mathbf{u}\\right)\\right) \\mathrm{tr}\\left(\\boldsymbol{\\epsilon}\\left(\\mathbf{v}\\right)\\right)\n",
    "    +2\\mu\\, \\boldsymbol{\\epsilon}\\left(\\mathbf{u}\\right) :\\boldsymbol{\\epsilon}\\left(\\mathbf{v}\\right)\n",
    "     \\, d\\Omega \\\\\n",
    "    &+\\int_\\Omega\\mathbf{f}\\cdot \\mathbf{v} \\, d\\Omega.\n",
    "\\end{split}\n",
    "$$\n",
    "\n"
   ]
  },
  {
   "cell_type": "markdown",
   "metadata": {},
   "source": [
    "where $\\mathbf{u}=\\mathbf{u}\\left(\\mathbf{x},t\\right)$ is the displacement vector corresponding to the elastic waves propagation, $\\rho=\\rho(\\mathbf{x})$ is the density, $\\mathbf{f}=\\mathbf{f}\\left(\\mathbf{x},t\\right)$ is the body force, $\\boldsymbol{\\sigma}=\\boldsymbol{\\sigma}\\left(\\mathbf{x}\\right)$ is the stress tensor, $\\lambda=\\lambda\\left(\\mathbf{x}\\right)$ is the 1st Lambe parameter, $\\mu=\\mu\\left(\\mathbf{x}\\right)$ is the 2nd Lambe parameter, and $\\boldsymbol{\\epsilon}$ is the infinitesimal strain tensor."
   ]
  }
 ],
 "metadata": {
  "kernelspec": {
   "display_name": "firedrake",
   "language": "python",
   "name": "python3"
  },
  "language_info": {
   "codemirror_mode": {
    "name": "ipython",
    "version": 3
   },
   "file_extension": ".py",
   "mimetype": "text/x-python",
   "name": "python",
   "nbconvert_exporter": "python",
   "pygments_lexer": "ipython3",
   "version": "3.8.10"
  }
 },
 "nbformat": 4,
 "nbformat_minor": 2
}
